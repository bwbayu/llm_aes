{
 "cells": [
  {
   "cell_type": "code",
   "execution_count": 1,
   "metadata": {},
   "outputs": [],
   "source": [
    "import pandas as pd\n",
    "from src.training.longformer_pipeline import LongFormerPipeline\n",
    "from src.training.bert_pipeline import TrainingBertPipeline\n",
    "import logging\n",
    "import torch\n",
    "import os"
   ]
  },
  {
   "cell_type": "code",
   "execution_count": 2,
   "metadata": {},
   "outputs": [
    {
     "name": "stdout",
     "output_type": "stream",
     "text": [
      "<class 'pandas.core.frame.DataFrame'>\n",
      "RangeIndex: 5363 entries, 0 to 5362\n",
      "Data columns (total 8 columns):\n",
      " #   Column            Non-Null Count  Dtype  \n",
      "---  ------            --------------  -----  \n",
      " 0   question          4859 non-null   object \n",
      " 1   reference_answer  5363 non-null   object \n",
      " 2   answer            5363 non-null   object \n",
      " 3   score             5363 non-null   float64\n",
      " 4   normalized_score  5363 non-null   float64\n",
      " 5   multibert_length  5363 non-null   int64  \n",
      " 6   dataset           5363 non-null   object \n",
      " 7   dataset_num       5363 non-null   object \n",
      "dtypes: float64(2), int64(1), object(5)\n",
      "memory usage: 335.3+ KB\n"
     ]
    }
   ],
   "source": [
    "df = pd.read_csv(\"data/aes_dataset_5k_clean.csv\")\n",
    "df.info()"
   ]
  },
  {
   "cell_type": "code",
   "execution_count": 3,
   "metadata": {},
   "outputs": [
    {
     "name": "stdout",
     "output_type": "stream",
     "text": [
      "0\n"
     ]
    }
   ],
   "source": [
    "# Check if the first file exists\n",
    "df_result = None\n",
    "if os.path.exists(\"experiments/results/results_longformer.csv\"):\n",
    "    df_result = pd.read_csv(\"experiments/results/results_longformer.csv\")\n",
    "    print(df_result['config_id'].iloc[-1])\n",
    "else:\n",
    "    print(\"File 'results_longformer.csv' does not exist.\")"
   ]
  },
  {
   "cell_type": "code",
   "execution_count": 4,
   "metadata": {},
   "outputs": [],
   "source": [
    "batch_sizes = [2]\n",
    "epochs_list = [5]\n",
    "learning_rates = [1e-5, 2e-5, 5e-5]\n",
    "idx = (df_result['config_id'].iloc[-1] + 1) if df_result is not None and not df_result.empty else 0  # index untuk setiap kombinasi\n",
    "ROOT_DIR = os.getcwd()"
   ]
  },
  {
   "cell_type": "code",
   "execution_count": 5,
   "metadata": {},
   "outputs": [
    {
     "name": "stdout",
     "output_type": "stream",
     "text": [
      "0.8929407790365538\n",
      "\n",
      "Running configuration: config_id=1, model_name=allenai/longformer-base-4096, batch_size=2, epochs=5, learning_rate=1e-05, max_seq=2048\n",
      "split dataset run...\n",
      "create dataset run...\n",
      "create dataloader run...\n",
      "create dataloader done...\n",
      "====== Training Epoch 1/5 ======\n",
      "Train Loss: 0.0599, Train QWK: 0.6146, Train Pearson: 0.6822\n",
      "Validation Loss: 0.0327, Validation QWK: 0.8374, Validation Pearson: 0.8632\n",
      "====== Training Epoch 2/5 ======\n",
      "Train Loss: 0.0377, Train QWK: 0.6975, Train Pearson: 0.8081\n",
      "Validation Loss: 0.0299, Validation QWK: 0.8696, Validation Pearson: 0.8735\n",
      "====== Training Epoch 3/5 ======\n",
      "Train Loss: 0.0293, Train QWK: 0.7242, Train Pearson: 0.8540\n",
      "Validation Loss: 0.0243, Validation QWK: 0.8900, Validation Pearson: 0.8932\n",
      "====== Training Epoch 4/5 ======\n",
      "Train Loss: 0.0245, Train QWK: 0.7542, Train Pearson: 0.8794\n",
      "Validation Loss: 0.0230, Validation QWK: 0.8849, Validation Pearson: 0.8929\n",
      "====== Training Epoch 5/5 ======\n",
      "Train Loss: 0.0207, Train QWK: 0.7682, Train Pearson: 0.8989\n",
      "Validation Loss: 0.0252, Validation QWK: 0.8937, Validation Pearson: 0.8959\n",
      "Model saved to experiments\\models\\allenai/longformer-base-4096_best_model.pt\n",
      "Test Loss: 0.0204, Test QWK: 0.9192, Test Pearson: 0.9197\n",
      "0.8936687654885577\n",
      "\n",
      "Running configuration: config_id=2, model_name=allenai/longformer-base-4096, batch_size=2, epochs=5, learning_rate=2e-05, max_seq=2048\n",
      "split dataset run...\n",
      "create dataset run...\n",
      "create dataloader run...\n",
      "create dataloader done...\n",
      "====== Training Epoch 1/5 ======\n",
      "Train Loss: 0.0618, Train QWK: 0.5810, Train Pearson: 0.6713\n",
      "Validation Loss: 0.0331, Validation QWK: 0.8150, Validation Pearson: 0.8651\n",
      "====== Training Epoch 2/5 ======\n",
      "Train Loss: 0.0370, Train QWK: 0.6819, Train Pearson: 0.8122\n",
      "Validation Loss: 0.0280, Validation QWK: 0.8706, Validation Pearson: 0.8724\n",
      "====== Training Epoch 3/5 ======\n",
      "Train Loss: 0.0299, Train QWK: 0.6998, Train Pearson: 0.8509\n",
      "Validation Loss: 0.0292, Validation QWK: 0.8786, Validation Pearson: 0.8880\n",
      "====== Training Epoch 4/5 ======\n",
      "Train Loss: 0.0255, Train QWK: 0.7356, Train Pearson: 0.8742\n",
      "Validation Loss: 0.0246, Validation QWK: 0.8812, Validation Pearson: 0.8925\n",
      "====== Training Epoch 5/5 ======\n",
      "Train Loss: 0.0218, Train QWK: 0.7584, Train Pearson: 0.8931\n",
      "Validation Loss: 0.0336, Validation QWK: 0.8503, Validation Pearson: 0.8692\n",
      "Test Loss: 0.0275, Test QWK: 0.8810, Test Pearson: 0.8966\n",
      "0.8936687654885577\n",
      "\n",
      "Running configuration: config_id=3, model_name=allenai/longformer-base-4096, batch_size=2, epochs=5, learning_rate=5e-05, max_seq=2048\n",
      "split dataset run...\n",
      "create dataset run...\n",
      "create dataloader run...\n",
      "create dataloader done...\n",
      "====== Training Epoch 1/5 ======\n",
      "Train Loss: 0.0777, Train QWK: 0.4968, Train Pearson: 0.5683\n",
      "Validation Loss: 0.1130, Validation QWK: 0.0000, Validation Pearson: 0.5896\n",
      "====== Training Epoch 2/5 ======\n",
      "Train Loss: 0.1193, Train QWK: 0.0111, Train Pearson: -0.0075\n",
      "Validation Loss: 0.1149, Validation QWK: 0.0000, Validation Pearson: 0.7208\n",
      "====== Training Epoch 3/5 ======\n",
      "Train Loss: 0.1146, Train QWK: -0.0158, Train Pearson: -0.0065\n",
      "Validation Loss: 0.1137, Validation QWK: 0.0000, Validation Pearson: 0.6785\n",
      "====== Training Epoch 4/5 ======\n",
      "Train Loss: 0.1124, Train QWK: -0.0104, Train Pearson: -0.0023\n",
      "Validation Loss: 0.1188, Validation QWK: 0.0000, Validation Pearson: 0.6675\n",
      "====== Training Epoch 5/5 ======\n",
      "Train Loss: 0.1099, Train QWK: 0.0196, Train Pearson: 0.0711\n",
      "Validation Loss: 0.1646, Validation QWK: 0.0000, Validation Pearson: -0.4989\n",
      "Test Loss: 0.1629, Test QWK: 0.0000, Test Pearson: -0.4703\n"
     ]
    }
   ],
   "source": [
    "for batch_size in batch_sizes:\n",
    "    for num_epochs in epochs_list:\n",
    "        for lr in learning_rates:\n",
    "            results = []\n",
    "            results_epoch = []\n",
    "            df_result1 = None\n",
    "            # Check if the second file exists\n",
    "            if os.path.exists(\"experiments/results/results_epoch_longformer.csv\"):\n",
    "                df_result1 = pd.read_csv(\"experiments/results/results_epoch_longformer.csv\")\n",
    "                print(max(df_result1['valid_qwk']))\n",
    "            else:\n",
    "                print(\"File 'results_epoch_longformer.csv' does not exist.\")\n",
    "                \n",
    "            config = {\n",
    "                \"df\": df,\n",
    "                \"model_name\": \"allenai/longformer-base-4096\",\n",
    "                \"batch_size\": batch_size,\n",
    "                \"learning_rate\": lr,\n",
    "                \"epochs\": num_epochs,\n",
    "                \"config_id\": idx,\n",
    "                \"max_seq_len\": 2048,\n",
    "                \"best_valid_qwk\": max(df_result1['valid_qwk']) if df_result1 is not None and not df_result1.empty else float(\"-inf\"),\n",
    "            }\n",
    "\n",
    "            logging.info(\n",
    "                f\"Running configuration: config_id={idx}, model_name={config['model_name']}, \"\n",
    "                f\"batch_size={batch_size}, epochs={num_epochs}, learning_rate={lr}, max_seq={config['max_seq_len']}\"\n",
    "            )\n",
    "            print(\n",
    "                f\"\\nRunning configuration: config_id={idx}, model_name={config['model_name']}, \"\n",
    "                f\"batch_size={batch_size}, epochs={num_epochs}, learning_rate={lr}, max_seq={config['max_seq_len']}\"\n",
    "            )\n",
    "            \n",
    "            try:\n",
    "                pipeline = LongFormerPipeline(config, results, results_epoch)\n",
    "                pipeline.run_training()\n",
    "\n",
    "                # Save results\n",
    "                # Dapatkan root project\n",
    "                results_path = os.path.join(ROOT_DIR, \"experiments/results/results_longformer.csv\")\n",
    "                results_epoch_path = os.path.join(ROOT_DIR, \"experiments/results/results_epoch_longformer.csv\")\n",
    "                TrainingBertPipeline.save_csv(results, results_path)\n",
    "                TrainingBertPipeline.save_csv(results_epoch, results_epoch_path)\n",
    "            except Exception as e:\n",
    "                logging.error(f\"Error in config_id={idx}: {str(e)}\")\n",
    "                print(f\"Error in config_id={idx}: {str(e)}\")\n",
    "                torch.cuda.empty_cache()\n",
    "            finally:\n",
    "                # Clear GPU memory after every configuration\n",
    "                del pipeline.model\n",
    "                del pipeline.tokenizer\n",
    "                del pipeline.optimizer\n",
    "                torch.cuda.empty_cache()\n",
    "            idx += 1"
   ]
  },
  {
   "cell_type": "code",
   "execution_count": null,
   "metadata": {},
   "outputs": [],
   "source": []
  }
 ],
 "metadata": {
  "kernelspec": {
   "display_name": "env",
   "language": "python",
   "name": "python3"
  },
  "language_info": {
   "codemirror_mode": {
    "name": "ipython",
    "version": 3
   },
   "file_extension": ".py",
   "mimetype": "text/x-python",
   "name": "python",
   "nbconvert_exporter": "python",
   "pygments_lexer": "ipython3",
   "version": "3.10.5"
  }
 },
 "nbformat": 4,
 "nbformat_minor": 2
}
