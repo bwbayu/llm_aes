{
 "cells": [
  {
   "cell_type": "code",
   "execution_count": 1,
   "metadata": {},
   "outputs": [],
   "source": [
    "import pandas as pd\n",
    "from src.training.longformer_pipeline import LongFormerPipeline\n",
    "from src.training.bert_pipeline import TrainingBertPipeline\n",
    "import logging\n",
    "import torch\n",
    "import os"
   ]
  },
  {
   "cell_type": "code",
   "execution_count": 2,
   "metadata": {},
   "outputs": [
    {
     "name": "stdout",
     "output_type": "stream",
     "text": [
      "<class 'pandas.core.frame.DataFrame'>\n",
      "RangeIndex: 5363 entries, 0 to 5362\n",
      "Data columns (total 8 columns):\n",
      " #   Column            Non-Null Count  Dtype  \n",
      "---  ------            --------------  -----  \n",
      " 0   question          4859 non-null   object \n",
      " 1   reference_answer  5363 non-null   object \n",
      " 2   answer            5363 non-null   object \n",
      " 3   score             5363 non-null   float64\n",
      " 4   normalized_score  5363 non-null   float64\n",
      " 5   multibert_length  5363 non-null   int64  \n",
      " 6   dataset           5363 non-null   object \n",
      " 7   dataset_num       5363 non-null   object \n",
      "dtypes: float64(2), int64(1), object(5)\n",
      "memory usage: 335.3+ KB\n"
     ]
    }
   ],
   "source": [
    "df = pd.read_csv(\"data/aes_dataset_5k_clean.csv\")\n",
    "df.info()"
   ]
  },
  {
   "cell_type": "code",
   "execution_count": 3,
   "metadata": {},
   "outputs": [
    {
     "name": "stdout",
     "output_type": "stream",
     "text": [
      "4\n"
     ]
    }
   ],
   "source": [
    "# Check if the first file exists\n",
    "df_result = None\n",
    "if os.path.exists(\"experiments/results/results_longformer.csv\"):\n",
    "    df_result = pd.read_csv(\"experiments/results/results_longformer.csv\")\n",
    "    print(df_result['config_id'].iloc[-1])\n",
    "else:\n",
    "    print(\"File 'results_longformer.csv' does not exist.\")"
   ]
  },
  {
   "cell_type": "code",
   "execution_count": 4,
   "metadata": {},
   "outputs": [],
   "source": [
    "batch_sizes = [4]\n",
    "epochs_list = [5]\n",
    "learning_rates = [1e-5, 2e-5, 5e-5]\n",
    "idx = (df_result['config_id'].iloc[-1] + 1) if df_result is not None and not df_result.empty else 0  # index untuk setiap kombinasi\n",
    "ROOT_DIR = os.getcwd()"
   ]
  },
  {
   "cell_type": "code",
   "execution_count": 5,
   "metadata": {},
   "outputs": [
    {
     "name": "stdout",
     "output_type": "stream",
     "text": [
      "0.8936687654885577\n",
      "\n",
      "Running configuration: config_id=5, model_name=allenai/longformer-base-4096, batch_size=2, epochs=10, learning_rate=5e-05, max_seq=2048\n",
      "split dataset run...\n",
      "create dataset run...\n",
      "create dataloader run...\n",
      "create dataloader done...\n",
      "====== Training Epoch 1/10 ======\n",
      "Train Loss: 0.1226, Train QWK: 0.0928, Train Pearson: 0.1166\n",
      "Validation Loss: 0.1144, Validation QWK: 0.0000, Validation Pearson: 0.6263\n",
      "====== Training Epoch 2/10 ======\n",
      "Train Loss: 0.1181, Train QWK: -0.0040, Train Pearson: -0.0095\n",
      "Validation Loss: 0.1151, Validation QWK: 0.0000, Validation Pearson: -0.0002\n",
      "====== Training Epoch 3/10 ======\n",
      "Train Loss: 0.1144, Train QWK: -0.0160, Train Pearson: -0.0130\n",
      "Validation Loss: 0.1131, Validation QWK: 0.0000, Validation Pearson: 0.6050\n",
      "====== Training Epoch 4/10 ======\n",
      "Train Loss: 0.1111, Train QWK: -0.0068, Train Pearson: 0.0371\n",
      "Validation Loss: 0.1389, Validation QWK: 0.0000, Validation Pearson: 0.3440\n",
      "====== Training Epoch 5/10 ======\n",
      "Train Loss: 0.1054, Train QWK: 0.0558, Train Pearson: 0.1832\n",
      "Validation Loss: 0.1916, Validation QWK: 0.0000, Validation Pearson: 0.0188\n",
      "====== Training Epoch 6/10 ======\n",
      "Train Loss: 0.1009, Train QWK: 0.0861, Train Pearson: 0.2590\n",
      "Validation Loss: 0.1557, Validation QWK: 0.0000, Validation Pearson: -0.0145\n",
      "====== Training Epoch 7/10 ======\n",
      "Train Loss: 0.0995, Train QWK: 0.0861, Train Pearson: 0.2796\n",
      "Validation Loss: 0.1232, Validation QWK: 0.0000, Validation Pearson: 0.0641\n",
      "====== Training Epoch 8/10 ======\n",
      "Train Loss: 0.0970, Train QWK: 0.1185, Train Pearson: 0.3134\n",
      "Validation Loss: 0.1820, Validation QWK: 0.0000, Validation Pearson: 0.0722\n",
      "====== Training Epoch 9/10 ======\n",
      "Train Loss: 0.0991, Train QWK: 0.1083, Train Pearson: 0.2819\n",
      "Validation Loss: 0.1462, Validation QWK: 0.0000, Validation Pearson: -0.1279\n",
      "====== Training Epoch 10/10 ======\n",
      "Train Loss: 0.0956, Train QWK: 0.1138, Train Pearson: 0.3305\n",
      "Validation Loss: 0.1615, Validation QWK: 0.0000, Validation Pearson: -0.0891\n",
      "Test Loss: 0.1598, Test QWK: 0.0000, Test Pearson: -0.1096\n"
     ]
    }
   ],
   "source": [
    "for batch_size in batch_sizes:\n",
    "    for num_epochs in epochs_list:\n",
    "        for lr in learning_rates:\n",
    "            results = []\n",
    "            results_epoch = []\n",
    "            df_result1 = None\n",
    "            # Check if the second file exists\n",
    "            if os.path.exists(\"experiments/results/results_epoch_longformer.csv\"):\n",
    "                df_result1 = pd.read_csv(\"experiments/results/results_epoch_longformer.csv\")\n",
    "                print(max(df_result1['valid_qwk']))\n",
    "            else:\n",
    "                print(\"File 'results_epoch_longformer.csv' does not exist.\")\n",
    "                \n",
    "            config = {\n",
    "                \"df\": df,\n",
    "                \"model_name\": \"allenai/longformer-base-4096\",\n",
    "                \"batch_size\": batch_size,\n",
    "                \"learning_rate\": lr,\n",
    "                \"epochs\": num_epochs,\n",
    "                \"config_id\": idx,\n",
    "                \"max_seq_len\": 2048,\n",
    "                \"best_valid_qwk\": max(df_result1['valid_qwk']) if df_result1 is not None and not df_result1.empty else float(\"-inf\"),\n",
    "            }\n",
    "\n",
    "            logging.info(\n",
    "                f\"Running configuration: config_id={idx}, model_name={config['model_name']}, \"\n",
    "                f\"batch_size={batch_size}, epochs={num_epochs}, learning_rate={lr}, max_seq={config['max_seq_len']}\"\n",
    "            )\n",
    "            print(\n",
    "                f\"\\nRunning configuration: config_id={idx}, model_name={config['model_name']}, \"\n",
    "                f\"batch_size={batch_size}, epochs={num_epochs}, learning_rate={lr}, max_seq={config['max_seq_len']}\"\n",
    "            )\n",
    "            \n",
    "            try:\n",
    "                pipeline = LongFormerPipeline(config, results, results_epoch)\n",
    "                pipeline.run_training()\n",
    "\n",
    "                # Save results\n",
    "                # Dapatkan root project\n",
    "                results_path = os.path.join(ROOT_DIR, \"experiments/results/results_longformer.csv\")\n",
    "                results_epoch_path = os.path.join(ROOT_DIR, \"experiments/results/results_epoch_longformer.csv\")\n",
    "                TrainingBertPipeline.save_csv(results, results_path)\n",
    "                TrainingBertPipeline.save_csv(results_epoch, results_epoch_path)\n",
    "            except Exception as e:\n",
    "                logging.error(f\"Error in config_id={idx}: {str(e)}\")\n",
    "                print(f\"Error in config_id={idx}: {str(e)}\")\n",
    "                torch.cuda.empty_cache()\n",
    "            finally:\n",
    "                # Clear GPU memory after every configuration\n",
    "                del pipeline.model\n",
    "                del pipeline.tokenizer\n",
    "                del pipeline.optimizer\n",
    "                torch.cuda.empty_cache()\n",
    "            idx += 1"
   ]
  },
  {
   "cell_type": "code",
   "execution_count": null,
   "metadata": {},
   "outputs": [],
   "source": []
  }
 ],
 "metadata": {
  "kernelspec": {
   "display_name": "env",
   "language": "python",
   "name": "python3"
  },
  "language_info": {
   "codemirror_mode": {
    "name": "ipython",
    "version": 3
   },
   "file_extension": ".py",
   "mimetype": "text/x-python",
   "name": "python",
   "nbconvert_exporter": "python",
   "pygments_lexer": "ipython3",
   "version": "3.10.5"
  }
 },
 "nbformat": 4,
 "nbformat_minor": 2
}
