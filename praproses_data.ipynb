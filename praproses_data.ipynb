{
 "cells": [
  {
   "cell_type": "code",
   "execution_count": 99,
   "metadata": {},
   "outputs": [],
   "source": [
    "import pandas as pd\n",
    "import numpy as np\n",
    "import matplotlib.pyplot as plt\n",
    "import seaborn"
   ]
  },
  {
   "cell_type": "code",
   "execution_count": 100,
   "metadata": {},
   "outputs": [],
   "source": [
    "def read_soal(dir_csv):\n",
    "    soal = pd.read_excel(\"dataset/\"+dir_csv)\n",
    "    new_names = {'No': 'no','No ': 'no', 'Soal': 'question','Soal ': 'question', 'Kunci Jawaban': 'reference_answer','Kunci Jawaban ': 'reference_answer'}\n",
    "    soal = soal.rename(columns=new_names)\n",
    "    return soal"
   ]
  },
  {
   "cell_type": "code",
   "execution_count": 101,
   "metadata": {},
   "outputs": [],
   "source": [
    "def read_answer(data_csv, sheet_name):\n",
    "    df = pd.read_excel(\"dataset/\"+data_csv, sheet_name=sheet_name)\n",
    "    new_names = {'No ': 'no','No': 'no', 'Jawaban ': 'answer','Jawaban': 'answer'}\n",
    "    df = df.rename(columns=new_names)\n",
    "    print(df.columns)\n",
    "    df = df.drop(columns=['Siswa ', 'no'], axis=1)\n",
    "    return df"
   ]
  },
  {
   "cell_type": "code",
   "execution_count": 102,
   "metadata": {},
   "outputs": [],
   "source": [
    "# init dataframe\n",
    "analisisEssay_df = pd.DataFrame()"
   ]
  },
  {
   "cell_type": "code",
   "execution_count": 103,
   "metadata": {},
   "outputs": [
    {
     "name": "stdout",
     "output_type": "stream",
     "text": [
      "Index(['no', 'question', 'reference_answer', 'kategori'], dtype='object')\n",
      "Index(['no', 'Siswa ', 'answer', 'score1', 'score2', 'score3'], dtype='object')\n",
      "Index(['no', 'Siswa ', 'answer', 'score1', 'score2', 'score3'], dtype='object')\n",
      "Index(['no', 'Siswa ', 'answer', 'score1', 'score2', 'score3'], dtype='object')\n",
      "Index(['no', 'Siswa ', 'answer', 'score1', 'score2', 'score3'], dtype='object')\n",
      "Index(['no', 'Siswa ', 'answer', 'score1', 'score2', 'score3'], dtype='object')\n",
      "Index(['no', 'Siswa ', 'answer', 'score1', 'score2', 'score3'], dtype='object')\n",
      "Index(['no', 'Siswa ', 'answer', 'score1', 'score2', 'score3'], dtype='object')\n",
      "Index(['no', 'Siswa ', 'answer', 'score1', 'score2', 'score3'], dtype='object')\n",
      "Index(['no', 'Siswa ', 'answer', 'score1', 'score2', 'score3'], dtype='object')\n",
      "Index(['no', 'Siswa ', 'answer', 'score1', 'score2', 'score3'], dtype='object')\n",
      "Index(['no', 'question', 'reference_answer', 'kategori'], dtype='object')\n",
      "Index(['no', 'Siswa ', 'answer', 'score1', 'score2', 'score3'], dtype='object')\n",
      "Index(['no', 'Siswa ', 'answer', 'score1', 'score2', 'score3'], dtype='object')\n",
      "Index(['no', 'Siswa ', 'answer', 'score1', 'score2', 'score3'], dtype='object')\n",
      "Index(['no', 'Siswa ', 'answer', 'score1', 'score2', 'score3'], dtype='object')\n",
      "Index(['no', 'Siswa ', 'answer', 'score1', 'score2', 'score3'], dtype='object')\n",
      "Index(['no', 'Siswa ', 'answer', 'score1', 'score2', 'score3'], dtype='object')\n",
      "Index(['no', 'Siswa ', 'answer', 'score1', 'score2', 'score3'], dtype='object')\n",
      "Index(['no', 'Siswa ', 'answer', 'score1', 'score2', 'score3'], dtype='object')\n",
      "Index(['no', 'Siswa ', 'answer', 'score1', 'score2', 'score3'], dtype='object')\n",
      "Index(['no', 'Siswa ', 'answer', 'score1', 'score2', 'score3'], dtype='object')\n",
      "Index(['no', 'question', 'reference_answer', 'kategori'], dtype='object')\n",
      "Index(['no', 'Siswa ', 'answer', 'score1', 'score2', 'score3'], dtype='object')\n",
      "Index(['no', 'Siswa ', 'answer', 'score1', 'score2', 'score3'], dtype='object')\n",
      "Index(['no', 'Siswa ', 'answer', 'score1', 'score2', 'score3'], dtype='object')\n",
      "Index(['no', 'Siswa ', 'answer', 'score1', 'score2', 'score3'], dtype='object')\n",
      "Index(['no', 'Siswa ', 'answer', 'score1', 'score2', 'score3'], dtype='object')\n",
      "Index(['no', 'Siswa ', 'answer', 'score1', 'score2', 'score3'], dtype='object')\n",
      "Index(['no', 'Siswa ', 'answer', 'score1', 'score2', 'score3'], dtype='object')\n",
      "Index(['no', 'Siswa ', 'answer', 'score1', 'score2', 'score3'], dtype='object')\n",
      "Index(['no', 'Siswa ', 'answer', 'score1', 'score2', 'score3'], dtype='object')\n",
      "Index(['no', 'Siswa ', 'answer', 'score1', 'score2', 'score3'], dtype='object')\n",
      "Index(['no', 'question', 'reference_answer', 'kategori'], dtype='object')\n",
      "Index(['no', 'Siswa ', 'answer', 'score1', 'score2', 'score3'], dtype='object')\n",
      "Index(['no', 'Siswa ', 'answer', 'score1', 'score2', 'score3'], dtype='object')\n",
      "Index(['no', 'Siswa ', 'answer', 'score1', 'score2', 'score3'], dtype='object')\n",
      "Index(['no', 'Siswa ', 'answer', 'score1', 'score2', 'score3'], dtype='object')\n",
      "Index(['no', 'Siswa ', 'answer', 'score1', 'score2', 'score3'], dtype='object')\n",
      "Index(['no', 'Siswa ', 'answer', 'score1', 'score2', 'score3'], dtype='object')\n",
      "Index(['no', 'Siswa ', 'answer', 'score1', 'score2', 'score3'], dtype='object')\n",
      "Index(['no', 'Siswa ', 'answer', 'score1', 'score2', 'score3'], dtype='object')\n",
      "Index(['no', 'Siswa ', 'answer', 'score1', 'score2', 'score3'], dtype='object')\n",
      "Index(['no', 'Siswa ', 'answer', 'score1', 'score2', 'score3'], dtype='object')\n"
     ]
    }
   ],
   "source": [
    "# loop all sheet tab\n",
    "sheet_name = ['Analisis_Essay_Grading_Lifestyle_568 data.xlsx', 'Analisis_Essay_Grading_Olahraga_544 data.xlsx', 'Analisis_Essay_Grading_Politik_532 data.xlsx', 'Analisis_Essay_Grading_Teknologi_515 data.xlsx']\n",
    "\n",
    "for name in sheet_name:\n",
    "    soal = read_soal(name)\n",
    "    print(soal.columns)\n",
    "    for i in range(1, 11):\n",
    "        sheet_name = \"No.\"+str(i)\n",
    "        jawaban = read_answer(name, sheet_name)\n",
    "        pertanyaan = soal[soal['no'] == i]\n",
    "        result = pd.merge(pertanyaan, jawaban, how='cross')\n",
    "        # result = result.drop(columns=['no'], axis=1)\n",
    "        analisisEssay_df = pd.concat([analisisEssay_df, result], ignore_index=True, join='outer')\n",
    "    "
   ]
  },
  {
   "cell_type": "code",
   "execution_count": 106,
   "metadata": {},
   "outputs": [
    {
     "data": {
      "text/plain": [
       "no  kategori \n",
       "1   lifestyle    57\n",
       "    olahraga     56\n",
       "    politik      54\n",
       "    teknologi    52\n",
       "2   lifestyle    57\n",
       "    olahraga     55\n",
       "    politik      54\n",
       "    teknologi    52\n",
       "3   lifestyle    57\n",
       "    olahraga     57\n",
       "    politik      54\n",
       "    teknologi    52\n",
       "4   lifestyle    57\n",
       "    olahraga     56\n",
       "    politik      54\n",
       "    teknologi    52\n",
       "5   lifestyle    57\n",
       "    olahraga     55\n",
       "    politik      54\n",
       "    teknologi    51\n",
       "6   lifestyle    57\n",
       "    olahraga     55\n",
       "    politik      54\n",
       "    teknologi    52\n",
       "7   lifestyle    57\n",
       "    olahraga     54\n",
       "    politik      54\n",
       "    teknologi    52\n",
       "8   lifestyle    57\n",
       "    olahraga     52\n",
       "    politik      53\n",
       "    teknologi    50\n",
       "9   lifestyle    56\n",
       "    olahraga     51\n",
       "    politik      51\n",
       "    teknologi    52\n",
       "10  lifestyle    56\n",
       "    olahraga     53\n",
       "    politik      53\n",
       "    teknologi    50\n",
       "Name: count, dtype: int64"
      ]
     },
     "execution_count": 106,
     "metadata": {},
     "output_type": "execute_result"
    }
   ],
   "source": [
    "analisisEssay_df[['no', 'kategori']].value_counts().sort_index(level=['no', 'kategori'])"
   ]
  },
  {
   "cell_type": "code",
   "execution_count": 107,
   "metadata": {},
   "outputs": [
    {
     "data": {
      "text/plain": [
       "Index(['no', 'question', 'reference_answer', 'kategori', 'answer', 'score1',\n",
       "       'score2', 'score3'],\n",
       "      dtype='object')"
      ]
     },
     "execution_count": 107,
     "metadata": {},
     "output_type": "execute_result"
    }
   ],
   "source": [
    "analisisEssay_df.columns"
   ]
  },
  {
   "cell_type": "code",
   "execution_count": 108,
   "metadata": {},
   "outputs": [],
   "source": [
    "analisisEssay_df['prompt'] = (\n",
    "    \"Question (Category: \" + analisisEssay_df['kategori'] + \"): \" + analisisEssay_df['question'] + \"\\n\"\n",
    "    \"Reference Answer: \" + analisisEssay_df['reference_answer'] + \"\\n\"\n",
    "    \"Student Answer: \" + analisisEssay_df['answer'] + \"\\n\"\n",
    "    \"Grading Rubric: 0-100 (where 0 is the lowest score and 100 is the highest).\\n\"\n",
    "    \"Scores given by experts: [\" + analisisEssay_df['score1'].astype(str) + \", \" +\n",
    "    analisisEssay_df['score2'].astype(str) + \", \" + analisisEssay_df['score3'].astype(str) + \"].\"\n",
    ")"
   ]
  },
  {
   "cell_type": "code",
   "execution_count": 111,
   "metadata": {},
   "outputs": [],
   "source": [
    "analisisEssay_df['prompt_length'] = analisisEssay_df['prompt'].apply(len)"
   ]
  },
  {
   "cell_type": "code",
   "execution_count": 115,
   "metadata": {},
   "outputs": [
    {
     "data": {
      "text/plain": [
       "count    2162.000000\n",
       "mean      759.831175\n",
       "std       338.775699\n",
       "min       316.000000\n",
       "25%       558.000000\n",
       "50%       686.000000\n",
       "75%       856.750000\n",
       "max      4842.000000\n",
       "Name: prompt_length, dtype: float64"
      ]
     },
     "execution_count": 115,
     "metadata": {},
     "output_type": "execute_result"
    }
   ],
   "source": [
    "analisisEssay_df['prompt_length'].describe()"
   ]
  },
  {
   "cell_type": "code",
   "execution_count": null,
   "metadata": {},
   "outputs": [],
   "source": []
  }
 ],
 "metadata": {
  "kernelspec": {
   "display_name": "env",
   "language": "python",
   "name": "python3"
  },
  "language_info": {
   "codemirror_mode": {
    "name": "ipython",
    "version": 3
   },
   "file_extension": ".py",
   "mimetype": "text/x-python",
   "name": "python",
   "nbconvert_exporter": "python",
   "pygments_lexer": "ipython3",
   "version": "3.10.5"
  }
 },
 "nbformat": 4,
 "nbformat_minor": 2
}
