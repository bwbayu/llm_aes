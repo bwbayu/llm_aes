{
 "cells": [
  {
   "cell_type": "code",
   "execution_count": 1,
   "metadata": {},
   "outputs": [],
   "source": [
    "import pandas as pd\n",
    "import numpy as np\n",
    "import matplotlib.pyplot as plt\n",
    "import seaborn"
   ]
  },
  {
   "cell_type": "markdown",
   "metadata": {},
   "source": [
    "# Analisis Essay Dataset"
   ]
  },
  {
   "cell_type": "code",
   "execution_count": 20,
   "metadata": {},
   "outputs": [],
   "source": [
    "def read_soal(dir_csv):\n",
    "    soal = pd.read_excel(\"dataset/\"+dir_csv)\n",
    "    new_names = {'No': 'no','No ': 'no', 'Soal': 'question','Soal ': 'question', 'Kunci Jawaban': 'reference_answer','Kunci Jawaban ': 'reference_answer'}\n",
    "    soal = soal.rename(columns=new_names)\n",
    "    return soal"
   ]
  },
  {
   "cell_type": "code",
   "execution_count": 21,
   "metadata": {},
   "outputs": [],
   "source": [
    "def read_answer(data_csv, sheet_name):\n",
    "    df = pd.read_excel(\"dataset/\"+data_csv, sheet_name=sheet_name)\n",
    "    new_names = {'No ': 'no','No': 'no', 'Jawaban ': 'answer','Jawaban': 'answer'}\n",
    "    df = df.rename(columns=new_names)\n",
    "    print(df.columns)\n",
    "    df = df.drop(columns=['Siswa ', 'no'], axis=1)\n",
    "    return df"
   ]
  },
  {
   "cell_type": "code",
   "execution_count": 22,
   "metadata": {},
   "outputs": [],
   "source": [
    "# init dataframe\n",
    "analisisEssay_df = pd.DataFrame()"
   ]
  },
  {
   "cell_type": "code",
   "execution_count": 23,
   "metadata": {},
   "outputs": [
    {
     "name": "stdout",
     "output_type": "stream",
     "text": [
      "Index(['no', 'question', 'reference_answer', 'kategori'], dtype='object')\n",
      "Index(['no', 'Siswa ', 'answer', 'score1', 'score2', 'score3'], dtype='object')\n",
      "Index(['no', 'Siswa ', 'answer', 'score1', 'score2', 'score3'], dtype='object')\n",
      "Index(['no', 'Siswa ', 'answer', 'score1', 'score2', 'score3'], dtype='object')\n",
      "Index(['no', 'Siswa ', 'answer', 'score1', 'score2', 'score3'], dtype='object')\n",
      "Index(['no', 'Siswa ', 'answer', 'score1', 'score2', 'score3'], dtype='object')\n",
      "Index(['no', 'Siswa ', 'answer', 'score1', 'score2', 'score3'], dtype='object')\n",
      "Index(['no', 'Siswa ', 'answer', 'score1', 'score2', 'score3'], dtype='object')\n",
      "Index(['no', 'Siswa ', 'answer', 'score1', 'score2', 'score3'], dtype='object')\n",
      "Index(['no', 'Siswa ', 'answer', 'score1', 'score2', 'score3'], dtype='object')\n",
      "Index(['no', 'Siswa ', 'answer', 'score1', 'score2', 'score3'], dtype='object')\n",
      "Index(['no', 'question', 'reference_answer', 'kategori'], dtype='object')\n",
      "Index(['no', 'Siswa ', 'answer', 'score1', 'score2', 'score3'], dtype='object')\n",
      "Index(['no', 'Siswa ', 'answer', 'score1', 'score2', 'score3'], dtype='object')\n",
      "Index(['no', 'Siswa ', 'answer', 'score1', 'score2', 'score3'], dtype='object')\n",
      "Index(['no', 'Siswa ', 'answer', 'score1', 'score2', 'score3'], dtype='object')\n",
      "Index(['no', 'Siswa ', 'answer', 'score1', 'score2', 'score3'], dtype='object')\n",
      "Index(['no', 'Siswa ', 'answer', 'score1', 'score2', 'score3'], dtype='object')\n",
      "Index(['no', 'Siswa ', 'answer', 'score1', 'score2', 'score3'], dtype='object')\n",
      "Index(['no', 'Siswa ', 'answer', 'score1', 'score2', 'score3'], dtype='object')\n",
      "Index(['no', 'Siswa ', 'answer', 'score1', 'score2', 'score3'], dtype='object')\n",
      "Index(['no', 'Siswa ', 'answer', 'score1', 'score2', 'score3'], dtype='object')\n",
      "Index(['no', 'question', 'reference_answer', 'kategori'], dtype='object')\n",
      "Index(['no', 'Siswa ', 'answer', 'score1', 'score2', 'score3'], dtype='object')\n",
      "Index(['no', 'Siswa ', 'answer', 'score1', 'score2', 'score3'], dtype='object')\n",
      "Index(['no', 'Siswa ', 'answer', 'score1', 'score2', 'score3'], dtype='object')\n",
      "Index(['no', 'Siswa ', 'answer', 'score1', 'score2', 'score3'], dtype='object')\n",
      "Index(['no', 'Siswa ', 'answer', 'score1', 'score2', 'score3'], dtype='object')\n",
      "Index(['no', 'Siswa ', 'answer', 'score1', 'score2', 'score3'], dtype='object')\n",
      "Index(['no', 'Siswa ', 'answer', 'score1', 'score2', 'score3'], dtype='object')\n",
      "Index(['no', 'Siswa ', 'answer', 'score1', 'score2', 'score3'], dtype='object')\n",
      "Index(['no', 'Siswa ', 'answer', 'score1', 'score2', 'score3'], dtype='object')\n",
      "Index(['no', 'Siswa ', 'answer', 'score1', 'score2', 'score3'], dtype='object')\n",
      "Index(['no', 'question', 'reference_answer', 'kategori'], dtype='object')\n",
      "Index(['no', 'Siswa ', 'answer', 'score1', 'score2', 'score3'], dtype='object')\n",
      "Index(['no', 'Siswa ', 'answer', 'score1', 'score2', 'score3'], dtype='object')\n",
      "Index(['no', 'Siswa ', 'answer', 'score1', 'score2', 'score3'], dtype='object')\n",
      "Index(['no', 'Siswa ', 'answer', 'score1', 'score2', 'score3'], dtype='object')\n",
      "Index(['no', 'Siswa ', 'answer', 'score1', 'score2', 'score3'], dtype='object')\n",
      "Index(['no', 'Siswa ', 'answer', 'score1', 'score2', 'score3'], dtype='object')\n",
      "Index(['no', 'Siswa ', 'answer', 'score1', 'score2', 'score3'], dtype='object')\n",
      "Index(['no', 'Siswa ', 'answer', 'score1', 'score2', 'score3'], dtype='object')\n",
      "Index(['no', 'Siswa ', 'answer', 'score1', 'score2', 'score3'], dtype='object')\n",
      "Index(['no', 'Siswa ', 'answer', 'score1', 'score2', 'score3'], dtype='object')\n"
     ]
    }
   ],
   "source": [
    "# loop all sheet tab\n",
    "sheet_name = ['Analisis_Essay_Grading_Lifestyle_568 data.xlsx', 'Analisis_Essay_Grading_Olahraga_544 data.xlsx', 'Analisis_Essay_Grading_Politik_532 data.xlsx', 'Analisis_Essay_Grading_Teknologi_515 data.xlsx']\n",
    "\n",
    "for name in sheet_name:\n",
    "    soal = read_soal(name)\n",
    "    print(soal.columns)\n",
    "    for i in range(1, 11):\n",
    "        sheet_name = \"No.\"+str(i)\n",
    "        jawaban = read_answer(name, sheet_name)\n",
    "        pertanyaan = soal[soal['no'] == i]\n",
    "        result = pd.merge(pertanyaan, jawaban, how='cross')\n",
    "        # result = result.drop(columns=['no'], axis=1)\n",
    "        analisisEssay_df = pd.concat([analisisEssay_df, result], ignore_index=True, join='outer')\n",
    "    "
   ]
  },
  {
   "cell_type": "code",
   "execution_count": 24,
   "metadata": {},
   "outputs": [
    {
     "data": {
      "text/plain": [
       "no  kategori \n",
       "1   lifestyle    57\n",
       "    olahraga     56\n",
       "    politik      54\n",
       "    teknologi    52\n",
       "2   lifestyle    57\n",
       "    olahraga     55\n",
       "    politik      54\n",
       "    teknologi    52\n",
       "3   lifestyle    57\n",
       "    olahraga     57\n",
       "    politik      54\n",
       "    teknologi    52\n",
       "4   lifestyle    57\n",
       "    olahraga     56\n",
       "    politik      54\n",
       "    teknologi    52\n",
       "5   lifestyle    57\n",
       "    olahraga     55\n",
       "    politik      54\n",
       "    teknologi    51\n",
       "6   lifestyle    57\n",
       "    olahraga     55\n",
       "    politik      54\n",
       "    teknologi    52\n",
       "7   lifestyle    57\n",
       "    olahraga     54\n",
       "    politik      54\n",
       "    teknologi    52\n",
       "8   lifestyle    57\n",
       "    olahraga     52\n",
       "    politik      53\n",
       "    teknologi    50\n",
       "9   lifestyle    56\n",
       "    olahraga     51\n",
       "    politik      51\n",
       "    teknologi    52\n",
       "10  lifestyle    56\n",
       "    olahraga     53\n",
       "    politik      53\n",
       "    teknologi    50\n",
       "Name: count, dtype: int64"
      ]
     },
     "execution_count": 24,
     "metadata": {},
     "output_type": "execute_result"
    }
   ],
   "source": [
    "analisisEssay_df[['no', 'kategori']].value_counts().sort_index(level=['no', 'kategori'])"
   ]
  },
  {
   "cell_type": "code",
   "execution_count": 25,
   "metadata": {},
   "outputs": [
    {
     "data": {
      "text/plain": [
       "Index(['no', 'question', 'reference_answer', 'kategori', 'answer', 'score1',\n",
       "       'score2', 'score3'],\n",
       "      dtype='object')"
      ]
     },
     "execution_count": 25,
     "metadata": {},
     "output_type": "execute_result"
    }
   ],
   "source": [
    "analisisEssay_df.columns"
   ]
  },
  {
   "cell_type": "code",
   "execution_count": 26,
   "metadata": {},
   "outputs": [],
   "source": [
    "analisisEssay_df['avg_score'] = analisisEssay_df[['score1', 'score2', 'score3']].mean(axis=1).round(0)"
   ]
  },
  {
   "cell_type": "code",
   "execution_count": 28,
   "metadata": {},
   "outputs": [],
   "source": [
    "analisisEssay_df['prompt'] = (\n",
    "    \"Question (Category: \" + analisisEssay_df['kategori'] + \"): \" + analisisEssay_df['question'] + \"\\n\"\n",
    "    \"Reference Answer: \" + analisisEssay_df['reference_answer'] + \"\\n\"\n",
    "    \"Student Answer: \" + analisisEssay_df['answer'] + \"\\n\"\n",
    "    \"Grading Rubric: 0-100 (where 0 is the lowest score and 100 is the highest).\\n\"\n",
    "    \"Scores given by experts: \"\n",
    ")"
   ]
  },
  {
   "cell_type": "code",
   "execution_count": 29,
   "metadata": {},
   "outputs": [],
   "source": [
    "analisisEssay_df['prompt_length'] = analisisEssay_df['prompt'].apply(len)"
   ]
  },
  {
   "cell_type": "code",
   "execution_count": 30,
   "metadata": {},
   "outputs": [
    {
     "data": {
      "text/plain": [
       "count    2162.000000\n",
       "mean      746.907956\n",
       "std       338.797209\n",
       "min       306.000000\n",
       "25%       546.000000\n",
       "50%       673.000000\n",
       "75%       843.750000\n",
       "max      4829.000000\n",
       "Name: prompt_length, dtype: float64"
      ]
     },
     "execution_count": 30,
     "metadata": {},
     "output_type": "execute_result"
    }
   ],
   "source": [
    "analisisEssay_df['prompt_length'].describe()"
   ]
  },
  {
   "cell_type": "code",
   "execution_count": 31,
   "metadata": {},
   "outputs": [
    {
     "data": {
      "text/html": [
       "<div>\n",
       "<style scoped>\n",
       "    .dataframe tbody tr th:only-of-type {\n",
       "        vertical-align: middle;\n",
       "    }\n",
       "\n",
       "    .dataframe tbody tr th {\n",
       "        vertical-align: top;\n",
       "    }\n",
       "\n",
       "    .dataframe thead th {\n",
       "        text-align: right;\n",
       "    }\n",
       "</style>\n",
       "<table border=\"1\" class=\"dataframe\">\n",
       "  <thead>\n",
       "    <tr style=\"text-align: right;\">\n",
       "      <th></th>\n",
       "      <th>no</th>\n",
       "      <th>question</th>\n",
       "      <th>reference_answer</th>\n",
       "      <th>kategori</th>\n",
       "      <th>answer</th>\n",
       "      <th>score1</th>\n",
       "      <th>score2</th>\n",
       "      <th>score3</th>\n",
       "      <th>avg_score</th>\n",
       "      <th>prompt</th>\n",
       "      <th>prompt_length</th>\n",
       "    </tr>\n",
       "  </thead>\n",
       "  <tbody>\n",
       "    <tr>\n",
       "      <th>0</th>\n",
       "      <td>1</td>\n",
       "      <td>Jelaskan kegunaan karbohidrat untuk tubuh kita.</td>\n",
       "      <td>Fungsi karbohidrat adalah sebagai pemasok ener...</td>\n",
       "      <td>lifestyle</td>\n",
       "      <td>sumber tenaga, pemanis alami, menjaga sistem i...</td>\n",
       "      <td>20</td>\n",
       "      <td>35</td>\n",
       "      <td>25</td>\n",
       "      <td>27.0</td>\n",
       "      <td>Question (Category: lifestyle): Jelaskan kegun...</td>\n",
       "      <td>487</td>\n",
       "    </tr>\n",
       "    <tr>\n",
       "      <th>1</th>\n",
       "      <td>1</td>\n",
       "      <td>Jelaskan kegunaan karbohidrat untuk tubuh kita.</td>\n",
       "      <td>Fungsi karbohidrat adalah sebagai pemasok ener...</td>\n",
       "      <td>lifestyle</td>\n",
       "      <td>sebagai sumber energi, pemanis alami, menjaga ...</td>\n",
       "      <td>18</td>\n",
       "      <td>20</td>\n",
       "      <td>25</td>\n",
       "      <td>21.0</td>\n",
       "      <td>Question (Category: lifestyle): Jelaskan kegun...</td>\n",
       "      <td>499</td>\n",
       "    </tr>\n",
       "    <tr>\n",
       "      <th>2</th>\n",
       "      <td>1</td>\n",
       "      <td>Jelaskan kegunaan karbohidrat untuk tubuh kita.</td>\n",
       "      <td>Fungsi karbohidrat adalah sebagai pemasok ener...</td>\n",
       "      <td>lifestyle</td>\n",
       "      <td>1. Sebagai energi. 2. Sebagai memperlancaar pe...</td>\n",
       "      <td>25</td>\n",
       "      <td>50</td>\n",
       "      <td>50</td>\n",
       "      <td>42.0</td>\n",
       "      <td>Question (Category: lifestyle): Jelaskan kegun...</td>\n",
       "      <td>512</td>\n",
       "    </tr>\n",
       "    <tr>\n",
       "      <th>3</th>\n",
       "      <td>1</td>\n",
       "      <td>Jelaskan kegunaan karbohidrat untuk tubuh kita.</td>\n",
       "      <td>Fungsi karbohidrat adalah sebagai pemasok ener...</td>\n",
       "      <td>lifestyle</td>\n",
       "      <td>untuk membuat kenyang, agar tidak lapar, agar ...</td>\n",
       "      <td>15</td>\n",
       "      <td>15</td>\n",
       "      <td>25</td>\n",
       "      <td>18.0</td>\n",
       "      <td>Question (Category: lifestyle): Jelaskan kegun...</td>\n",
       "      <td>493</td>\n",
       "    </tr>\n",
       "    <tr>\n",
       "      <th>4</th>\n",
       "      <td>1</td>\n",
       "      <td>Jelaskan kegunaan karbohidrat untuk tubuh kita.</td>\n",
       "      <td>Fungsi karbohidrat adalah sebagai pemasok ener...</td>\n",
       "      <td>lifestyle</td>\n",
       "      <td>Karbohidrat mempunyai peran penting untuk pros...</td>\n",
       "      <td>70</td>\n",
       "      <td>90</td>\n",
       "      <td>85</td>\n",
       "      <td>82.0</td>\n",
       "      <td>Question (Category: lifestyle): Jelaskan kegun...</td>\n",
       "      <td>772</td>\n",
       "    </tr>\n",
       "  </tbody>\n",
       "</table>\n",
       "</div>"
      ],
      "text/plain": [
       "   no                                         question  \\\n",
       "0   1  Jelaskan kegunaan karbohidrat untuk tubuh kita.   \n",
       "1   1  Jelaskan kegunaan karbohidrat untuk tubuh kita.   \n",
       "2   1  Jelaskan kegunaan karbohidrat untuk tubuh kita.   \n",
       "3   1  Jelaskan kegunaan karbohidrat untuk tubuh kita.   \n",
       "4   1  Jelaskan kegunaan karbohidrat untuk tubuh kita.   \n",
       "\n",
       "                                    reference_answer   kategori  \\\n",
       "0  Fungsi karbohidrat adalah sebagai pemasok ener...  lifestyle   \n",
       "1  Fungsi karbohidrat adalah sebagai pemasok ener...  lifestyle   \n",
       "2  Fungsi karbohidrat adalah sebagai pemasok ener...  lifestyle   \n",
       "3  Fungsi karbohidrat adalah sebagai pemasok ener...  lifestyle   \n",
       "4  Fungsi karbohidrat adalah sebagai pemasok ener...  lifestyle   \n",
       "\n",
       "                                              answer  score1  score2  score3  \\\n",
       "0  sumber tenaga, pemanis alami, menjaga sistem i...      20      35      25   \n",
       "1  sebagai sumber energi, pemanis alami, menjaga ...      18      20      25   \n",
       "2  1. Sebagai energi. 2. Sebagai memperlancaar pe...      25      50      50   \n",
       "3  untuk membuat kenyang, agar tidak lapar, agar ...      15      15      25   \n",
       "4  Karbohidrat mempunyai peran penting untuk pros...      70      90      85   \n",
       "\n",
       "   avg_score                                             prompt  prompt_length  \n",
       "0       27.0  Question (Category: lifestyle): Jelaskan kegun...            487  \n",
       "1       21.0  Question (Category: lifestyle): Jelaskan kegun...            499  \n",
       "2       42.0  Question (Category: lifestyle): Jelaskan kegun...            512  \n",
       "3       18.0  Question (Category: lifestyle): Jelaskan kegun...            493  \n",
       "4       82.0  Question (Category: lifestyle): Jelaskan kegun...            772  "
      ]
     },
     "execution_count": 31,
     "metadata": {},
     "output_type": "execute_result"
    }
   ],
   "source": [
    "analisisEssay_df.head()"
   ]
  },
  {
   "cell_type": "markdown",
   "metadata": {},
   "source": [
    "# ASAP dataset"
   ]
  },
  {
   "cell_type": "code",
   "execution_count": 17,
   "metadata": {},
   "outputs": [
    {
     "data": {
      "text/html": [
       "<div>\n",
       "<style scoped>\n",
       "    .dataframe tbody tr th:only-of-type {\n",
       "        vertical-align: middle;\n",
       "    }\n",
       "\n",
       "    .dataframe tbody tr th {\n",
       "        vertical-align: top;\n",
       "    }\n",
       "\n",
       "    .dataframe thead th {\n",
       "        text-align: right;\n",
       "    }\n",
       "</style>\n",
       "<table border=\"1\" class=\"dataframe\">\n",
       "  <thead>\n",
       "    <tr style=\"text-align: right;\">\n",
       "      <th></th>\n",
       "      <th>real_answer</th>\n",
       "      <th>answer</th>\n",
       "      <th>score</th>\n",
       "      <th>score2</th>\n",
       "    </tr>\n",
       "  </thead>\n",
       "  <tbody>\n",
       "    <tr>\n",
       "      <th>0</th>\n",
       "      <td>You would need many more pieces of information...</td>\n",
       "      <td>Some additional information that we would need...</td>\n",
       "      <td>1</td>\n",
       "      <td>1</td>\n",
       "    </tr>\n",
       "    <tr>\n",
       "      <th>1</th>\n",
       "      <td>You would need many more pieces of information...</td>\n",
       "      <td>After reading the expirement, I realized that ...</td>\n",
       "      <td>1</td>\n",
       "      <td>1</td>\n",
       "    </tr>\n",
       "    <tr>\n",
       "      <th>2</th>\n",
       "      <td>You would need many more pieces of information...</td>\n",
       "      <td>What you need is more trials, a control set up...</td>\n",
       "      <td>1</td>\n",
       "      <td>1</td>\n",
       "    </tr>\n",
       "    <tr>\n",
       "      <th>3</th>\n",
       "      <td>You would need many more pieces of information...</td>\n",
       "      <td>The student should list what rock is better an...</td>\n",
       "      <td>0</td>\n",
       "      <td>0</td>\n",
       "    </tr>\n",
       "    <tr>\n",
       "      <th>4</th>\n",
       "      <td>You would need many more pieces of information...</td>\n",
       "      <td>For the students to be able to make a replicat...</td>\n",
       "      <td>2</td>\n",
       "      <td>2</td>\n",
       "    </tr>\n",
       "  </tbody>\n",
       "</table>\n",
       "</div>"
      ],
      "text/plain": [
       "                                         real_answer  \\\n",
       "0  You would need many more pieces of information...   \n",
       "1  You would need many more pieces of information...   \n",
       "2  You would need many more pieces of information...   \n",
       "3  You would need many more pieces of information...   \n",
       "4  You would need many more pieces of information...   \n",
       "\n",
       "                                              answer  score  score2  \n",
       "0  Some additional information that we would need...      1       1  \n",
       "1  After reading the expirement, I realized that ...      1       1  \n",
       "2  What you need is more trials, a control set up...      1       1  \n",
       "3  The student should list what rock is better an...      0       0  \n",
       "4  For the students to be able to make a replicat...      2       2  "
      ]
     },
     "execution_count": 17,
     "metadata": {},
     "output_type": "execute_result"
    }
   ],
   "source": [
    "asap_df = pd.read_excel(\"dataset/asap.xlsx\")\n",
    "asap_df = asap_df.drop(columns=['id', 'dataset', 'question_id', 'question', 'correct'])\n",
    "asap_df.head()"
   ]
  },
  {
   "cell_type": "code",
   "execution_count": 18,
   "metadata": {},
   "outputs": [
    {
     "data": {
      "text/html": [
       "<div>\n",
       "<style scoped>\n",
       "    .dataframe tbody tr th:only-of-type {\n",
       "        vertical-align: middle;\n",
       "    }\n",
       "\n",
       "    .dataframe tbody tr th {\n",
       "        vertical-align: top;\n",
       "    }\n",
       "\n",
       "    .dataframe thead th {\n",
       "        text-align: right;\n",
       "    }\n",
       "</style>\n",
       "<table border=\"1\" class=\"dataframe\">\n",
       "  <thead>\n",
       "    <tr style=\"text-align: right;\">\n",
       "      <th></th>\n",
       "      <th>real_answer</th>\n",
       "      <th>answer</th>\n",
       "      <th>score</th>\n",
       "      <th>score2</th>\n",
       "      <th>avg_score</th>\n",
       "      <th>prompt</th>\n",
       "      <th>prompt_length</th>\n",
       "    </tr>\n",
       "  </thead>\n",
       "  <tbody>\n",
       "    <tr>\n",
       "      <th>0</th>\n",
       "      <td>You would need many more pieces of information...</td>\n",
       "      <td>Some additional information that we would need...</td>\n",
       "      <td>1</td>\n",
       "      <td>1</td>\n",
       "      <td>1.0</td>\n",
       "      <td>Reference Answer: You would need many more pie...</td>\n",
       "      <td>995</td>\n",
       "    </tr>\n",
       "    <tr>\n",
       "      <th>1</th>\n",
       "      <td>You would need many more pieces of information...</td>\n",
       "      <td>After reading the expirement, I realized that ...</td>\n",
       "      <td>1</td>\n",
       "      <td>1</td>\n",
       "      <td>1.0</td>\n",
       "      <td>Reference Answer: You would need many more pie...</td>\n",
       "      <td>977</td>\n",
       "    </tr>\n",
       "    <tr>\n",
       "      <th>2</th>\n",
       "      <td>You would need many more pieces of information...</td>\n",
       "      <td>What you need is more trials, a control set up...</td>\n",
       "      <td>1</td>\n",
       "      <td>1</td>\n",
       "      <td>1.0</td>\n",
       "      <td>Reference Answer: You would need many more pie...</td>\n",
       "      <td>850</td>\n",
       "    </tr>\n",
       "    <tr>\n",
       "      <th>3</th>\n",
       "      <td>You would need many more pieces of information...</td>\n",
       "      <td>The student should list what rock is better an...</td>\n",
       "      <td>0</td>\n",
       "      <td>0</td>\n",
       "      <td>0.0</td>\n",
       "      <td>Reference Answer: You would need many more pie...</td>\n",
       "      <td>769</td>\n",
       "    </tr>\n",
       "    <tr>\n",
       "      <th>4</th>\n",
       "      <td>You would need many more pieces of information...</td>\n",
       "      <td>For the students to be able to make a replicat...</td>\n",
       "      <td>2</td>\n",
       "      <td>2</td>\n",
       "      <td>2.0</td>\n",
       "      <td>Reference Answer: You would need many more pie...</td>\n",
       "      <td>839</td>\n",
       "    </tr>\n",
       "  </tbody>\n",
       "</table>\n",
       "</div>"
      ],
      "text/plain": [
       "                                         real_answer  \\\n",
       "0  You would need many more pieces of information...   \n",
       "1  You would need many more pieces of information...   \n",
       "2  You would need many more pieces of information...   \n",
       "3  You would need many more pieces of information...   \n",
       "4  You would need many more pieces of information...   \n",
       "\n",
       "                                              answer  score  score2  \\\n",
       "0  Some additional information that we would need...      1       1   \n",
       "1  After reading the expirement, I realized that ...      1       1   \n",
       "2  What you need is more trials, a control set up...      1       1   \n",
       "3  The student should list what rock is better an...      0       0   \n",
       "4  For the students to be able to make a replicat...      2       2   \n",
       "\n",
       "   avg_score                                             prompt  prompt_length  \n",
       "0        1.0  Reference Answer: You would need many more pie...            995  \n",
       "1        1.0  Reference Answer: You would need many more pie...            977  \n",
       "2        1.0  Reference Answer: You would need many more pie...            850  \n",
       "3        0.0  Reference Answer: You would need many more pie...            769  \n",
       "4        2.0  Reference Answer: You would need many more pie...            839  "
      ]
     },
     "execution_count": 18,
     "metadata": {},
     "output_type": "execute_result"
    }
   ],
   "source": [
    "asap_df['avg_score'] = asap_df[['score', 'score2']].mean(axis=1).round(0)\n",
    "asap_df['prompt'] = (\n",
    "    \"Reference Answer: \" + asap_df['real_answer'] + \"\\n\"\n",
    "    \"Student Answer: \" + asap_df['answer'] + \"\\n\"\n",
    "    \"Grading Rubric: 0-3 (where 0 is the lowest score and 3 is the highest).\\n\"\n",
    "    \"Scores given by experts: \" + str(asap_df['avg_score'])\n",
    ")\n",
    "asap_df['prompt_length'] = asap_df['prompt'].apply(len)\n",
    "asap_df.head()"
   ]
  },
  {
   "cell_type": "code",
   "execution_count": 19,
   "metadata": {},
   "outputs": [
    {
     "data": {
      "text/plain": [
       "count    17043.000000\n",
       "mean       868.411489\n",
       "std        171.846656\n",
       "min        485.000000\n",
       "25%        749.000000\n",
       "50%        854.000000\n",
       "75%        966.000000\n",
       "max       2399.000000\n",
       "Name: prompt_length, dtype: float64"
      ]
     },
     "execution_count": 19,
     "metadata": {},
     "output_type": "execute_result"
    }
   ],
   "source": [
    "asap_df['prompt_length'].describe()"
   ]
  },
  {
   "cell_type": "code",
   "execution_count": 20,
   "metadata": {},
   "outputs": [
    {
     "data": {
      "text/plain": [
       "(17043, 7)"
      ]
     },
     "execution_count": 20,
     "metadata": {},
     "output_type": "execute_result"
    }
   ],
   "source": [
    "asap_df.shape"
   ]
  },
  {
   "cell_type": "markdown",
   "metadata": {},
   "source": [
    "# CUNLP Dataset"
   ]
  },
  {
   "cell_type": "code",
   "execution_count": 21,
   "metadata": {},
   "outputs": [
    {
     "data": {
      "text/html": [
       "<div>\n",
       "<style scoped>\n",
       "    .dataframe tbody tr th:only-of-type {\n",
       "        vertical-align: middle;\n",
       "    }\n",
       "\n",
       "    .dataframe tbody tr th {\n",
       "        vertical-align: top;\n",
       "    }\n",
       "\n",
       "    .dataframe thead th {\n",
       "        text-align: right;\n",
       "    }\n",
       "</style>\n",
       "<table border=\"1\" class=\"dataframe\">\n",
       "  <thead>\n",
       "    <tr style=\"text-align: right;\">\n",
       "      <th></th>\n",
       "      <th>real_answer</th>\n",
       "      <th>answer</th>\n",
       "      <th>score</th>\n",
       "    </tr>\n",
       "  </thead>\n",
       "  <tbody>\n",
       "    <tr>\n",
       "      <th>0</th>\n",
       "      <td>If the question is IR-Based, I will do the fol...</td>\n",
       "      <td>Using semantic analysis methods. We can use ve...</td>\n",
       "      <td>25</td>\n",
       "    </tr>\n",
       "    <tr>\n",
       "      <th>1</th>\n",
       "      <td>If the question is IR-Based, I will do the fol...</td>\n",
       "      <td>we should use vector space model. firstly, bin...</td>\n",
       "      <td>25</td>\n",
       "    </tr>\n",
       "    <tr>\n",
       "      <th>2</th>\n",
       "      <td>If the question is IR-Based, I will do the fol...</td>\n",
       "      <td>Assume we have a question like \" Why the sky i...</td>\n",
       "      <td>50</td>\n",
       "    </tr>\n",
       "    <tr>\n",
       "      <th>3</th>\n",
       "      <td>If the question is IR-Based, I will do the fol...</td>\n",
       "      <td>We can use Vector Space Model that is represen...</td>\n",
       "      <td>25</td>\n",
       "    </tr>\n",
       "    <tr>\n",
       "      <th>4</th>\n",
       "      <td>If the question is IR-Based, I will do the fol...</td>\n",
       "      <td>In this corpus we will use sentence segmenting...</td>\n",
       "      <td>50</td>\n",
       "    </tr>\n",
       "  </tbody>\n",
       "</table>\n",
       "</div>"
      ],
      "text/plain": [
       "                                         real_answer  \\\n",
       "0  If the question is IR-Based, I will do the fol...   \n",
       "1  If the question is IR-Based, I will do the fol...   \n",
       "2  If the question is IR-Based, I will do the fol...   \n",
       "3  If the question is IR-Based, I will do the fol...   \n",
       "4  If the question is IR-Based, I will do the fol...   \n",
       "\n",
       "                                              answer  score  \n",
       "0  Using semantic analysis methods. We can use ve...     25  \n",
       "1  we should use vector space model. firstly, bin...     25  \n",
       "2  Assume we have a question like \" Why the sky i...     50  \n",
       "3  We can use Vector Space Model that is represen...     25  \n",
       "4  In this corpus we will use sentence segmenting...     50  "
      ]
     },
     "execution_count": 21,
     "metadata": {},
     "output_type": "execute_result"
    }
   ],
   "source": [
    "cunlp_df = pd.read_excel(\"dataset/cunlp.xlsx\")\n",
    "cunlp_df = cunlp_df.drop(columns=['id', 'dataset', 'question_id', 'question', 'correct'])\n",
    "cunlp_df.head()"
   ]
  },
  {
   "cell_type": "code",
   "execution_count": 22,
   "metadata": {},
   "outputs": [
    {
     "data": {
      "text/html": [
       "<div>\n",
       "<style scoped>\n",
       "    .dataframe tbody tr th:only-of-type {\n",
       "        vertical-align: middle;\n",
       "    }\n",
       "\n",
       "    .dataframe tbody tr th {\n",
       "        vertical-align: top;\n",
       "    }\n",
       "\n",
       "    .dataframe thead th {\n",
       "        text-align: right;\n",
       "    }\n",
       "</style>\n",
       "<table border=\"1\" class=\"dataframe\">\n",
       "  <thead>\n",
       "    <tr style=\"text-align: right;\">\n",
       "      <th></th>\n",
       "      <th>real_answer</th>\n",
       "      <th>answer</th>\n",
       "      <th>score</th>\n",
       "      <th>prompt</th>\n",
       "      <th>prompt_length</th>\n",
       "    </tr>\n",
       "  </thead>\n",
       "  <tbody>\n",
       "    <tr>\n",
       "      <th>0</th>\n",
       "      <td>If the question is IR-Based, I will do the fol...</td>\n",
       "      <td>Using semantic analysis methods. We can use ve...</td>\n",
       "      <td>25</td>\n",
       "      <td>Reference Answer: If the question is IR-Based,...</td>\n",
       "      <td>1241</td>\n",
       "    </tr>\n",
       "    <tr>\n",
       "      <th>1</th>\n",
       "      <td>If the question is IR-Based, I will do the fol...</td>\n",
       "      <td>we should use vector space model. firstly, bin...</td>\n",
       "      <td>25</td>\n",
       "      <td>Reference Answer: If the question is IR-Based,...</td>\n",
       "      <td>1337</td>\n",
       "    </tr>\n",
       "    <tr>\n",
       "      <th>2</th>\n",
       "      <td>If the question is IR-Based, I will do the fol...</td>\n",
       "      <td>Assume we have a question like \" Why the sky i...</td>\n",
       "      <td>50</td>\n",
       "      <td>Reference Answer: If the question is IR-Based,...</td>\n",
       "      <td>1478</td>\n",
       "    </tr>\n",
       "    <tr>\n",
       "      <th>3</th>\n",
       "      <td>If the question is IR-Based, I will do the fol...</td>\n",
       "      <td>We can use Vector Space Model that is represen...</td>\n",
       "      <td>25</td>\n",
       "      <td>Reference Answer: If the question is IR-Based,...</td>\n",
       "      <td>1600</td>\n",
       "    </tr>\n",
       "    <tr>\n",
       "      <th>4</th>\n",
       "      <td>If the question is IR-Based, I will do the fol...</td>\n",
       "      <td>In this corpus we will use sentence segmenting...</td>\n",
       "      <td>50</td>\n",
       "      <td>Reference Answer: If the question is IR-Based,...</td>\n",
       "      <td>1517</td>\n",
       "    </tr>\n",
       "  </tbody>\n",
       "</table>\n",
       "</div>"
      ],
      "text/plain": [
       "                                         real_answer  \\\n",
       "0  If the question is IR-Based, I will do the fol...   \n",
       "1  If the question is IR-Based, I will do the fol...   \n",
       "2  If the question is IR-Based, I will do the fol...   \n",
       "3  If the question is IR-Based, I will do the fol...   \n",
       "4  If the question is IR-Based, I will do the fol...   \n",
       "\n",
       "                                              answer  score  \\\n",
       "0  Using semantic analysis methods. We can use ve...     25   \n",
       "1  we should use vector space model. firstly, bin...     25   \n",
       "2  Assume we have a question like \" Why the sky i...     50   \n",
       "3  We can use Vector Space Model that is represen...     25   \n",
       "4  In this corpus we will use sentence segmenting...     50   \n",
       "\n",
       "                                              prompt  prompt_length  \n",
       "0  Reference Answer: If the question is IR-Based,...           1241  \n",
       "1  Reference Answer: If the question is IR-Based,...           1337  \n",
       "2  Reference Answer: If the question is IR-Based,...           1478  \n",
       "3  Reference Answer: If the question is IR-Based,...           1600  \n",
       "4  Reference Answer: If the question is IR-Based,...           1517  "
      ]
     },
     "execution_count": 22,
     "metadata": {},
     "output_type": "execute_result"
    }
   ],
   "source": [
    "cunlp_df['prompt'] = (\n",
    "    \"Reference Answer: \" + cunlp_df['real_answer'] + \"\\n\"\n",
    "    \"Student Answer: \" + cunlp_df['answer'] + \"\\n\"\n",
    "    \"Grading Rubric: 0-100 (where 0 is the lowest score and 100 is the highest).\\n\"\n",
    "    \"Scores given by experts: \" + str(cunlp_df['score'])\n",
    ")\n",
    "cunlp_df['prompt_length'] = cunlp_df['prompt'].apply(len)\n",
    "cunlp_df.head()"
   ]
  },
  {
   "cell_type": "code",
   "execution_count": 23,
   "metadata": {},
   "outputs": [
    {
     "data": {
      "text/plain": [
       "count     171.000000\n",
       "mean     1237.929825\n",
       "std       253.293124\n",
       "min       754.000000\n",
       "25%      1034.500000\n",
       "50%      1209.000000\n",
       "75%      1400.000000\n",
       "max      2023.000000\n",
       "Name: prompt_length, dtype: float64"
      ]
     },
     "execution_count": 23,
     "metadata": {},
     "output_type": "execute_result"
    }
   ],
   "source": [
    "cunlp_df['prompt_length'].describe()"
   ]
  },
  {
   "cell_type": "code",
   "execution_count": 24,
   "metadata": {},
   "outputs": [
    {
     "data": {
      "text/plain": [
       "(171, 5)"
      ]
     },
     "execution_count": 24,
     "metadata": {},
     "output_type": "execute_result"
    }
   ],
   "source": [
    "cunlp_df.shape"
   ]
  },
  {
   "cell_type": "markdown",
   "metadata": {},
   "source": [
    "# SAG Dataset"
   ]
  },
  {
   "cell_type": "code",
   "execution_count": 25,
   "metadata": {},
   "outputs": [
    {
     "data": {
      "text/html": [
       "<div>\n",
       "<style scoped>\n",
       "    .dataframe tbody tr th:only-of-type {\n",
       "        vertical-align: middle;\n",
       "    }\n",
       "\n",
       "    .dataframe tbody tr th {\n",
       "        vertical-align: top;\n",
       "    }\n",
       "\n",
       "    .dataframe thead th {\n",
       "        text-align: right;\n",
       "    }\n",
       "</style>\n",
       "<table border=\"1\" class=\"dataframe\">\n",
       "  <thead>\n",
       "    <tr style=\"text-align: right;\">\n",
       "      <th></th>\n",
       "      <th>question</th>\n",
       "      <th>real_answer</th>\n",
       "      <th>answer</th>\n",
       "      <th>score</th>\n",
       "      <th>correct</th>\n",
       "    </tr>\n",
       "  </thead>\n",
       "  <tbody>\n",
       "    <tr>\n",
       "      <th>0</th>\n",
       "      <td>What is the role of a prototype program in pro...</td>\n",
       "      <td>To simulate the behaviour of portions of the d...</td>\n",
       "      <td>High risk problems are address in the prototyp...</td>\n",
       "      <td>3.5</td>\n",
       "      <td>0</td>\n",
       "    </tr>\n",
       "    <tr>\n",
       "      <th>1</th>\n",
       "      <td>What is the role of a prototype program in pro...</td>\n",
       "      <td>To simulate the behaviour of portions of the d...</td>\n",
       "      <td>To simulate portions of the desired final prod...</td>\n",
       "      <td>5.0</td>\n",
       "      <td>1</td>\n",
       "    </tr>\n",
       "    <tr>\n",
       "      <th>2</th>\n",
       "      <td>What is the role of a prototype program in pro...</td>\n",
       "      <td>To simulate the behaviour of portions of the d...</td>\n",
       "      <td>A prototype program simulates the behaviors of...</td>\n",
       "      <td>4.0</td>\n",
       "      <td>1</td>\n",
       "    </tr>\n",
       "    <tr>\n",
       "      <th>3</th>\n",
       "      <td>What is the role of a prototype program in pro...</td>\n",
       "      <td>To simulate the behaviour of portions of the d...</td>\n",
       "      <td>Defined in the Specification phase a prototype...</td>\n",
       "      <td>5.0</td>\n",
       "      <td>1</td>\n",
       "    </tr>\n",
       "    <tr>\n",
       "      <th>4</th>\n",
       "      <td>What is the role of a prototype program in pro...</td>\n",
       "      <td>To simulate the behaviour of portions of the d...</td>\n",
       "      <td>It is used to let the users have a first idea ...</td>\n",
       "      <td>3.0</td>\n",
       "      <td>0</td>\n",
       "    </tr>\n",
       "  </tbody>\n",
       "</table>\n",
       "</div>"
      ],
      "text/plain": [
       "                                            question  \\\n",
       "0  What is the role of a prototype program in pro...   \n",
       "1  What is the role of a prototype program in pro...   \n",
       "2  What is the role of a prototype program in pro...   \n",
       "3  What is the role of a prototype program in pro...   \n",
       "4  What is the role of a prototype program in pro...   \n",
       "\n",
       "                                         real_answer  \\\n",
       "0  To simulate the behaviour of portions of the d...   \n",
       "1  To simulate the behaviour of portions of the d...   \n",
       "2  To simulate the behaviour of portions of the d...   \n",
       "3  To simulate the behaviour of portions of the d...   \n",
       "4  To simulate the behaviour of portions of the d...   \n",
       "\n",
       "                                              answer  score  correct  \n",
       "0  High risk problems are address in the prototyp...    3.5        0  \n",
       "1  To simulate portions of the desired final prod...    5.0        1  \n",
       "2  A prototype program simulates the behaviors of...    4.0        1  \n",
       "3  Defined in the Specification phase a prototype...    5.0        1  \n",
       "4  It is used to let the users have a first idea ...    3.0        0  "
      ]
     },
     "execution_count": 25,
     "metadata": {},
     "output_type": "execute_result"
    }
   ],
   "source": [
    "sag_df = pd.read_excel(\"dataset/sag.xlsx\")\n",
    "sag_df = sag_df.drop(columns=['id', 'dataset', 'question_id'])\n",
    "sag_df.head()"
   ]
  },
  {
   "cell_type": "code",
   "execution_count": 26,
   "metadata": {},
   "outputs": [
    {
     "data": {
      "text/html": [
       "<div>\n",
       "<style scoped>\n",
       "    .dataframe tbody tr th:only-of-type {\n",
       "        vertical-align: middle;\n",
       "    }\n",
       "\n",
       "    .dataframe tbody tr th {\n",
       "        vertical-align: top;\n",
       "    }\n",
       "\n",
       "    .dataframe thead th {\n",
       "        text-align: right;\n",
       "    }\n",
       "</style>\n",
       "<table border=\"1\" class=\"dataframe\">\n",
       "  <thead>\n",
       "    <tr style=\"text-align: right;\">\n",
       "      <th></th>\n",
       "      <th>question</th>\n",
       "      <th>real_answer</th>\n",
       "      <th>answer</th>\n",
       "      <th>score</th>\n",
       "      <th>correct</th>\n",
       "      <th>is_correct</th>\n",
       "      <th>prompt</th>\n",
       "      <th>prompt_length</th>\n",
       "    </tr>\n",
       "  </thead>\n",
       "  <tbody>\n",
       "    <tr>\n",
       "      <th>0</th>\n",
       "      <td>What is the role of a prototype program in pro...</td>\n",
       "      <td>To simulate the behaviour of portions of the d...</td>\n",
       "      <td>High risk problems are address in the prototyp...</td>\n",
       "      <td>3.5</td>\n",
       "      <td>0</td>\n",
       "      <td>wrong</td>\n",
       "      <td>Question: What is the role of a prototype prog...</td>\n",
       "      <td>492</td>\n",
       "    </tr>\n",
       "    <tr>\n",
       "      <th>1</th>\n",
       "      <td>What is the role of a prototype program in pro...</td>\n",
       "      <td>To simulate the behaviour of portions of the d...</td>\n",
       "      <td>To simulate portions of the desired final prod...</td>\n",
       "      <td>5.0</td>\n",
       "      <td>1</td>\n",
       "      <td>correct</td>\n",
       "      <td>Question: What is the role of a prototype prog...</td>\n",
       "      <td>505</td>\n",
       "    </tr>\n",
       "    <tr>\n",
       "      <th>2</th>\n",
       "      <td>What is the role of a prototype program in pro...</td>\n",
       "      <td>To simulate the behaviour of portions of the d...</td>\n",
       "      <td>A prototype program simulates the behaviors of...</td>\n",
       "      <td>4.0</td>\n",
       "      <td>1</td>\n",
       "      <td>correct</td>\n",
       "      <td>Question: What is the role of a prototype prog...</td>\n",
       "      <td>419</td>\n",
       "    </tr>\n",
       "    <tr>\n",
       "      <th>3</th>\n",
       "      <td>What is the role of a prototype program in pro...</td>\n",
       "      <td>To simulate the behaviour of portions of the d...</td>\n",
       "      <td>Defined in the Specification phase a prototype...</td>\n",
       "      <td>5.0</td>\n",
       "      <td>1</td>\n",
       "      <td>correct</td>\n",
       "      <td>Question: What is the role of a prototype prog...</td>\n",
       "      <td>554</td>\n",
       "    </tr>\n",
       "    <tr>\n",
       "      <th>4</th>\n",
       "      <td>What is the role of a prototype program in pro...</td>\n",
       "      <td>To simulate the behaviour of portions of the d...</td>\n",
       "      <td>It is used to let the users have a first idea ...</td>\n",
       "      <td>3.0</td>\n",
       "      <td>0</td>\n",
       "      <td>wrong</td>\n",
       "      <td>Question: What is the role of a prototype prog...</td>\n",
       "      <td>530</td>\n",
       "    </tr>\n",
       "  </tbody>\n",
       "</table>\n",
       "</div>"
      ],
      "text/plain": [
       "                                            question  \\\n",
       "0  What is the role of a prototype program in pro...   \n",
       "1  What is the role of a prototype program in pro...   \n",
       "2  What is the role of a prototype program in pro...   \n",
       "3  What is the role of a prototype program in pro...   \n",
       "4  What is the role of a prototype program in pro...   \n",
       "\n",
       "                                         real_answer  \\\n",
       "0  To simulate the behaviour of portions of the d...   \n",
       "1  To simulate the behaviour of portions of the d...   \n",
       "2  To simulate the behaviour of portions of the d...   \n",
       "3  To simulate the behaviour of portions of the d...   \n",
       "4  To simulate the behaviour of portions of the d...   \n",
       "\n",
       "                                              answer  score  correct  \\\n",
       "0  High risk problems are address in the prototyp...    3.5        0   \n",
       "1  To simulate portions of the desired final prod...    5.0        1   \n",
       "2  A prototype program simulates the behaviors of...    4.0        1   \n",
       "3  Defined in the Specification phase a prototype...    5.0        1   \n",
       "4  It is used to let the users have a first idea ...    3.0        0   \n",
       "\n",
       "  is_correct                                             prompt  prompt_length  \n",
       "0      wrong  Question: What is the role of a prototype prog...            492  \n",
       "1    correct  Question: What is the role of a prototype prog...            505  \n",
       "2    correct  Question: What is the role of a prototype prog...            419  \n",
       "3    correct  Question: What is the role of a prototype prog...            554  \n",
       "4      wrong  Question: What is the role of a prototype prog...            530  "
      ]
     },
     "execution_count": 26,
     "metadata": {},
     "output_type": "execute_result"
    }
   ],
   "source": [
    "sag_df['is_correct'] = np.where(sag_df['correct'] == 1, \"correct\", \"wrong\")\n",
    "\n",
    "sag_df['prompt'] = (\n",
    "    \"Question: \" + sag_df['question'] + \"\\n\"\n",
    "    \"Reference Answer: \" + sag_df['real_answer'] + \"\\n\"\n",
    "    \"Student Answer: \" + sag_df['answer'] + \"\\n\"\n",
    "    \"Grading Rubric: 0-5 (where 0 is the lowest score and 5 is the highest).\\n\"\n",
    "    \"Scores given by experts: \" + sag_df['score'].astype(str) + \n",
    "    \". Student answer is \" + sag_df['is_correct']\n",
    ")\n",
    "\n",
    "sag_df['prompt_length'] = sag_df['prompt'].apply(len)\n",
    "sag_df.head()\n"
   ]
  },
  {
   "cell_type": "code",
   "execution_count": 27,
   "metadata": {},
   "outputs": [
    {
     "data": {
      "text/plain": [
       "count    2558.000000\n",
       "mean      418.944097\n",
       "std       114.996830\n",
       "min       230.000000\n",
       "25%       329.000000\n",
       "50%       405.000000\n",
       "75%       489.000000\n",
       "max      1398.000000\n",
       "Name: prompt_length, dtype: float64"
      ]
     },
     "execution_count": 27,
     "metadata": {},
     "output_type": "execute_result"
    }
   ],
   "source": [
    "sag_df['prompt_length'].describe()"
   ]
  },
  {
   "cell_type": "code",
   "execution_count": 28,
   "metadata": {},
   "outputs": [
    {
     "data": {
      "text/plain": [
       "(2558, 8)"
      ]
     },
     "execution_count": 28,
     "metadata": {},
     "output_type": "execute_result"
    }
   ],
   "source": [
    "sag_df.shape"
   ]
  },
  {
   "cell_type": "markdown",
   "metadata": {},
   "source": [
    "# Scientsbank Dataset"
   ]
  },
  {
   "cell_type": "code",
   "execution_count": 29,
   "metadata": {},
   "outputs": [
    {
     "data": {
      "text/html": [
       "<div>\n",
       "<style scoped>\n",
       "    .dataframe tbody tr th:only-of-type {\n",
       "        vertical-align: middle;\n",
       "    }\n",
       "\n",
       "    .dataframe tbody tr th {\n",
       "        vertical-align: top;\n",
       "    }\n",
       "\n",
       "    .dataframe thead th {\n",
       "        text-align: right;\n",
       "    }\n",
       "</style>\n",
       "<table border=\"1\" class=\"dataframe\">\n",
       "  <thead>\n",
       "    <tr style=\"text-align: right;\">\n",
       "      <th></th>\n",
       "      <th>question</th>\n",
       "      <th>real_answer</th>\n",
       "      <th>answer</th>\n",
       "      <th>score</th>\n",
       "      <th>correct</th>\n",
       "      <th>Alfonso</th>\n",
       "      <th>Emiliano</th>\n",
       "    </tr>\n",
       "  </thead>\n",
       "  <tbody>\n",
       "    <tr>\n",
       "      <th>0</th>\n",
       "      <td>Look at the picture on the right. Label the po...</td>\n",
       "      <td>Like poles repel and opposite poles attract.</td>\n",
       "      <td>Because they are repelling each other always.</td>\n",
       "      <td>0.0</td>\n",
       "      <td>0</td>\n",
       "      <td>0</td>\n",
       "      <td>0</td>\n",
       "    </tr>\n",
       "    <tr>\n",
       "      <th>1</th>\n",
       "      <td>Look at the picture on the right. Label the po...</td>\n",
       "      <td>Like poles repel and opposite poles attract.</td>\n",
       "      <td>The magnets are not touching because they cann...</td>\n",
       "      <td>4.0</td>\n",
       "      <td>1</td>\n",
       "      <td>4</td>\n",
       "      <td>4</td>\n",
       "    </tr>\n",
       "    <tr>\n",
       "      <th>2</th>\n",
       "      <td>Look at the picture on the right. Label the po...</td>\n",
       "      <td>Like poles repel and opposite poles attract.</td>\n",
       "      <td>The magnets will maybe not stick because the f...</td>\n",
       "      <td>0.0</td>\n",
       "      <td>0</td>\n",
       "      <td>0</td>\n",
       "      <td>0</td>\n",
       "    </tr>\n",
       "    <tr>\n",
       "      <th>3</th>\n",
       "      <td>Look at the picture on the right. Label the po...</td>\n",
       "      <td>Like poles repel and opposite poles attract.</td>\n",
       "      <td>They are repelling.</td>\n",
       "      <td>0.0</td>\n",
       "      <td>0</td>\n",
       "      <td>0</td>\n",
       "      <td>0</td>\n",
       "    </tr>\n",
       "    <tr>\n",
       "      <th>4</th>\n",
       "      <td>Look at the picture on the right. Label the po...</td>\n",
       "      <td>Like poles repel and opposite poles attract.</td>\n",
       "      <td>The magnets are on the side when they repel ea...</td>\n",
       "      <td>0.0</td>\n",
       "      <td>0</td>\n",
       "      <td>0</td>\n",
       "      <td>1</td>\n",
       "    </tr>\n",
       "  </tbody>\n",
       "</table>\n",
       "</div>"
      ],
      "text/plain": [
       "                                            question  \\\n",
       "0  Look at the picture on the right. Label the po...   \n",
       "1  Look at the picture on the right. Label the po...   \n",
       "2  Look at the picture on the right. Label the po...   \n",
       "3  Look at the picture on the right. Label the po...   \n",
       "4  Look at the picture on the right. Label the po...   \n",
       "\n",
       "                                    real_answer  \\\n",
       "0  Like poles repel and opposite poles attract.   \n",
       "1  Like poles repel and opposite poles attract.   \n",
       "2  Like poles repel and opposite poles attract.   \n",
       "3  Like poles repel and opposite poles attract.   \n",
       "4  Like poles repel and opposite poles attract.   \n",
       "\n",
       "                                              answer  score  correct  Alfonso  \\\n",
       "0      Because they are repelling each other always.    0.0        0        0   \n",
       "1  The magnets are not touching because they cann...    4.0        1        4   \n",
       "2  The magnets will maybe not stick because the f...    0.0        0        0   \n",
       "3                                They are repelling.    0.0        0        0   \n",
       "4  The magnets are on the side when they repel ea...    0.0        0        0   \n",
       "\n",
       "   Emiliano  \n",
       "0         0  \n",
       "1         4  \n",
       "2         0  \n",
       "3         0  \n",
       "4         1  "
      ]
     },
     "execution_count": 29,
     "metadata": {},
     "output_type": "execute_result"
    }
   ],
   "source": [
    "sci_df = pd.read_excel(\"dataset/scientsbank.xlsx\")\n",
    "sci_df = sci_df.drop(columns=['id', 'dataset', 'question_id'])\n",
    "sci_df.head()"
   ]
  },
  {
   "cell_type": "code",
   "execution_count": 30,
   "metadata": {},
   "outputs": [
    {
     "data": {
      "text/html": [
       "<div>\n",
       "<style scoped>\n",
       "    .dataframe tbody tr th:only-of-type {\n",
       "        vertical-align: middle;\n",
       "    }\n",
       "\n",
       "    .dataframe tbody tr th {\n",
       "        vertical-align: top;\n",
       "    }\n",
       "\n",
       "    .dataframe thead th {\n",
       "        text-align: right;\n",
       "    }\n",
       "</style>\n",
       "<table border=\"1\" class=\"dataframe\">\n",
       "  <thead>\n",
       "    <tr style=\"text-align: right;\">\n",
       "      <th></th>\n",
       "      <th>question</th>\n",
       "      <th>real_answer</th>\n",
       "      <th>answer</th>\n",
       "      <th>score</th>\n",
       "      <th>correct</th>\n",
       "      <th>Alfonso</th>\n",
       "      <th>Emiliano</th>\n",
       "      <th>avg_score</th>\n",
       "      <th>is_correct</th>\n",
       "      <th>prompt</th>\n",
       "      <th>prompt_length</th>\n",
       "    </tr>\n",
       "  </thead>\n",
       "  <tbody>\n",
       "    <tr>\n",
       "      <th>0</th>\n",
       "      <td>Look at the picture on the right. Label the po...</td>\n",
       "      <td>Like poles repel and opposite poles attract.</td>\n",
       "      <td>Because they are repelling each other always.</td>\n",
       "      <td>0.0</td>\n",
       "      <td>0</td>\n",
       "      <td>0</td>\n",
       "      <td>0</td>\n",
       "      <td>0.0</td>\n",
       "      <td>wrong</td>\n",
       "      <td>Question: Look at the picture on the right. La...</td>\n",
       "      <td>463</td>\n",
       "    </tr>\n",
       "    <tr>\n",
       "      <th>1</th>\n",
       "      <td>Look at the picture on the right. Label the po...</td>\n",
       "      <td>Like poles repel and opposite poles attract.</td>\n",
       "      <td>The magnets are not touching because they cann...</td>\n",
       "      <td>4.0</td>\n",
       "      <td>1</td>\n",
       "      <td>4</td>\n",
       "      <td>4</td>\n",
       "      <td>4.0</td>\n",
       "      <td>correct</td>\n",
       "      <td>Question: Look at the picture on the right. La...</td>\n",
       "      <td>536</td>\n",
       "    </tr>\n",
       "    <tr>\n",
       "      <th>2</th>\n",
       "      <td>Look at the picture on the right. Label the po...</td>\n",
       "      <td>Like poles repel and opposite poles attract.</td>\n",
       "      <td>The magnets will maybe not stick because the f...</td>\n",
       "      <td>0.0</td>\n",
       "      <td>0</td>\n",
       "      <td>0</td>\n",
       "      <td>0</td>\n",
       "      <td>0.0</td>\n",
       "      <td>wrong</td>\n",
       "      <td>Question: Look at the picture on the right. La...</td>\n",
       "      <td>560</td>\n",
       "    </tr>\n",
       "    <tr>\n",
       "      <th>3</th>\n",
       "      <td>Look at the picture on the right. Label the po...</td>\n",
       "      <td>Like poles repel and opposite poles attract.</td>\n",
       "      <td>They are repelling.</td>\n",
       "      <td>0.0</td>\n",
       "      <td>0</td>\n",
       "      <td>0</td>\n",
       "      <td>0</td>\n",
       "      <td>0.0</td>\n",
       "      <td>wrong</td>\n",
       "      <td>Question: Look at the picture on the right. La...</td>\n",
       "      <td>437</td>\n",
       "    </tr>\n",
       "    <tr>\n",
       "      <th>4</th>\n",
       "      <td>Look at the picture on the right. Label the po...</td>\n",
       "      <td>Like poles repel and opposite poles attract.</td>\n",
       "      <td>The magnets are on the side when they repel ea...</td>\n",
       "      <td>0.0</td>\n",
       "      <td>0</td>\n",
       "      <td>0</td>\n",
       "      <td>1</td>\n",
       "      <td>0.0</td>\n",
       "      <td>wrong</td>\n",
       "      <td>Question: Look at the picture on the right. La...</td>\n",
       "      <td>473</td>\n",
       "    </tr>\n",
       "  </tbody>\n",
       "</table>\n",
       "</div>"
      ],
      "text/plain": [
       "                                            question  \\\n",
       "0  Look at the picture on the right. Label the po...   \n",
       "1  Look at the picture on the right. Label the po...   \n",
       "2  Look at the picture on the right. Label the po...   \n",
       "3  Look at the picture on the right. Label the po...   \n",
       "4  Look at the picture on the right. Label the po...   \n",
       "\n",
       "                                    real_answer  \\\n",
       "0  Like poles repel and opposite poles attract.   \n",
       "1  Like poles repel and opposite poles attract.   \n",
       "2  Like poles repel and opposite poles attract.   \n",
       "3  Like poles repel and opposite poles attract.   \n",
       "4  Like poles repel and opposite poles attract.   \n",
       "\n",
       "                                              answer  score  correct  Alfonso  \\\n",
       "0      Because they are repelling each other always.    0.0        0        0   \n",
       "1  The magnets are not touching because they cann...    4.0        1        4   \n",
       "2  The magnets will maybe not stick because the f...    0.0        0        0   \n",
       "3                                They are repelling.    0.0        0        0   \n",
       "4  The magnets are on the side when they repel ea...    0.0        0        0   \n",
       "\n",
       "   Emiliano  avg_score is_correct  \\\n",
       "0         0        0.0      wrong   \n",
       "1         4        4.0    correct   \n",
       "2         0        0.0      wrong   \n",
       "3         0        0.0      wrong   \n",
       "4         1        0.0      wrong   \n",
       "\n",
       "                                              prompt  prompt_length  \n",
       "0  Question: Look at the picture on the right. La...            463  \n",
       "1  Question: Look at the picture on the right. La...            536  \n",
       "2  Question: Look at the picture on the right. La...            560  \n",
       "3  Question: Look at the picture on the right. La...            437  \n",
       "4  Question: Look at the picture on the right. La...            473  "
      ]
     },
     "execution_count": 30,
     "metadata": {},
     "output_type": "execute_result"
    }
   ],
   "source": [
    "sci_df['avg_score'] = sci_df[['score', 'Alfonso', 'Emiliano']].mean(axis=1).round(0)\n",
    "sci_df['is_correct'] = np.where(sci_df['correct'] == 1, \"correct\", \"wrong\")\n",
    "\n",
    "sci_df['prompt'] = (\n",
    "    \"Question: \" + sci_df['question'] + \"\\n\"\n",
    "    \"Reference Answer: \" + sci_df['real_answer'] + \"\\n\"\n",
    "    \"Student Answer: \" + sci_df['answer'] + \"\\n\"\n",
    "    \"Grading Rubric: 0-5 (where 0 is the lowest score and 5 is the highest).\\n\"\n",
    "    \"Scores given by experts: \" + sci_df['avg_score'].astype(str) + \n",
    "    \". Student answer is \" + sci_df['is_correct']\n",
    ")\n",
    "\n",
    "sci_df['prompt_length'] = sci_df['prompt'].apply(len)\n",
    "sci_df.head()\n"
   ]
  },
  {
   "cell_type": "code",
   "execution_count": 31,
   "metadata": {},
   "outputs": [
    {
     "data": {
      "text/plain": [
       "count    139.000000\n",
       "mean     454.640288\n",
       "std       72.075042\n",
       "min      335.000000\n",
       "25%      387.000000\n",
       "50%      465.000000\n",
       "75%      513.500000\n",
       "max      650.000000\n",
       "Name: prompt_length, dtype: float64"
      ]
     },
     "execution_count": 31,
     "metadata": {},
     "output_type": "execute_result"
    }
   ],
   "source": [
    "sci_df['prompt_length'].describe()"
   ]
  },
  {
   "cell_type": "code",
   "execution_count": 5,
   "metadata": {},
   "outputs": [
    {
     "data": {
      "text/plain": [
       "(139, 11)"
      ]
     },
     "execution_count": 5,
     "metadata": {},
     "output_type": "execute_result"
    }
   ],
   "source": [
    "sci_df.shape"
   ]
  },
  {
   "cell_type": "markdown",
   "metadata": {},
   "source": [
    "# Stita Dataset"
   ]
  },
  {
   "cell_type": "code",
   "execution_count": 2,
   "metadata": {},
   "outputs": [
    {
     "data": {
      "text/html": [
       "<div>\n",
       "<style scoped>\n",
       "    .dataframe tbody tr th:only-of-type {\n",
       "        vertical-align: middle;\n",
       "    }\n",
       "\n",
       "    .dataframe tbody tr th {\n",
       "        vertical-align: top;\n",
       "    }\n",
       "\n",
       "    .dataframe thead th {\n",
       "        text-align: right;\n",
       "    }\n",
       "</style>\n",
       "<table border=\"1\" class=\"dataframe\">\n",
       "  <thead>\n",
       "    <tr style=\"text-align: right;\">\n",
       "      <th></th>\n",
       "      <th>real_answer</th>\n",
       "      <th>answer</th>\n",
       "      <th>score</th>\n",
       "    </tr>\n",
       "  </thead>\n",
       "  <tbody>\n",
       "    <tr>\n",
       "      <th>0</th>\n",
       "      <td>When we talk about characters we refer to all ...</td>\n",
       "      <td>When we talk about characters we refer to all ...</td>\n",
       "      <td>1.000000</td>\n",
       "    </tr>\n",
       "    <tr>\n",
       "      <th>1</th>\n",
       "      <td>When we talk about characters we refer to all ...</td>\n",
       "      <td>Characters can be qualitative or quantitative....</td>\n",
       "      <td>0.590909</td>\n",
       "    </tr>\n",
       "    <tr>\n",
       "      <th>2</th>\n",
       "      <td>When we talk about characters we refer to all ...</td>\n",
       "      <td>The characters in the statistical units may be...</td>\n",
       "      <td>0.704545</td>\n",
       "    </tr>\n",
       "    <tr>\n",
       "      <th>3</th>\n",
       "      <td>When we talk about characters we refer to all ...</td>\n",
       "      <td>The types of characters are distinguished in q...</td>\n",
       "      <td>0.704545</td>\n",
       "    </tr>\n",
       "    <tr>\n",
       "      <th>4</th>\n",
       "      <td>When we talk about characters we refer to all ...</td>\n",
       "      <td>the types of characters are. Qualitative and q...</td>\n",
       "      <td>0.590909</td>\n",
       "    </tr>\n",
       "  </tbody>\n",
       "</table>\n",
       "</div>"
      ],
      "text/plain": [
       "                                         real_answer  \\\n",
       "0  When we talk about characters we refer to all ...   \n",
       "1  When we talk about characters we refer to all ...   \n",
       "2  When we talk about characters we refer to all ...   \n",
       "3  When we talk about characters we refer to all ...   \n",
       "4  When we talk about characters we refer to all ...   \n",
       "\n",
       "                                              answer     score  \n",
       "0  When we talk about characters we refer to all ...  1.000000  \n",
       "1  Characters can be qualitative or quantitative....  0.590909  \n",
       "2  The characters in the statistical units may be...  0.704545  \n",
       "3  The types of characters are distinguished in q...  0.704545  \n",
       "4  the types of characters are. Qualitative and q...  0.590909  "
      ]
     },
     "execution_count": 2,
     "metadata": {},
     "output_type": "execute_result"
    }
   ],
   "source": [
    "stita_df = pd.read_excel(\"dataset/stita.xlsx\")\n",
    "stita_df = stita_df.drop(columns=['id', 'dataset', 'question_id', 'question', 'correct'])\n",
    "stita_df.head()"
   ]
  },
  {
   "cell_type": "code",
   "execution_count": 3,
   "metadata": {},
   "outputs": [
    {
     "data": {
      "text/html": [
       "<div>\n",
       "<style scoped>\n",
       "    .dataframe tbody tr th:only-of-type {\n",
       "        vertical-align: middle;\n",
       "    }\n",
       "\n",
       "    .dataframe tbody tr th {\n",
       "        vertical-align: top;\n",
       "    }\n",
       "\n",
       "    .dataframe thead th {\n",
       "        text-align: right;\n",
       "    }\n",
       "</style>\n",
       "<table border=\"1\" class=\"dataframe\">\n",
       "  <thead>\n",
       "    <tr style=\"text-align: right;\">\n",
       "      <th></th>\n",
       "      <th>real_answer</th>\n",
       "      <th>answer</th>\n",
       "      <th>score</th>\n",
       "      <th>prompt</th>\n",
       "      <th>prompt_length</th>\n",
       "    </tr>\n",
       "  </thead>\n",
       "  <tbody>\n",
       "    <tr>\n",
       "      <th>0</th>\n",
       "      <td>When we talk about characters we refer to all ...</td>\n",
       "      <td>When we talk about characters we refer to all ...</td>\n",
       "      <td>100.0</td>\n",
       "      <td>Reference Answer: When we talk about character...</td>\n",
       "      <td>3216</td>\n",
       "    </tr>\n",
       "    <tr>\n",
       "      <th>1</th>\n",
       "      <td>When we talk about characters we refer to all ...</td>\n",
       "      <td>Characters can be qualitative or quantitative....</td>\n",
       "      <td>59.0</td>\n",
       "      <td>Reference Answer: When we talk about character...</td>\n",
       "      <td>2389</td>\n",
       "    </tr>\n",
       "    <tr>\n",
       "      <th>2</th>\n",
       "      <td>When we talk about characters we refer to all ...</td>\n",
       "      <td>The characters in the statistical units may be...</td>\n",
       "      <td>70.0</td>\n",
       "      <td>Reference Answer: When we talk about character...</td>\n",
       "      <td>2490</td>\n",
       "    </tr>\n",
       "    <tr>\n",
       "      <th>3</th>\n",
       "      <td>When we talk about characters we refer to all ...</td>\n",
       "      <td>The types of characters are distinguished in q...</td>\n",
       "      <td>70.0</td>\n",
       "      <td>Reference Answer: When we talk about character...</td>\n",
       "      <td>2481</td>\n",
       "    </tr>\n",
       "    <tr>\n",
       "      <th>4</th>\n",
       "      <td>When we talk about characters we refer to all ...</td>\n",
       "      <td>the types of characters are. Qualitative and q...</td>\n",
       "      <td>59.0</td>\n",
       "      <td>Reference Answer: When we talk about character...</td>\n",
       "      <td>2373</td>\n",
       "    </tr>\n",
       "  </tbody>\n",
       "</table>\n",
       "</div>"
      ],
      "text/plain": [
       "                                         real_answer  \\\n",
       "0  When we talk about characters we refer to all ...   \n",
       "1  When we talk about characters we refer to all ...   \n",
       "2  When we talk about characters we refer to all ...   \n",
       "3  When we talk about characters we refer to all ...   \n",
       "4  When we talk about characters we refer to all ...   \n",
       "\n",
       "                                              answer  score  \\\n",
       "0  When we talk about characters we refer to all ...  100.0   \n",
       "1  Characters can be qualitative or quantitative....   59.0   \n",
       "2  The characters in the statistical units may be...   70.0   \n",
       "3  The types of characters are distinguished in q...   70.0   \n",
       "4  the types of characters are. Qualitative and q...   59.0   \n",
       "\n",
       "                                              prompt  prompt_length  \n",
       "0  Reference Answer: When we talk about character...           3216  \n",
       "1  Reference Answer: When we talk about character...           2389  \n",
       "2  Reference Answer: When we talk about character...           2490  \n",
       "3  Reference Answer: When we talk about character...           2481  \n",
       "4  Reference Answer: When we talk about character...           2373  "
      ]
     },
     "execution_count": 3,
     "metadata": {},
     "output_type": "execute_result"
    }
   ],
   "source": [
    "stita_df['score'] = (stita_df['score']*100).round(0)\n",
    "\n",
    "stita_df['prompt'] = (\n",
    "    \"Reference Answer: \" + stita_df['real_answer'] + \"\\n\"\n",
    "    \"Student Answer: \" + stita_df['answer'] + \"\\n\"\n",
    "    \"Grading Rubric: 0-100 (where 0 is the lowest score and 100 is the highest).\\n\"\n",
    "    \"Scores given by experts: \" + stita_df['score'].astype(str)\n",
    ")\n",
    "\n",
    "stita_df['prompt_length'] = stita_df['prompt'].apply(len)\n",
    "stita_df.head()\n"
   ]
  },
  {
   "cell_type": "code",
   "execution_count": 4,
   "metadata": {},
   "outputs": [
    {
     "data": {
      "text/plain": [
       "count     333.000000\n",
       "mean     3098.180180\n",
       "std       894.102952\n",
       "min      1522.000000\n",
       "25%      2490.000000\n",
       "50%      2887.000000\n",
       "75%      3589.000000\n",
       "max      5905.000000\n",
       "Name: prompt_length, dtype: float64"
      ]
     },
     "execution_count": 4,
     "metadata": {},
     "output_type": "execute_result"
    }
   ],
   "source": [
    "stita_df['prompt_length'].describe()"
   ]
  },
  {
   "cell_type": "code",
   "execution_count": 35,
   "metadata": {},
   "outputs": [
    {
     "data": {
      "text/plain": [
       "(333, 5)"
      ]
     },
     "execution_count": 35,
     "metadata": {},
     "output_type": "execute_result"
    }
   ],
   "source": [
    "stita_df.shape"
   ]
  },
  {
   "cell_type": "code",
   "execution_count": 7,
   "metadata": {},
   "outputs": [
    {
     "data": {
      "text/plain": [
       "'Reference Answer: probability is an overall function defined in sample space S, which enjoys the following properties: P(S)=1 axiom of certainty, P(A)=0 for each Axiom of positive P(A1uA2u..) = P(A1)+P(A2)... for each succession of two-to-two events incompatible (axiom of additives): Classical definition: the probability of an event A is the ratio between the number of cases favorable to redo A and the total number of possible cases, assuming that these are equally likely an example of application of this definition is the extraction of a card from a deck of 40 cards total.We assume that we want to calculate that the eight sticks comes out. Clearly the favorable case is one and the possible cases are 40. the chance sought is therefore 1/40.\\xa0 Frequentist definition: the P(A) prob of event A is the limit of the relative frequency with which A occurs in a long series of repeated tests under the same conditions example: the probability of a newborn being female is to be calculated. out of 100,000 births there were 48,500 females. As the number of tests is high enough and each test is independent of the other, we use the frequentist definition. Subjectivity Interpretation: The probability of an event is the degree of trust that an individual, based on the knowledge he possesses at a given time, assigns to the occurrence of the event an example of this is the probability that an athlete will win the race. It will be a personal and subjective evaluation, based on some findings that each of us can make. If in fact we know that the athlete has trained very much and is particularly strong, then attribute a high probability value to his winnings.\\nStudent Answer: Axiomatic probability is an overall function defined in the sample space.\\n\\n\\xa0Classical interpretation:the probability of an event A is the ratio of the number of cases favourable to the occurrence of A to the total number of possible cases, assuming that these are equally likely. EX: Experimenting the launch of an unmade die, the probability that esc 1 is 1/6, the probability that it will come out a greater number of two is 4/6=2/3, the probability that it will come out an even number is 3/6=1/2\\xa0\\n\\nThe frequentist interpretation says that the P(A) probability of event A is the limit of the relative frequency with which A occurs a long series of repeated tests under the same conditions. EX: In the head or cross game the probability that a balanced coin falls on one side or on the other is the same. Expressed as a percentage 50% per head and 50% per cross.\\xa0 In order for the sum to be fair for each euro bet on head, the net gain must be equal to one euro, if the share were (10 to 9) then the bet would be disadvantageous for the bettor and advantageous for the dealer. If the stake were (10 to 11) the bet would be advantageous for the bettor and disadvantageous for the dealer.\\xa0\\n\\nThe subjective interpretation: the probability of an event is the degree of confidence that an individual on the basis of knowledge possessed in a given moment, assigns to the occurrence of the event. EX: If the probability of winning a horse for a better is 0.2 it means that he is willing to pay for example 20 euros to win 100 in case of victory of the horse.\\nGrading Rubric: 0-100 (where 0 is the lowest score and 100 is the highest).\\nScores given by experts: 59.0'"
      ]
     },
     "execution_count": 7,
     "metadata": {},
     "output_type": "execute_result"
    }
   ],
   "source": [
    "stita_df['prompt'][99]"
   ]
  },
  {
   "cell_type": "code",
   "execution_count": null,
   "metadata": {},
   "outputs": [],
   "source": []
  }
 ],
 "metadata": {
  "kernelspec": {
   "display_name": "env",
   "language": "python",
   "name": "python3"
  },
  "language_info": {
   "codemirror_mode": {
    "name": "ipython",
    "version": 3
   },
   "file_extension": ".py",
   "mimetype": "text/x-python",
   "name": "python",
   "nbconvert_exporter": "python",
   "pygments_lexer": "ipython3",
   "version": "3.10.5"
  }
 },
 "nbformat": 4,
 "nbformat_minor": 2
}
