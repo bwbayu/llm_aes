{
 "cells": [
  {
   "cell_type": "code",
   "execution_count": 63,
   "metadata": {},
   "outputs": [],
   "source": [
    "import pandas as pd\n",
    "import numpy as np\n",
    "from dataset import EssayDataset\n",
    "from transformers import BertTokenizer\n",
    "import matplotlib.pyplot as plt"
   ]
  },
  {
   "cell_type": "markdown",
   "metadata": {},
   "source": [
    "### Merge dataset"
   ]
  },
  {
   "cell_type": "code",
   "execution_count": 24,
   "metadata": {},
   "outputs": [],
   "source": [
    "# df1 = pd.read_csv(\"dataset/analisis_essay.csv\")\n",
    "# df1['dataset'] = 'analisis_essay'\n",
    "# df2 = pd.read_csv(\"dataset/asap.csv\")\n",
    "# df2['dataset'] = 'asap'\n",
    "# df3 = pd.read_csv(\"dataset/cunlp.csv\")\n",
    "# df3['dataset'] = 'cunlp'\n",
    "# df4 = pd.read_csv(\"dataset/sag.csv\")\n",
    "# df4['dataset'] = 'sag'\n",
    "# df5 = pd.read_csv(\"dataset/sci.csv\")\n",
    "# df5['dataset'] = 'sci'\n",
    "# df6 = pd.read_csv(\"dataset/stita.csv\")\n",
    "# df6['dataset'] = 'stita'\n",
    "\n",
    "# # add null value to all dataframe that doesn't have question column\n",
    "# for df in [df2, df3, df6]:\n",
    "#     df['question'] = pd.NA\n",
    "\n",
    "# df = pd.concat([df1, df2, df3, df4, df5, df6], ignore_index=True)\n",
    "# df.shape\n",
    "\n",
    "# df.to_csv(\"dataset/aes_dataset.csv\", index=False)"
   ]
  },
  {
   "cell_type": "markdown",
   "metadata": {},
   "source": [
    "### Preprocessing"
   ]
  },
  {
   "cell_type": "code",
   "execution_count": 4,
   "metadata": {},
   "outputs": [
    {
     "data": {
      "text/html": [
       "<div>\n",
       "<style scoped>\n",
       "    .dataframe tbody tr th:only-of-type {\n",
       "        vertical-align: middle;\n",
       "    }\n",
       "\n",
       "    .dataframe tbody tr th {\n",
       "        vertical-align: top;\n",
       "    }\n",
       "\n",
       "    .dataframe thead th {\n",
       "        text-align: right;\n",
       "    }\n",
       "</style>\n",
       "<table border=\"1\" class=\"dataframe\">\n",
       "  <thead>\n",
       "    <tr style=\"text-align: right;\">\n",
       "      <th></th>\n",
       "      <th>question</th>\n",
       "      <th>reference_answer</th>\n",
       "      <th>answer</th>\n",
       "      <th>score</th>\n",
       "      <th>dataset</th>\n",
       "    </tr>\n",
       "  </thead>\n",
       "  <tbody>\n",
       "    <tr>\n",
       "      <th>0</th>\n",
       "      <td>Jelaskan kegunaan karbohidrat untuk tubuh kita.</td>\n",
       "      <td>Fungsi karbohidrat adalah sebagai pemasok ener...</td>\n",
       "      <td>sumber tenaga, pemanis alami, menjaga sistem i...</td>\n",
       "      <td>27.0</td>\n",
       "      <td>analisis_essay</td>\n",
       "    </tr>\n",
       "    <tr>\n",
       "      <th>1</th>\n",
       "      <td>Jelaskan kegunaan karbohidrat untuk tubuh kita.</td>\n",
       "      <td>Fungsi karbohidrat adalah sebagai pemasok ener...</td>\n",
       "      <td>sebagai sumber energi, pemanis alami, menjaga ...</td>\n",
       "      <td>21.0</td>\n",
       "      <td>analisis_essay</td>\n",
       "    </tr>\n",
       "    <tr>\n",
       "      <th>2</th>\n",
       "      <td>Jelaskan kegunaan karbohidrat untuk tubuh kita.</td>\n",
       "      <td>Fungsi karbohidrat adalah sebagai pemasok ener...</td>\n",
       "      <td>1. Sebagai energi. 2. Sebagai memperlancaar pe...</td>\n",
       "      <td>42.0</td>\n",
       "      <td>analisis_essay</td>\n",
       "    </tr>\n",
       "    <tr>\n",
       "      <th>3</th>\n",
       "      <td>Jelaskan kegunaan karbohidrat untuk tubuh kita.</td>\n",
       "      <td>Fungsi karbohidrat adalah sebagai pemasok ener...</td>\n",
       "      <td>untuk membuat kenyang, agar tidak lapar, agar ...</td>\n",
       "      <td>18.0</td>\n",
       "      <td>analisis_essay</td>\n",
       "    </tr>\n",
       "    <tr>\n",
       "      <th>4</th>\n",
       "      <td>Jelaskan kegunaan karbohidrat untuk tubuh kita.</td>\n",
       "      <td>Fungsi karbohidrat adalah sebagai pemasok ener...</td>\n",
       "      <td>Karbohidrat mempunyai peran penting untuk pros...</td>\n",
       "      <td>82.0</td>\n",
       "      <td>analisis_essay</td>\n",
       "    </tr>\n",
       "  </tbody>\n",
       "</table>\n",
       "</div>"
      ],
      "text/plain": [
       "                                          question  \\\n",
       "0  Jelaskan kegunaan karbohidrat untuk tubuh kita.   \n",
       "1  Jelaskan kegunaan karbohidrat untuk tubuh kita.   \n",
       "2  Jelaskan kegunaan karbohidrat untuk tubuh kita.   \n",
       "3  Jelaskan kegunaan karbohidrat untuk tubuh kita.   \n",
       "4  Jelaskan kegunaan karbohidrat untuk tubuh kita.   \n",
       "\n",
       "                                    reference_answer  \\\n",
       "0  Fungsi karbohidrat adalah sebagai pemasok ener...   \n",
       "1  Fungsi karbohidrat adalah sebagai pemasok ener...   \n",
       "2  Fungsi karbohidrat adalah sebagai pemasok ener...   \n",
       "3  Fungsi karbohidrat adalah sebagai pemasok ener...   \n",
       "4  Fungsi karbohidrat adalah sebagai pemasok ener...   \n",
       "\n",
       "                                              answer  score         dataset  \n",
       "0  sumber tenaga, pemanis alami, menjaga sistem i...   27.0  analisis_essay  \n",
       "1  sebagai sumber energi, pemanis alami, menjaga ...   21.0  analisis_essay  \n",
       "2  1. Sebagai energi. 2. Sebagai memperlancaar pe...   42.0  analisis_essay  \n",
       "3  untuk membuat kenyang, agar tidak lapar, agar ...   18.0  analisis_essay  \n",
       "4  Karbohidrat mempunyai peran penting untuk pros...   82.0  analisis_essay  "
      ]
     },
     "execution_count": 4,
     "metadata": {},
     "output_type": "execute_result"
    }
   ],
   "source": [
    "df = pd.read_csv(\"dataset/aes_dataset.csv\")\n",
    "df.head()"
   ]
  },
  {
   "cell_type": "code",
   "execution_count": 4,
   "metadata": {},
   "outputs": [
    {
     "name": "stdout",
     "output_type": "stream",
     "text": [
      "<class 'pandas.core.frame.DataFrame'>\n",
      "RangeIndex: 22406 entries, 0 to 22405\n",
      "Data columns (total 5 columns):\n",
      " #   Column            Non-Null Count  Dtype  \n",
      "---  ------            --------------  -----  \n",
      " 0   question          4859 non-null   object \n",
      " 1   reference_answer  22406 non-null  object \n",
      " 2   answer            22406 non-null  object \n",
      " 3   score             22406 non-null  float64\n",
      " 4   dataset           22406 non-null  object \n",
      "dtypes: float64(1), object(4)\n",
      "memory usage: 875.4+ KB\n"
     ]
    }
   ],
   "source": [
    "df.info()"
   ]
  },
  {
   "cell_type": "code",
   "execution_count": 5,
   "metadata": {},
   "outputs": [
    {
     "data": {
      "text/plain": [
       "dataset\n",
       "asap              17043\n",
       "sag                2558\n",
       "analisis_essay     2162\n",
       "stita               333\n",
       "cunlp               171\n",
       "sci                 139\n",
       "Name: count, dtype: int64"
      ]
     },
     "execution_count": 5,
     "metadata": {},
     "output_type": "execute_result"
    }
   ],
   "source": [
    "df['dataset'].value_counts()"
   ]
  },
  {
   "cell_type": "code",
   "execution_count": null,
   "metadata": {},
   "outputs": [],
   "source": [
    "# convert NaN to None\n",
    "df['question'] = df['question'].replace({np.nan: None})"
   ]
  },
  {
   "cell_type": "markdown",
   "metadata": {},
   "source": [
    "### Analysis Max Length of the Sub Token"
   ]
  },
  {
   "cell_type": "code",
   "execution_count": 58,
   "metadata": {},
   "outputs": [
    {
     "name": "stdout",
     "output_type": "stream",
     "text": [
      "<class 'pandas.core.frame.DataFrame'>\n",
      "RangeIndex: 22406 entries, 0 to 22405\n",
      "Data columns (total 5 columns):\n",
      " #   Column            Non-Null Count  Dtype  \n",
      "---  ------            --------------  -----  \n",
      " 0   question          4859 non-null   object \n",
      " 1   reference_answer  22406 non-null  object \n",
      " 2   answer            22406 non-null  object \n",
      " 3   score             22406 non-null  float64\n",
      " 4   dataset           22406 non-null  object \n",
      "dtypes: float64(1), object(4)\n",
      "memory usage: 875.4+ KB\n"
     ]
    }
   ],
   "source": [
    "df.info()"
   ]
  },
  {
   "cell_type": "code",
   "execution_count": 59,
   "metadata": {},
   "outputs": [
    {
     "name": "stderr",
     "output_type": "stream",
     "text": [
      "Token indices sequence length is longer than the specified maximum sequence length for this model (911 > 512). Running this sequence through the model will result in indexing errors\n"
     ]
    }
   ],
   "source": [
    "tokenizer = BertTokenizer.from_pretrained('bert-base-uncased')\n",
    "dataset = EssayDataset(df['question'], df['reference_answer'], df['answer'], df['score'], tokenizer, 512)\n",
    "\n",
    "df['max_length'] = df.index.map(dataset.get_max_length)"
   ]
  },
  {
   "cell_type": "code",
   "execution_count": 60,
   "metadata": {},
   "outputs": [
    {
     "name": "stdout",
     "output_type": "stream",
     "text": [
      "<class 'pandas.core.frame.DataFrame'>\n",
      "RangeIndex: 22406 entries, 0 to 22405\n",
      "Data columns (total 6 columns):\n",
      " #   Column            Non-Null Count  Dtype  \n",
      "---  ------            --------------  -----  \n",
      " 0   question          4859 non-null   object \n",
      " 1   reference_answer  22406 non-null  object \n",
      " 2   answer            22406 non-null  object \n",
      " 3   score             22406 non-null  float64\n",
      " 4   dataset           22406 non-null  object \n",
      " 5   max_length        22406 non-null  int64  \n",
      "dtypes: float64(1), int64(1), object(4)\n",
      "memory usage: 1.0+ MB\n"
     ]
    }
   ],
   "source": [
    "df.info()"
   ]
  },
  {
   "cell_type": "code",
   "execution_count": 62,
   "metadata": {},
   "outputs": [
    {
     "data": {
      "text/plain": [
       "count    22406.000000\n",
       "mean       139.396679\n",
       "std         93.591251\n",
       "min         24.000000\n",
       "25%         98.000000\n",
       "50%        125.000000\n",
       "75%        155.000000\n",
       "max       1713.000000\n",
       "Name: max_length, dtype: float64"
      ]
     },
     "execution_count": 62,
     "metadata": {},
     "output_type": "execute_result"
    }
   ],
   "source": [
    "df['max_length'].describe()"
   ]
  },
  {
   "cell_type": "code",
   "execution_count": 68,
   "metadata": {},
   "outputs": [
    {
     "data": {
      "text/html": [
       "<div>\n",
       "<style scoped>\n",
       "    .dataframe tbody tr th:only-of-type {\n",
       "        vertical-align: middle;\n",
       "    }\n",
       "\n",
       "    .dataframe tbody tr th {\n",
       "        vertical-align: top;\n",
       "    }\n",
       "\n",
       "    .dataframe thead th {\n",
       "        text-align: right;\n",
       "    }\n",
       "</style>\n",
       "<table border=\"1\" class=\"dataframe\">\n",
       "  <thead>\n",
       "    <tr style=\"text-align: right;\">\n",
       "      <th></th>\n",
       "      <th>question</th>\n",
       "      <th>reference_answer</th>\n",
       "      <th>answer</th>\n",
       "      <th>score</th>\n",
       "      <th>dataset</th>\n",
       "      <th>max_length</th>\n",
       "    </tr>\n",
       "  </thead>\n",
       "  <tbody>\n",
       "    <tr>\n",
       "      <th>0</th>\n",
       "      <td>Jelaskan kegunaan karbohidrat untuk tubuh kita.</td>\n",
       "      <td>Fungsi karbohidrat adalah sebagai pemasok ener...</td>\n",
       "      <td>sumber tenaga, pemanis alami, menjaga sistem i...</td>\n",
       "      <td>27.0</td>\n",
       "      <td>analisis_essay</td>\n",
       "      <td>132</td>\n",
       "    </tr>\n",
       "    <tr>\n",
       "      <th>1</th>\n",
       "      <td>Jelaskan kegunaan karbohidrat untuk tubuh kita.</td>\n",
       "      <td>Fungsi karbohidrat adalah sebagai pemasok ener...</td>\n",
       "      <td>sebagai sumber energi, pemanis alami, menjaga ...</td>\n",
       "      <td>21.0</td>\n",
       "      <td>analisis_essay</td>\n",
       "      <td>136</td>\n",
       "    </tr>\n",
       "    <tr>\n",
       "      <th>2</th>\n",
       "      <td>Jelaskan kegunaan karbohidrat untuk tubuh kita.</td>\n",
       "      <td>Fungsi karbohidrat adalah sebagai pemasok ener...</td>\n",
       "      <td>1. Sebagai energi. 2. Sebagai memperlancaar pe...</td>\n",
       "      <td>42.0</td>\n",
       "      <td>analisis_essay</td>\n",
       "      <td>149</td>\n",
       "    </tr>\n",
       "    <tr>\n",
       "      <th>3</th>\n",
       "      <td>Jelaskan kegunaan karbohidrat untuk tubuh kita.</td>\n",
       "      <td>Fungsi karbohidrat adalah sebagai pemasok ener...</td>\n",
       "      <td>untuk membuat kenyang, agar tidak lapar, agar ...</td>\n",
       "      <td>18.0</td>\n",
       "      <td>analisis_essay</td>\n",
       "      <td>137</td>\n",
       "    </tr>\n",
       "    <tr>\n",
       "      <th>4</th>\n",
       "      <td>Jelaskan kegunaan karbohidrat untuk tubuh kita.</td>\n",
       "      <td>Fungsi karbohidrat adalah sebagai pemasok ener...</td>\n",
       "      <td>Karbohidrat mempunyai peran penting untuk pros...</td>\n",
       "      <td>82.0</td>\n",
       "      <td>analisis_essay</td>\n",
       "      <td>240</td>\n",
       "    </tr>\n",
       "    <tr>\n",
       "      <th>...</th>\n",
       "      <td>...</td>\n",
       "      <td>...</td>\n",
       "      <td>...</td>\n",
       "      <td>...</td>\n",
       "      <td>...</td>\n",
       "      <td>...</td>\n",
       "    </tr>\n",
       "    <tr>\n",
       "      <th>22401</th>\n",
       "      <td>None</td>\n",
       "      <td>The term population refers to the generating p...</td>\n",
       "      <td>Meanwhile, the population refers to the popula...</td>\n",
       "      <td>40.0</td>\n",
       "      <td>stita</td>\n",
       "      <td>368</td>\n",
       "    </tr>\n",
       "    <tr>\n",
       "      <th>22402</th>\n",
       "      <td>None</td>\n",
       "      <td>The term population refers to the generating p...</td>\n",
       "      <td>We can say that the finite population can be d...</td>\n",
       "      <td>0.0</td>\n",
       "      <td>stita</td>\n",
       "      <td>307</td>\n",
       "    </tr>\n",
       "    <tr>\n",
       "      <th>22403</th>\n",
       "      <td>None</td>\n",
       "      <td>The term population refers to the generating p...</td>\n",
       "      <td>There is a population consisting of a finite n...</td>\n",
       "      <td>100.0</td>\n",
       "      <td>stita</td>\n",
       "      <td>457</td>\n",
       "    </tr>\n",
       "    <tr>\n",
       "      <th>22404</th>\n",
       "      <td>None</td>\n",
       "      <td>The term population refers to the generating p...</td>\n",
       "      <td>There is a population that consists of a finit...</td>\n",
       "      <td>40.0</td>\n",
       "      <td>stita</td>\n",
       "      <td>393</td>\n",
       "    </tr>\n",
       "    <tr>\n",
       "      <th>22405</th>\n",
       "      <td>None</td>\n",
       "      <td>The term population refers to the generating p...</td>\n",
       "      <td>Population means all the elements that are bei...</td>\n",
       "      <td>0.0</td>\n",
       "      <td>stita</td>\n",
       "      <td>302</td>\n",
       "    </tr>\n",
       "  </tbody>\n",
       "</table>\n",
       "<p>22126 rows × 6 columns</p>\n",
       "</div>"
      ],
      "text/plain": [
       "                                              question  \\\n",
       "0      Jelaskan kegunaan karbohidrat untuk tubuh kita.   \n",
       "1      Jelaskan kegunaan karbohidrat untuk tubuh kita.   \n",
       "2      Jelaskan kegunaan karbohidrat untuk tubuh kita.   \n",
       "3      Jelaskan kegunaan karbohidrat untuk tubuh kita.   \n",
       "4      Jelaskan kegunaan karbohidrat untuk tubuh kita.   \n",
       "...                                                ...   \n",
       "22401                                             None   \n",
       "22402                                             None   \n",
       "22403                                             None   \n",
       "22404                                             None   \n",
       "22405                                             None   \n",
       "\n",
       "                                        reference_answer  \\\n",
       "0      Fungsi karbohidrat adalah sebagai pemasok ener...   \n",
       "1      Fungsi karbohidrat adalah sebagai pemasok ener...   \n",
       "2      Fungsi karbohidrat adalah sebagai pemasok ener...   \n",
       "3      Fungsi karbohidrat adalah sebagai pemasok ener...   \n",
       "4      Fungsi karbohidrat adalah sebagai pemasok ener...   \n",
       "...                                                  ...   \n",
       "22401  The term population refers to the generating p...   \n",
       "22402  The term population refers to the generating p...   \n",
       "22403  The term population refers to the generating p...   \n",
       "22404  The term population refers to the generating p...   \n",
       "22405  The term population refers to the generating p...   \n",
       "\n",
       "                                                  answer  score  \\\n",
       "0      sumber tenaga, pemanis alami, menjaga sistem i...   27.0   \n",
       "1      sebagai sumber energi, pemanis alami, menjaga ...   21.0   \n",
       "2      1. Sebagai energi. 2. Sebagai memperlancaar pe...   42.0   \n",
       "3      untuk membuat kenyang, agar tidak lapar, agar ...   18.0   \n",
       "4      Karbohidrat mempunyai peran penting untuk pros...   82.0   \n",
       "...                                                  ...    ...   \n",
       "22401  Meanwhile, the population refers to the popula...   40.0   \n",
       "22402  We can say that the finite population can be d...    0.0   \n",
       "22403  There is a population consisting of a finite n...  100.0   \n",
       "22404  There is a population that consists of a finit...   40.0   \n",
       "22405  Population means all the elements that are bei...    0.0   \n",
       "\n",
       "              dataset  max_length  \n",
       "0      analisis_essay         132  \n",
       "1      analisis_essay         136  \n",
       "2      analisis_essay         149  \n",
       "3      analisis_essay         137  \n",
       "4      analisis_essay         240  \n",
       "...               ...         ...  \n",
       "22401           stita         368  \n",
       "22402           stita         307  \n",
       "22403           stita         457  \n",
       "22404           stita         393  \n",
       "22405           stita         302  \n",
       "\n",
       "[22126 rows x 6 columns]"
      ]
     },
     "execution_count": 68,
     "metadata": {},
     "output_type": "execute_result"
    }
   ],
   "source": [
    "df[df['max_length'] < 500]"
   ]
  },
  {
   "cell_type": "code",
   "execution_count": null,
   "metadata": {},
   "outputs": [],
   "source": []
  }
 ],
 "metadata": {
  "kernelspec": {
   "display_name": "env",
   "language": "python",
   "name": "python3"
  },
  "language_info": {
   "codemirror_mode": {
    "name": "ipython",
    "version": 3
   },
   "file_extension": ".py",
   "mimetype": "text/x-python",
   "name": "python",
   "nbconvert_exporter": "python",
   "pygments_lexer": "ipython3",
   "version": "3.10.5"
  }
 },
 "nbformat": 4,
 "nbformat_minor": 2
}
