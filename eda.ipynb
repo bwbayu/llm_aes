{
 "cells": [
  {
   "cell_type": "code",
   "execution_count": 23,
   "metadata": {},
   "outputs": [],
   "source": [
    "import pandas as pd"
   ]
  },
  {
   "cell_type": "markdown",
   "metadata": {},
   "source": [
    "### Merge dataset"
   ]
  },
  {
   "cell_type": "code",
   "execution_count": 24,
   "metadata": {},
   "outputs": [],
   "source": [
    "# df1 = pd.read_csv(\"dataset/analisis_essay.csv\")\n",
    "# df1['dataset'] = 'analisis_essay'\n",
    "# df2 = pd.read_csv(\"dataset/asap.csv\")\n",
    "# df2['dataset'] = 'asap'\n",
    "# df3 = pd.read_csv(\"dataset/cunlp.csv\")\n",
    "# df3['dataset'] = 'cunlp'\n",
    "# df4 = pd.read_csv(\"dataset/sag.csv\")\n",
    "# df4['dataset'] = 'sag'\n",
    "# df5 = pd.read_csv(\"dataset/sci.csv\")\n",
    "# df5['dataset'] = 'sci'\n",
    "# df6 = pd.read_csv(\"dataset/stita.csv\")\n",
    "# df6['dataset'] = 'stita'\n",
    "\n",
    "# # add null value to all dataframe that doesn't have question column\n",
    "# for df in [df2, df3, df6]:\n",
    "#     df['question'] = pd.NA\n",
    "\n",
    "# df = pd.concat([df1, df2, df3, df4, df5, df6], ignore_index=True)\n",
    "# df.shape\n",
    "\n",
    "# df.to_csv(\"dataset/aes_dataset.csv\", index=False)"
   ]
  },
  {
   "cell_type": "markdown",
   "metadata": {},
   "source": [
    "### Preprocessing"
   ]
  },
  {
   "cell_type": "code",
   "execution_count": 28,
   "metadata": {},
   "outputs": [],
   "source": []
  }
 ],
 "metadata": {
  "kernelspec": {
   "display_name": "env",
   "language": "python",
   "name": "python3"
  },
  "language_info": {
   "codemirror_mode": {
    "name": "ipython",
    "version": 3
   },
   "file_extension": ".py",
   "mimetype": "text/x-python",
   "name": "python",
   "nbconvert_exporter": "python",
   "pygments_lexer": "ipython3",
   "version": "3.10.5"
  }
 },
 "nbformat": 4,
 "nbformat_minor": 2
}
