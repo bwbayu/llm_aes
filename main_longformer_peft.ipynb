{
 "cells": [
  {
   "cell_type": "code",
   "execution_count": 1,
   "metadata": {},
   "outputs": [],
   "source": [
    "import pandas as pd\n",
    "from src.training.peft_longformer_pipeline import LongFormerPipelinePeft\n",
    "from src.training.bert_pipeline import TrainingBertPipeline\n",
    "import logging\n",
    "import torch\n",
    "import os"
   ]
  },
  {
   "cell_type": "code",
   "execution_count": 2,
   "metadata": {},
   "outputs": [
    {
     "name": "stdout",
     "output_type": "stream",
     "text": [
      "<class 'pandas.core.frame.DataFrame'>\n",
      "RangeIndex: 5363 entries, 0 to 5362\n",
      "Data columns (total 13 columns):\n",
      " #   Column             Non-Null Count  Dtype  \n",
      "---  ------             --------------  -----  \n",
      " 0   question           4859 non-null   object \n",
      " 1   reference_answer   5363 non-null   object \n",
      " 2   answer             5363 non-null   object \n",
      " 3   score              5363 non-null   float64\n",
      " 4   dataset            5363 non-null   object \n",
      " 5   normalized_score   5363 non-null   float64\n",
      " 6   normalized_score2  5363 non-null   int64  \n",
      " 7   bert_length        5363 non-null   int64  \n",
      " 8   indobert_length    5363 non-null   int64  \n",
      " 9   albert_length      5363 non-null   int64  \n",
      " 10  longformer_length  5363 non-null   int64  \n",
      " 11  multibert_length   5363 non-null   int64  \n",
      " 12  indoalbert_length  5363 non-null   int64  \n",
      "dtypes: float64(2), int64(7), object(4)\n",
      "memory usage: 544.8+ KB\n"
     ]
    }
   ],
   "source": [
    "df = pd.read_csv(\"data/aes_dataset_5k.csv\")\n",
    "df.info()"
   ]
  },
  {
   "cell_type": "code",
   "execution_count": 3,
   "metadata": {},
   "outputs": [
    {
     "name": "stdout",
     "output_type": "stream",
     "text": [
      "0\n",
      "0.0\n"
     ]
    }
   ],
   "source": [
    "# Check if the first file exists\n",
    "df_result = None\n",
    "if os.path.exists(\"experiments/results/results_longformer.csv\"):\n",
    "    df_result = pd.read_csv(\"experiments/results/results_longformer.csv\")\n",
    "    print(df_result['config_id'].iloc[-1])\n",
    "else:\n",
    "    print(\"File 'results_longformer.csv' does not exist.\")\n",
    "\n",
    "df_result1 = None\n",
    "# Check if the second file exists\n",
    "if os.path.exists(\"experiments/results/results_epoch_longformer.csv\"):\n",
    "    df_result1 = pd.read_csv(\"experiments/results/results_epoch_longformer.csv\")\n",
    "    print(min(df_result1['valid_qwk']))\n",
    "else:\n",
    "    print(\"File 'results_epoch_longformer.csv' does not exist.\")"
   ]
  },
  {
   "cell_type": "code",
   "execution_count": 4,
   "metadata": {},
   "outputs": [],
   "source": [
    "results = []\n",
    "results_epoch = []\n",
    "batch_sizes = [2]\n",
    "epochs_list = [1]\n",
    "learning_rates = [1e-5]\n",
    "idx = (df_result['config_id'].iloc[-1] + 1) if df_result is not None and not df_result.empty else 0  # index untuk setiap kombinasi\n",
    "best_valid_qwk = min(df_result1['valid_qwk']) if df_result1 is not None and not df_result1.empty else float(\"-inf\")\n",
    "ROOT_DIR = os.getcwd()"
   ]
  },
  {
   "cell_type": "code",
   "execution_count": 5,
   "metadata": {},
   "outputs": [
    {
     "name": "stdout",
     "output_type": "stream",
     "text": [
      "Running configuration: config_id=0, model_name=allenai/longformer-base-4096, batch_size=2, epochs=1, learning_rate=1e-05, max_seq=2048, lora_rank=8, lora_alpha=16, \n"
     ]
    },
    {
     "name": "stderr",
     "output_type": "stream",
     "text": [
      "Some weights of LongformerForRegression were not initialized from the model checkpoint at allenai/longformer-base-4096 and are newly initialized: ['regression_head.bias', 'regression_head.weight']\n",
      "You should probably TRAIN this model on a down-stream task to be able to use it for predictions and inference.\n"
     ]
    },
    {
     "name": "stdout",
     "output_type": "stream",
     "text": [
      "Trainable Parameters: 884736\n",
      "Total Parameters: 149544961\n",
      "Percentage Trainable: 0.59%\n",
      "split dataset run...\n",
      "create dataset run...\n",
      "create dataloader run...\n",
      "create dataloader done...\n",
      "====== Training Epoch 1/1 ======\n",
      "Train Loss: 4444.6035, Train QWK: -0.0008, Train Pearson: -0.0168\n",
      "Validation Loss: 3952.7885, Validation QWK: 0.0000, Validation Pearson: 0.2763\n",
      "Test Loss: 3803.6161, Test QWK: 0.0000, Test Pearson: 0.2763\n"
     ]
    }
   ],
   "source": [
    "for batch_size in batch_sizes:\n",
    "    for num_epochs in epochs_list:\n",
    "        for lr in learning_rates:\n",
    "            config = {\n",
    "                \"df\": df,\n",
    "                \"model_name\": \"allenai/longformer-base-4096\",\n",
    "                \"batch_size\": batch_size,\n",
    "                \"learning_rate\": lr,\n",
    "                \"epochs\": num_epochs,\n",
    "                \"config_id\": idx,\n",
    "                \"max_seq_len\": 2048,\n",
    "                \"best_valid_qwk\": best_valid_qwk,\n",
    "                \"lora_rank\": 8,\n",
    "                \"lora_alpha\": 16,\n",
    "            }\n",
    "\n",
    "            logging.info(\n",
    "                f\"Running configuration: config_id={idx}, model_name={config['model_name']}, \"\n",
    "                f\"batch_size={batch_size}, epochs={num_epochs}, learning_rate={lr}, \"\n",
    "                f\"max_seq={config['max_seq_len']}, lora_rank={config['lora_rank']}, lora_alpha={config['lora_alpha']}, \"\n",
    "            )\n",
    "            print(\n",
    "                f\"Running configuration: config_id={idx}, model_name={config['model_name']}, \"\n",
    "                f\"batch_size={batch_size}, epochs={num_epochs}, learning_rate={lr}, \"\n",
    "                f\"max_seq={config['max_seq_len']}, lora_rank={config['lora_rank']}, lora_alpha={config['lora_alpha']}, \"\n",
    "            )\n",
    "            \n",
    "            try:\n",
    "                pipeline = LongFormerPipelinePeft(config, results, results_epoch)\n",
    "                pipeline.run_training()\n",
    "\n",
    "                # Save results\n",
    "                # Dapatkan root project\n",
    "                results_path = os.path.join(ROOT_DIR, \"experiments/results/results_longformer.csv\")\n",
    "                results_epoch_path = os.path.join(ROOT_DIR, \"experiments/results/results_epoch_longformer.csv\")\n",
    "                TrainingBertPipeline.save_csv(results, results_path)\n",
    "                TrainingBertPipeline.save_csv(results_epoch, results_epoch_path)\n",
    "            except Exception as e:\n",
    "                logging.error(f\"Error in config_id={idx}: {str(e)}\")\n",
    "                print(f\"Error in config_id={idx}: {str(e)}\")\n",
    "                torch.cuda.empty_cache()\n",
    "            finally:\n",
    "                # Clear GPU memory after every configuration\n",
    "                del pipeline.model\n",
    "                del pipeline.tokenizer\n",
    "                del pipeline.optimizer\n",
    "                torch.cuda.empty_cache()\n",
    "            idx += 1"
   ]
  }
 ],
 "metadata": {
  "kernelspec": {
   "display_name": "env",
   "language": "python",
   "name": "python3"
  },
  "language_info": {
   "codemirror_mode": {
    "name": "ipython",
    "version": 3
   },
   "file_extension": ".py",
   "mimetype": "text/x-python",
   "name": "python",
   "nbconvert_exporter": "python",
   "pygments_lexer": "ipython3",
   "version": "3.10.5"
  }
 },
 "nbformat": 4,
 "nbformat_minor": 2
}
