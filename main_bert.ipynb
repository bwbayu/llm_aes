{
 "cells": [
  {
   "cell_type": "code",
   "execution_count": 1,
   "metadata": {},
   "outputs": [],
   "source": [
    "import pandas as pd\n",
    "from src.training.bert_pipeline import TrainingBertPipeline\n",
    "import logging\n",
    "import torch\n",
    "import os"
   ]
  },
  {
   "cell_type": "code",
   "execution_count": 2,
   "metadata": {},
   "outputs": [
    {
     "name": "stdout",
     "output_type": "stream",
     "text": [
      "<class 'pandas.core.frame.DataFrame'>\n",
      "RangeIndex: 5363 entries, 0 to 5362\n",
      "Data columns (total 8 columns):\n",
      " #   Column            Non-Null Count  Dtype  \n",
      "---  ------            --------------  -----  \n",
      " 0   question          4859 non-null   object \n",
      " 1   reference_answer  5363 non-null   object \n",
      " 2   answer            5363 non-null   object \n",
      " 3   score             5363 non-null   float64\n",
      " 4   normalized_score  5363 non-null   float64\n",
      " 5   multibert_length  5363 non-null   int64  \n",
      " 6   dataset           5363 non-null   object \n",
      " 7   dataset_num       5363 non-null   object \n",
      "dtypes: float64(2), int64(1), object(5)\n",
      "memory usage: 335.3+ KB\n"
     ]
    }
   ],
   "source": [
    "df = pd.read_csv(\"data/aes_dataset_5k_clean.csv\")\n",
    "df.info()"
   ]
  },
  {
   "cell_type": "code",
   "execution_count": 3,
   "metadata": {},
   "outputs": [
    {
     "data": {
      "text/plain": [
       "dataset\n",
       "sag               2558\n",
       "analisis_essay    2162\n",
       "stita              333\n",
       "cunlp              171\n",
       "sci                139\n",
       "Name: count, dtype: int64"
      ]
     },
     "execution_count": 3,
     "metadata": {},
     "output_type": "execute_result"
    }
   ],
   "source": [
    "df['dataset'].value_counts()"
   ]
  },
  {
   "cell_type": "code",
   "execution_count": 4,
   "metadata": {},
   "outputs": [
    {
     "name": "stdout",
     "output_type": "stream",
     "text": [
      "11\n"
     ]
    }
   ],
   "source": [
    "# Check if the first file exists\n",
    "df_result = None\n",
    "if os.path.exists(\"experiments/results/results.csv\"):\n",
    "    df_result = pd.read_csv(\"experiments/results/results.csv\")\n",
    "    print(df_result['config_id'].iloc[-1])\n",
    "else:\n",
    "    print(\"File 'results.csv' does not exist.\")"
   ]
  },
  {
   "cell_type": "code",
   "execution_count": 5,
   "metadata": {},
   "outputs": [],
   "source": [
    "batch_sizes = [4, 8]\n",
    "overlappings = [256]\n",
    "epochs_list = [5, 10]\n",
    "learning_rates = [1e-5, 2e-5, 5e-5]\n",
    "idx = (df_result['config_id'].iloc[-1] + 1) if df_result is not None and not df_result.empty else 0  # index untuk setiap kombinasi\n",
    "ROOT_DIR = os.getcwd()"
   ]
  },
  {
   "cell_type": "code",
   "execution_count": 6,
   "metadata": {},
   "outputs": [],
   "source": [
    "# model = [\n",
    "#     (\"bert_length\", \"bert-base-uncased\"),\n",
    "#     (\"indobert_length\", \"indobenchmark/indobert-base-p1\"),\n",
    "#     (\"albert_length\", \"albert-base-v1\"),\n",
    "#     (\"indoalbert_length\", \"indobenchmark/indobert-lite-base-p2\"),\n",
    "#     (\"longformer_length\", \"allenai/longformer-base-4096\"),\n",
    "#     (\"multibert_length\", \"google-bert/bert-base-multilingual-uncased\")\n",
    "# ]"
   ]
  },
  {
   "cell_type": "code",
   "execution_count": 7,
   "metadata": {},
   "outputs": [
    {
     "name": "stdout",
     "output_type": "stream",
     "text": [
      "0.9251343231432688\n",
      "\n",
      "Running configuration: config_id=12, model_name=google-bert/bert-base-multilingual-uncased, batch_size=4, max_seq_length=512, overlapping=256, epochs=5, learning_rate=1e-05\n",
      "split dataset run...\n",
      "create dataset run...\n",
      "max len 512\n",
      "max len 512\n",
      "max len 512\n",
      "create dataloader run...\n",
      "====== Training Epoch 1/5 ======\n"
     ]
    },
    {
     "name": "stderr",
     "output_type": "stream",
     "text": [
      "Token indices sequence length is longer than the specified maximum sequence length for this model (1004 > 512). Running this sequence through the model will result in indexing errors\n",
      "c:\\Users\\User\\Documents\\Code\\env\\lib\\site-packages\\transformers\\models\\bert\\modeling_bert.py:440: UserWarning: 1Torch was not compiled with flash attention. (Triggered internally at C:\\actions-runner\\_work\\pytorch\\pytorch\\builder\\windows\\pytorch\\aten\\src\\ATen\\native\\transformers\\cuda\\sdp_utils.cpp:555.)\n",
      "  attn_output = torch.nn.functional.scaled_dot_product_attention(\n"
     ]
    },
    {
     "name": "stdout",
     "output_type": "stream",
     "text": [
      "Train Loss: 0.0498, Train QWK: 0.6411, Train Pearson: 0.7456\n",
      "Validation Loss: 0.0285, Validation QWK: 0.8735, Validation Pearson: 0.8895\n",
      "====== Training Epoch 2/5 ======\n",
      "Train Loss: 0.0274, Train QWK: 0.7249, Train Pearson: 0.8641\n",
      "Validation Loss: 0.0198, Validation QWK: 0.9088, Validation Pearson: 0.9114\n",
      "====== Training Epoch 3/5 ======\n",
      "Train Loss: 0.0201, Train QWK: 0.7732, Train Pearson: 0.9021\n",
      "Validation Loss: 0.0210, Validation QWK: 0.9045, Validation Pearson: 0.9163\n",
      "====== Training Epoch 4/5 ======\n",
      "Train Loss: 0.0154, Train QWK: 0.7948, Train Pearson: 0.9254\n",
      "Validation Loss: 0.0188, Validation QWK: 0.9114, Validation Pearson: 0.9146\n",
      "====== Training Epoch 5/5 ======\n",
      "Train Loss: 0.0118, Train QWK: 0.8279, Train Pearson: 0.9436\n",
      "Validation Loss: 0.0226, Validation QWK: 0.9035, Validation Pearson: 0.9174\n",
      "Test Loss: 0.0215, Test QWK: 0.9091, Test Pearson: 0.9221\n",
      "0.9251343231432688\n",
      "\n",
      "Running configuration: config_id=13, model_name=google-bert/bert-base-multilingual-uncased, batch_size=4, max_seq_length=512, overlapping=256, epochs=5, learning_rate=2e-05\n",
      "split dataset run...\n",
      "create dataset run...\n",
      "max len 512\n",
      "max len 512\n",
      "max len 512\n",
      "create dataloader run...\n",
      "====== Training Epoch 1/5 ======\n"
     ]
    },
    {
     "name": "stderr",
     "output_type": "stream",
     "text": [
      "Token indices sequence length is longer than the specified maximum sequence length for this model (1004 > 512). Running this sequence through the model will result in indexing errors\n"
     ]
    },
    {
     "name": "stdout",
     "output_type": "stream",
     "text": [
      "Train Loss: 0.0468, Train QWK: 0.6672, Train Pearson: 0.7572\n",
      "Validation Loss: 0.0278, Validation QWK: 0.8755, Validation Pearson: 0.8948\n",
      "====== Training Epoch 2/5 ======\n",
      "Train Loss: 0.0299, Train QWK: 0.7236, Train Pearson: 0.8520\n",
      "Validation Loss: 0.0272, Validation QWK: 0.8812, Validation Pearson: 0.8985\n",
      "====== Training Epoch 3/5 ======\n",
      "Train Loss: 0.0229, Train QWK: 0.7477, Train Pearson: 0.8885\n",
      "Validation Loss: 0.0248, Validation QWK: 0.9000, Validation Pearson: 0.8968\n",
      "====== Training Epoch 4/5 ======\n",
      "Train Loss: 0.0180, Train QWK: 0.7776, Train Pearson: 0.9136\n",
      "Validation Loss: 0.0250, Validation QWK: 0.8815, Validation Pearson: 0.9053\n",
      "====== Training Epoch 5/5 ======\n",
      "Train Loss: 0.0182, Train QWK: 0.7899, Train Pearson: 0.9121\n",
      "Validation Loss: 0.0266, Validation QWK: 0.8924, Validation Pearson: 0.9042\n",
      "Test Loss: 0.0242, Test QWK: 0.9036, Test Pearson: 0.9147\n",
      "0.9251343231432688\n",
      "\n",
      "Running configuration: config_id=14, model_name=google-bert/bert-base-multilingual-uncased, batch_size=4, max_seq_length=512, overlapping=256, epochs=5, learning_rate=5e-05\n",
      "split dataset run...\n",
      "create dataset run...\n",
      "max len 512\n",
      "max len 512\n",
      "max len 512\n",
      "create dataloader run...\n",
      "====== Training Epoch 1/5 ======\n"
     ]
    },
    {
     "name": "stderr",
     "output_type": "stream",
     "text": [
      "Token indices sequence length is longer than the specified maximum sequence length for this model (1004 > 512). Running this sequence through the model will result in indexing errors\n"
     ]
    },
    {
     "name": "stdout",
     "output_type": "stream",
     "text": [
      "Train Loss: 0.0528, Train QWK: 0.6237, Train Pearson: 0.7249\n",
      "Validation Loss: 0.0334, Validation QWK: 0.8327, Validation Pearson: 0.8758\n",
      "====== Training Epoch 2/5 ======\n",
      "Train Loss: 0.0340, Train QWK: 0.7023, Train Pearson: 0.8291\n",
      "Validation Loss: 0.0308, Validation QWK: 0.8649, Validation Pearson: 0.8671\n",
      "====== Training Epoch 3/5 ======\n",
      "Train Loss: 0.0316, Train QWK: 0.7118, Train Pearson: 0.8418\n",
      "Validation Loss: 0.0361, Validation QWK: 0.8410, Validation Pearson: 0.8703\n",
      "====== Training Epoch 4/5 ======\n",
      "Train Loss: 0.0285, Train QWK: 0.7386, Train Pearson: 0.8582\n",
      "Validation Loss: 0.0340, Validation QWK: 0.8369, Validation Pearson: 0.8690\n",
      "====== Training Epoch 5/5 ======\n",
      "Train Loss: 0.0210, Train QWK: 0.7706, Train Pearson: 0.8973\n",
      "Validation Loss: 0.0331, Validation QWK: 0.8436, Validation Pearson: 0.8806\n",
      "Test Loss: 0.0306, Test QWK: 0.8615, Test Pearson: 0.8937\n",
      "0.9251343231432688\n",
      "\n",
      "Running configuration: config_id=15, model_name=google-bert/bert-base-multilingual-uncased, batch_size=4, max_seq_length=512, overlapping=256, epochs=10, learning_rate=1e-05\n",
      "split dataset run...\n",
      "create dataset run...\n",
      "max len 512\n",
      "max len 512\n",
      "max len 512\n",
      "create dataloader run...\n",
      "====== Training Epoch 1/10 ======\n"
     ]
    },
    {
     "name": "stderr",
     "output_type": "stream",
     "text": [
      "Token indices sequence length is longer than the specified maximum sequence length for this model (1004 > 512). Running this sequence through the model will result in indexing errors\n"
     ]
    },
    {
     "name": "stdout",
     "output_type": "stream",
     "text": [
      "Train Loss: 0.0448, Train QWK: 0.6649, Train Pearson: 0.7710\n",
      "Validation Loss: 0.0302, Validation QWK: 0.8748, Validation Pearson: 0.8956\n",
      "====== Training Epoch 2/10 ======\n",
      "Train Loss: 0.0260, Train QWK: 0.7539, Train Pearson: 0.8717\n",
      "Validation Loss: 0.0202, Validation QWK: 0.9051, Validation Pearson: 0.9075\n",
      "====== Training Epoch 3/10 ======\n",
      "Train Loss: 0.0194, Train QWK: 0.7702, Train Pearson: 0.9056\n",
      "Validation Loss: 0.0212, Validation QWK: 0.9022, Validation Pearson: 0.9105\n",
      "====== Training Epoch 4/10 ======\n",
      "Train Loss: 0.0148, Train QWK: 0.8109, Train Pearson: 0.9286\n",
      "Validation Loss: 0.0213, Validation QWK: 0.9094, Validation Pearson: 0.9091\n",
      "====== Training Epoch 5/10 ======\n",
      "Train Loss: 0.0119, Train QWK: 0.8213, Train Pearson: 0.9431\n",
      "Validation Loss: 0.0225, Validation QWK: 0.9079, Validation Pearson: 0.9215\n",
      "====== Training Epoch 6/10 ======\n",
      "Train Loss: 0.0092, Train QWK: 0.8316, Train Pearson: 0.9561\n",
      "Validation Loss: 0.0190, Validation QWK: 0.9192, Validation Pearson: 0.9202\n",
      "====== Training Epoch 7/10 ======\n",
      "Train Loss: 0.0070, Train QWK: 0.8636, Train Pearson: 0.9667\n",
      "Validation Loss: 0.0231, Validation QWK: 0.9039, Validation Pearson: 0.9137\n",
      "====== Training Epoch 8/10 ======\n",
      "Train Loss: 0.0068, Train QWK: 0.8638, Train Pearson: 0.9678\n",
      "Validation Loss: 0.0173, Validation QWK: 0.9211, Validation Pearson: 0.9217\n",
      "====== Training Epoch 9/10 ======\n",
      "Train Loss: 0.0068, Train QWK: 0.8675, Train Pearson: 0.9679\n",
      "Validation Loss: 0.0196, Validation QWK: 0.9058, Validation Pearson: 0.9165\n",
      "====== Training Epoch 10/10 ======\n",
      "Train Loss: 0.0045, Train QWK: 0.8737, Train Pearson: 0.9786\n",
      "Validation Loss: 0.0194, Validation QWK: 0.9112, Validation Pearson: 0.9122\n",
      "Test Loss: 0.0172, Test QWK: 0.9235, Test Pearson: 0.9242\n",
      "0.9251343231432688\n",
      "\n",
      "Running configuration: config_id=16, model_name=google-bert/bert-base-multilingual-uncased, batch_size=4, max_seq_length=512, overlapping=256, epochs=10, learning_rate=2e-05\n"
     ]
    },
    {
     "name": "stderr",
     "output_type": "stream",
     "text": [
      "Token indices sequence length is longer than the specified maximum sequence length for this model (1004 > 512). Running this sequence through the model will result in indexing errors\n"
     ]
    },
    {
     "name": "stdout",
     "output_type": "stream",
     "text": [
      "split dataset run...\n",
      "create dataset run...\n",
      "max len 512\n",
      "max len 512\n",
      "max len 512\n",
      "create dataloader run...\n",
      "====== Training Epoch 1/10 ======\n",
      "Train Loss: 0.0518, Train QWK: 0.6432, Train Pearson: 0.7400\n",
      "Validation Loss: 0.0249, Validation QWK: 0.8878, Validation Pearson: 0.8914\n",
      "====== Training Epoch 2/10 ======\n",
      "Train Loss: 0.0271, Train QWK: 0.7402, Train Pearson: 0.8661\n",
      "Validation Loss: 0.0224, Validation QWK: 0.8982, Validation Pearson: 0.8996\n",
      "====== Training Epoch 3/10 ======\n",
      "Train Loss: 0.0205, Train QWK: 0.7589, Train Pearson: 0.9000\n",
      "Validation Loss: 0.0212, Validation QWK: 0.9045, Validation Pearson: 0.9082\n",
      "====== Training Epoch 4/10 ======\n",
      "Train Loss: 0.0168, Train QWK: 0.8039, Train Pearson: 0.9189\n",
      "Validation Loss: 0.0207, Validation QWK: 0.9068, Validation Pearson: 0.9091\n",
      "====== Training Epoch 5/10 ======\n",
      "Train Loss: 0.0143, Train QWK: 0.8084, Train Pearson: 0.9313\n",
      "Validation Loss: 0.0247, Validation QWK: 0.8895, Validation Pearson: 0.8991\n",
      "====== Training Epoch 6/10 ======\n",
      "Train Loss: 0.0104, Train QWK: 0.8350, Train Pearson: 0.9505\n",
      "Validation Loss: 0.0208, Validation QWK: 0.9070, Validation Pearson: 0.9068\n",
      "====== Training Epoch 7/10 ======\n",
      "Train Loss: 0.0086, Train QWK: 0.8458, Train Pearson: 0.9592\n",
      "Validation Loss: 0.0237, Validation QWK: 0.8994, Validation Pearson: 0.9078\n",
      "====== Training Epoch 8/10 ======\n",
      "Train Loss: 0.0081, Train QWK: 0.8563, Train Pearson: 0.9616\n",
      "Validation Loss: 0.0237, Validation QWK: 0.8899, Validation Pearson: 0.9024\n",
      "====== Training Epoch 9/10 ======\n",
      "Train Loss: 0.0077, Train QWK: 0.8611, Train Pearson: 0.9633\n",
      "Validation Loss: 0.0175, Validation QWK: 0.9156, Validation Pearson: 0.9198\n",
      "====== Training Epoch 10/10 ======\n",
      "Train Loss: 0.0062, Train QWK: 0.8668, Train Pearson: 0.9706\n",
      "Validation Loss: 0.0222, Validation QWK: 0.9032, Validation Pearson: 0.9145\n",
      "Test Loss: 0.0213, Test QWK: 0.9091, Test Pearson: 0.9181\n",
      "0.9251343231432688\n",
      "\n",
      "Running configuration: config_id=17, model_name=google-bert/bert-base-multilingual-uncased, batch_size=4, max_seq_length=512, overlapping=256, epochs=10, learning_rate=5e-05\n",
      "split dataset run...\n",
      "create dataset run...\n",
      "max len 512\n",
      "max len 512\n",
      "max len 512\n",
      "create dataloader run...\n",
      "====== Training Epoch 1/10 ======\n"
     ]
    },
    {
     "name": "stderr",
     "output_type": "stream",
     "text": [
      "Token indices sequence length is longer than the specified maximum sequence length for this model (1004 > 512). Running this sequence through the model will result in indexing errors\n"
     ]
    },
    {
     "name": "stdout",
     "output_type": "stream",
     "text": [
      "Train Loss: 0.0516, Train QWK: 0.6239, Train Pearson: 0.7276\n",
      "Validation Loss: 0.0360, Validation QWK: 0.8297, Validation Pearson: 0.8567\n",
      "====== Training Epoch 2/10 ======\n",
      "Train Loss: 0.0356, Train QWK: 0.6833, Train Pearson: 0.8195\n",
      "Validation Loss: 0.0284, Validation QWK: 0.8722, Validation Pearson: 0.8832\n",
      "====== Training Epoch 3/10 ======\n",
      "Train Loss: 0.0300, Train QWK: 0.7181, Train Pearson: 0.8502\n",
      "Validation Loss: 0.0289, Validation QWK: 0.8791, Validation Pearson: 0.8867\n",
      "====== Training Epoch 4/10 ======\n",
      "Train Loss: 0.0256, Train QWK: 0.7464, Train Pearson: 0.8736\n",
      "Validation Loss: 0.0262, Validation QWK: 0.8810, Validation Pearson: 0.8883\n",
      "====== Training Epoch 5/10 ======\n",
      "Train Loss: 0.0222, Train QWK: 0.7834, Train Pearson: 0.8909\n",
      "Validation Loss: 0.0349, Validation QWK: 0.8573, Validation Pearson: 0.8807\n",
      "====== Training Epoch 6/10 ======\n",
      "Train Loss: 0.0184, Train QWK: 0.7830, Train Pearson: 0.9102\n",
      "Validation Loss: 0.0280, Validation QWK: 0.8843, Validation Pearson: 0.8906\n",
      "====== Training Epoch 7/10 ======\n",
      "Train Loss: 0.0171, Train QWK: 0.7871, Train Pearson: 0.9167\n",
      "Validation Loss: 0.0374, Validation QWK: 0.8553, Validation Pearson: 0.8700\n",
      "====== Training Epoch 8/10 ======\n",
      "Train Loss: 0.0155, Train QWK: 0.7946, Train Pearson: 0.9251\n",
      "Validation Loss: 0.0507, Validation QWK: 0.7918, Validation Pearson: 0.8619\n",
      "====== Training Epoch 9/10 ======\n",
      "Train Loss: 0.0140, Train QWK: 0.7965, Train Pearson: 0.9323\n",
      "Validation Loss: 0.0258, Validation QWK: 0.8777, Validation Pearson: 0.8895\n",
      "====== Training Epoch 10/10 ======\n",
      "Train Loss: 0.0124, Train QWK: 0.8222, Train Pearson: 0.9404\n",
      "Validation Loss: 0.0246, Validation QWK: 0.8883, Validation Pearson: 0.8972\n",
      "Test Loss: 0.0212, Test QWK: 0.9062, Test Pearson: 0.9147\n",
      "0.9251343231432688\n",
      "\n",
      "Running configuration: config_id=18, model_name=google-bert/bert-base-multilingual-uncased, batch_size=8, max_seq_length=512, overlapping=256, epochs=5, learning_rate=1e-05\n",
      "split dataset run...\n",
      "create dataset run...\n",
      "max len 512\n",
      "max len 512\n",
      "max len 512\n",
      "create dataloader run...\n",
      "====== Training Epoch 1/5 ======\n"
     ]
    },
    {
     "name": "stderr",
     "output_type": "stream",
     "text": [
      "Token indices sequence length is longer than the specified maximum sequence length for this model (1004 > 512). Running this sequence through the model will result in indexing errors\n"
     ]
    },
    {
     "name": "stdout",
     "output_type": "stream",
     "text": [
      "Train Loss: 0.0520, Train QWK: 0.6501, Train Pearson: 0.7297\n",
      "Validation Loss: 0.0407, Validation QWK: 0.8400, Validation Pearson: 0.8875\n",
      "====== Training Epoch 2/5 ======\n",
      "Train Loss: 0.0292, Train QWK: 0.7149, Train Pearson: 0.8537\n",
      "Validation Loss: 0.0214, Validation QWK: 0.9009, Validation Pearson: 0.9022\n",
      "====== Training Epoch 3/5 ======\n",
      "Train Loss: 0.0225, Train QWK: 0.7416, Train Pearson: 0.8897\n",
      "Validation Loss: 0.0205, Validation QWK: 0.8995, Validation Pearson: 0.9075\n",
      "====== Training Epoch 4/5 ======\n",
      "Train Loss: 0.0184, Train QWK: 0.7777, Train Pearson: 0.9107\n",
      "Validation Loss: 0.0215, Validation QWK: 0.8999, Validation Pearson: 0.9047\n",
      "====== Training Epoch 5/5 ======\n",
      "Train Loss: 0.0139, Train QWK: 0.8060, Train Pearson: 0.9328\n",
      "Validation Loss: 0.0216, Validation QWK: 0.9042, Validation Pearson: 0.9158\n",
      "Test Loss: 0.0197, Test QWK: 0.9165, Test Pearson: 0.9250\n",
      "0.9251343231432688\n",
      "\n",
      "Running configuration: config_id=19, model_name=google-bert/bert-base-multilingual-uncased, batch_size=8, max_seq_length=512, overlapping=256, epochs=5, learning_rate=2e-05\n"
     ]
    },
    {
     "name": "stderr",
     "output_type": "stream",
     "text": [
      "Token indices sequence length is longer than the specified maximum sequence length for this model (1004 > 512). Running this sequence through the model will result in indexing errors\n"
     ]
    },
    {
     "name": "stdout",
     "output_type": "stream",
     "text": [
      "split dataset run...\n",
      "create dataset run...\n",
      "max len 512\n",
      "max len 512\n",
      "max len 512\n",
      "create dataloader run...\n",
      "====== Training Epoch 1/5 ======\n",
      "Train Loss: 0.0452, Train QWK: 0.6536, Train Pearson: 0.7671\n",
      "Validation Loss: 0.0246, Validation QWK: 0.8911, Validation Pearson: 0.8971\n",
      "====== Training Epoch 2/5 ======\n",
      "Train Loss: 0.0261, Train QWK: 0.7372, Train Pearson: 0.8715\n",
      "Validation Loss: 0.0287, Validation QWK: 0.8740, Validation Pearson: 0.9061\n",
      "====== Training Epoch 3/5 ======\n",
      "Train Loss: 0.0191, Train QWK: 0.7711, Train Pearson: 0.9071\n",
      "Validation Loss: 0.0226, Validation QWK: 0.8975, Validation Pearson: 0.9130\n",
      "====== Training Epoch 4/5 ======\n",
      "Train Loss: 0.0137, Train QWK: 0.8187, Train Pearson: 0.9343\n",
      "Validation Loss: 0.0193, Validation QWK: 0.9054, Validation Pearson: 0.9126\n",
      "====== Training Epoch 5/5 ======\n",
      "Train Loss: 0.0106, Train QWK: 0.8261, Train Pearson: 0.9494\n",
      "Validation Loss: 0.0211, Validation QWK: 0.9045, Validation Pearson: 0.9140\n",
      "Test Loss: 0.0204, Test QWK: 0.9100, Test Pearson: 0.9203\n",
      "0.9251343231432688\n",
      "\n",
      "Running configuration: config_id=20, model_name=google-bert/bert-base-multilingual-uncased, batch_size=8, max_seq_length=512, overlapping=256, epochs=5, learning_rate=5e-05\n",
      "split dataset run...\n",
      "create dataset run...\n",
      "max len 512\n",
      "max len 512\n",
      "max len 512\n",
      "create dataloader run...\n",
      "====== Training Epoch 1/5 ======\n"
     ]
    },
    {
     "name": "stderr",
     "output_type": "stream",
     "text": [
      "Token indices sequence length is longer than the specified maximum sequence length for this model (1004 > 512). Running this sequence through the model will result in indexing errors\n"
     ]
    },
    {
     "name": "stdout",
     "output_type": "stream",
     "text": [
      "Train Loss: 0.0577, Train QWK: 0.6057, Train Pearson: 0.7030\n",
      "Validation Loss: 0.0457, Validation QWK: 0.7966, Validation Pearson: 0.8796\n",
      "====== Training Epoch 2/5 ======\n",
      "Train Loss: 0.0327, Train QWK: 0.7081, Train Pearson: 0.8367\n",
      "Validation Loss: 0.0370, Validation QWK: 0.8346, Validation Pearson: 0.8747\n",
      "====== Training Epoch 3/5 ======\n",
      "Train Loss: 0.0274, Train QWK: 0.7385, Train Pearson: 0.8643\n",
      "Validation Loss: 0.0290, Validation QWK: 0.8888, Validation Pearson: 0.8998\n",
      "====== Training Epoch 4/5 ======\n",
      "Train Loss: 0.0228, Train QWK: 0.7650, Train Pearson: 0.8884\n",
      "Validation Loss: 0.0301, Validation QWK: 0.8465, Validation Pearson: 0.8792\n",
      "====== Training Epoch 5/5 ======\n",
      "Train Loss: 0.0187, Train QWK: 0.7763, Train Pearson: 0.9095\n",
      "Validation Loss: 0.0263, Validation QWK: 0.8896, Validation Pearson: 0.8998\n",
      "Test Loss: 0.0276, Test QWK: 0.8861, Test Pearson: 0.8985\n",
      "0.9251343231432688\n",
      "\n",
      "Running configuration: config_id=21, model_name=google-bert/bert-base-multilingual-uncased, batch_size=8, max_seq_length=512, overlapping=256, epochs=10, learning_rate=1e-05\n"
     ]
    },
    {
     "name": "stderr",
     "output_type": "stream",
     "text": [
      "Token indices sequence length is longer than the specified maximum sequence length for this model (1004 > 512). Running this sequence through the model will result in indexing errors\n"
     ]
    },
    {
     "name": "stdout",
     "output_type": "stream",
     "text": [
      "split dataset run...\n",
      "create dataset run...\n",
      "max len 512\n",
      "max len 512\n",
      "max len 512\n",
      "create dataloader run...\n",
      "====== Training Epoch 1/10 ======\n",
      "Train Loss: 0.0439, Train QWK: 0.6604, Train Pearson: 0.7728\n",
      "Validation Loss: 0.0404, Validation QWK: 0.8476, Validation Pearson: 0.8853\n",
      "====== Training Epoch 2/10 ======\n",
      "Train Loss: 0.0256, Train QWK: 0.7443, Train Pearson: 0.8733\n",
      "Validation Loss: 0.0213, Validation QWK: 0.8998, Validation Pearson: 0.9065\n",
      "====== Training Epoch 3/10 ======\n",
      "Train Loss: 0.0194, Train QWK: 0.7809, Train Pearson: 0.9054\n",
      "Validation Loss: 0.0194, Validation QWK: 0.9102, Validation Pearson: 0.9153\n",
      "====== Training Epoch 4/10 ======\n",
      "Train Loss: 0.0151, Train QWK: 0.8067, Train Pearson: 0.9268\n",
      "Validation Loss: 0.0211, Validation QWK: 0.9044, Validation Pearson: 0.9105\n",
      "====== Training Epoch 5/10 ======\n",
      "Train Loss: 0.0123, Train QWK: 0.8170, Train Pearson: 0.9411\n",
      "Validation Loss: 0.0262, Validation QWK: 0.8884, Validation Pearson: 0.9129\n",
      "====== Training Epoch 6/10 ======\n",
      "Train Loss: 0.0095, Train QWK: 0.8429, Train Pearson: 0.9545\n",
      "Validation Loss: 0.0195, Validation QWK: 0.9180, Validation Pearson: 0.9187\n",
      "====== Training Epoch 7/10 ======\n",
      "Train Loss: 0.0081, Train QWK: 0.8471, Train Pearson: 0.9617\n",
      "Validation Loss: 0.0238, Validation QWK: 0.9100, Validation Pearson: 0.9136\n",
      "====== Training Epoch 8/10 ======\n",
      "Train Loss: 0.0068, Train QWK: 0.8682, Train Pearson: 0.9678\n",
      "Validation Loss: 0.0172, Validation QWK: 0.9239, Validation Pearson: 0.9253\n",
      "====== Training Epoch 9/10 ======\n",
      "Train Loss: 0.0059, Train QWK: 0.8731, Train Pearson: 0.9721\n",
      "Validation Loss: 0.0228, Validation QWK: 0.9017, Validation Pearson: 0.9059\n",
      "====== Training Epoch 10/10 ======\n",
      "Train Loss: 0.0049, Train QWK: 0.8742, Train Pearson: 0.9770\n",
      "Validation Loss: 0.0210, Validation QWK: 0.9128, Validation Pearson: 0.9211\n",
      "Test Loss: 0.0224, Test QWK: 0.9090, Test Pearson: 0.9167\n",
      "0.9251343231432688\n",
      "\n",
      "Running configuration: config_id=22, model_name=google-bert/bert-base-multilingual-uncased, batch_size=8, max_seq_length=512, overlapping=256, epochs=10, learning_rate=2e-05\n",
      "split dataset run...\n",
      "create dataset run...\n",
      "max len 512\n",
      "max len 512\n",
      "max len 512\n",
      "create dataloader run...\n",
      "====== Training Epoch 1/10 ======\n"
     ]
    },
    {
     "name": "stderr",
     "output_type": "stream",
     "text": [
      "Token indices sequence length is longer than the specified maximum sequence length for this model (1004 > 512). Running this sequence through the model will result in indexing errors\n"
     ]
    },
    {
     "name": "stdout",
     "output_type": "stream",
     "text": [
      "Train Loss: 0.0462, Train QWK: 0.6611, Train Pearson: 0.7605\n",
      "Validation Loss: 0.0413, Validation QWK: 0.8557, Validation Pearson: 0.8882\n",
      "====== Training Epoch 2/10 ======\n",
      "Train Loss: 0.0264, Train QWK: 0.7516, Train Pearson: 0.8700\n",
      "Validation Loss: 0.0238, Validation QWK: 0.8947, Validation Pearson: 0.9029\n",
      "====== Training Epoch 3/10 ======\n",
      "Train Loss: 0.0203, Train QWK: 0.7737, Train Pearson: 0.9014\n",
      "Validation Loss: 0.0230, Validation QWK: 0.8985, Validation Pearson: 0.8998\n",
      "====== Training Epoch 4/10 ======\n",
      "Train Loss: 0.0172, Train QWK: 0.7906, Train Pearson: 0.9171\n",
      "Validation Loss: 0.0217, Validation QWK: 0.9009, Validation Pearson: 0.9025\n",
      "====== Training Epoch 5/10 ======\n",
      "Train Loss: 0.0136, Train QWK: 0.8225, Train Pearson: 0.9349\n",
      "Validation Loss: 0.0266, Validation QWK: 0.8844, Validation Pearson: 0.9039\n",
      "====== Training Epoch 6/10 ======\n",
      "Train Loss: 0.0104, Train QWK: 0.8247, Train Pearson: 0.9508\n",
      "Validation Loss: 0.0206, Validation QWK: 0.9048, Validation Pearson: 0.9110\n",
      "====== Training Epoch 7/10 ======\n",
      "Train Loss: 0.0096, Train QWK: 0.8492, Train Pearson: 0.9543\n",
      "Validation Loss: 0.0206, Validation QWK: 0.9015, Validation Pearson: 0.9055\n",
      "====== Training Epoch 8/10 ======\n",
      "Train Loss: 0.0080, Train QWK: 0.8379, Train Pearson: 0.9623\n",
      "Validation Loss: 0.0248, Validation QWK: 0.9007, Validation Pearson: 0.9115\n",
      "====== Training Epoch 9/10 ======\n",
      "Train Loss: 0.0062, Train QWK: 0.8667, Train Pearson: 0.9707\n",
      "Validation Loss: 0.0208, Validation QWK: 0.9015, Validation Pearson: 0.9124\n",
      "====== Training Epoch 10/10 ======\n",
      "Train Loss: 0.0053, Train QWK: 0.8731, Train Pearson: 0.9752\n",
      "Validation Loss: 0.0178, Validation QWK: 0.9191, Validation Pearson: 0.9197\n",
      "Test Loss: 0.0173, Test QWK: 0.9233, Test Pearson: 0.9238\n",
      "0.9251343231432688\n",
      "\n",
      "Running configuration: config_id=23, model_name=google-bert/bert-base-multilingual-uncased, batch_size=8, max_seq_length=512, overlapping=256, epochs=10, learning_rate=5e-05\n"
     ]
    },
    {
     "name": "stderr",
     "output_type": "stream",
     "text": [
      "Token indices sequence length is longer than the specified maximum sequence length for this model (1004 > 512). Running this sequence through the model will result in indexing errors\n"
     ]
    },
    {
     "name": "stdout",
     "output_type": "stream",
     "text": [
      "split dataset run...\n",
      "create dataset run...\n",
      "max len 512\n",
      "max len 512\n",
      "max len 512\n",
      "create dataloader run...\n",
      "====== Training Epoch 1/10 ======\n",
      "Train Loss: 0.0478, Train QWK: 0.6486, Train Pearson: 0.7548\n",
      "Validation Loss: 0.0518, Validation QWK: 0.8405, Validation Pearson: 0.8969\n",
      "====== Training Epoch 2/10 ======\n",
      "Train Loss: 0.0291, Train QWK: 0.7376, Train Pearson: 0.8558\n",
      "Validation Loss: 0.0282, Validation QWK: 0.8879, Validation Pearson: 0.9014\n",
      "====== Training Epoch 3/10 ======\n",
      "Train Loss: 0.0245, Train QWK: 0.7475, Train Pearson: 0.8800\n",
      "Validation Loss: 0.0273, Validation QWK: 0.8725, Validation Pearson: 0.8769\n",
      "====== Training Epoch 4/10 ======\n",
      "Train Loss: 0.0194, Train QWK: 0.7790, Train Pearson: 0.9060\n",
      "Validation Loss: 0.0258, Validation QWK: 0.8704, Validation Pearson: 0.8828\n",
      "====== Training Epoch 5/10 ======\n",
      "Train Loss: 0.0154, Train QWK: 0.8064, Train Pearson: 0.9257\n",
      "Validation Loss: 0.0270, Validation QWK: 0.8817, Validation Pearson: 0.8918\n",
      "====== Training Epoch 6/10 ======\n",
      "Train Loss: 0.0137, Train QWK: 0.8073, Train Pearson: 0.9343\n",
      "Validation Loss: 0.0262, Validation QWK: 0.8859, Validation Pearson: 0.8938\n",
      "====== Training Epoch 7/10 ======\n",
      "Train Loss: 0.0109, Train QWK: 0.8329, Train Pearson: 0.9482\n",
      "Validation Loss: 0.0244, Validation QWK: 0.8854, Validation Pearson: 0.8874\n",
      "====== Training Epoch 8/10 ======\n",
      "Train Loss: 0.0095, Train QWK: 0.8397, Train Pearson: 0.9550\n",
      "Validation Loss: 0.0307, Validation QWK: 0.8664, Validation Pearson: 0.8932\n",
      "====== Training Epoch 9/10 ======\n",
      "Train Loss: 0.0100, Train QWK: 0.8418, Train Pearson: 0.9523\n",
      "Validation Loss: 0.0261, Validation QWK: 0.8829, Validation Pearson: 0.9046\n",
      "====== Training Epoch 10/10 ======\n",
      "Train Loss: 0.0073, Train QWK: 0.8446, Train Pearson: 0.9653\n",
      "Validation Loss: 0.0233, Validation QWK: 0.8982, Validation Pearson: 0.9009\n",
      "Test Loss: 0.0201, Test QWK: 0.9151, Test Pearson: 0.9181\n"
     ]
    }
   ],
   "source": [
    "for batch_size in batch_sizes:\n",
    "    for overlapping in overlappings:\n",
    "        for num_epochs in epochs_list:\n",
    "            for lr in learning_rates:\n",
    "                results = []\n",
    "                results_epoch = []\n",
    "                df_result1 = None\n",
    "                # Check if the second file exists\n",
    "                if os.path.exists(\"experiments/results/results_epoch.csv\"):\n",
    "                    df_result1 = pd.read_csv(\"experiments/results/results_epoch.csv\")\n",
    "                    print(max(df_result1['valid_qwk']))\n",
    "                else:\n",
    "                    print(\"File 'results_epoch.csv' does not exist.\")\n",
    "                config = {\n",
    "                    \"df\": df,\n",
    "                    \"model_name\": \"google-bert/bert-base-multilingual-uncased\",\n",
    "                    \"overlapping\": overlapping,\n",
    "                    \"batch_size\": batch_size,\n",
    "                    \"learning_rate\": lr,\n",
    "                    \"epochs\": num_epochs,\n",
    "                    \"config_id\": idx,\n",
    "                    \"max_seq_len\": 512,\n",
    "                    \"col_length\": \"multibert_length\",\n",
    "                    \"best_valid_qwk\": max(df_result1['valid_qwk']) if df_result1 is not None and not df_result1.empty else float(\"-inf\")\n",
    "                }\n",
    "\n",
    "                logging.info(\n",
    "                    f\"Running configuration: config_id={idx}, model_name={config['model_name']}, batch_size={batch_size}, \"\n",
    "                    f\"max_seq_length={config['max_seq_len']}, overlapping={overlapping}, epochs={num_epochs}, learning_rate={lr}\"\n",
    "                )\n",
    "                \n",
    "                print(\n",
    "                    f\"\\nRunning configuration: config_id={idx}, model_name={config['model_name']}, batch_size={batch_size}, \"\n",
    "                    f\"max_seq_length={config['max_seq_len']}, overlapping={overlapping}, epochs={num_epochs}, learning_rate={lr}\"\n",
    "                )\n",
    "                \n",
    "                try:\n",
    "                    pipeline = TrainingBertPipeline(config, results, results_epoch)\n",
    "                    pipeline.run_training()\n",
    "\n",
    "                    # Save results\n",
    "                    # Dapatkan root project\n",
    "                    results_path = os.path.join(ROOT_DIR, \"experiments/results/results.csv\")\n",
    "                    results_epoch_path = os.path.join(ROOT_DIR, \"experiments/results/results_epoch.csv\")\n",
    "                    TrainingBertPipeline.save_csv(results, results_path)\n",
    "                    TrainingBertPipeline.save_csv(results_epoch, results_epoch_path)\n",
    "                except Exception as e:\n",
    "                    logging.error(f\"Error in config_id={idx}: {str(e)}\")\n",
    "                    print(f\"Error in config_id={idx}: {str(e)}\")\n",
    "                    torch.cuda.empty_cache()\n",
    "                finally:\n",
    "                    # Clear GPU memory after every configuration\n",
    "                    del pipeline.model\n",
    "                    del pipeline.tokenizer\n",
    "                    del pipeline.optimizer\n",
    "                    torch.cuda.empty_cache()\n",
    "\n",
    "                idx += 1"
   ]
  },
  {
   "cell_type": "code",
   "execution_count": null,
   "metadata": {},
   "outputs": [],
   "source": []
  }
 ],
 "metadata": {
  "kernelspec": {
   "display_name": "env",
   "language": "python",
   "name": "python3"
  },
  "language_info": {
   "codemirror_mode": {
    "name": "ipython",
    "version": 3
   },
   "file_extension": ".py",
   "mimetype": "text/x-python",
   "name": "python",
   "nbconvert_exporter": "python",
   "pygments_lexer": "ipython3",
   "version": "3.10.5"
  }
 },
 "nbformat": 4,
 "nbformat_minor": 2
}
