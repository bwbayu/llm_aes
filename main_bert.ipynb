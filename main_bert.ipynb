{
 "cells": [
  {
   "cell_type": "code",
   "execution_count": 8,
   "metadata": {},
   "outputs": [],
   "source": [
    "import pandas as pd\n",
    "from src.training.bert_pipeline import TrainingBertPipeline\n",
    "import logging\n",
    "import torch\n",
    "import os"
   ]
  },
  {
   "cell_type": "code",
   "execution_count": 9,
   "metadata": {},
   "outputs": [
    {
     "name": "stdout",
     "output_type": "stream",
     "text": [
      "<class 'pandas.core.frame.DataFrame'>\n",
      "RangeIndex: 5363 entries, 0 to 5362\n",
      "Data columns (total 13 columns):\n",
      " #   Column             Non-Null Count  Dtype  \n",
      "---  ------             --------------  -----  \n",
      " 0   question           4859 non-null   object \n",
      " 1   reference_answer   5363 non-null   object \n",
      " 2   answer             5363 non-null   object \n",
      " 3   score              5363 non-null   float64\n",
      " 4   dataset            5363 non-null   object \n",
      " 5   normalized_score   5363 non-null   float64\n",
      " 6   normalized_score2  5363 non-null   int64  \n",
      " 7   bert_length        5363 non-null   int64  \n",
      " 8   indobert_length    5363 non-null   int64  \n",
      " 9   albert_length      5363 non-null   int64  \n",
      " 10  longformer_length  5363 non-null   int64  \n",
      " 11  multibert_length   5363 non-null   int64  \n",
      " 12  indoalbert_length  5363 non-null   int64  \n",
      "dtypes: float64(2), int64(7), object(4)\n",
      "memory usage: 544.8+ KB\n"
     ]
    }
   ],
   "source": [
    "df = pd.read_csv(\"data/aes_dataset_5k_clean.csv\")\n",
    "df.info()"
   ]
  },
  {
   "cell_type": "code",
   "execution_count": 10,
   "metadata": {},
   "outputs": [
    {
     "data": {
      "text/plain": [
       "dataset\n",
       "sag               2558\n",
       "analisis_essay    2162\n",
       "stita              333\n",
       "cunlp              171\n",
       "sci                139\n",
       "Name: count, dtype: int64"
      ]
     },
     "execution_count": 10,
     "metadata": {},
     "output_type": "execute_result"
    }
   ],
   "source": [
    "df['dataset'].value_counts()"
   ]
  },
  {
   "cell_type": "code",
   "execution_count": 3,
   "metadata": {},
   "outputs": [
    {
     "name": "stdout",
     "output_type": "stream",
     "text": [
      "17\n",
      "7.659122644421146e-05\n"
     ]
    }
   ],
   "source": [
    "# Check if the first file exists\n",
    "df_result = None\n",
    "if os.path.exists(\"experiments/results/results.csv\"):\n",
    "    df_result = pd.read_csv(\"experiments/results/results.csv\")\n",
    "    print(df_result['config_id'].iloc[-1])\n",
    "else:\n",
    "    print(\"File 'results.csv' does not exist.\")"
   ]
  },
  {
   "cell_type": "code",
   "execution_count": 4,
   "metadata": {},
   "outputs": [],
   "source": [
    "results = []\n",
    "results_epoch = []"
   ]
  },
  {
   "cell_type": "code",
   "execution_count": 5,
   "metadata": {},
   "outputs": [],
   "source": [
    "batch_sizes = [4]\n",
    "overlappings = [256]\n",
    "epochs_list = [10]\n",
    "learning_rates = [5e-5]\n",
    "idx = (df_result['config_id'].iloc[-1] + 1) if df_result is not None and not df_result.empty else 0  # index untuk setiap kombinasi\n",
    "ROOT_DIR = os.getcwd()"
   ]
  },
  {
   "cell_type": "code",
   "execution_count": 6,
   "metadata": {},
   "outputs": [],
   "source": [
    "# model = [\n",
    "#     (\"bert_length\", \"bert-base-uncased\"),\n",
    "#     (\"indobert_length\", \"indobenchmark/indobert-base-p1\"),\n",
    "#     (\"albert_length\", \"albert-base-v1\"),\n",
    "#     (\"indoalbert_length\", \"indobenchmark/indobert-lite-base-p2\"),\n",
    "#     (\"longformer_length\", \"allenai/longformer-base-4096\"),\n",
    "#     (\"multibert_length\", \"google-bert/bert-base-multilingual-uncased\")\n",
    "# ]"
   ]
  },
  {
   "cell_type": "code",
   "execution_count": 7,
   "metadata": {},
   "outputs": [
    {
     "name": "stdout",
     "output_type": "stream",
     "text": [
      "\n",
      "Running configuration: config_id=18, model_name=bert-base-uncased, batch_size=4, max_seq_length=512, overlapping=256, epochs=10, learning_rate=5e-05\n",
      "split dataset run...\n",
      "create dataset run...\n",
      "max len 512\n",
      "max len 512\n",
      "max len 512\n",
      "create dataloader run...\n",
      "====== Training Epoch 1/10 ======\n"
     ]
    },
    {
     "name": "stderr",
     "output_type": "stream",
     "text": [
      "c:\\Users\\User\\Documents\\Code\\env\\lib\\site-packages\\transformers\\models\\bert\\modeling_bert.py:440: UserWarning: 1Torch was not compiled with flash attention. (Triggered internally at C:\\actions-runner\\_work\\pytorch\\pytorch\\builder\\windows\\pytorch\\aten\\src\\ATen\\native\\transformers\\cuda\\sdp_utils.cpp:555.)\n",
      "  attn_output = torch.nn.functional.scaled_dot_product_attention(\n",
      "Token indices sequence length is longer than the specified maximum sequence length for this model (725 > 512). Running this sequence through the model will result in indexing errors\n"
     ]
    },
    {
     "name": "stdout",
     "output_type": "stream",
     "text": [
      "Train Loss: 0.0482, Train QWK: 0.6507, Train Pearson: 0.7539\n",
      "Validation Loss: 0.0444, Validation QWK: 0.8272, Validation Pearson: 0.8607\n",
      "Model saved to experiments\\models\\bert-base-uncased_best_model.pt\n",
      "====== Training Epoch 2/10 ======\n",
      "Train Loss: 0.0276, Train QWK: 0.7420, Train Pearson: 0.8636\n",
      "Validation Loss: 0.0325, Validation QWK: 0.8655, Validation Pearson: 0.8761\n",
      "Model saved to experiments\\models\\bert-base-uncased_best_model.pt\n",
      "====== Training Epoch 3/10 ======\n",
      "Train Loss: 0.0187, Train QWK: 0.7835, Train Pearson: 0.9090\n",
      "Validation Loss: 0.0394, Validation QWK: 0.8527, Validation Pearson: 0.8773\n",
      "====== Training Epoch 4/10 ======\n",
      "Train Loss: 0.0150, Train QWK: 0.8118, Train Pearson: 0.9276\n",
      "Validation Loss: 0.0344, Validation QWK: 0.8513, Validation Pearson: 0.8892\n",
      "====== Training Epoch 5/10 ======\n",
      "Train Loss: 0.0120, Train QWK: 0.8253, Train Pearson: 0.9426\n",
      "Validation Loss: 0.0410, Validation QWK: 0.8295, Validation Pearson: 0.8947\n",
      "====== Training Epoch 6/10 ======\n",
      "Train Loss: 0.0098, Train QWK: 0.8447, Train Pearson: 0.9532\n",
      "Validation Loss: 0.0242, Validation QWK: 0.8898, Validation Pearson: 0.9024\n",
      "Model saved to experiments\\models\\bert-base-uncased_best_model.pt\n",
      "====== Training Epoch 7/10 ======\n",
      "Train Loss: 0.0093, Train QWK: 0.8545, Train Pearson: 0.9555\n",
      "Validation Loss: 0.0270, Validation QWK: 0.8876, Validation Pearson: 0.8953\n",
      "====== Training Epoch 8/10 ======\n",
      "Train Loss: 0.0086, Train QWK: 0.8648, Train Pearson: 0.9591\n",
      "Validation Loss: 0.0234, Validation QWK: 0.8913, Validation Pearson: 0.8945\n",
      "Model saved to experiments\\models\\bert-base-uncased_best_model.pt\n",
      "====== Training Epoch 9/10 ======\n",
      "Train Loss: 0.0062, Train QWK: 0.8734, Train Pearson: 0.9706\n",
      "Validation Loss: 0.0215, Validation QWK: 0.8975, Validation Pearson: 0.9043\n",
      "Model saved to experiments\\models\\bert-base-uncased_best_model.pt\n",
      "====== Training Epoch 10/10 ======\n",
      "Train Loss: 0.0058, Train QWK: 0.8713, Train Pearson: 0.9724\n",
      "Validation Loss: 0.0234, Validation QWK: 0.8956, Validation Pearson: 0.9027\n",
      "Test Loss: 0.0221, Test QWK: 0.8968, Test Pearson: 0.9041\n"
     ]
    }
   ],
   "source": [
    "for batch_size in batch_sizes:\n",
    "    for overlapping in overlappings:\n",
    "        for num_epochs in epochs_list:\n",
    "            for lr in learning_rates:\n",
    "                df_result1 = None\n",
    "                # Check if the second file exists\n",
    "                if os.path.exists(\"experiments/results/results_epoch.csv\"):\n",
    "                    df_result1 = pd.read_csv(\"experiments/results/results_epoch.csv\")\n",
    "                    print(min(df_result1['valid_qwk']))\n",
    "                else:\n",
    "                    print(\"File 'results_epoch.csv' does not exist.\")\n",
    "                config = {\n",
    "                    \"df\": df,\n",
    "                    \"model_name\": \"google-bert/bert-base-multilingual-uncased\",\n",
    "                    \"overlapping\": overlapping,\n",
    "                    \"batch_size\": batch_size,\n",
    "                    \"learning_rate\": lr,\n",
    "                    \"epochs\": num_epochs,\n",
    "                    \"config_id\": idx,\n",
    "                    \"max_seq_len\": 512,\n",
    "                    \"col_length\": \"multibert_length\",\n",
    "                    \"best_valid_qwk\": max(df_result1['valid_qwk']) if df_result1 is not None and not df_result1.empty else float(\"-inf\")\n",
    "                }\n",
    "\n",
    "                logging.info(\n",
    "                    f\"Running configuration: config_id={idx}, model_name={config['model_name']}, batch_size={batch_size}, \"\n",
    "                    f\"max_seq_length={config['max_seq_len']}, overlapping={overlapping}, epochs={num_epochs}, learning_rate={lr}\"\n",
    "                )\n",
    "                \n",
    "                print(\n",
    "                    f\"\\nRunning configuration: config_id={idx}, model_name={config['model_name']}, batch_size={batch_size}, \"\n",
    "                    f\"max_seq_length={config['max_seq_len']}, overlapping={overlapping}, epochs={num_epochs}, learning_rate={lr}\"\n",
    "                )\n",
    "                \n",
    "                try:\n",
    "                    pipeline = TrainingBertPipeline(config, results, results_epoch)\n",
    "                    pipeline.run_training()\n",
    "\n",
    "                    # Save results\n",
    "                    # Dapatkan root project\n",
    "                    results_path = os.path.join(ROOT_DIR, \"experiments/results/results.csv\")\n",
    "                    results_epoch_path = os.path.join(ROOT_DIR, \"experiments/results/results_epoch.csv\")\n",
    "                    TrainingBertPipeline.save_csv(results, results_path)\n",
    "                    TrainingBertPipeline.save_csv(results_epoch, results_epoch_path)\n",
    "                except Exception as e:\n",
    "                    logging.error(f\"Error in config_id={idx}: {str(e)}\")\n",
    "                    print(f\"Error in config_id={idx}: {str(e)}\")\n",
    "                    torch.cuda.empty_cache()\n",
    "                finally:\n",
    "                    # Clear GPU memory after every configuration\n",
    "                    del pipeline.model\n",
    "                    del pipeline.tokenizer\n",
    "                    del pipeline.optimizer\n",
    "                    torch.cuda.empty_cache()\n",
    "\n",
    "                idx += 1"
   ]
  },
  {
   "cell_type": "code",
   "execution_count": null,
   "metadata": {},
   "outputs": [],
   "source": []
  }
 ],
 "metadata": {
  "kernelspec": {
   "display_name": "env",
   "language": "python",
   "name": "python3"
  },
  "language_info": {
   "codemirror_mode": {
    "name": "ipython",
    "version": 3
   },
   "file_extension": ".py",
   "mimetype": "text/x-python",
   "name": "python",
   "nbconvert_exporter": "python",
   "pygments_lexer": "ipython3",
   "version": "3.10.5"
  }
 },
 "nbformat": 4,
 "nbformat_minor": 2
}
