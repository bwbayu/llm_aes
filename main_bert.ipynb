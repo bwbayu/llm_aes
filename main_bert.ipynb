{
 "cells": [
  {
   "cell_type": "code",
   "execution_count": 1,
   "metadata": {},
   "outputs": [],
   "source": [
    "import pandas as pd\n",
    "from src.training.bert_pipeline import TrainingBertPipeline\n",
    "import logging\n",
    "import torch\n",
    "import os"
   ]
  },
  {
   "cell_type": "code",
   "execution_count": 2,
   "metadata": {},
   "outputs": [
    {
     "name": "stdout",
     "output_type": "stream",
     "text": [
      "<class 'pandas.core.frame.DataFrame'>\n",
      "RangeIndex: 5363 entries, 0 to 5362\n",
      "Data columns (total 8 columns):\n",
      " #   Column            Non-Null Count  Dtype  \n",
      "---  ------            --------------  -----  \n",
      " 0   question          4859 non-null   object \n",
      " 1   reference_answer  5363 non-null   object \n",
      " 2   answer            5363 non-null   object \n",
      " 3   score             5363 non-null   float64\n",
      " 4   normalized_score  5363 non-null   float64\n",
      " 5   multibert_length  5363 non-null   int64  \n",
      " 6   dataset           5363 non-null   object \n",
      " 7   dataset_num       5363 non-null   object \n",
      "dtypes: float64(2), int64(1), object(5)\n",
      "memory usage: 335.3+ KB\n"
     ]
    }
   ],
   "source": [
    "df = pd.read_csv(\"data/aes_dataset_5k_clean.csv\")\n",
    "df.info()"
   ]
  },
  {
   "cell_type": "code",
   "execution_count": 3,
   "metadata": {},
   "outputs": [
    {
     "data": {
      "text/plain": [
       "dataset\n",
       "sag               2558\n",
       "analisis_essay    2162\n",
       "stita              333\n",
       "cunlp              171\n",
       "sci                139\n",
       "Name: count, dtype: int64"
      ]
     },
     "execution_count": 3,
     "metadata": {},
     "output_type": "execute_result"
    }
   ],
   "source": [
    "df['dataset'].value_counts()"
   ]
  },
  {
   "cell_type": "code",
   "execution_count": 4,
   "metadata": {},
   "outputs": [
    {
     "name": "stdout",
     "output_type": "stream",
     "text": [
      "50\n"
     ]
    }
   ],
   "source": [
    "# Check if the first file exists\n",
    "df_result = None\n",
    "if os.path.exists(\"experiments/results/results.csv\"):\n",
    "    df_result = pd.read_csv(\"experiments/results/results.csv\")\n",
    "    print(df_result['config_id'].iloc[-1])\n",
    "else:\n",
    "    print(\"File 'results.csv' does not exist.\")"
   ]
  },
  {
   "cell_type": "code",
   "execution_count": 5,
   "metadata": {},
   "outputs": [],
   "source": [
    "batch_sizes = [4]\n",
    "overlappings = [128]\n",
    "epochs_list = [10]\n",
    "learning_rates = [5e-5]\n",
    "idx = (df_result['config_id'].iloc[-1] + 1) if df_result is not None and not df_result.empty else 0  # index untuk setiap kombinasi\n",
    "ROOT_DIR = os.getcwd()"
   ]
  },
  {
   "cell_type": "code",
   "execution_count": 6,
   "metadata": {},
   "outputs": [],
   "source": [
    "# model = [\n",
    "#     (\"bert_length\", \"bert-base-uncased\"),\n",
    "#     (\"indobert_length\", \"indobenchmark/indobert-base-p1\"),\n",
    "#     (\"albert_length\", \"albert-base-v1\"),\n",
    "#     (\"indoalbert_length\", \"indobenchmark/indobert-lite-base-p2\"),\n",
    "#     (\"longformer_length\", \"allenai/longformer-base-4096\"),\n",
    "#     (\"multibert_length\", \"google-bert/bert-base-multilingual-uncased\")\n",
    "# ]"
   ]
  },
  {
   "cell_type": "code",
   "execution_count": 7,
   "metadata": {},
   "outputs": [
    {
     "name": "stdout",
     "output_type": "stream",
     "text": [
      "0.9251343231432688\n",
      "\n",
      "Running configuration: config_id=51, model_name=google-bert/bert-base-multilingual-uncased, batch_size=4, max_seq_length=256, overlapping=128, epochs=10, learning_rate=1e-05\n",
      "split dataset run...\n",
      "create dataset run...\n",
      "max len 256\n",
      "max len 256\n",
      "max len 256\n",
      "create dataloader run...\n",
      "====== Training Epoch 1/10 ======\n"
     ]
    },
    {
     "name": "stderr",
     "output_type": "stream",
     "text": [
      "Token indices sequence length is longer than the specified maximum sequence length for this model (1004 > 512). Running this sequence through the model will result in indexing errors\n",
      "c:\\Users\\User\\Documents\\Code\\env\\lib\\site-packages\\transformers\\models\\bert\\modeling_bert.py:440: UserWarning: 1Torch was not compiled with flash attention. (Triggered internally at C:\\actions-runner\\_work\\pytorch\\pytorch\\builder\\windows\\pytorch\\aten\\src\\ATen\\native\\transformers\\cuda\\sdp_utils.cpp:555.)\n",
      "  attn_output = torch.nn.functional.scaled_dot_product_attention(\n"
     ]
    },
    {
     "name": "stdout",
     "output_type": "stream",
     "text": [
      "Train Loss: 0.0509, Train QWK: 0.6263, Train Pearson: 0.7393\n",
      "Validation Loss: 0.0303, Validation QWK: 0.8723, Validation Pearson: 0.8890\n",
      "====== Training Epoch 2/10 ======\n",
      "Train Loss: 0.0279, Train QWK: 0.7322, Train Pearson: 0.8614\n",
      "Validation Loss: 0.0213, Validation QWK: 0.9064, Validation Pearson: 0.9057\n",
      "====== Training Epoch 3/10 ======\n",
      "Train Loss: 0.0203, Train QWK: 0.7646, Train Pearson: 0.9009\n",
      "Validation Loss: 0.0236, Validation QWK: 0.8965, Validation Pearson: 0.9124\n",
      "====== Training Epoch 4/10 ======\n",
      "Train Loss: 0.0161, Train QWK: 0.7937, Train Pearson: 0.9221\n",
      "Validation Loss: 0.0187, Validation QWK: 0.9143, Validation Pearson: 0.9149\n",
      "====== Training Epoch 5/10 ======\n",
      "Train Loss: 0.0126, Train QWK: 0.8231, Train Pearson: 0.9396\n",
      "Validation Loss: 0.0218, Validation QWK: 0.9007, Validation Pearson: 0.9077\n",
      "====== Training Epoch 6/10 ======\n",
      "Train Loss: 0.0103, Train QWK: 0.8365, Train Pearson: 0.9506\n",
      "Validation Loss: 0.0200, Validation QWK: 0.9115, Validation Pearson: 0.9122\n",
      "====== Training Epoch 7/10 ======\n",
      "Train Loss: 0.0079, Train QWK: 0.8546, Train Pearson: 0.9625\n",
      "Validation Loss: 0.0193, Validation QWK: 0.9121, Validation Pearson: 0.9126\n",
      "====== Training Epoch 8/10 ======\n",
      "Train Loss: 0.0079, Train QWK: 0.8594, Train Pearson: 0.9625\n",
      "Validation Loss: 0.0252, Validation QWK: 0.8940, Validation Pearson: 0.9061\n",
      "====== Training Epoch 9/10 ======\n",
      "Train Loss: 0.0067, Train QWK: 0.8619, Train Pearson: 0.9681\n",
      "Validation Loss: 0.0246, Validation QWK: 0.8763, Validation Pearson: 0.9154\n",
      "====== Training Epoch 10/10 ======\n",
      "Train Loss: 0.0057, Train QWK: 0.8727, Train Pearson: 0.9731\n",
      "Validation Loss: 0.0208, Validation QWK: 0.9155, Validation Pearson: 0.9156\n",
      "Test Loss: 0.0194, Test QWK: 0.9216, Test Pearson: 0.9209\n",
      "0.9251343231432688\n",
      "\n",
      "Running configuration: config_id=52, model_name=google-bert/bert-base-multilingual-uncased, batch_size=4, max_seq_length=256, overlapping=128, epochs=10, learning_rate=2e-05\n",
      "split dataset run...\n",
      "create dataset run...\n",
      "max len 256\n",
      "max len 256\n",
      "max len 256\n",
      "create dataloader run...\n",
      "====== Training Epoch 1/10 ======\n"
     ]
    },
    {
     "name": "stderr",
     "output_type": "stream",
     "text": [
      "Token indices sequence length is longer than the specified maximum sequence length for this model (1004 > 512). Running this sequence through the model will result in indexing errors\n"
     ]
    },
    {
     "name": "stdout",
     "output_type": "stream",
     "text": [
      "Train Loss: 0.0478, Train QWK: 0.6400, Train Pearson: 0.7516\n",
      "Validation Loss: 0.0448, Validation QWK: 0.8334, Validation Pearson: 0.8815\n",
      "====== Training Epoch 2/10 ======\n",
      "Train Loss: 0.0299, Train QWK: 0.7151, Train Pearson: 0.8516\n",
      "Validation Loss: 0.0265, Validation QWK: 0.8869, Validation Pearson: 0.8987\n",
      "====== Training Epoch 3/10 ======\n",
      "Train Loss: 0.0244, Train QWK: 0.7325, Train Pearson: 0.8807\n",
      "Validation Loss: 0.0217, Validation QWK: 0.9024, Validation Pearson: 0.9024\n",
      "====== Training Epoch 4/10 ======\n",
      "Train Loss: 0.0201, Train QWK: 0.7815, Train Pearson: 0.9030\n",
      "Validation Loss: 0.0318, Validation QWK: 0.8576, Validation Pearson: 0.8912\n",
      "====== Training Epoch 5/10 ======\n",
      "Train Loss: 0.0181, Train QWK: 0.7850, Train Pearson: 0.9128\n",
      "Validation Loss: 0.0304, Validation QWK: 0.8609, Validation Pearson: 0.9020\n",
      "====== Training Epoch 6/10 ======\n",
      "Train Loss: 0.0162, Train QWK: 0.8015, Train Pearson: 0.9221\n",
      "Validation Loss: 0.0205, Validation QWK: 0.9119, Validation Pearson: 0.9133\n",
      "====== Training Epoch 7/10 ======\n",
      "Train Loss: 0.0124, Train QWK: 0.8258, Train Pearson: 0.9409\n",
      "Validation Loss: 0.0260, Validation QWK: 0.8874, Validation Pearson: 0.9033\n",
      "====== Training Epoch 8/10 ======\n",
      "Train Loss: 0.0106, Train QWK: 0.8502, Train Pearson: 0.9496\n",
      "Validation Loss: 0.0228, Validation QWK: 0.8974, Validation Pearson: 0.9131\n",
      "====== Training Epoch 9/10 ======\n",
      "Train Loss: 0.0096, Train QWK: 0.8265, Train Pearson: 0.9545\n",
      "Validation Loss: 0.0209, Validation QWK: 0.8966, Validation Pearson: 0.9044\n",
      "====== Training Epoch 10/10 ======\n",
      "Train Loss: 0.0076, Train QWK: 0.8539, Train Pearson: 0.9638\n",
      "Validation Loss: 0.0267, Validation QWK: 0.8763, Validation Pearson: 0.9034\n",
      "Test Loss: 0.0228, Test QWK: 0.8953, Test Pearson: 0.9184\n"
     ]
    }
   ],
   "source": [
    "for batch_size in batch_sizes:\n",
    "    for overlapping in overlappings:\n",
    "        for num_epochs in epochs_list:\n",
    "            for lr in learning_rates:\n",
    "                results = []\n",
    "                results_epoch = []\n",
    "                df_result1 = None\n",
    "                # Check if the second file exists\n",
    "                if os.path.exists(\"experiments/results/results_epoch.csv\"):\n",
    "                    df_result1 = pd.read_csv(\"experiments/results/results_epoch.csv\")\n",
    "                    print(max(df_result1['valid_qwk']))\n",
    "                else:\n",
    "                    print(\"File 'results_epoch.csv' does not exist.\")\n",
    "                config = {\n",
    "                    \"df\": df,\n",
    "                    \"model_name\": \"google-bert/bert-base-multilingual-uncased\",\n",
    "                    \"overlapping\": overlapping,\n",
    "                    \"batch_size\": batch_size,\n",
    "                    \"learning_rate\": lr,\n",
    "                    \"epochs\": num_epochs,\n",
    "                    \"config_id\": idx,\n",
    "                    \"max_seq_len\": 256,\n",
    "                    \"col_length\": \"multibert_length\",\n",
    "                    \"best_valid_qwk\": max(df_result1['valid_qwk']) if df_result1 is not None and not df_result1.empty else float(\"-inf\")\n",
    "                }\n",
    "\n",
    "                logging.info(\n",
    "                    f\"Running configuration: config_id={idx}, model_name={config['model_name']}, batch_size={batch_size}, \"\n",
    "                    f\"max_seq_length={config['max_seq_len']}, overlapping={overlapping}, epochs={num_epochs}, learning_rate={lr}\"\n",
    "                )\n",
    "                \n",
    "                print(\n",
    "                    f\"\\nRunning configuration: config_id={idx}, model_name={config['model_name']}, batch_size={batch_size}, \"\n",
    "                    f\"max_seq_length={config['max_seq_len']}, overlapping={overlapping}, epochs={num_epochs}, learning_rate={lr}\"\n",
    "                )\n",
    "                \n",
    "                try:\n",
    "                    pipeline = TrainingBertPipeline(config, results, results_epoch)\n",
    "                    pipeline.run_training()\n",
    "\n",
    "                    # Save results\n",
    "                    # Dapatkan root project\n",
    "                    results_path = os.path.join(ROOT_DIR, \"experiments/results/results.csv\")\n",
    "                    results_epoch_path = os.path.join(ROOT_DIR, \"experiments/results/results_epoch.csv\")\n",
    "                    TrainingBertPipeline.save_csv(results, results_path)\n",
    "                    TrainingBertPipeline.save_csv(results_epoch, results_epoch_path)\n",
    "                except Exception as e:\n",
    "                    logging.error(f\"Error in config_id={idx}: {str(e)}\")\n",
    "                    print(f\"Error in config_id={idx}: {str(e)}\")\n",
    "                    torch.cuda.empty_cache()\n",
    "                finally:\n",
    "                    # Clear GPU memory after every configuration\n",
    "                    del pipeline.model\n",
    "                    del pipeline.tokenizer\n",
    "                    del pipeline.optimizer\n",
    "                    torch.cuda.empty_cache()\n",
    "\n",
    "                idx += 1"
   ]
  },
  {
   "cell_type": "code",
   "execution_count": null,
   "metadata": {},
   "outputs": [],
   "source": []
  }
 ],
 "metadata": {
  "kernelspec": {
   "display_name": "env",
   "language": "python",
   "name": "python3"
  },
  "language_info": {
   "codemirror_mode": {
    "name": "ipython",
    "version": 3
   },
   "file_extension": ".py",
   "mimetype": "text/x-python",
   "name": "python",
   "nbconvert_exporter": "python",
   "pygments_lexer": "ipython3",
   "version": "3.10.5"
  }
 },
 "nbformat": 4,
 "nbformat_minor": 2
}
