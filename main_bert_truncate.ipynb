{
 "cells": [
  {
   "cell_type": "code",
   "execution_count": 1,
   "metadata": {},
   "outputs": [],
   "source": [
    "import pandas as pd\n",
    "from src.training.bert_pipeline import TrainingBertPipeline\n",
    "from src.training.bert_truncate_pipeline import BertTruncatePipeline\n",
    "import logging\n",
    "import torch\n",
    "import os"
   ]
  },
  {
   "cell_type": "code",
   "execution_count": 2,
   "metadata": {},
   "outputs": [
    {
     "name": "stdout",
     "output_type": "stream",
     "text": [
      "<class 'pandas.core.frame.DataFrame'>\n",
      "RangeIndex: 5363 entries, 0 to 5362\n",
      "Data columns (total 8 columns):\n",
      " #   Column            Non-Null Count  Dtype  \n",
      "---  ------            --------------  -----  \n",
      " 0   question          4859 non-null   object \n",
      " 1   reference_answer  5363 non-null   object \n",
      " 2   answer            5363 non-null   object \n",
      " 3   score             5363 non-null   float64\n",
      " 4   normalized_score  5363 non-null   float64\n",
      " 5   multibert_length  5363 non-null   int64  \n",
      " 6   dataset           5363 non-null   object \n",
      " 7   dataset_num       5363 non-null   object \n",
      "dtypes: float64(2), int64(1), object(5)\n",
      "memory usage: 335.3+ KB\n"
     ]
    }
   ],
   "source": [
    "df = pd.read_csv(\"data/aes_dataset_5k_clean.csv\")\n",
    "df.info()"
   ]
  },
  {
   "cell_type": "code",
   "execution_count": 3,
   "metadata": {},
   "outputs": [
    {
     "data": {
      "text/plain": [
       "dataset\n",
       "sag               2558\n",
       "analisis_essay    2162\n",
       "stita              333\n",
       "cunlp              171\n",
       "sci                139\n",
       "Name: count, dtype: int64"
      ]
     },
     "execution_count": 3,
     "metadata": {},
     "output_type": "execute_result"
    }
   ],
   "source": [
    "df['dataset'].value_counts()\n",
    "# sag [10]\n",
    "# sci [10]\n",
    "# cunlp [10][13]\n",
    "# stita [10]\n",
    "# analisis_essay [6]"
   ]
  },
  {
   "cell_type": "code",
   "execution_count": 4,
   "metadata": {},
   "outputs": [
    {
     "name": "stdout",
     "output_type": "stream",
     "text": [
      "23\n"
     ]
    }
   ],
   "source": [
    "# Check if the first file exists\n",
    "df_result = None\n",
    "if os.path.exists(\"experiments/results/results.csv\"):\n",
    "    df_result = pd.read_csv(\"experiments/results/results.csv\")\n",
    "    print(df_result['config_id'].iloc[-1])\n",
    "else:\n",
    "    print(\"File 'results.csv' does not exist.\")"
   ]
  },
  {
   "cell_type": "code",
   "execution_count": 6,
   "metadata": {},
   "outputs": [],
   "source": [
    "batch_sizes = [4, 8]\n",
    "epochs_list = [5, 10]\n",
    "learning_rates = [1e-5, 2e-5, 5e-5]\n",
    "idx = (df_result['config_id'].iloc[-1] + 1) if df_result is not None and not df_result.empty else 0  # index untuk setiap kombinasi\n",
    "ROOT_DIR = os.getcwd()"
   ]
  },
  {
   "cell_type": "code",
   "execution_count": 7,
   "metadata": {},
   "outputs": [],
   "source": [
    "# model = [\n",
    "#     (\"bert_length\", \"bert-base-uncased\"),\n",
    "#     (\"indobert_length\", \"indobenchmark/indobert-base-p1\"),\n",
    "#     (\"albert_length\", \"albert-base-v1\"),\n",
    "#     (\"indoalbert_length\", \"indobenchmark/indobert-lite-base-p2\"),\n",
    "#     (\"longformer_length\", \"allenai/longformer-base-4096\"),\n",
    "#     (\"multibert_length\", \"google-bert/bert-base-multilingual-uncased\")\n",
    "# ]"
   ]
  },
  {
   "cell_type": "code",
   "execution_count": 8,
   "metadata": {},
   "outputs": [
    {
     "name": "stdout",
     "output_type": "stream",
     "text": [
      "0.9251343231432688\n",
      "\n",
      "Running configuration: config_id=24, model_name=google-bert/bert-base-multilingual-uncased, batch_size=4, max_seq_length=512, epochs=5, learning_rate=1e-05\n",
      "split dataset run...\n",
      "create dataset run...\n",
      "create dataloader run...\n",
      "create dataloader done...\n",
      "====== Training Epoch 1/5 ======\n"
     ]
    },
    {
     "name": "stderr",
     "output_type": "stream",
     "text": [
      "Token indices sequence length is longer than the specified maximum sequence length for this model (1001 > 512). Running this sequence through the model will result in indexing errors\n",
      "c:\\Users\\User\\Documents\\Code\\env\\lib\\site-packages\\transformers\\models\\bert\\modeling_bert.py:440: UserWarning: 1Torch was not compiled with flash attention. (Triggered internally at C:\\actions-runner\\_work\\pytorch\\pytorch\\builder\\windows\\pytorch\\aten\\src\\ATen\\native\\transformers\\cuda\\sdp_utils.cpp:555.)\n",
      "  attn_output = torch.nn.functional.scaled_dot_product_attention(\n"
     ]
    },
    {
     "name": "stdout",
     "output_type": "stream",
     "text": [
      "Train Loss: 0.0482, Train QWK: 0.6669, Train Pearson: 0.7562\n",
      "Validation Loss: 0.0378, Validation QWK: 0.8624, Validation Pearson: 0.8893\n",
      "====== Training Epoch 2/5 ======\n",
      "Train Loss: 0.0283, Train QWK: 0.7380, Train Pearson: 0.8617\n",
      "Validation Loss: 0.0203, Validation QWK: 0.9093, Validation Pearson: 0.9096\n",
      "====== Training Epoch 3/5 ======\n",
      "Train Loss: 0.0197, Train QWK: 0.7590, Train Pearson: 0.9046\n",
      "Validation Loss: 0.0212, Validation QWK: 0.9046, Validation Pearson: 0.9082\n",
      "====== Training Epoch 4/5 ======\n",
      "Train Loss: 0.0156, Train QWK: 0.8020, Train Pearson: 0.9248\n",
      "Validation Loss: 0.0200, Validation QWK: 0.9109, Validation Pearson: 0.9120\n",
      "====== Training Epoch 5/5 ======\n",
      "Train Loss: 0.0106, Train QWK: 0.8348, Train Pearson: 0.9497\n",
      "Validation Loss: 0.0276, Validation QWK: 0.8924, Validation Pearson: 0.9179\n",
      "Test Loss: 0.0269, Test QWK: 0.8994, Test Pearson: 0.9231\n",
      "0.9251343231432688\n",
      "\n",
      "Running configuration: config_id=25, model_name=google-bert/bert-base-multilingual-uncased, batch_size=4, max_seq_length=512, epochs=5, learning_rate=2e-05\n"
     ]
    },
    {
     "name": "stderr",
     "output_type": "stream",
     "text": [
      "Token indices sequence length is longer than the specified maximum sequence length for this model (1001 > 512). Running this sequence through the model will result in indexing errors\n"
     ]
    },
    {
     "name": "stdout",
     "output_type": "stream",
     "text": [
      "split dataset run...\n",
      "create dataset run...\n",
      "create dataloader run...\n",
      "create dataloader done...\n",
      "====== Training Epoch 1/5 ======\n",
      "Train Loss: 0.0427, Train QWK: 0.6603, Train Pearson: 0.7815\n",
      "Validation Loss: 0.0577, Validation QWK: 0.7814, Validation Pearson: 0.8890\n",
      "====== Training Epoch 2/5 ======\n",
      "Train Loss: 0.0277, Train QWK: 0.7368, Train Pearson: 0.8642\n",
      "Validation Loss: 0.0251, Validation QWK: 0.8912, Validation Pearson: 0.9048\n",
      "====== Training Epoch 3/5 ======\n",
      "Train Loss: 0.0215, Train QWK: 0.7619, Train Pearson: 0.8963\n",
      "Validation Loss: 0.0202, Validation QWK: 0.9041, Validation Pearson: 0.9066\n",
      "====== Training Epoch 4/5 ======\n",
      "Train Loss: 0.0167, Train QWK: 0.8072, Train Pearson: 0.9201\n",
      "Validation Loss: 0.0244, Validation QWK: 0.8839, Validation Pearson: 0.9136\n",
      "====== Training Epoch 5/5 ======\n",
      "Train Loss: 0.0144, Train QWK: 0.8124, Train Pearson: 0.9313\n",
      "Validation Loss: 0.0299, Validation QWK: 0.8767, Validation Pearson: 0.9040\n",
      "Test Loss: 0.0276, Test QWK: 0.8909, Test Pearson: 0.9187\n",
      "0.9251343231432688\n",
      "\n",
      "Running configuration: config_id=26, model_name=google-bert/bert-base-multilingual-uncased, batch_size=4, max_seq_length=512, epochs=5, learning_rate=5e-05\n"
     ]
    },
    {
     "name": "stderr",
     "output_type": "stream",
     "text": [
      "Token indices sequence length is longer than the specified maximum sequence length for this model (1001 > 512). Running this sequence through the model will result in indexing errors\n"
     ]
    },
    {
     "name": "stdout",
     "output_type": "stream",
     "text": [
      "split dataset run...\n",
      "create dataset run...\n",
      "create dataloader run...\n",
      "create dataloader done...\n",
      "====== Training Epoch 1/5 ======\n",
      "Train Loss: 0.0454, Train QWK: 0.6714, Train Pearson: 0.7677\n",
      "Validation Loss: 0.0389, Validation QWK: 0.8180, Validation Pearson: 0.8679\n",
      "====== Training Epoch 2/5 ======\n",
      "Train Loss: 0.0314, Train QWK: 0.7243, Train Pearson: 0.8439\n",
      "Validation Loss: 0.0293, Validation QWK: 0.8768, Validation Pearson: 0.8895\n",
      "====== Training Epoch 3/5 ======\n",
      "Train Loss: 0.0265, Train QWK: 0.7383, Train Pearson: 0.8692\n",
      "Validation Loss: 0.0239, Validation QWK: 0.8880, Validation Pearson: 0.8920\n",
      "====== Training Epoch 4/5 ======\n",
      "Train Loss: 0.0251, Train QWK: 0.7480, Train Pearson: 0.8766\n",
      "Validation Loss: 0.0436, Validation QWK: 0.7635, Validation Pearson: 0.8556\n",
      "====== Training Epoch 5/5 ======\n",
      "Train Loss: 0.0207, Train QWK: 0.7839, Train Pearson: 0.8990\n",
      "Validation Loss: 0.0297, Validation QWK: 0.8749, Validation Pearson: 0.9017\n",
      "Test Loss: 0.0286, Test QWK: 0.8808, Test Pearson: 0.9055\n",
      "0.9251343231432688\n",
      "\n",
      "Running configuration: config_id=27, model_name=google-bert/bert-base-multilingual-uncased, batch_size=4, max_seq_length=512, epochs=10, learning_rate=1e-05\n",
      "split dataset run...\n",
      "create dataset run...\n",
      "create dataloader run...\n",
      "create dataloader done...\n",
      "====== Training Epoch 1/10 ======\n"
     ]
    },
    {
     "name": "stderr",
     "output_type": "stream",
     "text": [
      "Token indices sequence length is longer than the specified maximum sequence length for this model (1001 > 512). Running this sequence through the model will result in indexing errors\n"
     ]
    },
    {
     "name": "stdout",
     "output_type": "stream",
     "text": [
      "Train Loss: 0.0442, Train QWK: 0.6650, Train Pearson: 0.7752\n",
      "Validation Loss: 0.0317, Validation QWK: 0.8563, Validation Pearson: 0.8784\n",
      "====== Training Epoch 2/10 ======\n",
      "Train Loss: 0.0254, Train QWK: 0.7435, Train Pearson: 0.8746\n",
      "Validation Loss: 0.0186, Validation QWK: 0.9096, Validation Pearson: 0.9141\n",
      "====== Training Epoch 3/10 ======\n",
      "Train Loss: 0.0177, Train QWK: 0.7733, Train Pearson: 0.9142\n",
      "Validation Loss: 0.0199, Validation QWK: 0.9080, Validation Pearson: 0.9133\n",
      "====== Training Epoch 4/10 ======\n",
      "Train Loss: 0.0144, Train QWK: 0.8035, Train Pearson: 0.9308\n",
      "Validation Loss: 0.0198, Validation QWK: 0.9086, Validation Pearson: 0.9168\n",
      "====== Training Epoch 5/10 ======\n",
      "Train Loss: 0.0105, Train QWK: 0.8395, Train Pearson: 0.9499\n",
      "Validation Loss: 0.0206, Validation QWK: 0.9101, Validation Pearson: 0.9181\n",
      "====== Training Epoch 6/10 ======\n",
      "Train Loss: 0.0081, Train QWK: 0.8485, Train Pearson: 0.9614\n",
      "Validation Loss: 0.0200, Validation QWK: 0.9091, Validation Pearson: 0.9109\n",
      "====== Training Epoch 7/10 ======\n",
      "Train Loss: 0.0061, Train QWK: 0.8616, Train Pearson: 0.9710\n",
      "Validation Loss: 0.0205, Validation QWK: 0.9123, Validation Pearson: 0.9179\n",
      "====== Training Epoch 8/10 ======\n",
      "Train Loss: 0.0054, Train QWK: 0.8711, Train Pearson: 0.9743\n",
      "Validation Loss: 0.0201, Validation QWK: 0.9120, Validation Pearson: 0.9168\n",
      "====== Training Epoch 9/10 ======\n",
      "Train Loss: 0.0047, Train QWK: 0.8822, Train Pearson: 0.9779\n",
      "Validation Loss: 0.0203, Validation QWK: 0.9042, Validation Pearson: 0.9177\n",
      "====== Training Epoch 10/10 ======\n",
      "Train Loss: 0.0042, Train QWK: 0.8883, Train Pearson: 0.9803\n",
      "Validation Loss: 0.0207, Validation QWK: 0.9081, Validation Pearson: 0.9213\n",
      "Test Loss: 0.0184, Test QWK: 0.9205, Test Pearson: 0.9304\n",
      "0.9251343231432688\n",
      "\n",
      "Running configuration: config_id=28, model_name=google-bert/bert-base-multilingual-uncased, batch_size=4, max_seq_length=512, epochs=10, learning_rate=2e-05\n",
      "split dataset run...\n",
      "create dataset run...\n",
      "create dataloader run...\n",
      "create dataloader done...\n",
      "====== Training Epoch 1/10 ======\n"
     ]
    },
    {
     "name": "stderr",
     "output_type": "stream",
     "text": [
      "Token indices sequence length is longer than the specified maximum sequence length for this model (1001 > 512). Running this sequence through the model will result in indexing errors\n"
     ]
    },
    {
     "name": "stdout",
     "output_type": "stream",
     "text": [
      "Train Loss: 0.0521, Train QWK: 0.6582, Train Pearson: 0.7405\n",
      "Validation Loss: 0.0295, Validation QWK: 0.8755, Validation Pearson: 0.8967\n",
      "====== Training Epoch 2/10 ======\n",
      "Train Loss: 0.0277, Train QWK: 0.7288, Train Pearson: 0.8646\n",
      "Validation Loss: 0.0250, Validation QWK: 0.8985, Validation Pearson: 0.9066\n",
      "====== Training Epoch 3/10 ======\n",
      "Train Loss: 0.0214, Train QWK: 0.7680, Train Pearson: 0.8968\n",
      "Validation Loss: 0.0210, Validation QWK: 0.9065, Validation Pearson: 0.9063\n",
      "====== Training Epoch 4/10 ======\n",
      "Train Loss: 0.0171, Train QWK: 0.7953, Train Pearson: 0.9182\n",
      "Validation Loss: 0.0211, Validation QWK: 0.8998, Validation Pearson: 0.9045\n",
      "====== Training Epoch 5/10 ======\n",
      "Train Loss: 0.0139, Train QWK: 0.8212, Train Pearson: 0.9340\n",
      "Validation Loss: 0.0335, Validation QWK: 0.8766, Validation Pearson: 0.9133\n",
      "====== Training Epoch 6/10 ======\n",
      "Train Loss: 0.0111, Train QWK: 0.8246, Train Pearson: 0.9473\n",
      "Validation Loss: 0.0199, Validation QWK: 0.9141, Validation Pearson: 0.9157\n",
      "====== Training Epoch 7/10 ======\n",
      "Train Loss: 0.0085, Train QWK: 0.8438, Train Pearson: 0.9600\n",
      "Validation Loss: 0.0213, Validation QWK: 0.9066, Validation Pearson: 0.9077\n",
      "====== Training Epoch 8/10 ======\n",
      "Train Loss: 0.0067, Train QWK: 0.8754, Train Pearson: 0.9685\n",
      "Validation Loss: 0.0221, Validation QWK: 0.9048, Validation Pearson: 0.9078\n",
      "====== Training Epoch 9/10 ======\n",
      "Train Loss: 0.0059, Train QWK: 0.8740, Train Pearson: 0.9723\n",
      "Validation Loss: 0.0181, Validation QWK: 0.9179, Validation Pearson: 0.9188\n",
      "====== Training Epoch 10/10 ======\n",
      "Train Loss: 0.0049, Train QWK: 0.8686, Train Pearson: 0.9768\n",
      "Validation Loss: 0.0234, Validation QWK: 0.8963, Validation Pearson: 0.9073\n",
      "Test Loss: 0.0204, Test QWK: 0.9124, Test Pearson: 0.9209\n",
      "0.9251343231432688\n",
      "\n",
      "Running configuration: config_id=29, model_name=google-bert/bert-base-multilingual-uncased, batch_size=4, max_seq_length=512, epochs=10, learning_rate=5e-05\n"
     ]
    },
    {
     "name": "stderr",
     "output_type": "stream",
     "text": [
      "Token indices sequence length is longer than the specified maximum sequence length for this model (1001 > 512). Running this sequence through the model will result in indexing errors\n"
     ]
    },
    {
     "name": "stdout",
     "output_type": "stream",
     "text": [
      "split dataset run...\n",
      "create dataset run...\n",
      "create dataloader run...\n",
      "create dataloader done...\n",
      "====== Training Epoch 1/10 ======\n",
      "Train Loss: 0.0447, Train QWK: 0.6561, Train Pearson: 0.7692\n",
      "Validation Loss: 0.0318, Validation QWK: 0.8212, Validation Pearson: 0.8704\n",
      "====== Training Epoch 2/10 ======\n",
      "Train Loss: 0.0304, Train QWK: 0.7252, Train Pearson: 0.8482\n",
      "Validation Loss: 0.0251, Validation QWK: 0.8873, Validation Pearson: 0.8941\n",
      "====== Training Epoch 3/10 ======\n",
      "Train Loss: 0.0380, Train QWK: 0.6861, Train Pearson: 0.8054\n",
      "Validation Loss: 0.0339, Validation QWK: 0.8624, Validation Pearson: 0.8668\n",
      "====== Training Epoch 4/10 ======\n",
      "Train Loss: 0.0253, Train QWK: 0.7439, Train Pearson: 0.8746\n",
      "Validation Loss: 0.0300, Validation QWK: 0.8661, Validation Pearson: 0.8752\n",
      "====== Training Epoch 5/10 ======\n",
      "Train Loss: 0.0222, Train QWK: 0.7672, Train Pearson: 0.8911\n",
      "Validation Loss: 0.0366, Validation QWK: 0.8369, Validation Pearson: 0.8744\n",
      "====== Training Epoch 6/10 ======\n",
      "Train Loss: 0.0215, Train QWK: 0.7830, Train Pearson: 0.8945\n",
      "Validation Loss: 0.0250, Validation QWK: 0.8947, Validation Pearson: 0.8936\n",
      "====== Training Epoch 7/10 ======\n",
      "Train Loss: 0.0153, Train QWK: 0.7982, Train Pearson: 0.9263\n",
      "Validation Loss: 0.0318, Validation QWK: 0.8805, Validation Pearson: 0.8873\n",
      "====== Training Epoch 8/10 ======\n",
      "Train Loss: 0.0128, Train QWK: 0.8223, Train Pearson: 0.9385\n",
      "Validation Loss: 0.0307, Validation QWK: 0.8748, Validation Pearson: 0.9020\n",
      "====== Training Epoch 9/10 ======\n",
      "Train Loss: 0.0121, Train QWK: 0.8288, Train Pearson: 0.9420\n",
      "Validation Loss: 0.0252, Validation QWK: 0.8776, Validation Pearson: 0.8926\n",
      "====== Training Epoch 10/10 ======\n",
      "Train Loss: 0.0095, Train QWK: 0.8336, Train Pearson: 0.9548\n",
      "Validation Loss: 0.0225, Validation QWK: 0.8934, Validation Pearson: 0.8995\n",
      "Test Loss: 0.0187, Test QWK: 0.9131, Test Pearson: 0.9161\n",
      "0.9251343231432688\n",
      "\n",
      "Running configuration: config_id=30, model_name=google-bert/bert-base-multilingual-uncased, batch_size=8, max_seq_length=512, epochs=5, learning_rate=1e-05\n",
      "split dataset run...\n"
     ]
    },
    {
     "name": "stderr",
     "output_type": "stream",
     "text": [
      "Token indices sequence length is longer than the specified maximum sequence length for this model (1001 > 512). Running this sequence through the model will result in indexing errors\n"
     ]
    },
    {
     "name": "stdout",
     "output_type": "stream",
     "text": [
      "create dataset run...\n",
      "create dataloader run...\n",
      "create dataloader done...\n",
      "====== Training Epoch 1/5 ======\n",
      "Train Loss: 0.0521, Train QWK: 0.6438, Train Pearson: 0.7309\n",
      "Validation Loss: 0.0416, Validation QWK: 0.8450, Validation Pearson: 0.8737\n",
      "====== Training Epoch 2/5 ======\n",
      "Train Loss: 0.0291, Train QWK: 0.7281, Train Pearson: 0.8559\n",
      "Validation Loss: 0.0209, Validation QWK: 0.9012, Validation Pearson: 0.9052\n",
      "====== Training Epoch 3/5 ======\n",
      "Train Loss: 0.0214, Train QWK: 0.7583, Train Pearson: 0.8958\n",
      "Validation Loss: 0.0194, Validation QWK: 0.9057, Validation Pearson: 0.9108\n",
      "====== Training Epoch 4/5 ======\n",
      "Train Loss: 0.0162, Train QWK: 0.7926, Train Pearson: 0.9221\n",
      "Validation Loss: 0.0198, Validation QWK: 0.9063, Validation Pearson: 0.9083\n",
      "====== Training Epoch 5/5 ======\n",
      "Train Loss: 0.0120, Train QWK: 0.8218, Train Pearson: 0.9426\n",
      "Validation Loss: 0.0232, Validation QWK: 0.9009, Validation Pearson: 0.9134\n",
      "Test Loss: 0.0212, Test QWK: 0.9155, Test Pearson: 0.9248\n",
      "0.9251343231432688\n",
      "\n",
      "Running configuration: config_id=31, model_name=google-bert/bert-base-multilingual-uncased, batch_size=8, max_seq_length=512, epochs=5, learning_rate=2e-05\n",
      "split dataset run...\n",
      "create dataset run...\n",
      "create dataloader run...\n",
      "create dataloader done...\n",
      "====== Training Epoch 1/5 ======\n"
     ]
    },
    {
     "name": "stderr",
     "output_type": "stream",
     "text": [
      "Token indices sequence length is longer than the specified maximum sequence length for this model (1001 > 512). Running this sequence through the model will result in indexing errors\n"
     ]
    },
    {
     "name": "stdout",
     "output_type": "stream",
     "text": [
      "Train Loss: 0.0436, Train QWK: 0.6597, Train Pearson: 0.7760\n",
      "Validation Loss: 0.0360, Validation QWK: 0.8477, Validation Pearson: 0.8927\n",
      "====== Training Epoch 2/5 ======\n",
      "Train Loss: 0.0276, Train QWK: 0.7559, Train Pearson: 0.8650\n",
      "Validation Loss: 0.0233, Validation QWK: 0.9072, Validation Pearson: 0.9105\n",
      "====== Training Epoch 3/5 ======\n",
      "Train Loss: 0.0215, Train QWK: 0.7688, Train Pearson: 0.8965\n",
      "Validation Loss: 0.0218, Validation QWK: 0.8975, Validation Pearson: 0.9064\n",
      "====== Training Epoch 4/5 ======\n",
      "Train Loss: 0.0162, Train QWK: 0.7979, Train Pearson: 0.9226\n",
      "Validation Loss: 0.0215, Validation QWK: 0.8974, Validation Pearson: 0.9037\n",
      "====== Training Epoch 5/5 ======\n",
      "Train Loss: 0.0116, Train QWK: 0.8231, Train Pearson: 0.9448\n",
      "Validation Loss: 0.0248, Validation QWK: 0.8870, Validation Pearson: 0.9111\n",
      "Test Loss: 0.0213, Test QWK: 0.9078, Test Pearson: 0.9292\n",
      "0.9251343231432688\n",
      "\n",
      "Running configuration: config_id=32, model_name=google-bert/bert-base-multilingual-uncased, batch_size=8, max_seq_length=512, epochs=5, learning_rate=5e-05\n"
     ]
    },
    {
     "name": "stderr",
     "output_type": "stream",
     "text": [
      "Token indices sequence length is longer than the specified maximum sequence length for this model (1001 > 512). Running this sequence through the model will result in indexing errors\n"
     ]
    },
    {
     "name": "stdout",
     "output_type": "stream",
     "text": [
      "split dataset run...\n",
      "create dataset run...\n",
      "create dataloader run...\n",
      "create dataloader done...\n",
      "====== Training Epoch 1/5 ======\n",
      "Train Loss: 0.0469, Train QWK: 0.6639, Train Pearson: 0.7632\n",
      "Validation Loss: 0.0464, Validation QWK: 0.8248, Validation Pearson: 0.8927\n",
      "====== Training Epoch 2/5 ======\n",
      "Train Loss: 0.0284, Train QWK: 0.7380, Train Pearson: 0.8601\n",
      "Validation Loss: 0.0281, Validation QWK: 0.8746, Validation Pearson: 0.9005\n",
      "====== Training Epoch 3/5 ======\n",
      "Train Loss: 0.0228, Train QWK: 0.7559, Train Pearson: 0.8886\n",
      "Validation Loss: 0.0250, Validation QWK: 0.8921, Validation Pearson: 0.8959\n",
      "====== Training Epoch 4/5 ======\n",
      "Train Loss: 0.0185, Train QWK: 0.7835, Train Pearson: 0.9106\n",
      "Validation Loss: 0.0230, Validation QWK: 0.8940, Validation Pearson: 0.8968\n",
      "====== Training Epoch 5/5 ======\n",
      "Train Loss: 0.0145, Train QWK: 0.8154, Train Pearson: 0.9306\n",
      "Validation Loss: 0.0310, Validation QWK: 0.8693, Validation Pearson: 0.8981\n",
      "Test Loss: 0.0273, Test QWK: 0.8896, Test Pearson: 0.9145\n",
      "0.9251343231432688\n",
      "\n",
      "Running configuration: config_id=33, model_name=google-bert/bert-base-multilingual-uncased, batch_size=8, max_seq_length=512, epochs=10, learning_rate=1e-05\n",
      "split dataset run...\n",
      "create dataset run...\n",
      "create dataloader run...\n",
      "create dataloader done...\n",
      "====== Training Epoch 1/10 ======\n"
     ]
    },
    {
     "name": "stderr",
     "output_type": "stream",
     "text": [
      "Token indices sequence length is longer than the specified maximum sequence length for this model (1001 > 512). Running this sequence through the model will result in indexing errors\n"
     ]
    },
    {
     "name": "stdout",
     "output_type": "stream",
     "text": [
      "Train Loss: 0.0456, Train QWK: 0.6439, Train Pearson: 0.7648\n",
      "Validation Loss: 0.0315, Validation QWK: 0.8572, Validation Pearson: 0.8803\n",
      "====== Training Epoch 2/10 ======\n",
      "Train Loss: 0.0276, Train QWK: 0.7421, Train Pearson: 0.8641\n",
      "Validation Loss: 0.0216, Validation QWK: 0.9026, Validation Pearson: 0.9062\n",
      "====== Training Epoch 3/10 ======\n",
      "Train Loss: 0.0180, Train QWK: 0.7799, Train Pearson: 0.9124\n",
      "Validation Loss: 0.0201, Validation QWK: 0.9042, Validation Pearson: 0.9070\n",
      "====== Training Epoch 4/10 ======\n",
      "Train Loss: 0.0129, Train QWK: 0.8143, Train Pearson: 0.9382\n",
      "Validation Loss: 0.0193, Validation QWK: 0.9092, Validation Pearson: 0.9121\n",
      "====== Training Epoch 5/10 ======\n",
      "Train Loss: 0.0097, Train QWK: 0.8375, Train Pearson: 0.9537\n",
      "Validation Loss: 0.0267, Validation QWK: 0.8937, Validation Pearson: 0.9153\n",
      "====== Training Epoch 6/10 ======\n",
      "Train Loss: 0.0075, Train QWK: 0.8600, Train Pearson: 0.9643\n",
      "Validation Loss: 0.0191, Validation QWK: 0.9154, Validation Pearson: 0.9181\n",
      "====== Training Epoch 7/10 ======\n",
      "Train Loss: 0.0061, Train QWK: 0.8706, Train Pearson: 0.9713\n",
      "Validation Loss: 0.0193, Validation QWK: 0.9126, Validation Pearson: 0.9132\n",
      "====== Training Epoch 8/10 ======\n",
      "Train Loss: 0.0049, Train QWK: 0.8767, Train Pearson: 0.9768\n",
      "Validation Loss: 0.0182, Validation QWK: 0.9151, Validation Pearson: 0.9189\n",
      "====== Training Epoch 9/10 ======\n",
      "Train Loss: 0.0045, Train QWK: 0.8798, Train Pearson: 0.9786\n",
      "Validation Loss: 0.0187, Validation QWK: 0.9136, Validation Pearson: 0.9191\n",
      "====== Training Epoch 10/10 ======\n",
      "Train Loss: 0.0040, Train QWK: 0.8913, Train Pearson: 0.9813\n",
      "Validation Loss: 0.0182, Validation QWK: 0.9183, Validation Pearson: 0.9207\n",
      "Test Loss: 0.0165, Test QWK: 0.9304, Test Pearson: 0.9310\n",
      "0.9251343231432688\n",
      "\n",
      "Running configuration: config_id=34, model_name=google-bert/bert-base-multilingual-uncased, batch_size=8, max_seq_length=512, epochs=10, learning_rate=2e-05\n"
     ]
    },
    {
     "name": "stderr",
     "output_type": "stream",
     "text": [
      "Token indices sequence length is longer than the specified maximum sequence length for this model (1001 > 512). Running this sequence through the model will result in indexing errors\n"
     ]
    },
    {
     "name": "stdout",
     "output_type": "stream",
     "text": [
      "split dataset run...\n",
      "create dataset run...\n",
      "create dataloader run...\n",
      "create dataloader done...\n",
      "====== Training Epoch 1/10 ======\n",
      "Train Loss: 0.0408, Train QWK: 0.6760, Train Pearson: 0.7906\n",
      "Validation Loss: 0.0432, Validation QWK: 0.8357, Validation Pearson: 0.8974\n",
      "====== Training Epoch 2/10 ======\n",
      "Train Loss: 0.0237, Train QWK: 0.7588, Train Pearson: 0.8841\n",
      "Validation Loss: 0.0245, Validation QWK: 0.8969, Validation Pearson: 0.9058\n",
      "====== Training Epoch 3/10 ======\n",
      "Train Loss: 0.0184, Train QWK: 0.7763, Train Pearson: 0.9115\n",
      "Validation Loss: 0.0200, Validation QWK: 0.9030, Validation Pearson: 0.9075\n",
      "====== Training Epoch 4/10 ======\n",
      "Train Loss: 0.0154, Train QWK: 0.8046, Train Pearson: 0.9263\n",
      "Validation Loss: 0.0239, Validation QWK: 0.8915, Validation Pearson: 0.9041\n",
      "====== Training Epoch 5/10 ======\n",
      "Train Loss: 0.0125, Train QWK: 0.8315, Train Pearson: 0.9410\n",
      "Validation Loss: 0.0259, Validation QWK: 0.8934, Validation Pearson: 0.9091\n",
      "====== Training Epoch 6/10 ======\n",
      "Train Loss: 0.0097, Train QWK: 0.8348, Train Pearson: 0.9544\n",
      "Validation Loss: 0.0221, Validation QWK: 0.9081, Validation Pearson: 0.9126\n",
      "====== Training Epoch 7/10 ======\n",
      "Train Loss: 0.0082, Train QWK: 0.8585, Train Pearson: 0.9612\n",
      "Validation Loss: 0.0193, Validation QWK: 0.9110, Validation Pearson: 0.9136\n",
      "====== Training Epoch 8/10 ======\n",
      "Train Loss: 0.0072, Train QWK: 0.8569, Train Pearson: 0.9660\n",
      "Validation Loss: 0.0212, Validation QWK: 0.9098, Validation Pearson: 0.9163\n",
      "====== Training Epoch 9/10 ======\n",
      "Train Loss: 0.0055, Train QWK: 0.8832, Train Pearson: 0.9741\n",
      "Validation Loss: 0.0197, Validation QWK: 0.9047, Validation Pearson: 0.9123\n",
      "====== Training Epoch 10/10 ======\n",
      "Train Loss: 0.0046, Train QWK: 0.8858, Train Pearson: 0.9783\n",
      "Validation Loss: 0.0210, Validation QWK: 0.9114, Validation Pearson: 0.9199\n",
      "Test Loss: 0.0191, Test QWK: 0.9248, Test Pearson: 0.9302\n",
      "0.9251343231432688\n",
      "\n",
      "Running configuration: config_id=35, model_name=google-bert/bert-base-multilingual-uncased, batch_size=8, max_seq_length=512, epochs=10, learning_rate=5e-05\n",
      "split dataset run...\n"
     ]
    },
    {
     "name": "stderr",
     "output_type": "stream",
     "text": [
      "Token indices sequence length is longer than the specified maximum sequence length for this model (1001 > 512). Running this sequence through the model will result in indexing errors\n"
     ]
    },
    {
     "name": "stdout",
     "output_type": "stream",
     "text": [
      "create dataset run...\n",
      "create dataloader run...\n",
      "create dataloader done...\n",
      "====== Training Epoch 1/10 ======\n",
      "Train Loss: 0.0457, Train QWK: 0.6618, Train Pearson: 0.7673\n",
      "Validation Loss: 0.0299, Validation QWK: 0.8609, Validation Pearson: 0.8843\n",
      "====== Training Epoch 2/10 ======\n",
      "Train Loss: 0.0262, Train QWK: 0.7588, Train Pearson: 0.8709\n",
      "Validation Loss: 0.0251, Validation QWK: 0.8947, Validation Pearson: 0.9005\n",
      "====== Training Epoch 3/10 ======\n",
      "Train Loss: 0.0214, Train QWK: 0.7668, Train Pearson: 0.8962\n",
      "Validation Loss: 0.0256, Validation QWK: 0.8911, Validation Pearson: 0.8894\n",
      "====== Training Epoch 4/10 ======\n",
      "Train Loss: 0.0195, Train QWK: 0.7900, Train Pearson: 0.9057\n",
      "Validation Loss: 0.0214, Validation QWK: 0.8993, Validation Pearson: 0.9011\n",
      "====== Training Epoch 5/10 ======\n",
      "Train Loss: 0.0142, Train QWK: 0.8124, Train Pearson: 0.9319\n",
      "Validation Loss: 0.0298, Validation QWK: 0.8823, Validation Pearson: 0.9044\n",
      "====== Training Epoch 6/10 ======\n",
      "Train Loss: 0.0121, Train QWK: 0.8295, Train Pearson: 0.9420\n",
      "Validation Loss: 0.0262, Validation QWK: 0.8834, Validation Pearson: 0.8990\n",
      "====== Training Epoch 7/10 ======\n",
      "Train Loss: 0.0125, Train QWK: 0.8263, Train Pearson: 0.9404\n",
      "Validation Loss: 0.0275, Validation QWK: 0.8901, Validation Pearson: 0.8965\n",
      "====== Training Epoch 8/10 ======\n",
      "Train Loss: 0.0090, Train QWK: 0.8509, Train Pearson: 0.9575\n",
      "Validation Loss: 0.0335, Validation QWK: 0.8586, Validation Pearson: 0.8931\n",
      "====== Training Epoch 9/10 ======\n",
      "Train Loss: 0.0086, Train QWK: 0.8554, Train Pearson: 0.9593\n",
      "Validation Loss: 0.0253, Validation QWK: 0.8778, Validation Pearson: 0.8925\n",
      "====== Training Epoch 10/10 ======\n",
      "Train Loss: 0.0066, Train QWK: 0.8783, Train Pearson: 0.9687\n",
      "Validation Loss: 0.0201, Validation QWK: 0.9091, Validation Pearson: 0.9104\n",
      "Test Loss: 0.0182, Test QWK: 0.9207, Test Pearson: 0.9219\n"
     ]
    }
   ],
   "source": [
    "for batch_size in batch_sizes:\n",
    "    for num_epochs in epochs_list:\n",
    "        for lr in learning_rates:\n",
    "            results = []\n",
    "            results_epoch = []\n",
    "            df_result1 = None\n",
    "            # Check if the second file exists\n",
    "            if os.path.exists(\"experiments/results/results_epoch.csv\"):\n",
    "                df_result1 = pd.read_csv(\"experiments/results/results_epoch.csv\")\n",
    "                print(max(df_result1['valid_qwk']))\n",
    "            else:\n",
    "                print(\"File 'results_epoch.csv' does not exist.\")\n",
    "            config = {\n",
    "                \"df\": df,\n",
    "                \"model_name\": \"google-bert/bert-base-multilingual-uncased\",\n",
    "                \"batch_size\": batch_size,\n",
    "                \"learning_rate\": lr,\n",
    "                \"epochs\": num_epochs,\n",
    "                \"config_id\": idx,\n",
    "                \"max_seq_len\": 512,\n",
    "                \"col_length\": \"multibert_length\",\n",
    "                \"best_valid_qwk\": max(df_result1['valid_qwk']) if df_result1 is not None and not df_result1.empty else float(\"-inf\")\n",
    "            }\n",
    "\n",
    "            logging.info(\n",
    "                f\"Running configuration: config_id={idx}, model_name={config['model_name']}, batch_size={batch_size}, \"\n",
    "                f\"max_seq_length={config['max_seq_len']}, epochs={num_epochs}, learning_rate={lr}\"\n",
    "            )\n",
    "            \n",
    "            print(\n",
    "                f\"\\nRunning configuration: config_id={idx}, model_name={config['model_name']}, batch_size={batch_size}, \"\n",
    "                f\"max_seq_length={config['max_seq_len']}, epochs={num_epochs}, learning_rate={lr}\"\n",
    "            )\n",
    "            \n",
    "            try:\n",
    "                pipeline = BertTruncatePipeline(config, results, results_epoch)\n",
    "                pipeline.run_training()\n",
    "\n",
    "                # Save results\n",
    "                results_path = os.path.join(ROOT_DIR, \"experiments/results/results.csv\")\n",
    "                results_epoch_path = os.path.join(ROOT_DIR, \"experiments/results/results_epoch.csv\")\n",
    "                TrainingBertPipeline.save_csv(results, results_path)\n",
    "                TrainingBertPipeline.save_csv(results_epoch, results_epoch_path)\n",
    "            except Exception as e:\n",
    "                logging.error(f\"Error in config_id={idx}: {str(e)}\")\n",
    "                print(f\"Error in config_id={idx}: {str(e)}\")\n",
    "                torch.cuda.empty_cache()\n",
    "            finally:\n",
    "                # Clear GPU memory after every configuration\n",
    "                del pipeline.model\n",
    "                del pipeline.tokenizer\n",
    "                del pipeline.optimizer\n",
    "                torch.cuda.empty_cache()\n",
    "\n",
    "            idx += 1"
   ]
  },
  {
   "cell_type": "code",
   "execution_count": null,
   "metadata": {},
   "outputs": [],
   "source": []
  }
 ],
 "metadata": {
  "kernelspec": {
   "display_name": "env",
   "language": "python",
   "name": "python3"
  },
  "language_info": {
   "codemirror_mode": {
    "name": "ipython",
    "version": 3
   },
   "file_extension": ".py",
   "mimetype": "text/x-python",
   "name": "python",
   "nbconvert_exporter": "python",
   "pygments_lexer": "ipython3",
   "version": "3.10.5"
  }
 },
 "nbformat": 4,
 "nbformat_minor": 2
}
