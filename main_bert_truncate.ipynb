{
 "cells": [
  {
   "cell_type": "code",
   "execution_count": 1,
   "metadata": {},
   "outputs": [],
   "source": [
    "import pandas as pd\n",
    "from src.training.bert_pipeline import TrainingBertPipeline\n",
    "from src.training.bert_truncate_pipeline import BertTruncatePipeline\n",
    "import logging\n",
    "import torch\n",
    "import os"
   ]
  },
  {
   "cell_type": "code",
   "execution_count": 2,
   "metadata": {},
   "outputs": [
    {
     "name": "stdout",
     "output_type": "stream",
     "text": [
      "<class 'pandas.core.frame.DataFrame'>\n",
      "RangeIndex: 5363 entries, 0 to 5362\n",
      "Data columns (total 13 columns):\n",
      " #   Column             Non-Null Count  Dtype  \n",
      "---  ------             --------------  -----  \n",
      " 0   question           4859 non-null   object \n",
      " 1   reference_answer   5363 non-null   object \n",
      " 2   answer             5363 non-null   object \n",
      " 3   score              5363 non-null   float64\n",
      " 4   dataset            5363 non-null   object \n",
      " 5   normalized_score   5363 non-null   float64\n",
      " 6   normalized_score2  5363 non-null   int64  \n",
      " 7   bert_length        5363 non-null   int64  \n",
      " 8   indobert_length    5363 non-null   int64  \n",
      " 9   albert_length      5363 non-null   int64  \n",
      " 10  longformer_length  5363 non-null   int64  \n",
      " 11  multibert_length   5363 non-null   int64  \n",
      " 12  indoalbert_length  5363 non-null   int64  \n",
      "dtypes: float64(2), int64(7), object(4)\n",
      "memory usage: 544.8+ KB\n"
     ]
    }
   ],
   "source": [
    "df = pd.read_csv(\"data/aes_dataset_5k.csv\")\n",
    "df.info()"
   ]
  },
  {
   "cell_type": "code",
   "execution_count": 3,
   "metadata": {},
   "outputs": [
    {
     "data": {
      "text/plain": [
       "dataset\n",
       "sag               2558\n",
       "analisis_essay    2162\n",
       "stita              333\n",
       "cunlp              171\n",
       "sci                139\n",
       "Name: count, dtype: int64"
      ]
     },
     "execution_count": 3,
     "metadata": {},
     "output_type": "execute_result"
    }
   ],
   "source": [
    "df['dataset'].value_counts()\n",
    "# sag [10]\n",
    "# sci [10]\n",
    "# cunlp [10][13]\n",
    "# stita [10]\n",
    "# analisis_essay [6]"
   ]
  },
  {
   "cell_type": "code",
   "execution_count": 4,
   "metadata": {},
   "outputs": [
    {
     "name": "stdout",
     "output_type": "stream",
     "text": [
      "18\n"
     ]
    }
   ],
   "source": [
    "# Check if the first file exists\n",
    "df_result = None\n",
    "if os.path.exists(\"experiments/results/results.csv\"):\n",
    "    df_result = pd.read_csv(\"experiments/results/results.csv\")\n",
    "    print(df_result['config_id'].iloc[-1])\n",
    "else:\n",
    "    print(\"File 'results.csv' does not exist.\")"
   ]
  },
  {
   "cell_type": "code",
   "execution_count": 5,
   "metadata": {},
   "outputs": [],
   "source": [
    "results = []\n",
    "results_epoch = []"
   ]
  },
  {
   "cell_type": "code",
   "execution_count": 6,
   "metadata": {},
   "outputs": [],
   "source": [
    "batch_sizes = [4]\n",
    "epochs_list = [5, 10]\n",
    "learning_rates = [1e-5, 5e-5]\n",
    "idx = (df_result['config_id'].iloc[-1] + 1) if df_result is not None and not df_result.empty else 0  # index untuk setiap kombinasi\n",
    "ROOT_DIR = os.getcwd()"
   ]
  },
  {
   "cell_type": "code",
   "execution_count": 7,
   "metadata": {},
   "outputs": [],
   "source": [
    "# model = [\n",
    "#     (\"bert_length\", \"bert-base-uncased\"),\n",
    "#     (\"indobert_length\", \"indobenchmark/indobert-base-p1\"),\n",
    "#     (\"albert_length\", \"albert-base-v1\"),\n",
    "#     (\"indoalbert_length\", \"indobenchmark/indobert-lite-base-p2\"),\n",
    "#     (\"longformer_length\", \"allenai/longformer-base-4096\"),\n",
    "#     (\"multibert_length\", \"google-bert/bert-base-multilingual-cased\")\n",
    "# ]"
   ]
  },
  {
   "cell_type": "code",
   "execution_count": 8,
   "metadata": {},
   "outputs": [
    {
     "name": "stdout",
     "output_type": "stream",
     "text": [
      "0.9029191176432184\n",
      "\n",
      "Running configuration: config_id=19, model_name=bert-base-uncased, batch_size=4, max_seq_length=512, epochs=5, learning_rate=1e-05\n",
      "split dataset run...\n",
      "create dataset run...\n",
      "create dataloader run...\n",
      "create dataloader done...\n",
      "====== Training Epoch 1/5 ======\n"
     ]
    },
    {
     "name": "stderr",
     "output_type": "stream",
     "text": [
      "c:\\Users\\User\\Documents\\Code\\env\\lib\\site-packages\\transformers\\models\\bert\\modeling_bert.py:440: UserWarning: 1Torch was not compiled with flash attention. (Triggered internally at C:\\actions-runner\\_work\\pytorch\\pytorch\\builder\\windows\\pytorch\\aten\\src\\ATen\\native\\transformers\\cuda\\sdp_utils.cpp:555.)\n",
      "  attn_output = torch.nn.functional.scaled_dot_product_attention(\n",
      "Token indices sequence length is longer than the specified maximum sequence length for this model (719 > 512). Running this sequence through the model will result in indexing errors\n"
     ]
    },
    {
     "name": "stdout",
     "output_type": "stream",
     "text": [
      "Train Loss: 0.0445, Train QWK: 0.6652, Train Pearson: 0.7752\n",
      "Validation Loss: 0.0316, Validation QWK: 0.8515, Validation Pearson: 0.8632\n",
      "====== Training Epoch 2/5 ======\n",
      "Train Loss: 0.0239, Train QWK: 0.7533, Train Pearson: 0.8817\n",
      "Validation Loss: 0.0236, Validation QWK: 0.8915, Validation Pearson: 0.8935\n",
      "====== Training Epoch 3/5 ======\n",
      "Train Loss: 0.0162, Train QWK: 0.7981, Train Pearson: 0.9216\n",
      "Validation Loss: 0.0316, Validation QWK: 0.8712, Validation Pearson: 0.8866\n",
      "====== Training Epoch 4/5 ======\n",
      "Train Loss: 0.0134, Train QWK: 0.8146, Train Pearson: 0.9357\n",
      "Validation Loss: 0.0327, Validation QWK: 0.8573, Validation Pearson: 0.8980\n",
      "====== Training Epoch 5/5 ======\n",
      "Train Loss: 0.0100, Train QWK: 0.8344, Train Pearson: 0.9521\n",
      "Validation Loss: 0.0301, Validation QWK: 0.8666, Validation Pearson: 0.8975\n",
      "Test Loss: 0.0331, Test QWK: 0.8496, Test Pearson: 0.8836\n",
      "0.9029191176432184\n",
      "\n",
      "Running configuration: config_id=20, model_name=bert-base-uncased, batch_size=4, max_seq_length=512, epochs=5, learning_rate=5e-05\n",
      "split dataset run...\n",
      "create dataset run...\n",
      "create dataloader run...\n",
      "create dataloader done...\n",
      "====== Training Epoch 1/5 ======\n"
     ]
    },
    {
     "name": "stderr",
     "output_type": "stream",
     "text": [
      "Token indices sequence length is longer than the specified maximum sequence length for this model (719 > 512). Running this sequence through the model will result in indexing errors\n"
     ]
    },
    {
     "name": "stdout",
     "output_type": "stream",
     "text": [
      "Train Loss: 0.0436, Train QWK: 0.6706, Train Pearson: 0.7784\n",
      "Validation Loss: 0.0368, Validation QWK: 0.8284, Validation Pearson: 0.8828\n",
      "====== Training Epoch 2/5 ======\n",
      "Train Loss: 0.0224, Train QWK: 0.7572, Train Pearson: 0.8900\n",
      "Validation Loss: 0.0263, Validation QWK: 0.8818, Validation Pearson: 0.8896\n",
      "====== Training Epoch 3/5 ======\n",
      "Train Loss: 0.0144, Train QWK: 0.8056, Train Pearson: 0.9307\n",
      "Validation Loss: 0.0268, Validation QWK: 0.8834, Validation Pearson: 0.8846\n",
      "====== Training Epoch 4/5 ======\n",
      "Train Loss: 0.0115, Train QWK: 0.8228, Train Pearson: 0.9450\n",
      "Validation Loss: 0.0245, Validation QWK: 0.8856, Validation Pearson: 0.8926\n",
      "====== Training Epoch 5/5 ======\n",
      "Train Loss: 0.0086, Train QWK: 0.8390, Train Pearson: 0.9589\n",
      "Validation Loss: 0.0278, Validation QWK: 0.8656, Validation Pearson: 0.9038\n",
      "Test Loss: 0.0294, Test QWK: 0.8519, Test Pearson: 0.8884\n",
      "0.9029191176432184\n",
      "\n",
      "Running configuration: config_id=21, model_name=bert-base-uncased, batch_size=4, max_seq_length=512, epochs=10, learning_rate=1e-05\n",
      "split dataset run...\n",
      "create dataset run...\n",
      "create dataloader run...\n",
      "create dataloader done...\n",
      "====== Training Epoch 1/10 ======\n"
     ]
    },
    {
     "name": "stderr",
     "output_type": "stream",
     "text": [
      "Token indices sequence length is longer than the specified maximum sequence length for this model (719 > 512). Running this sequence through the model will result in indexing errors\n"
     ]
    },
    {
     "name": "stdout",
     "output_type": "stream",
     "text": [
      "Train Loss: 0.0403, Train QWK: 0.6683, Train Pearson: 0.7961\n",
      "Validation Loss: 0.0310, Validation QWK: 0.8673, Validation Pearson: 0.8743\n",
      "====== Training Epoch 2/10 ======\n",
      "Train Loss: 0.0229, Train QWK: 0.7641, Train Pearson: 0.8873\n",
      "Validation Loss: 0.0260, Validation QWK: 0.8862, Validation Pearson: 0.8913\n",
      "====== Training Epoch 3/10 ======\n",
      "Train Loss: 0.0158, Train QWK: 0.7907, Train Pearson: 0.9235\n",
      "Validation Loss: 0.0330, Validation QWK: 0.8738, Validation Pearson: 0.8917\n",
      "====== Training Epoch 4/10 ======\n",
      "Train Loss: 0.0126, Train QWK: 0.8220, Train Pearson: 0.9396\n",
      "Validation Loss: 0.0328, Validation QWK: 0.8663, Validation Pearson: 0.9047\n",
      "====== Training Epoch 5/10 ======\n",
      "Train Loss: 0.0088, Train QWK: 0.8504, Train Pearson: 0.9580\n",
      "Validation Loss: 0.0323, Validation QWK: 0.8539, Validation Pearson: 0.8922\n",
      "====== Training Epoch 6/10 ======\n",
      "Train Loss: 0.0073, Train QWK: 0.8673, Train Pearson: 0.9652\n",
      "Validation Loss: 0.0237, Validation QWK: 0.8947, Validation Pearson: 0.8957\n",
      "====== Training Epoch 7/10 ======\n",
      "Train Loss: 0.0062, Train QWK: 0.8735, Train Pearson: 0.9705\n",
      "Validation Loss: 0.0243, Validation QWK: 0.8852, Validation Pearson: 0.8928\n",
      "====== Training Epoch 8/10 ======\n",
      "Train Loss: 0.0056, Train QWK: 0.8708, Train Pearson: 0.9735\n",
      "Validation Loss: 0.0215, Validation QWK: 0.9055, Validation Pearson: 0.9064\n",
      "Model saved to experiments\\models\\bert-base-uncased_best_model.pt\n",
      "====== Training Epoch 9/10 ======\n",
      "Train Loss: 0.0045, Train QWK: 0.8846, Train Pearson: 0.9790\n",
      "Validation Loss: 0.0213, Validation QWK: 0.9008, Validation Pearson: 0.9058\n",
      "====== Training Epoch 10/10 ======\n",
      "Train Loss: 0.0039, Train QWK: 0.8870, Train Pearson: 0.9817\n",
      "Validation Loss: 0.0217, Validation QWK: 0.9045, Validation Pearson: 0.9097\n",
      "Test Loss: 0.0248, Test QWK: 0.8863, Test Pearson: 0.8924\n",
      "0.905483291246278\n",
      "\n",
      "Running configuration: config_id=22, model_name=bert-base-uncased, batch_size=4, max_seq_length=512, epochs=10, learning_rate=5e-05\n",
      "split dataset run...\n",
      "create dataset run...\n",
      "create dataloader run...\n",
      "create dataloader done...\n",
      "====== Training Epoch 1/10 ======\n"
     ]
    },
    {
     "name": "stderr",
     "output_type": "stream",
     "text": [
      "Token indices sequence length is longer than the specified maximum sequence length for this model (719 > 512). Running this sequence through the model will result in indexing errors\n"
     ]
    },
    {
     "name": "stdout",
     "output_type": "stream",
     "text": [
      "Train Loss: 0.0444, Train QWK: 0.6717, Train Pearson: 0.7755\n",
      "Validation Loss: 0.0357, Validation QWK: 0.8521, Validation Pearson: 0.8851\n",
      "====== Training Epoch 2/10 ======\n",
      "Train Loss: 0.0231, Train QWK: 0.7668, Train Pearson: 0.8868\n",
      "Validation Loss: 0.0350, Validation QWK: 0.8644, Validation Pearson: 0.8690\n",
      "====== Training Epoch 3/10 ======\n",
      "Train Loss: 0.0171, Train QWK: 0.7956, Train Pearson: 0.9173\n",
      "Validation Loss: 0.0237, Validation QWK: 0.8935, Validation Pearson: 0.8947\n",
      "====== Training Epoch 4/10 ======\n",
      "Train Loss: 0.0132, Train QWK: 0.8246, Train Pearson: 0.9368\n",
      "Validation Loss: 0.0250, Validation QWK: 0.8840, Validation Pearson: 0.8925\n",
      "====== Training Epoch 5/10 ======\n",
      "Train Loss: 0.0085, Train QWK: 0.8381, Train Pearson: 0.9594\n",
      "Validation Loss: 0.0283, Validation QWK: 0.8657, Validation Pearson: 0.9063\n",
      "====== Training Epoch 6/10 ======\n",
      "Train Loss: 0.0072, Train QWK: 0.8729, Train Pearson: 0.9658\n",
      "Validation Loss: 0.0245, Validation QWK: 0.8878, Validation Pearson: 0.8896\n",
      "====== Training Epoch 7/10 ======\n",
      "Train Loss: 0.0068, Train QWK: 0.8640, Train Pearson: 0.9678\n",
      "Validation Loss: 0.0215, Validation QWK: 0.9094, Validation Pearson: 0.9107\n",
      "Model saved to experiments\\models\\bert-base-uncased_best_model.pt\n",
      "====== Training Epoch 8/10 ======\n",
      "Train Loss: 0.0057, Train QWK: 0.8749, Train Pearson: 0.9730\n",
      "Validation Loss: 0.0229, Validation QWK: 0.8986, Validation Pearson: 0.9033\n",
      "====== Training Epoch 9/10 ======\n",
      "Train Loss: 0.0050, Train QWK: 0.8745, Train Pearson: 0.9766\n",
      "Validation Loss: 0.0206, Validation QWK: 0.8999, Validation Pearson: 0.9067\n",
      "====== Training Epoch 10/10 ======\n",
      "Train Loss: 0.0046, Train QWK: 0.8791, Train Pearson: 0.9785\n",
      "Validation Loss: 0.0186, Validation QWK: 0.9146, Validation Pearson: 0.9168\n",
      "Model saved to experiments\\models\\bert-base-uncased_best_model.pt\n",
      "Test Loss: 0.0198, Test QWK: 0.9065, Test Pearson: 0.9056\n"
     ]
    }
   ],
   "source": [
    "for batch_size in batch_sizes:\n",
    "    for num_epochs in epochs_list:\n",
    "        for lr in learning_rates:\n",
    "            df_result1 = None\n",
    "            # Check if the second file exists\n",
    "            if os.path.exists(\"experiments/results/results_epoch.csv\"):\n",
    "                df_result1 = pd.read_csv(\"experiments/results/results_epoch.csv\")\n",
    "                print(max(df_result1['valid_qwk']))\n",
    "            else:\n",
    "                print(\"File 'results_epoch.csv' does not exist.\")\n",
    "            config = {\n",
    "                \"df\": df,\n",
    "                \"model_name\": \"bert-base-uncased\",\n",
    "                \"batch_size\": batch_size,\n",
    "                \"learning_rate\": lr,\n",
    "                \"epochs\": num_epochs,\n",
    "                \"config_id\": idx,\n",
    "                \"max_seq_len\": 512,\n",
    "                \"col_length\": \"bert_length\",\n",
    "                \"best_valid_qwk\": max(df_result1['valid_qwk']) if df_result1 is not None and not df_result1.empty else float(\"-inf\")\n",
    "            }\n",
    "\n",
    "            logging.info(\n",
    "                f\"Running configuration: config_id={idx}, model_name={config['model_name']}, batch_size={batch_size}, \"\n",
    "                f\"max_seq_length={config['max_seq_len']}, epochs={num_epochs}, learning_rate={lr}\"\n",
    "            )\n",
    "            \n",
    "            print(\n",
    "                f\"\\nRunning configuration: config_id={idx}, model_name={config['model_name']}, batch_size={batch_size}, \"\n",
    "                f\"max_seq_length={config['max_seq_len']}, epochs={num_epochs}, learning_rate={lr}\"\n",
    "            )\n",
    "            \n",
    "            try:\n",
    "                pipeline = BertTruncatePipeline(config, results, results_epoch)\n",
    "                pipeline.run_training()\n",
    "\n",
    "                # Save results\n",
    "                results_path = os.path.join(ROOT_DIR, \"experiments/results/results.csv\")\n",
    "                results_epoch_path = os.path.join(ROOT_DIR, \"experiments/results/results_epoch.csv\")\n",
    "                TrainingBertPipeline.save_csv(results, results_path)\n",
    "                TrainingBertPipeline.save_csv(results_epoch, results_epoch_path)\n",
    "            except Exception as e:\n",
    "                logging.error(f\"Error in config_id={idx}: {str(e)}\")\n",
    "                print(f\"Error in config_id={idx}: {str(e)}\")\n",
    "                torch.cuda.empty_cache()\n",
    "            finally:\n",
    "                # Clear GPU memory after every configuration\n",
    "                del pipeline.model\n",
    "                del pipeline.tokenizer\n",
    "                del pipeline.optimizer\n",
    "                torch.cuda.empty_cache()\n",
    "\n",
    "            idx += 1"
   ]
  },
  {
   "cell_type": "code",
   "execution_count": null,
   "metadata": {},
   "outputs": [],
   "source": []
  }
 ],
 "metadata": {
  "kernelspec": {
   "display_name": "env",
   "language": "python",
   "name": "python3"
  },
  "language_info": {
   "codemirror_mode": {
    "name": "ipython",
    "version": 3
   },
   "file_extension": ".py",
   "mimetype": "text/x-python",
   "name": "python",
   "nbconvert_exporter": "python",
   "pygments_lexer": "ipython3",
   "version": "3.10.5"
  }
 },
 "nbformat": 4,
 "nbformat_minor": 2
}
