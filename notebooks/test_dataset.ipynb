{
 "cells": [
  {
   "cell_type": "code",
   "execution_count": 1,
   "metadata": {},
   "outputs": [],
   "source": [
    "import os\n",
    "os.environ['CUDA_LAUNCH_BLOCKING'] = '1'\n",
    "import sys\n",
    "sys.path.append(os.path.join(os.getcwd(), '..'))\n",
    "from src.data.dataset import EssayDataset\n",
    "from src.data.longDataset import LongEssayDataset\n",
    "from src.models.hierarchicalBertPeft import HierarchicalBertPeft\n",
    "import pandas as pd\n",
    "import torch\n",
    "from torch.utils.data import DataLoader"
   ]
  },
  {
   "cell_type": "code",
   "execution_count": 2,
   "metadata": {},
   "outputs": [
    {
     "name": "stdout",
     "output_type": "stream",
     "text": [
      "<class 'pandas.core.frame.DataFrame'>\n",
      "RangeIndex: 5363 entries, 0 to 5362\n",
      "Data columns (total 13 columns):\n",
      " #   Column             Non-Null Count  Dtype  \n",
      "---  ------             --------------  -----  \n",
      " 0   question           4859 non-null   object \n",
      " 1   reference_answer   5363 non-null   object \n",
      " 2   answer             5363 non-null   object \n",
      " 3   score              5363 non-null   float64\n",
      " 4   dataset            5363 non-null   object \n",
      " 5   normalized_score   5363 non-null   float64\n",
      " 6   normalized_score2  5363 non-null   int64  \n",
      " 7   bert_length        5363 non-null   int64  \n",
      " 8   indobert_length    5363 non-null   int64  \n",
      " 9   albert_length      5363 non-null   int64  \n",
      " 10  longformer_length  5363 non-null   int64  \n",
      " 11  multibert_length   5363 non-null   int64  \n",
      " 12  indoalbert_length  5363 non-null   int64  \n",
      "dtypes: float64(2), int64(7), object(4)\n",
      "memory usage: 544.8+ KB\n"
     ]
    }
   ],
   "source": [
    "df = pd.read_csv(\"../data/aes_dataset_5k.csv\")\n",
    "df.info()"
   ]
  },
  {
   "cell_type": "code",
   "execution_count": 3,
   "metadata": {},
   "outputs": [],
   "source": [
    "from transformers import AutoTokenizer\n",
    "\n",
    "tokenizer = AutoTokenizer.from_pretrained(\"bert-base-uncased\")\n",
    "model = HierarchicalBertPeft(\"bert-base-uncased\").to(\"cuda\")\n",
    "dataset = EssayDataset(df, tokenizer, 512)"
   ]
  },
  {
   "cell_type": "code",
   "execution_count": 4,
   "metadata": {},
   "outputs": [
    {
     "name": "stdout",
     "output_type": "stream",
     "text": [
      "max len 512\n"
     ]
    }
   ],
   "source": [
    "dataset = LongEssayDataset(df, tokenizer, 512, 0, \"bert_length\")"
   ]
  },
  {
   "cell_type": "code",
   "execution_count": 5,
   "metadata": {},
   "outputs": [
    {
     "name": "stdout",
     "output_type": "stream",
     "text": [
      "max len 128\n"
     ]
    }
   ],
   "source": [
    "dataset = LongEssayDataset(df, tokenizer, 128, 64, \"bert_length\")"
   ]
  },
  {
   "cell_type": "code",
   "execution_count": 6,
   "metadata": {},
   "outputs": [],
   "source": [
    "from torch.nn.utils.rnn import pad_sequence\n",
    "\n",
    "def custom_collate_fn(batch):\n",
    "    # Separate features and labels\n",
    "    features = [item[0] for item in batch]\n",
    "    labels = torch.stack([item[1] for item in batch])\n",
    "\n",
    "    # Pad the input_ids, attention_mask, and token_type_ids\n",
    "    padded_input_ids = pad_sequence([f[\"input_ids\"] for f in features], batch_first=True, padding_value=0)\n",
    "    padded_attention_mask = pad_sequence([f[\"attention_mask\"] for f in features], batch_first=True, padding_value=0)\n",
    "    padded_token_type_ids = pad_sequence([f[\"token_type_ids\"] for f in features], batch_first=True, padding_value=0)\n",
    "\n",
    "    # Return a dictionary of padded features and labels\n",
    "    return {\n",
    "        \"input_ids\": padded_input_ids,\n",
    "        \"attention_mask\": padded_attention_mask,\n",
    "        \"token_type_ids\": padded_token_type_ids,\n",
    "    }, labels\n",
    "\n",
    "dataloader = DataLoader(dataset, batch_size=2, shuffle=True, collate_fn=custom_collate_fn)"
   ]
  },
  {
   "cell_type": "code",
   "execution_count": 7,
   "metadata": {},
   "outputs": [],
   "source": [
    "from torch.optim import AdamW\n",
    "optimizer = AdamW(model.parameters(), lr=1e-5)\n",
    "device = torch.device(\"cuda\" if torch.cuda.is_available() else \"cpu\")\n",
    "criterion = torch.nn.MSELoss()"
   ]
  },
  {
   "cell_type": "code",
   "execution_count": 8,
   "metadata": {},
   "outputs": [
    {
     "name": "stdout",
     "output_type": "stream",
     "text": [
      "====== Training Epoch 1/1 ======\n"
     ]
    },
    {
     "name": "stderr",
     "output_type": "stream",
     "text": [
      "c:\\Users\\User\\Documents\\Code\\env\\lib\\site-packages\\transformers\\models\\bert\\modeling_bert.py:440: UserWarning: 1Torch was not compiled with flash attention. (Triggered internally at C:\\actions-runner\\_work\\pytorch\\pytorch\\builder\\windows\\pytorch\\aten\\src\\ATen\\native\\transformers\\cuda\\sdp_utils.cpp:555.)\n",
      "  attn_output = torch.nn.functional.scaled_dot_product_attention(\n",
      "Token indices sequence length is longer than the specified maximum sequence length for this model (725 > 512). Running this sequence through the model will result in indexing errors\n"
     ]
    }
   ],
   "source": [
    "for epoch in range(1):\n",
    "    print(f\"====== Training Epoch {epoch + 1}/{1} ======\")\n",
    "    model.train()\n",
    "    train_mse_loss = 0\n",
    "    for batchs, targets in dataloader:\n",
    "        try:\n",
    "            optimizer.zero_grad()\n",
    "            input_ids = batchs['input_ids'].to(device)\n",
    "            attention_mask = batchs['attention_mask'].to(device)\n",
    "            token_type_ids = batchs['token_type_ids'].to(device)\n",
    "            targets = targets.to(device)\n",
    "            predictions = model(input_ids, attention_mask, token_type_ids).squeeze(1)\n",
    "            loss = criterion(predictions, targets)\n",
    "            if torch.isnan(loss):\n",
    "                print(\"⚠️ Warning: NaN detected in loss!\")\n",
    "                print(f\"Predictions: {predictions}\")\n",
    "                print(f\"Targets: {targets}\")\n",
    "                continue\n",
    "            loss.backward()\n",
    "            optimizer.step()\n",
    "            train_mse_loss += loss.item()\n",
    "        except Exception as e:\n",
    "            print(f\"Error during training: {str(e)}\")\n",
    "            torch.cuda.empty_cache()"
   ]
  },
  {
   "cell_type": "code",
   "execution_count": null,
   "metadata": {},
   "outputs": [],
   "source": []
  }
 ],
 "metadata": {
  "kernelspec": {
   "display_name": "env",
   "language": "python",
   "name": "python3"
  },
  "language_info": {
   "codemirror_mode": {
    "name": "ipython",
    "version": 3
   },
   "file_extension": ".py",
   "mimetype": "text/x-python",
   "name": "python",
   "nbconvert_exporter": "python",
   "pygments_lexer": "ipython3",
   "version": "3.10.5"
  }
 },
 "nbformat": 4,
 "nbformat_minor": 2
}
