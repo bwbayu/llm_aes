{
 "cells": [
  {
   "cell_type": "markdown",
   "metadata": {},
   "source": [
    "# Indo 1"
   ]
  },
  {
   "cell_type": "code",
   "execution_count": 15,
   "metadata": {},
   "outputs": [],
   "source": [
    "import pandas as pd"
   ]
  },
  {
   "cell_type": "code",
   "execution_count": null,
   "metadata": {},
   "outputs": [],
   "source": [
    "from datasets import load_dataset\n",
    "\n",
    "corpus_id1 = load_dataset(\"wikimedia/wikipedia\", \"20231101.id\")\n",
    "corpus_id1"
   ]
  },
  {
   "cell_type": "code",
   "execution_count": 4,
   "metadata": {},
   "outputs": [
    {
     "name": "stdout",
     "output_type": "stream",
     "text": [
      "<class 'pandas.core.frame.DataFrame'>\n",
      "RangeIndex: 665622 entries, 0 to 665621\n",
      "Data columns (total 3 columns):\n",
      " #   Column  Non-Null Count   Dtype \n",
      "---  ------  --------------   ----- \n",
      " 0   id      665622 non-null  object\n",
      " 1   text    665622 non-null  object\n",
      " 2   lang    665622 non-null  object\n",
      "dtypes: object(3)\n",
      "memory usage: 15.2+ MB\n"
     ]
    }
   ],
   "source": [
    "df_corpus_id1 = corpus_id1[\"train\"].to_pandas()\n",
    "df_corpus_id1 = df_corpus_id1[['id', 'text']]\n",
    "df_corpus_id1['lang'] = \"id\"\n",
    "df_corpus_id1.info()"
   ]
  },
  {
   "cell_type": "markdown",
   "metadata": {},
   "source": [
    "# Eng 1"
   ]
  },
  {
   "cell_type": "code",
   "execution_count": null,
   "metadata": {},
   "outputs": [],
   "source": [
    "corpus_en1 = load_dataset(\"wikimedia/wikipedia\", \"20231101.en\")\n",
    "corpus_en1"
   ]
  },
  {
   "cell_type": "code",
   "execution_count": 6,
   "metadata": {},
   "outputs": [
    {
     "name": "stdout",
     "output_type": "stream",
     "text": [
      "<class 'pandas.core.frame.DataFrame'>\n",
      "RangeIndex: 6407814 entries, 0 to 6407813\n",
      "Data columns (total 3 columns):\n",
      " #   Column  Dtype \n",
      "---  ------  ----- \n",
      " 0   id      object\n",
      " 1   text    object\n",
      " 2   lang    object\n",
      "dtypes: object(3)\n",
      "memory usage: 146.7+ MB\n"
     ]
    }
   ],
   "source": [
    "df_corpus_en1 = corpus_en1[\"train\"].to_pandas()\n",
    "df_corpus_en1 = df_corpus_en1[['id', 'text']]\n",
    "df_corpus_en1['lang'] = \"en\"\n",
    "df_corpus_en1.info()"
   ]
  },
  {
   "cell_type": "markdown",
   "metadata": {},
   "source": [
    "# Indo 2"
   ]
  },
  {
   "cell_type": "code",
   "execution_count": null,
   "metadata": {},
   "outputs": [],
   "source": [
    "corpus_id2 = load_dataset(\"indonesian-nlp/wikipedia-id\")\n",
    "corpus_id2"
   ]
  },
  {
   "cell_type": "code",
   "execution_count": 25,
   "metadata": {},
   "outputs": [
    {
     "name": "stdout",
     "output_type": "stream",
     "text": [
      "<class 'pandas.core.frame.DataFrame'>\n",
      "RangeIndex: 1446315 entries, 0 to 1446314\n",
      "Data columns (total 2 columns):\n",
      " #   Column  Non-Null Count    Dtype \n",
      "---  ------  --------------    ----- \n",
      " 0   text    1446315 non-null  object\n",
      " 1   lang    1446315 non-null  object\n",
      "dtypes: object(2)\n",
      "memory usage: 22.1+ MB\n"
     ]
    }
   ],
   "source": [
    "df_corpus_id2train = corpus_id2[\"train\"].to_pandas()\n",
    "df_corpus_id2test = corpus_id2[\"test\"].to_pandas()\n",
    "df_corpus_id2train['lang'] = \"id\"\n",
    "df_corpus_id2test['lang'] = \"id\"\n",
    "df_corpus_id2train = df_corpus_id2train[['text', 'lang']]\n",
    "df_corpus_id2test = df_corpus_id2test[['text', 'lang']]\n",
    "df_corpus_id2 = pd.concat([df_corpus_id2train, df_corpus_id2test], axis=0, ignore_index=True)\n",
    "df_corpus_id2.info()"
   ]
  },
  {
   "cell_type": "markdown",
   "metadata": {},
   "source": [
    "# Indo 3"
   ]
  },
  {
   "cell_type": "code",
   "execution_count": null,
   "metadata": {},
   "outputs": [],
   "source": [
    "corpus_id3 = load_dataset(\"taufiqdp/Indo4B\")\n",
    "corpus_id3"
   ]
  },
  {
   "cell_type": "code",
   "execution_count": null,
   "metadata": {},
   "outputs": [],
   "source": [
    "df_corpus_id3 = corpus_id3[\"train\"].to_pandas()\n",
    "df_corpus_id3['lang'] = \"id\"\n",
    "df_corpus_id3 = df_corpus_id3[['text', 'lang']]\n",
    "df_corpus_id3.info()"
   ]
  },
  {
   "cell_type": "markdown",
   "metadata": {},
   "source": [
    "# Concat Corpus"
   ]
  },
  {
   "cell_type": "code",
   "execution_count": 28,
   "metadata": {},
   "outputs": [],
   "source": [
    "df_corpus_id1 = df_corpus_id1[['text', 'lang']]\n",
    "df_corpus_en1 = df_corpus_en1[['text', 'lang']]"
   ]
  },
  {
   "cell_type": "code",
   "execution_count": 29,
   "metadata": {},
   "outputs": [
    {
     "name": "stdout",
     "output_type": "stream",
     "text": [
      "<class 'pandas.core.frame.DataFrame'>\n",
      "RangeIndex: 8519751 entries, 0 to 8519750\n",
      "Data columns (total 2 columns):\n",
      " #   Column  Dtype \n",
      "---  ------  ----- \n",
      " 0   text    object\n",
      " 1   lang    object\n",
      "dtypes: object(2)\n",
      "memory usage: 130.0+ MB\n"
     ]
    }
   ],
   "source": [
    "df = pd.concat([df_corpus_id1, df_corpus_id2, df_corpus_en1], axis=0, ignore_index=True)\n",
    "df.info()"
   ]
  },
  {
   "cell_type": "code",
   "execution_count": 30,
   "metadata": {},
   "outputs": [],
   "source": [
    "df.to_csv('corpus.csv', index=False) "
   ]
  }
 ],
 "metadata": {
  "kernelspec": {
   "display_name": "env",
   "language": "python",
   "name": "python3"
  },
  "language_info": {
   "codemirror_mode": {
    "name": "ipython",
    "version": 3
   },
   "file_extension": ".py",
   "mimetype": "text/x-python",
   "name": "python",
   "nbconvert_exporter": "python",
   "pygments_lexer": "ipython3",
   "version": "3.10.5"
  }
 },
 "nbformat": 4,
 "nbformat_minor": 2
}
