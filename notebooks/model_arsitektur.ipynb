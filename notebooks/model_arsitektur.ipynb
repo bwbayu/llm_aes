{
 "cells": [
  {
   "cell_type": "code",
   "execution_count": 30,
   "metadata": {},
   "outputs": [],
   "source": [
    "from transformers import BertTokenizer, BertModel, AutoModel\n",
    "# 4.45.2 transformers version"
   ]
  },
  {
   "cell_type": "code",
   "execution_count": 31,
   "metadata": {},
   "outputs": [
    {
     "data": {
      "text/plain": [
       "AlbertModel(\n",
       "  (embeddings): AlbertEmbeddings(\n",
       "    (word_embeddings): Embedding(30000, 128, padding_idx=0)\n",
       "    (position_embeddings): Embedding(512, 128)\n",
       "    (token_type_embeddings): Embedding(2, 128)\n",
       "    (LayerNorm): LayerNorm((128,), eps=1e-12, elementwise_affine=True)\n",
       "    (dropout): Dropout(p=0, inplace=False)\n",
       "  )\n",
       "  (encoder): AlbertTransformer(\n",
       "    (embedding_hidden_mapping_in): Linear(in_features=128, out_features=768, bias=True)\n",
       "    (albert_layer_groups): ModuleList(\n",
       "      (0): AlbertLayerGroup(\n",
       "        (albert_layers): ModuleList(\n",
       "          (0): AlbertLayer(\n",
       "            (full_layer_layer_norm): LayerNorm((768,), eps=1e-12, elementwise_affine=True)\n",
       "            (attention): AlbertSdpaAttention(\n",
       "              (query): Linear(in_features=768, out_features=768, bias=True)\n",
       "              (key): Linear(in_features=768, out_features=768, bias=True)\n",
       "              (value): Linear(in_features=768, out_features=768, bias=True)\n",
       "              (attention_dropout): Dropout(p=0, inplace=False)\n",
       "              (output_dropout): Dropout(p=0, inplace=False)\n",
       "              (dense): Linear(in_features=768, out_features=768, bias=True)\n",
       "              (LayerNorm): LayerNorm((768,), eps=1e-12, elementwise_affine=True)\n",
       "            )\n",
       "            (ffn): Linear(in_features=768, out_features=3072, bias=True)\n",
       "            (ffn_output): Linear(in_features=3072, out_features=768, bias=True)\n",
       "            (activation): GELUActivation()\n",
       "            (dropout): Dropout(p=0, inplace=False)\n",
       "          )\n",
       "        )\n",
       "      )\n",
       "    )\n",
       "  )\n",
       "  (pooler): Linear(in_features=768, out_features=768, bias=True)\n",
       "  (pooler_activation): Tanh()\n",
       ")"
      ]
     },
     "execution_count": 31,
     "metadata": {},
     "output_type": "execute_result"
    }
   ],
   "source": [
    "model = AutoModel.from_pretrained(\"indobenchmark/indobert-lite-base-p2\")\n",
    "model"
   ]
  },
  {
   "cell_type": "code",
   "execution_count": 32,
   "metadata": {},
   "outputs": [
    {
     "data": {
      "text/plain": [
       "BertModel(\n",
       "  (embeddings): BertEmbeddings(\n",
       "    (word_embeddings): Embedding(30522, 768, padding_idx=0)\n",
       "    (position_embeddings): Embedding(512, 768)\n",
       "    (token_type_embeddings): Embedding(2, 768)\n",
       "    (LayerNorm): LayerNorm((768,), eps=1e-12, elementwise_affine=True)\n",
       "    (dropout): Dropout(p=0.1, inplace=False)\n",
       "  )\n",
       "  (encoder): BertEncoder(\n",
       "    (layer): ModuleList(\n",
       "      (0-11): 12 x BertLayer(\n",
       "        (attention): BertAttention(\n",
       "          (self): BertSdpaSelfAttention(\n",
       "            (query): Linear(in_features=768, out_features=768, bias=True)\n",
       "            (key): Linear(in_features=768, out_features=768, bias=True)\n",
       "            (value): Linear(in_features=768, out_features=768, bias=True)\n",
       "            (dropout): Dropout(p=0.1, inplace=False)\n",
       "          )\n",
       "          (output): BertSelfOutput(\n",
       "            (dense): Linear(in_features=768, out_features=768, bias=True)\n",
       "            (LayerNorm): LayerNorm((768,), eps=1e-12, elementwise_affine=True)\n",
       "            (dropout): Dropout(p=0.1, inplace=False)\n",
       "          )\n",
       "        )\n",
       "        (intermediate): BertIntermediate(\n",
       "          (dense): Linear(in_features=768, out_features=3072, bias=True)\n",
       "          (intermediate_act_fn): GELUActivation()\n",
       "        )\n",
       "        (output): BertOutput(\n",
       "          (dense): Linear(in_features=3072, out_features=768, bias=True)\n",
       "          (LayerNorm): LayerNorm((768,), eps=1e-12, elementwise_affine=True)\n",
       "          (dropout): Dropout(p=0.1, inplace=False)\n",
       "        )\n",
       "      )\n",
       "    )\n",
       "  )\n",
       "  (pooler): BertPooler(\n",
       "    (dense): Linear(in_features=768, out_features=768, bias=True)\n",
       "    (activation): Tanh()\n",
       "  )\n",
       ")"
      ]
     },
     "execution_count": 32,
     "metadata": {},
     "output_type": "execute_result"
    }
   ],
   "source": [
    "from transformers import BertTokenizer, BertModel\n",
    "model = BertModel.from_pretrained(\"bert-base-uncased\")\n",
    "model"
   ]
  },
  {
   "cell_type": "code",
   "execution_count": 33,
   "metadata": {},
   "outputs": [
    {
     "data": {
      "text/plain": [
       "LongformerModel(\n",
       "  (embeddings): LongformerEmbeddings(\n",
       "    (word_embeddings): Embedding(50265, 768, padding_idx=1)\n",
       "    (token_type_embeddings): Embedding(1, 768)\n",
       "    (LayerNorm): LayerNorm((768,), eps=1e-05, elementwise_affine=True)\n",
       "    (dropout): Dropout(p=0.1, inplace=False)\n",
       "    (position_embeddings): Embedding(4098, 768, padding_idx=1)\n",
       "  )\n",
       "  (encoder): LongformerEncoder(\n",
       "    (layer): ModuleList(\n",
       "      (0-11): 12 x LongformerLayer(\n",
       "        (attention): LongformerAttention(\n",
       "          (self): LongformerSelfAttention(\n",
       "            (query): Linear(in_features=768, out_features=768, bias=True)\n",
       "            (key): Linear(in_features=768, out_features=768, bias=True)\n",
       "            (value): Linear(in_features=768, out_features=768, bias=True)\n",
       "            (query_global): Linear(in_features=768, out_features=768, bias=True)\n",
       "            (key_global): Linear(in_features=768, out_features=768, bias=True)\n",
       "            (value_global): Linear(in_features=768, out_features=768, bias=True)\n",
       "          )\n",
       "          (output): LongformerSelfOutput(\n",
       "            (dense): Linear(in_features=768, out_features=768, bias=True)\n",
       "            (LayerNorm): LayerNorm((768,), eps=1e-05, elementwise_affine=True)\n",
       "            (dropout): Dropout(p=0.1, inplace=False)\n",
       "          )\n",
       "        )\n",
       "        (intermediate): LongformerIntermediate(\n",
       "          (dense): Linear(in_features=768, out_features=3072, bias=True)\n",
       "          (intermediate_act_fn): GELUActivation()\n",
       "        )\n",
       "        (output): LongformerOutput(\n",
       "          (dense): Linear(in_features=3072, out_features=768, bias=True)\n",
       "          (LayerNorm): LayerNorm((768,), eps=1e-05, elementwise_affine=True)\n",
       "          (dropout): Dropout(p=0.1, inplace=False)\n",
       "        )\n",
       "      )\n",
       "    )\n",
       "  )\n",
       "  (pooler): LongformerPooler(\n",
       "    (dense): Linear(in_features=768, out_features=768, bias=True)\n",
       "    (activation): Tanh()\n",
       "  )\n",
       ")"
      ]
     },
     "execution_count": 33,
     "metadata": {},
     "output_type": "execute_result"
    }
   ],
   "source": [
    "from transformers import AutoModel\n",
    "model = AutoModel.from_pretrained(\"allenai/longformer-base-4096\")\n",
    "model"
   ]
  },
  {
   "cell_type": "code",
   "execution_count": 34,
   "metadata": {},
   "outputs": [
    {
     "data": {
      "text/plain": [
       "AlbertModel(\n",
       "  (embeddings): AlbertEmbeddings(\n",
       "    (word_embeddings): Embedding(30000, 128, padding_idx=0)\n",
       "    (position_embeddings): Embedding(512, 128)\n",
       "    (token_type_embeddings): Embedding(2, 128)\n",
       "    (LayerNorm): LayerNorm((128,), eps=1e-12, elementwise_affine=True)\n",
       "    (dropout): Dropout(p=0.1, inplace=False)\n",
       "  )\n",
       "  (encoder): AlbertTransformer(\n",
       "    (embedding_hidden_mapping_in): Linear(in_features=128, out_features=768, bias=True)\n",
       "    (albert_layer_groups): ModuleList(\n",
       "      (0): AlbertLayerGroup(\n",
       "        (albert_layers): ModuleList(\n",
       "          (0): AlbertLayer(\n",
       "            (full_layer_layer_norm): LayerNorm((768,), eps=1e-12, elementwise_affine=True)\n",
       "            (attention): AlbertSdpaAttention(\n",
       "              (query): Linear(in_features=768, out_features=768, bias=True)\n",
       "              (key): Linear(in_features=768, out_features=768, bias=True)\n",
       "              (value): Linear(in_features=768, out_features=768, bias=True)\n",
       "              (attention_dropout): Dropout(p=0.1, inplace=False)\n",
       "              (output_dropout): Dropout(p=0.1, inplace=False)\n",
       "              (dense): Linear(in_features=768, out_features=768, bias=True)\n",
       "              (LayerNorm): LayerNorm((768,), eps=1e-12, elementwise_affine=True)\n",
       "            )\n",
       "            (ffn): Linear(in_features=768, out_features=3072, bias=True)\n",
       "            (ffn_output): Linear(in_features=3072, out_features=768, bias=True)\n",
       "            (activation): GELUActivation()\n",
       "            (dropout): Dropout(p=0.1, inplace=False)\n",
       "          )\n",
       "        )\n",
       "      )\n",
       "    )\n",
       "  )\n",
       "  (pooler): Linear(in_features=768, out_features=768, bias=True)\n",
       "  (pooler_activation): Tanh()\n",
       ")"
      ]
     },
     "execution_count": 34,
     "metadata": {},
     "output_type": "execute_result"
    }
   ],
   "source": [
    "from transformers import AlbertTokenizer, AlbertModel\n",
    "model = AlbertModel.from_pretrained(\"albert-base-v1\")\n",
    "model"
   ]
  },
  {
   "cell_type": "code",
   "execution_count": 35,
   "metadata": {},
   "outputs": [
    {
     "data": {
      "text/plain": [
       "BertModel(\n",
       "  (embeddings): BertEmbeddings(\n",
       "    (word_embeddings): Embedding(50000, 768, padding_idx=0)\n",
       "    (position_embeddings): Embedding(512, 768)\n",
       "    (token_type_embeddings): Embedding(2, 768)\n",
       "    (LayerNorm): LayerNorm((768,), eps=1e-12, elementwise_affine=True)\n",
       "    (dropout): Dropout(p=0.1, inplace=False)\n",
       "  )\n",
       "  (encoder): BertEncoder(\n",
       "    (layer): ModuleList(\n",
       "      (0-11): 12 x BertLayer(\n",
       "        (attention): BertAttention(\n",
       "          (self): BertSdpaSelfAttention(\n",
       "            (query): Linear(in_features=768, out_features=768, bias=True)\n",
       "            (key): Linear(in_features=768, out_features=768, bias=True)\n",
       "            (value): Linear(in_features=768, out_features=768, bias=True)\n",
       "            (dropout): Dropout(p=0.1, inplace=False)\n",
       "          )\n",
       "          (output): BertSelfOutput(\n",
       "            (dense): Linear(in_features=768, out_features=768, bias=True)\n",
       "            (LayerNorm): LayerNorm((768,), eps=1e-12, elementwise_affine=True)\n",
       "            (dropout): Dropout(p=0.1, inplace=False)\n",
       "          )\n",
       "        )\n",
       "        (intermediate): BertIntermediate(\n",
       "          (dense): Linear(in_features=768, out_features=3072, bias=True)\n",
       "          (intermediate_act_fn): GELUActivation()\n",
       "        )\n",
       "        (output): BertOutput(\n",
       "          (dense): Linear(in_features=3072, out_features=768, bias=True)\n",
       "          (LayerNorm): LayerNorm((768,), eps=1e-12, elementwise_affine=True)\n",
       "          (dropout): Dropout(p=0.1, inplace=False)\n",
       "        )\n",
       "      )\n",
       "    )\n",
       "  )\n",
       "  (pooler): BertPooler(\n",
       "    (dense): Linear(in_features=768, out_features=768, bias=True)\n",
       "    (activation): Tanh()\n",
       "  )\n",
       ")"
      ]
     },
     "execution_count": 35,
     "metadata": {},
     "output_type": "execute_result"
    },
    {
     "data": {
      "application/vnd.jupyter.widget-view+json": {
       "model_id": "f6418208ddd74d779653cc935904b214",
       "version_major": 2,
       "version_minor": 0
      },
      "text/plain": [
       "model.safetensors:   0%|          | 0.00/597M [00:00<?, ?B/s]"
      ]
     },
     "metadata": {},
     "output_type": "display_data"
    },
    {
     "data": {
      "application/vnd.jupyter.widget-view+json": {
       "model_id": "c13c40f9b5a64ba699f4d0518f913b9b",
       "version_major": 2,
       "version_minor": 0
      },
      "text/plain": [
       "model.safetensors:   0%|          | 0.00/498M [00:00<?, ?B/s]"
      ]
     },
     "metadata": {},
     "output_type": "display_data"
    }
   ],
   "source": [
    "model = AutoModel.from_pretrained(\"indobenchmark/indobert-base-p1\")\n",
    "model"
   ]
  },
  {
   "cell_type": "code",
   "execution_count": 28,
   "metadata": {},
   "outputs": [
    {
     "data": {
      "application/vnd.jupyter.widget-view+json": {
       "model_id": "672f08835f574b12bb5f29c328ef6266",
       "version_major": 2,
       "version_minor": 0
      },
      "text/plain": [
       "tokenizer_config.json:   0%|          | 0.00/25.0 [00:00<?, ?B/s]"
      ]
     },
     "metadata": {},
     "output_type": "display_data"
    },
    {
     "name": "stderr",
     "output_type": "stream",
     "text": [
      "c:\\Users\\User\\Documents\\Code\\env\\lib\\site-packages\\huggingface_hub\\file_download.py:139: UserWarning: `huggingface_hub` cache-system uses symlinks by default to efficiently store duplicated files but your machine does not support them in C:\\Users\\User\\.cache\\huggingface\\hub\\models--FacebookAI--xlm-roberta-base. Caching files will still work but in a degraded version that might require more space on your disk. This warning can be disabled by setting the `HF_HUB_DISABLE_SYMLINKS_WARNING` environment variable. For more details, see https://huggingface.co/docs/huggingface_hub/how-to-cache#limitations.\n",
      "To support symlinks on Windows, you either need to activate Developer Mode or to run Python as an administrator. In order to activate developer mode, see this article: https://docs.microsoft.com/en-us/windows/apps/get-started/enable-your-device-for-development\n",
      "  warnings.warn(message)\n"
     ]
    },
    {
     "data": {
      "application/vnd.jupyter.widget-view+json": {
       "model_id": "c33bdd0b59ab48669cdcfe12334c262c",
       "version_major": 2,
       "version_minor": 0
      },
      "text/plain": [
       "config.json:   0%|          | 0.00/615 [00:00<?, ?B/s]"
      ]
     },
     "metadata": {},
     "output_type": "display_data"
    },
    {
     "data": {
      "application/vnd.jupyter.widget-view+json": {
       "model_id": "7f9bb489c95d46778d051d12ff901470",
       "version_major": 2,
       "version_minor": 0
      },
      "text/plain": [
       "sentencepiece.bpe.model:   0%|          | 0.00/5.07M [00:00<?, ?B/s]"
      ]
     },
     "metadata": {},
     "output_type": "display_data"
    },
    {
     "data": {
      "application/vnd.jupyter.widget-view+json": {
       "model_id": "9f93b697876045abb06f817fd539092c",
       "version_major": 2,
       "version_minor": 0
      },
      "text/plain": [
       "tokenizer.json:   0%|          | 0.00/9.10M [00:00<?, ?B/s]"
      ]
     },
     "metadata": {},
     "output_type": "display_data"
    },
    {
     "data": {
      "application/vnd.jupyter.widget-view+json": {
       "model_id": "81ac10c755df45518eed1c25816e7491",
       "version_major": 2,
       "version_minor": 0
      },
      "text/plain": [
       "model.safetensors:   0%|          | 0.00/1.12G [00:00<?, ?B/s]"
      ]
     },
     "metadata": {},
     "output_type": "display_data"
    },
    {
     "name": "stderr",
     "output_type": "stream",
     "text": [
      "Some weights of the model checkpoint at FacebookAI/xlm-roberta-base were not used when initializing XLMRobertaForMaskedLM: ['roberta.pooler.dense.bias', 'roberta.pooler.dense.weight']\n",
      "- This IS expected if you are initializing XLMRobertaForMaskedLM from the checkpoint of a model trained on another task or with another architecture (e.g. initializing a BertForSequenceClassification model from a BertForPreTraining model).\n",
      "- This IS NOT expected if you are initializing XLMRobertaForMaskedLM from the checkpoint of a model that you expect to be exactly identical (initializing a BertForSequenceClassification model from a BertForSequenceClassification model).\n"
     ]
    },
    {
     "data": {
      "text/plain": [
       "XLMRobertaForMaskedLM(\n",
       "  (roberta): XLMRobertaModel(\n",
       "    (embeddings): XLMRobertaEmbeddings(\n",
       "      (word_embeddings): Embedding(250002, 768, padding_idx=1)\n",
       "      (position_embeddings): Embedding(514, 768, padding_idx=1)\n",
       "      (token_type_embeddings): Embedding(1, 768)\n",
       "      (LayerNorm): LayerNorm((768,), eps=1e-05, elementwise_affine=True)\n",
       "      (dropout): Dropout(p=0.1, inplace=False)\n",
       "    )\n",
       "    (encoder): XLMRobertaEncoder(\n",
       "      (layer): ModuleList(\n",
       "        (0-11): 12 x XLMRobertaLayer(\n",
       "          (attention): XLMRobertaAttention(\n",
       "            (self): XLMRobertaSdpaSelfAttention(\n",
       "              (query): Linear(in_features=768, out_features=768, bias=True)\n",
       "              (key): Linear(in_features=768, out_features=768, bias=True)\n",
       "              (value): Linear(in_features=768, out_features=768, bias=True)\n",
       "              (dropout): Dropout(p=0.1, inplace=False)\n",
       "            )\n",
       "            (output): XLMRobertaSelfOutput(\n",
       "              (dense): Linear(in_features=768, out_features=768, bias=True)\n",
       "              (LayerNorm): LayerNorm((768,), eps=1e-05, elementwise_affine=True)\n",
       "              (dropout): Dropout(p=0.1, inplace=False)\n",
       "            )\n",
       "          )\n",
       "          (intermediate): XLMRobertaIntermediate(\n",
       "            (dense): Linear(in_features=768, out_features=3072, bias=True)\n",
       "            (intermediate_act_fn): GELUActivation()\n",
       "          )\n",
       "          (output): XLMRobertaOutput(\n",
       "            (dense): Linear(in_features=3072, out_features=768, bias=True)\n",
       "            (LayerNorm): LayerNorm((768,), eps=1e-05, elementwise_affine=True)\n",
       "            (dropout): Dropout(p=0.1, inplace=False)\n",
       "          )\n",
       "        )\n",
       "      )\n",
       "    )\n",
       "  )\n",
       "  (lm_head): XLMRobertaLMHead(\n",
       "    (dense): Linear(in_features=768, out_features=768, bias=True)\n",
       "    (layer_norm): LayerNorm((768,), eps=1e-05, elementwise_affine=True)\n",
       "    (decoder): Linear(in_features=768, out_features=250002, bias=True)\n",
       "  )\n",
       ")"
      ]
     },
     "execution_count": 28,
     "metadata": {},
     "output_type": "execute_result"
    }
   ],
   "source": [
    "# Load model directly\n",
    "from transformers import AutoTokenizer, AutoModelForMaskedLM\n",
    "\n",
    "tokenizer = AutoTokenizer.from_pretrained(\"FacebookAI/xlm-roberta-base\")\n",
    "model = AutoModelForMaskedLM.from_pretrained(\"FacebookAI/xlm-roberta-base\")\n",
    "model"
   ]
  },
  {
   "cell_type": "code",
   "execution_count": 37,
   "metadata": {},
   "outputs": [
    {
     "data": {
      "application/vnd.jupyter.widget-view+json": {
       "model_id": "ed4678fd116049db9c802f2a60ca58a1",
       "version_major": 2,
       "version_minor": 0
      },
      "text/plain": [
       "tokenizer_config.json:   0%|          | 0.00/49.0 [00:00<?, ?B/s]"
      ]
     },
     "metadata": {},
     "output_type": "display_data"
    },
    {
     "name": "stderr",
     "output_type": "stream",
     "text": [
      "c:\\Users\\User\\Documents\\Code\\env\\lib\\site-packages\\huggingface_hub\\file_download.py:139: UserWarning: `huggingface_hub` cache-system uses symlinks by default to efficiently store duplicated files but your machine does not support them in C:\\Users\\User\\.cache\\huggingface\\hub\\models--google-bert--bert-base-multilingual-cased. Caching files will still work but in a degraded version that might require more space on your disk. This warning can be disabled by setting the `HF_HUB_DISABLE_SYMLINKS_WARNING` environment variable. For more details, see https://huggingface.co/docs/huggingface_hub/how-to-cache#limitations.\n",
      "To support symlinks on Windows, you either need to activate Developer Mode or to run Python as an administrator. In order to activate developer mode, see this article: https://docs.microsoft.com/en-us/windows/apps/get-started/enable-your-device-for-development\n",
      "  warnings.warn(message)\n"
     ]
    },
    {
     "data": {
      "application/vnd.jupyter.widget-view+json": {
       "model_id": "b61142cf493141b7bc77974fc292a61a",
       "version_major": 2,
       "version_minor": 0
      },
      "text/plain": [
       "config.json:   0%|          | 0.00/625 [00:00<?, ?B/s]"
      ]
     },
     "metadata": {},
     "output_type": "display_data"
    },
    {
     "data": {
      "application/vnd.jupyter.widget-view+json": {
       "model_id": "f4e69291bb644df78bd06431f96d8175",
       "version_major": 2,
       "version_minor": 0
      },
      "text/plain": [
       "vocab.txt:   0%|          | 0.00/996k [00:00<?, ?B/s]"
      ]
     },
     "metadata": {},
     "output_type": "display_data"
    },
    {
     "data": {
      "application/vnd.jupyter.widget-view+json": {
       "model_id": "d46d575ffc54494386fdf28f65b4d226",
       "version_major": 2,
       "version_minor": 0
      },
      "text/plain": [
       "tokenizer.json:   0%|          | 0.00/1.96M [00:00<?, ?B/s]"
      ]
     },
     "metadata": {},
     "output_type": "display_data"
    },
    {
     "data": {
      "application/vnd.jupyter.widget-view+json": {
       "model_id": "f30a6d2c7c8c469e88041c57cff41aed",
       "version_major": 2,
       "version_minor": 0
      },
      "text/plain": [
       "model.safetensors:   0%|          | 0.00/714M [00:00<?, ?B/s]"
      ]
     },
     "metadata": {},
     "output_type": "display_data"
    },
    {
     "name": "stderr",
     "output_type": "stream",
     "text": [
      "BertForMaskedLM has generative capabilities, as `prepare_inputs_for_generation` is explicitly overwritten. However, it doesn't directly inherit from `GenerationMixin`. From 👉v4.50👈 onwards, `PreTrainedModel` will NOT inherit from `GenerationMixin`, and this model will lose the ability to call `generate` and other related functions.\n",
      "  - If you're using `trust_remote_code=True`, you can get rid of this warning by loading the model with an auto class. See https://huggingface.co/docs/transformers/en/model_doc/auto#auto-classes\n",
      "  - If you are the owner of the model architecture code, please modify your model class such that it inherits from `GenerationMixin` (after `PreTrainedModel`, otherwise you'll get an exception).\n",
      "  - If you are not the owner of the model architecture class, please contact the model code owner to update it.\n",
      "Some weights of the model checkpoint at google-bert/bert-base-multilingual-cased were not used when initializing BertForMaskedLM: ['bert.pooler.dense.bias', 'bert.pooler.dense.weight', 'cls.seq_relationship.bias', 'cls.seq_relationship.weight']\n",
      "- This IS expected if you are initializing BertForMaskedLM from the checkpoint of a model trained on another task or with another architecture (e.g. initializing a BertForSequenceClassification model from a BertForPreTraining model).\n",
      "- This IS NOT expected if you are initializing BertForMaskedLM from the checkpoint of a model that you expect to be exactly identical (initializing a BertForSequenceClassification model from a BertForSequenceClassification model).\n"
     ]
    },
    {
     "data": {
      "text/plain": [
       "BertForMaskedLM(\n",
       "  (bert): BertModel(\n",
       "    (embeddings): BertEmbeddings(\n",
       "      (word_embeddings): Embedding(119547, 768, padding_idx=0)\n",
       "      (position_embeddings): Embedding(512, 768)\n",
       "      (token_type_embeddings): Embedding(2, 768)\n",
       "      (LayerNorm): LayerNorm((768,), eps=1e-12, elementwise_affine=True)\n",
       "      (dropout): Dropout(p=0.1, inplace=False)\n",
       "    )\n",
       "    (encoder): BertEncoder(\n",
       "      (layer): ModuleList(\n",
       "        (0-11): 12 x BertLayer(\n",
       "          (attention): BertAttention(\n",
       "            (self): BertSdpaSelfAttention(\n",
       "              (query): Linear(in_features=768, out_features=768, bias=True)\n",
       "              (key): Linear(in_features=768, out_features=768, bias=True)\n",
       "              (value): Linear(in_features=768, out_features=768, bias=True)\n",
       "              (dropout): Dropout(p=0.1, inplace=False)\n",
       "            )\n",
       "            (output): BertSelfOutput(\n",
       "              (dense): Linear(in_features=768, out_features=768, bias=True)\n",
       "              (LayerNorm): LayerNorm((768,), eps=1e-12, elementwise_affine=True)\n",
       "              (dropout): Dropout(p=0.1, inplace=False)\n",
       "            )\n",
       "          )\n",
       "          (intermediate): BertIntermediate(\n",
       "            (dense): Linear(in_features=768, out_features=3072, bias=True)\n",
       "            (intermediate_act_fn): GELUActivation()\n",
       "          )\n",
       "          (output): BertOutput(\n",
       "            (dense): Linear(in_features=3072, out_features=768, bias=True)\n",
       "            (LayerNorm): LayerNorm((768,), eps=1e-12, elementwise_affine=True)\n",
       "            (dropout): Dropout(p=0.1, inplace=False)\n",
       "          )\n",
       "        )\n",
       "      )\n",
       "    )\n",
       "  )\n",
       "  (cls): BertOnlyMLMHead(\n",
       "    (predictions): BertLMPredictionHead(\n",
       "      (transform): BertPredictionHeadTransform(\n",
       "        (dense): Linear(in_features=768, out_features=768, bias=True)\n",
       "        (transform_act_fn): GELUActivation()\n",
       "        (LayerNorm): LayerNorm((768,), eps=1e-12, elementwise_affine=True)\n",
       "      )\n",
       "      (decoder): Linear(in_features=768, out_features=119547, bias=True)\n",
       "    )\n",
       "  )\n",
       ")"
      ]
     },
     "execution_count": 37,
     "metadata": {},
     "output_type": "execute_result"
    }
   ],
   "source": [
    "# Load model directly\n",
    "from transformers import AutoTokenizer, AutoModelForMaskedLM\n",
    "\n",
    "tokenizer = AutoTokenizer.from_pretrained(\"google-bert/bert-base-multilingual-cased\")\n",
    "model = AutoModelForMaskedLM.from_pretrained(\"google-bert/bert-base-multilingual-cased\")\n",
    "model"
   ]
  },
  {
   "cell_type": "code",
   "execution_count": 36,
   "metadata": {},
   "outputs": [
    {
     "name": "stdout",
     "output_type": "stream",
     "text": [
      "Jumlah kata dalam kosakata: 30521\n",
      "Beberapa kata dalam kosakata: []\n"
     ]
    }
   ],
   "source": [
    "from transformers import BertModel, BertTokenizer, AlbertTokenizer, LongformerTokenizer, AutoTokenizer\n",
    "\n",
    "model_name = \"indobenchmark/indobert-base-p1\"\n",
    "tokenizer = AutoTokenizer.from_pretrained(model_name)\n",
    "vocab_list = list(tokenizer.get_vocab().keys())\n",
    "print(f\"Jumlah kata dalam kosakata: {len(vocab_list)}\")\n",
    "print(f\"Beberapa kata dalam kosakata: {vocab_list[40000:50000]}\")"
   ]
  },
  {
   "cell_type": "code",
   "execution_count": 25,
   "metadata": {},
   "outputs": [
    {
     "name": "stderr",
     "output_type": "stream",
     "text": [
      "The tokenizer class you load from this checkpoint is not the same type as the class this function is called from. It may result in unexpected tokenization. \n",
      "The tokenizer class you load from this checkpoint is 'AlbertTokenizer'. \n",
      "The class this function is called from is 'BertTokenizer'.\n"
     ]
    },
    {
     "name": "stdout",
     "output_type": "stream",
     "text": [
      "Jumlah kata dalam kosakata: 29999\n",
      "Beberapa kata dalam kosakata: []\n"
     ]
    }
   ],
   "source": [
    "from transformers import BertModel, BertTokenizer, AlbertTokenizer, LongformerTokenizer\n",
    "\n",
    "model_name = \"indobenchmark/indobert-lite-base-p2\"\n",
    "tokenizer = BertTokenizer.from_pretrained(model_name)\n",
    "vocab_list = list(tokenizer.get_vocab().keys())\n",
    "print(f\"Jumlah kata dalam kosakata: {len(vocab_list)}\")\n",
    "print(f\"Beberapa kata dalam kosakata: {vocab_list[29990:30000]}\")"
   ]
  },
  {
   "cell_type": "code",
   "execution_count": 19,
   "metadata": {},
   "outputs": [
    {
     "name": "stdout",
     "output_type": "stream",
     "text": [
      "Jumlah kata dalam kosakata: 30000\n",
      "Beberapa kata dalam kosakata: ['▁friedman', '▁concentrating', '▁kilkenny', '▁reassuring', '▁dartmouth', '▁tracing', '▁trenton', '▁mandated', 'amino', '▁regan', '▁widen', '▁rancho', '▁ornamental', '▁exquisite', '▁hostilities', '▁aperture', '▁walnut', '▁antibiotic', '▁ivanov', '▁poked', '▁schon', 'next', '▁henrik', '▁contributors', '▁moose', 'allen', 'erne', 'mono', '▁biodiversity', '▁centenary', '▁cheyenne', '▁commemorative', '▁pulitzer', '▁requesting', 'yuk', '▁costly', '▁cites', '▁prank', '255', '▁polly', '▁disciple', '221', 'mounted', 'phase', 'iran', '▁objections', '▁encircle', '▁fixing', 'tila', 'compatible', 'rial', '▁pumped', '▁darcy', '▁fuss', '▁stacked', '▁abused', '▁exceptionally', '▁improvisation', '▁anthropologist', '▁python', '▁prasad', '▁insist', '▁satire', 'gaku', '▁contradict', 'wright', 'nari', '▁skye', '▁imminent', '▁receipt', '▁reuben', '3,500', '▁characterised', '▁surgeons', 'oux', 'religious', '▁admire', '▁veto', '▁oblique', '▁poznan', '▁botany', 'aeus', '▁choreography', '▁2001:', 'evan', '▁gaa', '▁miner', '▁forgiveness', '▁nicholson', '▁morales', '▁bidding', '▁cheating', '▁playboy', '▁hanged', '680', '▁voluntarily', '▁diplomacy', '▁bleed', '▁insists', '▁tobago', 'pier', 'sboro', 'developed', '▁analytical', '▁motifs', '▁undoubtedly', '▁annoyance', '▁eaton', '▁shovel', '▁vida', 'elen', '▁boz', '▁sloane', '▁hoover', 'igen', 'growth', '▁embark', '▁bravo', '▁conspicuous', '▁organise', '▁allie', '▁reins', '313', '▁entrusted', '▁porcelain', '▁cannabis', '▁yankee', '▁writ', 'brain', '▁relocation', 'teur', 'thought', 'starred', 'zeit', 'laid', '▁belize', 'kau', 'destruct', 'phar', '▁yeshiva', '▁reelection', '▁margo', 'military', '▁sipped', '▁romanesque', '▁priesthood', '▁norms', 'vm', 'total', '▁chao', '▁diva', 'chrom', '▁springer', '▁sniffed', '▁complaining', '▁besieged', '▁deception', '▁vanderbilt', 'gray', '▁subcommittee', '▁kamen', '▁patton', '▁encourages', 'cular', '▁duma', '333', 'imov', 'omic', '▁fugitive', '▁wikipedia', '▁barbados', '▁goldman', '▁accountability', '▁defaulted', '▁unfold', '▁tablets', '▁lyons', '▁farrell', '▁transitional', 'route', '▁manfred', 'private', '▁truss', '▁forgetting', '▁luz', '▁redskins', '▁stripe', '▁barbarian', 'cina', '▁martian', 'lynn', '▁retreating', '▁blackpool', 'naire', '▁arising', '▁specialised', '▁booklet', '▁fallon', '▁joker', '▁grigor', '▁aforementioned', '▁disregard', '▁jig', 'rhiz', '▁granada', '▁startup', '▁noticeable', '▁intersects', '▁commute', 'mote', '▁accidental', '▁influx', 'ppi', 'leman', '▁rosario', '▁biologist', '▁manifestation', '▁giorgio', '▁clashes', '810', '▁toulouse', '▁rudy', 'bourgeois', '▁macarthur', '▁tweet', '▁tx', '▁sakura', '▁prospects', 'aban', '▁gud', '▁wield', 'gem', 'ovski', '▁donors', '▁paradigm', '▁buckingham', '▁premise', '▁buyers', '▁seine', 'chik', '213', '▁decreases', '▁queer', 'upon', 'secretary', 'daniel', 'tight', '▁amalgamated', 'lol', '▁semiconductor', '▁eccles', '▁creepy', '▁assaulted', '▁fernand', 'clean', 'cta', '▁gasping', '▁cretaceous', '▁rutherford', '▁chronology', '▁cruisers', 'calo', '▁multiplayer', '▁regis', '▁madhya', 'tetsu', '▁threatens', '▁matilda', 'cara', '▁hydroelectric', 'negative', '226', 'oxide', '▁moul', '▁pelo', 'prov', 'ugo', '▁handy', 'nella', '▁novi', '▁consulted', '▁licking', '▁wrench', '▁celia', '415', '▁overflow', '▁mirza', '▁walkover', '▁kuro', '▁approximation', '▁implicit', '▁libretto', '▁convex', 'lamp', 'ossi', '12%', '▁quarrel', '▁harmful', '▁schwei', '▁adobe', '470', '▁undergone', '▁aristotle', 'octa', '207', '▁whisk', '1897', 'ochi', '▁brod', '▁penetrate', 'ask', '▁pembroke', '▁wilder', 'wort', 'iaceae', '▁tuft', '▁inject', 'enden', 'dvd', '▁wynn', '▁stockton', '▁dickinson', '▁vanguard', 'rika', '204', '▁khz', 'arka', '▁salvatore', 'maniac', 'nci', 'subscribe', 'inflicted', '▁sufi', '▁jeremiah', '▁konstantin', '▁eyelids', '▁phoebe', 'inspiring', '▁peyton', '▁precedent', '▁plunder', '▁disappears', '▁abrupt', 'thio', '▁viet', '▁breakup', 'yra', 'idio', '▁remixed', '▁greco', 'neur', '▁matthias', '▁arbitration', '▁distortion', '▁masked', '▁lingered', '▁scoop', '▁howl', 'havi', '▁middleton', 'article', '▁boa', '▁constitutes', '▁psychedelic', 'apartheid', '▁initiation', '▁deported', '▁intruder', '▁greyhound', 'ologic', '▁rodeo', '95%', 'closed', '▁cheerful', '▁mili', 'pey', '▁satin', '▁burt', 'hook', '▁barclay', '▁drown', '▁barbie', '▁rump', '▁goldberg', '▁gregg', '1880', '▁musa', '▁trooper', 'ikh', 'uq', '▁repay', '▁tally', '▁currie', 'rw', '▁bahamas', '▁hacker', '▁threads', '▁fined', '▁napkin', '▁kidnap', '▁scattering', '▁#6', '▁bragg', '▁baseman', '234', '▁wardrobe', '▁injustice', '▁pneumonia', 'cosa', '▁jagged', 'coll', '▁subunit', 'rigo', '▁trader', 'quel', '▁welt', '▁irwin', 'idine', '▁vineyard', 'gala', '▁bacterial', '▁fret', 'holstein', 'sponsored', '▁prescription', '▁celestial', '▁nominees', 'peg', '▁battling', '▁congregational', '▁whitish', '▁nair', '▁regimental', 'dragon', 'niv', '▁warmed', '▁afb', '▁virtu', '▁kensington', '▁rosemary', '▁felipe', '▁bowman', 'machine', 'mier', '▁depict', 'pah', '▁disguised', '▁romero', '▁conjecture', '▁nguyen', '▁builders', 'energy', '▁perched', '▁boarded', '▁miz', 'opter', 'kirk', 'motor', 'thala', '▁proceeding', '▁symbolize', '▁radioactive', '▁dolphin', 'southern', '▁circulated', '▁compelling', '▁pebble', '▁chariot', 'vb', '▁statesman', '264', 'hawa', 'dap', '▁taut', '▁precaution', '▁tipperary', 'ogram', '▁stirring', '▁considerations', '▁connie', '▁vowed', '▁centimeters', '▁ligue', 'mukh', '▁nhs', 'czy', '▁jase', 'baptiste', '▁faye', '▁ballistic', '▁reeves', '▁aj', 'vv', 'cliff', 'coast', '▁generators', '▁equestrian', '▁domination', '▁reflections', '▁prospective', '▁mariners', '▁chewing', '▁honourable', 'mire', '▁dusseldorf', '▁metabolism', '▁marlin', '▁skinner', '▁truce', '▁stacy', '▁recipe', 'olli', '++', '▁terminology', '▁heli', 'righteous', '▁hilde', '▁raging', '▁unification', '▁efficiently', '▁consonant', '▁sabine', '▁denounced', '▁encode', 'plast', 'petti', '▁canary', '▁hud', 'feu', 'beautiful', '1894', '▁parma', '▁stout', '▁frogs', '▁corri', '▁adjective', '▁segregation', '▁tucson', '▁hoa', 'leben', '▁buckley', '▁2002:', '▁wooded', '▁niko', '▁emile', '▁reinstated', 'bola', '▁drummond', 'giu', '▁vogue', 'bagh', 'oza', 'yeong', '1,300', '▁impending', 'designed', 'battle', 'dhu', '▁despise', 'nco', 'hyun', 'haut', '▁mute', 'iscus', 'egg', 'limit', '▁graffiti', '▁micah', '▁narrated', '▁bott', '▁woven', '▁olaf', '▁yoko', '▁blitz', '▁planetary', '▁monitored', '▁derive', '▁quilt', 'paint', '▁penis', 'rosa', '▁mausoleum', '▁barked', '▁ignition', 'odon', 'demon', '▁luton', '▁magni', 'dari', 'rona', 'firm', '▁adele', '▁kj', 'intercontinental', '▁appetite', '▁simplicity', '▁piedmont', '▁strawberry', '▁clapped', '▁paragraph', '▁livery', '▁marius', '30,000', '▁principality', 'access', '▁swelling', 'simo', '▁vulnerability', '▁monsoon', 'nature', '▁hostility', '▁prosperous', '▁contraction', 'unta', 'italy', 'ckel', '▁narayan', '▁imports', 'loire', '▁urine', '▁vau', '▁proposes', '▁cinematographer', '▁longitudinal', '▁ajax', '1896', 'cep', '▁attacker', '▁translate', 'decker', '▁dictator', '▁fuzzy', 'brush', '▁bingham', '265', '▁speck', '▁possessive', '▁clamped', '▁creators', '▁admitting', 'truck', 'steroid', 'sawa', 'gong', 'iye', 'liche', 'uze', 'holz', 'hava', '▁acquitted', '▁versailles', '▁buyer', 'food', 'lucky', 'nami', '▁sgt', 'museum', '10%', '401', '▁perpendicular', '▁imitation', '▁barrister', '▁rudolph', '▁humidity', 'zuma', '▁literal', '▁gabrielle', 'inspired', '▁kush', 'plication', '▁pivot', '▁shang', '▁minh', '▁coincided', 'oja', '▁confederacy', '▁hugging', '▁outrage', '▁nobleman', '▁supplying', '▁hirsch', '▁slated', '▁alderman', 'rima', 'cerat', '▁coro', '▁gleaming', 'bora', '▁ascension', '▁excursion', '▁retaliation', '▁wight', '▁linden', 'eze', 'heng', '▁viceroy', '▁entrepreneurs', 'served', '▁playful', '▁ensign', '▁excel', 'hundred', '▁squire', '▁spectral', '▁rave', '▁unpopular', '▁muj', '▁lavish', '▁maddie', '▁echoes', '▁suspicions', '▁slayer', '▁fascinating', '▁indirectly', '▁goats', 'epp', '▁francaise', '▁stainless', 'lex', 'azione', 'ivan', '▁stranded', '▁purge', '▁evoke', 'koro', 'dammit', '▁lublin', '▁lookout', '▁peerage', '▁starving', '232', '▁ceramics', '▁jurist', '▁hillary', '▁polling', '▁whales', '▁apologized', 'owed', '▁daytona', '▁exercised', '▁valves', 'appointed', '▁dogg', '▁bubbles', 'brid', 'terdisciplinary', 'bran', '▁visually', 'universal', '▁roaring', '▁brunei', '▁assumptions', '▁heavenly', '▁accordion', '▁horton', '▁eagerly', 'modal', '321', 'lago', '▁clamp', '▁elongated', 'albert', '▁airlift', 'nv', '▁selecting', 'kine', '▁hardest', '▁[]', '188', '▁vicente', '710', '▁grayson', 'amide', '▁moderately', '▁kry', '▁continents', 'everyone', '▁recycling', '▁mendoza', '▁vibrate', '▁hymns', 'tsk', '▁navigate', '▁dali', '▁grounded', 'jing', 'lston', '▁rooftop', 'existent', '▁scam', '950', '▁cathy', '▁humber', '▁redemption', '▁emanuel', '▁substituted', '▁tera', '▁vhs', 'phospho', 'tool', '▁reddy', '▁twirl', '▁modular', '▁ratified', 'morning', '▁kern', '▁soothe', '▁vander', '▁illegally', '▁germ', '770', '▁diff', '▁nero', '▁announces', '▁clinging', '▁appalachian', '▁restructuring', '▁guinness', 'health', '▁yorker', '▁teleport', 'kane', '▁settler', 'muff', '▁lindsey', '▁palma', 'bishop', 'mera', '▁cornish', 'centric', 'centre', '▁confronts', 'tied', '▁mystical', '▁chili', '▁mandy', '223', '▁louie', 'autobiographical', '▁formidable', 'cook', 'dactyl', 'ection', 'imus', '▁wwf', 'pine', 'itsa', '▁rematch', '▁disagreed', '196', 'fuku', '▁raa', 'bride', '▁recoil', '▁quiver', '▁bruins', 'phus', '▁kazan', 'gah', 'usha', '▁barangay', '▁salzburg', 'simon', '▁honeymoon', '▁dinosaurs', '▁prelude', '▁werewolves', '▁chic', '▁badger', '▁galactic', 'arr', '▁topographic', '▁priorities', '▁jumper', 'particularly', '▁barrage', '▁everton', '▁mapped', '▁assertion', '▁cerebral', '▁reassigned', '▁shrewsbury', '▁dictatorship', '▁filthy', '▁password', '▁reggie', '▁pamela', 'rode', '▁valeri', '▁punjabi', '▁tremble', '▁yellowish', '▁aka', 'visual', '▁bret', '▁mclaren', '▁spanned', '▁penguins', '▁boiled', '▁stri', '▁mountaineer', 'ility', '▁homolog', '▁plagued', 'builder', 'chap', 'labor', 'terminal', 'actor', '▁maharaja', '▁preface', '▁volkswagen', '▁recital', '▁quartz', '▁liberties', '▁montagu', '▁poisoned', '▁galerie', '1,600', '▁piled', '▁coupling', '▁lunged', 'equivalent', '▁foothills', '▁sprinter', '▁stealth', 'hub', '▁spontaneous', '▁dough', '▁marta', '▁overlook', '▁shootout', '▁burgundy', '▁illegitimate', '▁talmud', '▁palazzo', '▁tyrone', '▁reis', 'anything', '▁bleak', 'szcz', 'kong', '▁rowe', '▁lively', 'rington', 'bery', '▁accustomed', '▁biscuit', '▁godfrey', '▁ignorance', '▁dracula', '▁remarkably', '▁cabo', '▁comfortably', 'feed', '▁gord', '▁syed', '▁salesman', '▁rolf', '720', '▁dashed', '▁plead', 'ieux', 'cada', '▁masonry', 'southeast', '▁guido', 'yeon', 'atan', '▁estuary', '▁oblivious', 'fontaine', '▁wrought', '▁whine', '▁vickers', 'guan', 'logist', 'significant', 'grady', '▁maga', '▁tull', 'nama', '▁mccall', '▁funnel', '▁tonga', 'dynamic', 'focused', 'enfeld', '▁levine', 'risk', '▁strasbourg', '▁mckenzie', '▁rebranded', '▁gymnast', '▁telecommunicati', '▁addison', 'ellen', '▁reformer', '▁foreman', 'saur', '▁hiero', 'together', '▁patty', '▁chewed', '▁weave', 'tropical', '▁sut', '▁pou', 'melo', '▁rake', '▁quintet', 'project', '▁verify', 'ayan', '▁choking', '▁draper', 'owo', '▁fanny', 'label', '▁elemental', '▁sanitation', '▁gael', '▁tyson', '▁tamp', '▁iphone', '▁streetcar', 'studio', '187', '▁mong', 'hina', '▁famously', 'posthumous', '▁rufus', '▁hovered', '▁processors', '▁penned', '▁clinched', '▁electrified', '▁artisan', 'ritt', '▁tere', '▁clarkson', 'usta', '▁shrimp', '▁soften', '▁shred', 'hangul', 'lisa', '▁proudly', 'mixed', '▁maverick', 'shine', '▁duffy', '▁feral', 'lico', '▁consulate', '▁curly', '▁solvent', '▁conversely', 'pure', '▁cecilia', '▁hoc', '▁filters', 'ppo', '▁silv', '▁tumble', '▁assemblies', '▁undisclosed', 'among', '▁aroused', '▁problematic', '1889', 'hungary', 'lingen', '▁diverted', '▁ministerial', 'ozzi', '▁exclude', '▁gaga', '▁crete', 'wehr', 'vivi', '▁shrew', '▁domenico', 'maro', '▁pinched', '▁refurbished', '▁interconnect', '▁shrubs', '▁envisioned', '▁pelt', 'bend', 'sleep', '▁metz', '▁joachim', '▁unwanted', '▁kinda', '▁flourished', 'weiler', '▁rushes', ':59', '▁presiding', '▁rigorous', '▁practitioner', 'henry', '▁tumbled', '▁usaf', '▁kettle', 'prime', 'hv', '▁lumpur', '▁judd', '▁dunes', '▁entail', 'malo', 'gret', '▁tangle', '▁vandal', 'gwa', '▁recreate', 'hashi', 'uji', '▁recession', 'bred', '▁wired', '▁unison', '▁tattoos', 'http', 'phyll', '▁galen', '▁proclaim', '▁avalanche', '▁societe', '▁slater', '▁bumper', '▁lucan', '▁deposition', '▁falkland', '▁brightness', '▁marti', 'crest', 'rx', 'cult', 'grey', '▁coherent', '▁cornelius', '▁tsunami', '▁ebb', '▁axiom', '▁attire', '▁capo', '▁widening', 'judge', '▁kenyan', '▁qian', '▁analysts', '▁donkey', '▁beads', 'ensen', '▁electrode', '▁jog', '▁camouflage', '▁corvette', '▁immaculate', 'phage', 'kami', '▁hazardous', '▁grease', 'mash', '▁scarce', '1888', 'escens', '▁juda', 'oor', '▁diminish', 'roux', 'instrumental', 'bacterium', '▁incidence', '▁tottenham', 'kirch', 'hopping', 'northern', '1892', 'thomas', 'shev', ':42', 'ranger', 'wur', '▁fiat', '▁unicorn', 'mizu', '▁peeked', '▁vernacular', 'axial', '▁welch', '▁industrialist', '▁disliked', '▁preaching', '▁fem', 'magic', '▁charlton', '▁beautifully', '▁xuan', 'palli', '▁liege', '▁conditional', '▁parental', '▁rowland', 'acker', '▁meri', '▁arithmetic', '▁rutgers', '▁pentagon', '▁assassins', '▁mentioning', 'forward', '▁conti', '▁rook', '▁faintly', '▁libyan', '▁calf', '▁runaway', '▁potassium', '▁tranquil', '▁atkinson', '▁shimmer', '▁aviator', '▁unnatural', 'material', 'express', ':43', '▁cartel', '▁corpses', '▁vaughn', '▁vertices', '▁economies', '▁hendrick', '▁blacksmith', 'highest', 'qaeda', '▁rodent', '▁mimi', '▁battered', '▁framing', 'rse', '910', '▁apron', 'ady', 'ksha', '▁weakly', '▁vanish', '▁tandem', '▁digitally', '▁#7', 'bv', '▁dissolve', '▁andrei', '▁transylvania', '▁bernstein', '530', '▁annexation', 'minister', 'uction', '▁algae', 'vive', 'sheng', '▁interceptions', 'combatant', 'mica', 'aryan', 'maria', '▁cougar', '▁windshield', '▁fearful', '▁peterborough', '▁xanth', '▁stefano', '▁fray', '▁waterford', '▁devin', '▁occupants', 'omorphic', '228', 'always', '▁unto', ':44', '▁archdeacon', '▁isotope', '▁anguish', 'chamber', '▁stevie', 'idge', 'uya', '▁gallons', 'effect', '▁smoothed', '▁poole', '▁sears', 'positive', 'stall', '▁husky', '▁marches', '▁fluttered', 'palla', '▁spawned', '▁playback', '1870', '▁compton', '▁polygon', '▁furlong', '▁disruption', 'mora', '▁curran', '▁envi', '▁dunk', 'capital', '▁azerbaijani', '▁zeke', '2:00', '▁deprived', '630', '▁blurred', '▁pieter', '▁randomly', '▁syd', '▁caller', '▁gorilla', '▁gerhard', '▁hurdles', '▁vomit', 'southwest', '▁tunic', '▁ruiz', '▁biennial', '▁kangaroo', '▁metropolis', 'vald', '▁blinding', '246', '▁yao', 'existing', 'gho', '▁termination', 'wulf', '▁novella', '▁harmless', '▁guyana', 'grandfather', 'schule', '▁hover', '▁castillo', '▁archaeologist', '▁bruised', '▁stub', '▁diocesan', '▁infiltrate', '▁provost', '▁deposed', '▁bikini', '▁medallion', 'troop', '▁kilograms', '▁birk', 'jie', '▁mongolian', 'ffa', '▁pare', '▁dominique', '▁faculties', '▁perpetrator', '▁susceptible', '▁alessandro', '▁lockheed', 'emper', '▁commemorated', '▁hierarch', '▁arjun', '▁titus', '▁chargers', 'mec', 'kesh', '▁transporting', '13%', '▁favourable', 'claude', '▁otis', '▁psychiatry', '▁menace', 'cbs', '▁variously', '▁rattled', 'logue', '▁ryo', '▁obstacle', '▁guangzhou', '▁stratford', '▁cylindrical', '▁reopen', '▁malaria', 'kovsky', 'minster', '▁khe', 'pov', '▁patio', '▁turbines', 'brick', 'ecki', 'forest', 'whose', '▁humboldt', '▁whereabouts', '▁thankful', '▁torpedoes', '▁distorted', '▁intrigued', '▁schul', 'monte', '▁remembrance', '▁sarajevo', '▁pussy', '▁smartphone', '▁flipping', '▁1758', 'killer', '▁meng', '▁kellan', 'ruk', 'nanda', '▁offences', '▁chords', '▁intimidate', '▁navigator', '▁morphology', '▁millie', '254', 'shita', 'issy', 'villa', '▁countered', 'throw', 'vf', 'uil', '▁samson', '▁shuffled', 'gast', '▁swirled', '20%', '▁rotate', '▁disclosure', '▁libertarian', '▁visibly', '▁circling', '▁strapped', '▁unemployed', '▁flinched', '▁cruelty', '▁glover', 'euter', 'nbc', 'veni', '▁arises', 'liberal', '▁1660', '▁sparta', '▁apostles', '▁eerie', 'commissioned', '245', '▁smelt', '▁webber', '▁lakers', '▁confirming', '▁drying', '▁angered', '▁projectile', 'jim', '▁corey', 'colonial', '▁malt', '▁collin', '▁hod', '▁atheist', '▁danielle', '▁quran', 'civil', '▁compiler', '▁sree', '▁accumulation', '▁negotiating', '▁armistice', '▁sinatra', 'rge', '▁inclusive', '▁oasis', '▁remnant', '▁physiological', 'steve', '▁vanity', '▁collage', '▁clover', 'osta', '▁rudd', '▁messy', '▁insanity', '▁sardinia', '▁crease', '▁startling', '▁rower', '▁reproduce', '▁amounted', 'eared', 'ewski', '▁cleric', 'submarine', '▁spilling', 'strange', '▁brag', 'koppen', '1893', '▁reb', '▁viaduct', 'critical', '▁nazar', ':34', 'native', '▁intends', '▁sabbath', '▁prologue', '▁ronan', '▁caledonia', 'multi', '▁capitalist', '▁disband', '▁martyrs', 'baker', '▁sharif', '▁messed', '▁headlights', '▁hilt', 'oche', '▁curated', 'pretty', 'ahn', 'astro', '▁flore', 'bhaga', '▁bernhard', '▁purported', '▁internship', 'xc', '▁encore', '▁attested', 'cee', 'ouch', '▁carrot', '▁browning', '▁abort', 'misunderstanding', '▁claudio', '▁navarre', '295', '▁ponytail', '▁crashes', '▁fingerprint', '▁liao', '▁energies', '▁georgie', '▁densely', '▁bakery', 'phos', '▁kraus', '▁saxophonist', '▁sergey', '▁analogue', '▁monty', '▁sheltered', '▁wiley', '▁sling', '▁evade', '▁linn', '▁taft', '▁mateo', '▁alamo', '▁falk', '▁shank', '▁bruises', 'birth', '▁billie', '▁wrecked', '▁dickens', '▁willingly', '▁boca', '▁caress', '▁hamas', '▁miraculous', '▁warwickshire', '▁optimization', '▁overview', '▁spherical', '▁uncover', '▁bolted', '▁200405', '▁karol', '▁spruce', '▁tehsil', 'ugg', 'lender', '▁archaeologists', '▁noteworthy', '▁nudged', 'hunt', '186', '▁bedside', '▁purity', 'journal', 'chancellor', 'homme', 'compatibility', '▁fabulous', '▁italics', '▁gmbh', '▁maka', '▁sloan', '▁denomination', '▁barking', '▁cullen', '▁gulp', 'possibly', 'travel', '▁elton', '238', '▁exploited', '▁flinch', '▁feeder', 'ilus', 'ophora', '▁tasting', '▁smirked', '▁philo', 'charles', '▁leach', '▁goldsmith', 'lidae', 'oiled', 'laf', '▁philosophi', '▁ethnicity', 'patria', '▁ensued', '▁kaufman', '▁fda', '▁richest', '▁harrington', '▁pandora', ':58', '▁milne', 'ober', '241', 'enactment', ':22', '▁topology', '▁contention', 'rico', 'dyn', '▁schooner', '▁wichita', '▁instability', '▁thwart', '▁apprenticeship', 'pj', '▁severity', '▁serge', '▁entre', '▁raided', '▁cantata', '▁mecca', '▁columb', '▁historia', '▁imply', '▁regretted', '194', 'fang', '▁computation', 'cub', '▁refit', '▁risky', '▁primetime', '▁enraged', '▁convergence', 'ogh', '▁hijack', '▁stifle', '▁crore', '▁oldham', '▁fabian', '▁nitro', '▁glut', 'cona', '▁betting', '▁fife', '/8', 'analyse', '50%', '▁hussain', '▁arousal', '▁scorch', '▁powerplant', 'iensis', 'oop', 'sullivan', 'induced', '▁mabel', '▁coughed', 'udu', '▁juno', 'traumatic', '▁perceive', '▁sabin', '▁revolves', '▁cripple', '▁4:3', 'minal', '▁colby', '▁aroma', '▁skipper', '1891', '▁reprint', 'israeli', 'proliferation', '▁albuquerque', '▁arrondissement', '▁segunda', '▁cannibal', '▁welcoming', '625', '▁denote', '▁churchyard', 'abha', '▁barony', 'credit', 'pta', '▁matri', '▁karin', '▁croat', '▁slowing', '▁swallowing', '▁defects', '▁confer', '▁bitten', '▁lending', '▁lark', 'driver', '▁atari', '▁buffet', '▁graphical', '▁$10,000', '▁doncaster', 'tronic', '▁lillian', '▁relying', '▁relocate', '▁shropshire', '▁creeping', '▁capp', '▁pali', '▁levant', 'clockwise', 'chner', 'oglu', ':57', '▁acquainted', '▁listener', '▁convened', '▁maltese', '▁lordship', 'ismo', 'swedish', 'cule', '▁reclaim', 'arctic', '▁squint', '16%', 'campus', '▁sme', 'amon', '▁interruption', '▁rumor', '▁$100,000', '▁norte', 'pud', '▁slalom', '▁suc', '▁kristian', '580', '▁fey', '▁strath', '▁croc', 'mmm', '233', '▁cyn', '▁chieftain', '▁lectured', '▁adjunct', '▁deficiency', '▁skyscraper', 'palatinate', '▁utrecht', '▁eyeing', '▁gdansk', '▁sweating', '227', '2+', '▁disgusting', '▁kelley', '▁haas', '▁catering', '405', '▁kale', 'tidae', 'huan', '▁pharaoh', '▁streamed', '▁energ', 'genic', ':02', '▁novak', 'awaited', 'taba', '▁runoff', '▁fili', '▁amusing', '▁fide', '▁ecstasy', 'conspirator', '▁kink', '▁ortiz', '▁analogous', '▁morale', 'acharya', '▁brant', 'umu', '▁localities', '▁organizers', '▁commence', 'filtration', '▁nippon', '▁orioles', 'wani', '▁dangling', '▁emilio', '▁mcbride', '▁ligand', '85%', '▁labelled', '▁protectorate', 'polar', 'heath', 'bello', 'bhai', '▁comrades', '▁prevailing', 'iken', '▁rumours', 'etude', '▁pisa', '▁slay', '▁coliseum', '▁eclectic', '▁wolverhampton', '▁biotechnology', 'vick', '▁urgency', '▁blurted', '▁glyco', '▁justification', 'kum', ':37', '▁fairfield', '193', 'abc', '▁woodward', 'rhin', '189', '1,100', '▁liturgical', '▁saliva', 'agno', '▁makeshift', '▁passer', '▁akbar', '▁amtrak', '▁foliage', 'emba', 'vod', '▁brevi', 'atum', 'provence', 'tsuki', '▁bookstore', '▁grimaced', '▁mandal', '▁takeoff', '0000', '243', '▁cami', '▁dragoon', 'petal', '▁bitterly', '▁repeal', '▁comprehend', '▁potomac', '▁retention', '▁anastasia', 'unconstitutional', '▁remedy', '▁sherwood', '285', '▁trolley', 'osus', 'lance', 'wack', '▁slain', 'csa', '▁stung', 'jump', '▁textbooks', '▁quicker', '▁floral', '▁bianca', '▁leroy', 'font', '▁illumination', '▁rustic', '▁oboe', '▁muster', '198', '▁helio', '▁utopia', '▁chico', 'cek', '▁shareholder', '▁crist', 'arche', 'gnostic', '▁scarborough', '▁$50', '▁bordering', '▁awkwardly', '▁shia', '▁tame', '▁strive', '▁tightening', '▁barnett', '237', '▁fatty', ':52', '▁violate', '▁penelope', '▁satya', '▁giulia', '▁brahma', 'vya', ':46', 'habit', 'matt', '▁teg', '▁musc', '197', '▁venkat', '▁transformers', '▁brackets', 'fired', '▁layla', '▁bombed', '▁dhan', '▁contamination', 'gula', '▁shai', '▁overseeing', 'cq', '▁ferrer', 'opol', 'ease', '▁steaming', '▁prism', '▁lair', '▁duval', '▁1760', '▁lega', 'azza', '▁criterion', '▁cabaret', '▁sahara', '▁seaside', '▁ligament', '▁hustle', '345', '▁pomerania', '▁novice', 'population', '590', '▁superseded', '▁parkinson', '1768', '▁ironically', 'alge', 'ogni', 'bole', '▁bethel', 'cruci', '▁endeavour', '▁rendezvous', '▁verdi', '▁derrick', '▁ferries', 'wake', 'utz', 'hma', 'micro', 'ussi', '1885', 'encompassing', '▁roach', 'ulin', '▁charcoal', '▁arranging', '▁audible', '▁whimper', '▁kade', '▁patel', 'phony', '▁trough', 'lunk', 'vista', '▁napoleonic', '▁patiently', 'quart', 'rsa', 'image', '▁gaius', 'ogenesis', 'olle', '▁hitchcock', '▁clatter', '35%', '▁leno', 'culum', 'marked', '▁pearce', '▁fling', '317', '▁blanco', '▁dazed', 'anthus', 'mene', 'edition', '▁deflect', '199', 'ugi', '▁christi', '▁consistency', 'kita', '▁julien', '▁romney', '▁trainee', 'kada', 'producing', '▁cud', '▁harrow', '▁rouse', '▁ironic', '▁muti', '▁adorned', '▁robbed', '▁chronological', '▁sausage', '▁gertrude', '▁triumphant', '▁seville', '▁buffy', '▁dorn', '▁oceanic', ':54', '▁persist', 'phonic', '▁bless', '▁cheryl', '▁pout', '▁serum', '▁melvin', '▁benefited', 'entine', '▁palermo', '▁alumnus', '▁mutiny', '▁skateboard', '▁geelong', '▁mccain', 'israel', '▁voc', 'hren', '▁genetically', '▁turnover', '▁offenders', '▁salam', 'flies', '▁smacked', '▁modernist', 'iyar', '▁wildcats', '▁peep', '▁formulated', 'inck', '▁sprinkle', '490', '▁caden', '▁provoked', '▁ssr', '▁karim', 'qualified', 'escence', '▁quantitative', '▁mauritius', '▁amenities', '▁persisted', '▁willard', 'glia', '▁wally', '▁blasted', 'oslav', 'gine', '▁coop', 'frag', '▁tripoli', 'kilometer', '▁jock', '▁langley', '▁baggage', '▁nuclei', '▁bryce', 'condition', '▁adaptive', '▁eject', '▁differentiate', '▁lifeboat', '▁norma', '▁ascended', 'bov', 'baba', '▁stoop', '▁consult', '1884', 'responsive', '▁ambiguous', '▁towed', '▁replicate', '▁disposition', 'onga', 'seeker', 'aaa', '▁carmine', '▁conglomerate', '▁baked', 'histoire', 'meet', '▁pumpkin', '▁restrained', 'mega', ':33', '▁superiority', '▁madden', '▁marries', '▁generalized', '281', 'artist', 'hoku', 'inflammatory', '▁ominous', '▁procure', 'ianus', '▁draught', '▁possessing', 'mean', '1887', 'ongo', '▁grille', 'priya', '▁softer', '▁ponce', '▁davy', '▁guggenheim', '▁vip', 'euse', 'shackle', '▁courtroom', 'celli', '▁consonants', '▁travellers', 'meric', '▁endowed', '▁contradiction', '▁scratching', 'pmid', '▁dax', 'brough', '▁goaltender', '▁whatsoever', '▁resentment', '▁adjusting', 'ornith', 'changing', '▁plunge', 'determined', '▁schn', '▁kindly', '▁pimp', 'uzzi', 'schau', 'zou', 'asser', '▁tav', '▁crusaders', 'lox', '▁liberated', '▁mariana', 'raising', '▁tiru', '▁paterson', '▁recipes', '▁dung', 'koy', '▁diaries', 'haka', '▁avatar', 'title', '▁memo', 'enge', '▁keynes', 'burger', '▁angled', 'mediated', '184', '▁improper', '▁racket', '▁neighbour', 'atsu', '▁eduard', '▁foundry', '▁punching', 'protein', 'angelo', '▁skid', 'idad', 'coded', '▁tentatively', 'manager', '322', 'kuni', '▁parv', 'binding', '▁cheltenham', '▁straightforward', 'zw', 'drome', '▁harald', '▁benedictine', 'krieg', '▁morrow', '▁greed', '▁granny', '▁vineyards', 'garden', '▁marcia', 'zet', 'leary', 'tada', '▁abdel', '▁sighing', '▁trenches', '▁odyssey', '▁ventilation', '▁kinase', '▁bishopric', ':38', '▁carver', '▁perch', '▁nether', '▁negatively', '14%', 'orie', '▁longitude', '▁enjoyment', 'stedt', '▁wesleyan', '▁surged', 'zun', '▁conflicting', '▁ample', '▁gubernatorial', '▁remastered', 'acco', 'czechoslovak', '▁creole', '▁sellers', '▁emphasizes', 'appe', 'technical', '242', 'things', '▁andersen', '▁impaired', '▁odessa', '229', 'teh', '▁bumped', 'illion', '▁caliph', '▁mitt', '▁frontal', 'avian', 'irri', 'ruz', 'etter', '▁fiance', '▁deviation', 'anca', '▁cultivar', '▁truncat', '▁reunite', '▁centaur', 'krishnan', '▁remarried', '▁gallop', '▁homework', '▁transforming', ':03', '▁relaxing', '▁rpg', '▁unreal', '11%', '▁savanna', '▁$12', '17%', 'pitched', '▁mercenaries', '▁eileen', '▁mauri', '▁sharpe', '▁sheldon', 'dori', '▁tremor', '▁mop', '▁hove', '▁silky', '▁olsen', 'besides', '▁esk', 'appen', 'function', 'blatt', '▁gemma', '▁colliery', '▁evolving', '▁fascination', '▁colonization', '▁haunt', '▁simi', '▁hermit', '▁hartman', 'roga', 'typical', 'tested', 'fresh', 'arre', '▁tito', '▁ankara', '1,800', '▁deteriorated', '▁blackness', '▁inconsistent', '▁disdain', '▁selena', '▁multinational', 'evre', '▁chairperson', '▁campaigning', 'broadway', '▁routinely', 'bottom', 'veld', '740', '▁augmented', '▁bethlehem', 'fford', '▁anatolia', '▁avalon', '▁quadri', 'jani', '▁flickering', 'meier', 'invest', 'ql', '▁partisans', '▁auspices', '▁nuremberg', '▁pasadena', '▁isaiah', '▁flavour', '▁objection', 'gush', 'spasm', '▁slum', '▁hinduism', '▁alarmed', '▁prevailed', '▁marshes', 'liv', 'rsk', '▁preseason', 'nex', '▁hertfordshire', '▁euclid', '▁unlawful', 'wale', '▁renounce', '▁lobbying', '▁caine', 'pti', '▁awaken', '▁pivotal', '▁skyline', '▁goodwin', '▁deepened', '▁symmetrical', '1878', '▁garlic', '1886', 'entrepreneurship', '▁embankment', 'stylized', '▁quill', '▁inverted', 'itate', '▁trapping', 'kenne', '▁fortunate', 'cte', ':27', '▁surfing', '▁ceded', 'bius', 'ifera', '▁angelica', '▁emigration', '▁nutrients', '▁citrus', 'nuclear', '▁postwar', '▁yates', '760', '▁sprout', '▁symphonic', '417', '▁yukon', '▁verona', 'veri', 'vak', '▁bandits', '▁gallo', '▁coco', '▁petite', '▁guthrie', '▁forcibly', '▁maureen', 'zumi', '▁magnum', '▁cursing', 'bulgarian', '▁negotiation', 'alpha', '▁lyricist', '▁hewitt', '▁tamara', '▁euph', '▁coordinating', '▁necessitat', '▁superficial', '▁acronym', 'nucleotide', '▁slat', '▁valor', 'verein', '▁macon', 'itia', '▁accusation', '▁chakra', '▁chrys', '▁fredrik', '▁silas', '▁blaine', 'geschichte', '▁bartholomew', '▁neolithic', '▁leicestershire', '▁clipped', '▁dependence', '▁zachary', 'nazi', '▁entertain', '▁vagina', 'fellow', '▁keyboardist', '▁yue', '311', '▁classmates', '▁horseback', '▁mitsubishi', '▁secession', '▁rooster', 'money', '▁queue', '▁glossy', '▁chaotic', '▁thicker', '▁envy', '▁senor', 'kke', 'performance', 'chter', 'odd', 'skinned', '▁neb', '▁madam', '▁luxurious', '▁deceive', 'ought', '▁furiously', '▁stephenson', 'undi', '▁unix', 'vada', '▁jenn', '▁zipper', '▁charting', '128', 'loaded', 'commercial', '▁clade', '247', '▁typo', '▁penetration', '▁fuscous', '▁ulrich', '▁sorted', '▁organizer', '▁reflective', '▁museo', '▁stutter', '▁handel', 'worker', '▁pertaining', '▁snoop', '▁unavailable', '▁sweaty', 'elson', '▁countdown', '1882', '▁doubtful', '▁fumbled', 'haber', '620', '▁stylistic', '▁weeping', '▁infringement', '▁sapphire', '▁flutter', '▁bodily', '▁bowled', '▁fueled', 'acetyl', 'digger', '▁octave', 'bord', '▁brody', ':28', '▁freddy', 'hypno', '▁khalid', '▁shivering', '▁sampled', '261', '▁medici', '▁ufo', '▁authorised', 'diction', '▁irrational', 'soluble', '▁schultz', 'ncia', '▁zem', '▁rosenberg', '▁anchorage', '▁flea', '▁atoll', '▁detonate', '▁marianne', 'movie', '▁fresco', '▁graceful', '▁willingness', 'vox', '▁oilers', '▁oppression', '▁prevalence', '▁secrecy', 'fuhrer', '▁aubrey', 'ucl', '▁snort', 'piano', '▁combo', ':26', 'stav', 'rq', '▁baj', 'nose', '▁implicated', '▁stimulus', '▁bose', '▁sleek', '▁mustafa', '▁heaved', '▁imperfect', '▁lehman', '▁shaping', '▁eury', '▁stalking', '1879', '▁popularized', 'include', 'electronic', '▁postmaster', 'rider', '▁jurassic', '▁labrador', '▁thriving', '▁moc', 'nobody', '▁syntax', 'rota', '335', 'hna', '▁ventured', '▁kicker', '▁indigo', '▁blushed', '▁darlington', '▁cavan', '▁colchester', '314', 'claim', '▁frankly', '▁withstand', '249', '▁downhill', 'limb', '▁amphi', '▁surfer', '▁sylvester', '▁mermaid', '▁libby', '▁mersey', '▁muta', ':01', '▁holloway', '▁impacted', '▁authorization', '▁comparatively', 'coloured', '▁booster', '▁guise', '▁burying', 'ombre', '00%', '▁montane', '▁congestion', '▁stairway', '▁commissar', '▁anglia', '▁stacey', '▁bisexual', '▁telecast', '▁wentworth', 'christophe', 'guest', '▁bison', '▁intercity', '▁munch', '425', 'naud', '▁trusting', '▁bolivar', 'angan', '▁autism', '▁exponential', '▁gearbox', 'muhl', 'ambro', '▁marley', '▁garry', '▁cortes', '▁pathology', '251', '▁pitches', '▁asshole', '▁plotting', 'ulous', '▁diffuse', '▁respectful', 'zona', '262', 'icu', '▁gait', '▁marge', '▁outfielder', '▁comune', '▁haunting', '▁cyst', '▁noisy', '670', 'unless', '▁advertiser', '▁mythical', '▁haji', '▁distinctly', '▁richter', '▁actresses', 'cream', '▁respectable', '▁nanny', '▁sawmill', '▁smyth', '▁hunched', '▁politic', '▁charley', '▁unbeaten', '▁ciudad', '▁corsica', 'millimeter', '▁sundance', '▁lbf', '▁fisherman', '▁establishes', 'finalist', '▁abducted', '▁mcgee', '▁organiser', '▁injunction', '▁recognizable', '▁defiant', '▁tendencies', '▁sacrificed', '▁swoop', 'brazil', '▁leiden', 'aksha', '▁restart', '▁collaborating', '▁pornography', '▁subsidiaries', '▁sorcerer', '▁meteorological', 'parc', 'westphalia', 'jiro', '▁corinthian', '1865', '▁groin', '555', 'nje', '▁konig', '▁spoiled', ':32', '▁sarcasm', '▁abusive', '▁quotation', 'generally', '▁yeast', '▁windmill', '239', 'chuck', 'ridae', 'information', '▁rye', '▁impatiently', '▁apologetic', '▁archaic', '▁paranormal', '▁progressively', '▁athenian', '▁haitian', '▁kraft', 'enic', '▁susannah', '▁beaux', '▁outcrop', '▁southbound', 'swiss', '51%', '▁twi', 'haq', '570', '▁modernization', '▁baptized', '▁sherlock', '▁attendees', 'rahim', '▁marathi', '▁immortality', '▁conserved', '▁hesitant', '▁assessing', '▁imitate', '▁sinai', '▁plucked', 'wada', '▁disrupted', '▁seductive', '▁delusion', ':24', '▁broadband', '▁saha', '▁hayward', '▁zeal', '▁subjective', '▁hipp', 'smelling', ':48', '▁resin', 'frequent', ':36', 'establish', 'sort', 'thwaite', '▁commodity', '▁landfall', '▁irony', '▁mainline', '▁crag', 'deh', 'encies', 'bread', '▁commemoration', '▁remorse', '▁murdoch', '▁deportation', '▁rodrigo', '▁professorship', '▁craftsman', 'spawn', 'lima', '▁simp', '302', '▁optimize', '▁wien', '▁tammy', 'australian', 'flag', '▁sanity', '▁incorrectly', '▁liturgy', '▁amherst', '▁surveying', '▁blister', '▁apostle', '▁accelerate', '▁phonetic', 'mitra', '▁haynes', '▁dysfunction', '▁northbound', '416', 'reading', '▁compromised', '▁bridg', '1883', 'omorph', '▁adjutant', '▁amplitude', '▁feminism', '▁yiddish', '▁intrinsic', '▁inclination', '▁template', '▁vertex', '▁thistle', 'jl', 'advert', '▁beep', '▁intensely', '▁reconsider', '▁ramsay', '▁airbus', '▁notified', '▁benches', '▁ravine', '▁plume', '▁fingernails', '▁emm', 'azzi', '▁hiroshima', '▁cinematic', '▁casualty', '▁thoughtfully', '▁bayern', 'ophile', 'secure', '▁putnam', '▁defiance', '▁incapable', 'deva', 'joined', '▁affirmed', '▁$40', '▁kob', '▁gemini', '▁differed', '▁policemen', '▁artifact', '▁dubious', '▁purdue', '▁fused', '▁launches', '$3', '▁saber', 'cua', '▁calculating', 'quito', ':53', 'kashi', '▁boil', '▁oxfordshire', '▁retailer', '▁gunther', 'interpret', '▁leonid', '▁fiancee', '▁cutler', 'estro', 'rocket', '▁correctional', '385', '▁manipulated', 'pata', 'vg', '▁micha', '▁barnard', '▁ponte', '▁mathias', '▁scaled', 'hazar', 'alexandr', 'elio', '▁strolled', '▁cardboard', '▁barrio', 'msa', '▁hailey', 'depth', 'michel', 'jaw', 'ulan', '▁austral', '050', 'oscopic', 'asiatic', '▁blizzard', '▁exploding', '▁huddled', '▁multitude', '▁samsung', '▁baa', 'hack', '▁gaspar', '▁migrate', '▁zionist', '▁migrant', '▁snug', '▁jardin', 'axton', ':08', '308', '▁metallurg', '▁moniker', '▁reliance', '▁seahawks', '▁sexes', '▁santana', '▁investing', '▁mallory', '▁kish', 'draft', '▁wildcard', '▁edict', '▁911', '▁fashionable', ':41', 'rj', 'associate', '▁regeneration', 'equa', 'limited', '▁alexia', 'branch', 'barbar', '▁discreet', '▁sociologist', '▁universite', '▁sienna', '▁styling', 'dame', '▁implying', '▁practised', '318', 'infini', '▁dolly', '▁sele', '▁pairing', 'nui', '▁delphi', 'racial', 'blad', '▁dreadful', '▁stumbling', '▁marga', '▁monterey', '▁sneaking', '1881', 'tolerant', '▁bellow', '▁forbid', 'dorff', '▁unpublished', '▁mildly', '▁xp', '▁eine', '▁nestor', '45%', '▁motionless', '▁huddersfield', '▁gigantic', '▁dowager', '▁boar', '▁larson', '▁shutout', '▁hysterical', '▁glittering', '▁taped', '▁titanic', '▁calmed', 'vot', 'madi', '▁insurgents', '▁muh', '▁lacy', '▁malaga', '▁garfield', '▁botswana', '▁accolade', '▁collingwood', '▁medicinal', '▁sobbing', 'uzi', '▁huron', '▁salaries', 'phenyl', '▁xh', '▁torrent', '▁neutrality', '▁reelected', '▁facilitated', '▁traveler', 'rank', '▁pilgrim', '▁sewage', '▁debating', 'franchi', 'kian', '▁modelling', ':51', '1874', 'bish', 'poc', '▁reptiles', 'zhan', '▁scheduling', '▁bartlett', '▁dentist', '▁pancake', 'goro', 'lept', '▁highlighting', '▁stature', 'myr', 'nnington', '▁liable', '▁janice', '▁tanya', 'anski', '▁cupboard', 'schutz', '▁foresee', '▁cossack', '287', '▁marr', '▁clarify', '▁inhibition', 'dour', 'eyn', '▁faber', '▁sultanate', '1868', '▁styx', '▁devo', '▁distributing', '▁gravitational', '▁incredulous', '▁memorandum', '▁neptune', '▁munitions', '▁gliding', '▁pokemon', '▁straddle', '▁madhu', '▁narration', '▁alfredo', '▁heiress', '▁beggar', 'cius', 'kani', '49%', 'iggy', '▁pavl', '▁thirst', '▁profess', '▁radha', '▁blended', 'rax', '▁setback', '▁disgrace', '▁happier', '▁ritchie', '▁henrietta', '▁sculpted', '▁cfl', '236', 'nse', '▁scarlett', 'francois', '▁swayed', 'opening', '▁sparse', ':06', '▁sleeper', '▁refinery', '▁occult', '▁aerodynamic', '244', 'costa', '999', 'berlin', '▁joked', '▁freshly', '▁inflict', 'autonom', 'during', '▁silesian', 'effer', 'rhythm', '▁mutually', 'icola', '▁yeo', '▁cadillac', '▁repetition', '▁skeletal', '▁banished', '▁erratic', '▁denoted', 'zag', '▁croix', '▁bertie', 'gran', '▁readiness', '▁morley', '▁scanner', '▁middleweight', '▁lora', '▁breech', '▁jovi', '▁causal', '▁aristocratic', '▁spaniards', '▁cardio', '▁repertory', '▁overheard', '▁swivel', 'akshi', '▁squeal', '▁amulet', '▁edible', '▁minsk', 'culus', '▁gravi', '▁hideous', 'zuka', '▁verandah', '▁automation', '▁hendrix', '▁vilnius', '▁crumpled', '▁hilda', '▁beren', '▁henley', '▁woodstock', '▁syr', 'acanth', 'saurus', '▁mainz', '▁clipper', '▁erupt', 'kino', '▁intimacy', '▁netflix', '▁peabody', ':56', '▁volvo', 'foli', ':29', 'ordinate', '▁mango', '304', '▁licht', '▁greenville', 'grin', '▁parr', 'byte', '▁quell', '▁koda', '▁sahib', '▁oligo', '▁ripe', '▁mesopotamia', '▁myrtle', 'alex', '▁violating', '▁injected', 'characterization', 'rocco', '▁bolster', '▁nicky', '▁knighted', '▁janata', '▁rashid', '258', 'mask', 'truth', 'enhancing', '▁tabloid', '▁biomedical', '▁insistence', '▁puddle', '▁contour', 'arranged', 'physical', 'consider', 'rigan', '▁mutt', '▁lodged', 'acao', '▁improvised', 'lw', 'crazy', '▁brownish', '▁communicating', '▁subdued', '▁sichuan', 'lorenz', '▁remotely', 'pull', '▁taw', '▁spirituality', 'lito', '257', '▁inadvertently', '▁metabolic', '▁reluctance', '▁gladiator', '40%', 'euil', '▁vertically', '▁abduction', 'zaka', '▁abandoning', 'anyway', 'boom', '▁checkpoint', '▁backstage', 'onica', '▁tickle', '▁kabul', 'contract', '▁fremantle', '▁carpathian', '▁dilemma', '▁worcestershire', '▁hereford', 'kiewicz', '▁awakened', '▁jarvis', '▁domino', 'kuh', '▁rte', '▁shiv', '90,000', '▁cebu', 'frid', '▁hokkaido', '▁loneliness', '▁kathryn', '▁dimple', '▁humming', '▁sima', '▁erica', '▁verified', '▁scandinavia', '▁interpol', '▁slung', '▁wilkes', 'utta', '▁baroness', '355', '▁lucha', '▁smuggling', '▁storytelling', '▁gardiner', '▁categorized', '▁vodka', '▁colton', '▁lymph', '▁weighted', '▁wrestled', 'mony', 'clerical', '▁crimean', '7,500', '▁broaden', '▁glyn', '▁pajama', '▁pendant', '▁phelps', '▁clump', '▁pollen', '▁gentry', '▁lenny', '▁flirting', '▁tamar', '▁zimmerman', '▁spaceship', 'uco', 'ophy', 'focus', '▁olympian', '▁enclave', '▁pitchfork', '▁buzzing', '▁abolish', '▁procurement', 'blin', 'sentimental', '▁raza', '272', '▁zara', '▁tentative', '▁hawthorn', '▁furnished', '▁paramedic', 'violent', 'pada', '▁align', '▁supplemented', 'zuki', '▁bandwidth', '▁bubba', '▁yokohama', 'dera', '▁cj', '404', '▁sundar', 'bashi', '278', '▁romano', 'hild', '▁heartbreak', '▁rui', 'spell', '▁melano', 'credited', '▁conveyed', 'ocean', '▁davey', '▁advocating', '▁labyrinth', 'television', '▁counterattack', 'umbo', '▁gera', '▁boll', '▁experimented', '▁yarn', '▁townland', 'ribo', '▁reset', 'kuri', '▁shaved', ':39', 'gale', 'lingual', '▁rivet', '▁federico', '▁frenzy', '▁seneca', '▁relish', '▁nuevo', 'thorax', 'legal', '▁questionable', '▁papp', '▁osman', '▁restroom', '▁backseat', '▁croydon', '▁rothschild', '▁transistor', 'muslim', '▁vulgar', '354', '▁drastically', '▁tweed', '▁winkler', '▁billionaire', '▁keystone', '▁maul', '▁attache', '▁poppy', 'doubt', '▁baird', '1,400', 'athlete', 'hectare', 'pressure', '▁careless', '▁sicilian', '▁frederik', '▁populous', 'automatic', 'rrie', '▁syllables', '▁plough', '▁mush', '▁sash', 'lumina', 'bender', '▁penang', '▁bismarck', '▁smoky', '▁clarified', '▁differentiation', '▁uplift', '▁phyllis', '▁briefcase', '▁mohawk', '▁laird', 'fitting', '▁loren', 'lorn', 'jara', '1876', '▁chesapeake', '▁genevieve', '▁relativity', '▁sweeney', '▁guillaume', '▁reversal', 'yala', '▁nottinghamshire', '▁yunnan', 'hipped', 'engage', '▁oricon', '▁costello', '18%', 'management', '▁invitational', '▁xml', '▁lakh', '▁draining', '▁poke', '▁striped', '▁shao', '▁vendor', '▁becca', '▁jaenelle', '▁primal', '▁vulcan', 'jevic', '▁arcadia', 'kanda', '▁etched', '253', 'connected', 'island', '▁cim', '▁benin', '▁fantasies', '▁cipher', 'opolis', 'wiz', '▁christy', '▁knoxville', '▁ferris', '▁wreckage', '▁bluegrass', '▁glazed', '▁iteration', '▁blackwell', '▁cato', '▁murdering', '▁catchment', 'raid', 'eswara', '▁calam', 'beard', '▁analyzing', '▁hygiene', '▁lucrative', '▁marjorie', '▁mckenna', '▁brothel', '▁templar', '▁strikeouts', '▁unidentified', '▁fulham', '▁yahoo', '515', '▁doomed', 'eigen', '▁schlo', '▁breeders', '▁horne', '▁pluck', 'ayya', '▁bony', '▁fogg', '▁phylogenetic', 'igno', '▁olimpi', '▁constrict', '▁beckett', '357', '▁150,000', 'ovan', '1860', '▁astrid', '273', '▁intervened', '▁shortest', '▁furrowed', '▁kolo', '▁womb', '▁malin', 'regulation', 'thirty', '▁bono', '▁paranoid', '▁intrusion', '▁wanda', '▁cleave', 'format', 'haku', '▁olympiad', '▁karel', 'cube', '▁erase', '▁allegheny', '▁recollection', '▁nouvelle', '▁aqueduct', '▁bahadur', 'privat', 'carboxy', '▁adulthood', 'kazakh', '435', '▁protesting', '▁steamship', '▁tripped', '▁seminal', 'aglia', '▁dune', '▁loaf', '▁festivities', 'stasis', '▁crumble', '▁augment', '▁waiver', '1875', '▁eton', '▁crowley', '▁coax', '▁scarcely', '▁confinement', '▁humiliation', '▁vaudeville', '▁vegetarian', '▁stabbing', '▁adamant', '▁brahmin', '▁competence', 'scoring', '307', 'extra', '▁dunbar', '▁steiner', '▁viol', '▁1300', '▁callie', '▁inevitably', '▁nickelodeon', '▁fresno', '▁bernardo', '▁craven', '▁napier', '▁lull', 'udge', 'lieb', 'sharp', '730', ':49', '▁wonderland', '▁mysore', '▁nairobi', '▁morphological', '▁hartley', '▁reappear', '▁maize', 'cherry', '▁jammu', 'rather', ':31', ':47', 'patch', '▁connolly', '▁livelihood', '▁propagation', '▁heroin', 'solid', 'remix', '306', ':07', 'conference', '▁manually', 'haugh', 'hydrate', 'ographie', '▁grimm', 'graduate', '▁tempest', '▁fairies', '▁vial', 'enough', '▁scooped', '▁shuffle', '▁alexei', '▁larsen', '▁criticize', '▁qur', '▁potion', '55%', '▁geologic', 'emma', '980', '▁agitated', '▁prescott', '▁calculus', '▁heightened', '▁dotted', '▁slump', '▁almond', '▁jamal', '▁disclosed', '▁lepto', 'efficient', '▁uniquely', '▁vanilla', 'kate', 'ologia', 'feasible', '▁melodrama', '▁bertrand', '▁equatorial', '▁entertained', 'jazz', 'yaka', 'choice', 'pray', 'write', '▁comedic', '▁nrl', '4:00', '▁rehab', 'fleet', '▁fitch', '787', '▁kaplan', '▁scraped', '▁applause', '▁cemeteries', '▁georgi', '▁galley', '▁hutton', '▁pennant', '▁weaknesses', '▁abdominal', '▁accompaniment', '▁disapproval', '▁expanse', '▁lennox', '▁ganga', 'vour', '▁witchcraft', 'mountain', '▁convertible', 'jaya', '▁geographically', '▁mistakenly', 'faith', '▁iaaf', '▁fantas', 'quier', 'ichiro', '▁#8', '▁arturo', 'entered', '▁snowy', '▁tasmanian', '▁banning', '▁expel', '▁vito', '▁preached', '▁200304', '▁eich', '▁christoph', '▁buckinghamshire', '▁burglar', '▁grasping', '▁jihad', 'trude', 'marriage', 'kopf', '▁sprawled', '▁mellon', '▁preschool', '▁trav', '▁ogden', 'cosm', '▁npr', 'grenadier', 'gesellschaft', '▁bonaparte', '▁welterweight', '▁temperament', '▁uploaded', 'ciones', '▁purr', 'governor', '▁filly', 'equipped', '▁saxe', '▁smashing', '▁topography', '331', 'jic', 'object', '1871', '820', '▁conqueror', '▁lavender', '▁timetable', 'celi', '▁dewey', '▁scramble', '276', '▁incense', '▁emulate', '▁melville', 'vam', '▁intercollegiate', '▁shipwreck', '▁dmitri', '328', '▁policing', '▁vulture', '▁commentaries', 'tatsu', '▁cypress', '▁basalt', '252', '▁roundabout', '▁bonded', '▁speculative', '▁lodging', '▁menacing', '▁jurgen', '▁braz', '▁anaheim', '▁organising', '▁ventral', '▁housekeeper', '▁bergman', '▁triad', '▁geek', '▁experimentation', '▁greedy', '▁spectator', '▁supra', '▁caterpillar', '▁stimulation', '▁busiest', '▁gareth', '▁pausing', '▁replication', '1850', 'haran', '▁absently', '▁maynard', '▁wta', '▁sachs', 'linus', '1867', '▁capacities', '▁ljubljana', '▁obituary', '▁dangerously', '▁overlapping', '▁scrape', '▁harshly', '▁bhatt', 'finish', '▁elmer', '▁deng', '▁1400', '▁milano', '▁stalled', '259', '▁gutierrez', '▁parchment', '▁libel', '▁dialed', '▁dryly', 'mike', '▁rocker', 'australia', '▁muted', '▁schema', '▁dissident', '▁thunderstorm', '▁pim', '▁musically', 'copa', '▁vargas', 'erio', '▁weaken', 'ferri', '395', '▁taint', 'spirit', '▁downloaded', '▁celeste', '▁bahia', '▁humanist', '521', '▁giggling', '▁zeppelin', '▁gillespie', '▁jewellery', 'gv', '▁edna', 'respect', '▁havoc', '▁criticizing', '▁preferring', '▁yves', '▁redesign', 'digit', '▁directorial', 'industri', '▁abstraction', '▁hardwood', '▁compute', '▁residual', '▁gesturing', '▁ursula', '▁spacious', '▁burkina', '▁carcass', '▁steamboat', '▁carthage', 'kirchen', '▁swirl', '▁ballard', '▁stomped', '▁nebula', '▁buena', '▁aristo', 'khon', '▁crass', '▁lurched', '▁mahal', 'narayana', 'fung', '▁mandir', '▁lulu', '▁ingredient', '▁zamb', '▁commemorating', '▁crambidae', '▁inflammation', '▁misleading', '▁monstrous', '▁guangdong', 'archive', '▁racehorse', '▁cec', 'hedron', '274', '▁selector', '▁peat', '▁hostess', 'reck', '▁nao', '▁barley', '▁maximize', '▁yielding', '690', 'cbn', 'litt', '▁academies', '▁belgarath', '▁credibility', '▁repression', '▁doubling', '▁renegade', '▁forerunner', '▁puritan', '▁iberian', 'pora', '▁blinded', '▁fremont', '▁mirage', '▁twinkle', '▁nieder', '▁gianni', '▁distinguishing', '▁$500', '▁rejecting', '1861', 'umble', 'insurgency', 'intro', '▁middlesbrough', '▁indictment', '▁neuroscience', '▁rudder', '▁bacca', '▁empower', '▁conte', '▁culturally', '1877', '▁buzzed', 'jeong', 'prav', '▁vinci', 'pronounced', '268', '▁guillermo', '▁subsidies', '▁throttle', '▁conce', '▁whitman', '▁bernardino', 'hura', '▁penetrated', '▁cunning', 'emme', '▁parry', '▁barak', '▁molina', '▁enslaved', '▁dunedin', '▁soaking', '▁odisha', '▁coroner', '▁padded', '▁vicki', '▁portico', '▁coughing', '▁rhineland', '▁berber', 'siberian', '▁osteo', '▁biennale', '▁decomposition', '▁dormitory', '▁macintosh', '▁9/11', '▁connectivity', '▁faerie', 'lje', '▁genie', '▁preach', 'classical', '277', '▁narra', 'rupp', '▁dyer', '▁backbone', '▁flair', '▁rabin', '▁fluorescent', '▁rebellious', '▁fragrance', '▁tumbling', '▁picasso', '▁prosecuted', 'vocal', '286', 'lika', '▁straining', '▁$16', '▁nicely', '▁peeled', '▁converse', '▁primo', '▁symbolism', 'hito', '▁fidel', '▁nils', '▁outstretched', '▁untouched', '▁mayoral', 'blind', 'wyl', 'jna', '▁fatalities', '▁enrico', '▁inspected', '▁acheron', 'yog', '▁hamid', 'tomo', 'flying', '▁uttered', '▁cava', '▁fright', 'dieu', '▁grassy', '▁oversized', '▁characterize', '▁souvenir', '▁spokane', '▁eureka', '▁bestseller', '▁gallantry', '▁lansing', 'reau', '▁swelled', 'mayor', 'kran', '▁believers', '327', '▁sanford', '▁naf', '▁bij', '▁suspiciously', '▁breuning', '▁ignorant', '▁domesday', '▁amalgamation', '▁rumbled', '▁mythological', '▁fearless', '▁junta', '▁fitzroy', '▁authenticity', 'vay', 'network', '▁rotated', '▁moat', '▁predictable', 'exactly', 'therapy', '▁bonnet', '▁gabon', '291', '▁amazement', '▁weakening', '▁gnome', '▁reap', '▁jez', '▁aristocrat', 'genesis', '▁nucleo', 'digital', '▁designate', '▁strata', '▁ebert', '▁bruise', '▁stimuli', '▁galileo', '▁scholastic', '▁syrup', '▁yusuf', '▁garth', 'jab', '248', '▁jailed', 'price', 'randa', '▁1640', 'balance', 'terrorism', '343', '▁chevalier', '▁relevance', '▁downfall', '▁dynamite', '▁seismic', '▁enamel', '▁poking', '▁ganesh', '▁dyna', 'priced', '5:00', 'sitter', '▁grasses', '▁revert', '▁popping', '▁kuk', '▁femme', 'husband', 'joo', 'broadcast', '▁demonstrator', '▁staunch', '▁alleviate', 'bodied', 'leck', 'support', '▁padres', '▁originate', 'interceptor', '▁leaping', '▁silesia', '▁faso', 'bina', '▁economical', '279', '319', '▁niall', '▁cinnamon', '▁commodities', '▁grammatical', '▁tokugawa', '▁privateer', '▁overseen', '▁raoul', 'lambda', 'bbc', '▁guadalajara', '▁yvonne', '▁canadiens', '▁nemesis', 'obscur', '▁sarawak', 'circle', '▁boutique', '▁bled', '▁oceania', '▁joanne', 'binder', '▁kiran', 'mago', '▁ridley', '▁lyle', 'velle', 'arthur', '▁showcased', '▁volatile', '▁poultry', '▁vogel', '▁dockyard', 'apple', '▁sirius', 'adventure', '▁muttering', '▁khmer', '▁kristen', '▁predominant', 'essential', 'hout', '▁fortification', 'alys', 'kram', '▁1650', 'ranging', '▁mixes', 'orthodox', '▁uhf', '▁impairment', '▁eritrea', '▁malicious', 'gura', '▁graeme', '▁curving', '▁lipstick', '▁antigen', 'iggle', '▁psyche', 'lst', '▁avail', 'gruppe', 'northamptonshire', '▁tallinn', 'cursive', '▁insertion', 'possess', '▁peacefully', '▁outspoken', 'dele', '▁laval', '▁vigorously', '▁jerking', '▁mangrove', 'gher', 'illier', 'hauser', '▁cornerstone', '▁espionage', '+2', '▁confide', '▁borrowing', '▁dreamer', '▁distrust', '▁cling', 'ectomy', '▁nandi', '▁magnate', 'logic', '▁shortlisted', '▁equip', 'motiv', '▁gaping', 'girlfriend', 'constructive', '▁usurp', 'affiliated', 'ghost', '▁cochrane', '▁mccar', 'oidal', '▁culinary', '▁demeanor', '▁mckinley', '▁dolores', '▁ghoul', '▁250,000', 'steel', 'zinger', '▁muni', 'guay', '▁shingle', 'pula', 'pants', '▁nokia', '▁redundant', '▁undrafted', '▁mecklenburg', '▁stairwell', '▁octopus', '▁shilling', '▁novelty', 'fruit', '▁admirer', 'orange', '▁hardcover', '323', 'tempered', 'glen', '▁steamed', 'priest', '266', 'yng', '▁mustered', '▁impart', '▁conor', '▁iucn', '▁sadie', '▁pricing', 'vaz', '▁scull', 'rourke', '▁gladstone', '▁vigor', '▁stench', '▁retina', '▁silt', '▁loosen', '▁200203', '▁whisky', '▁populace', '▁sandwiches', 'appan', '▁midday', '▁archery', '▁brest', '▁klan', '▁khorasan', '▁nesting', '▁espanol', '▁albin', '▁topological', '▁luzon', '▁dhabi', '▁palaeo', 'patrick', 'ikon', 'nunciat', 'baud', '▁causeway', '▁blogger', 'cune', '33%', '▁interrogate', '▁amassed', '▁causa', '▁repealed', '▁kelsey', '▁armada', '▁kneel', '▁proposing', '▁johanna', '▁shrieked', '271', 'doesn', '▁universally', '309', 'ivism', '▁proverb', '▁rancher', '267', '525', 'rhone', 'famous', '▁alzheimer', '▁aristocracy', '▁lucivar', 'arching', '▁compiling', '▁glimmer', '▁amphibian', '▁hepburn', '▁tilting', '▁sherry', '▁simplest', '▁lego', '▁masonic', '▁hurdle', '▁medial', 'border', '▁plastered', '▁relic', 'intuitive', '▁concussion', '▁firefighters', '▁thermodynamic', '▁microscope', '▁natalia', 'beta', '▁hock', 'training', '▁massey', 'kuta', '▁pursed', '▁whel', '▁emancipation', '▁erroneous', '▁rallies', '▁optimistic', '▁trillion', '▁maddy', '▁unitary', 'azur', 'metry', 'pink', '▁holster', 'counter', 'bacteria', '▁hahn', '▁geh', '▁encryption', '▁unpredictable', '▁jozef', '▁supervising', '▁majestic', '▁mollusc', '▁solitude', '▁cristina', '▁simeon', 'deutschland', '▁watford', '▁tanaka', '▁clench', 'gaya', 'ilio', 'cyr', 'lage', 'gier', '▁summarized', '▁kayak', 'saharan', '▁amiga', '▁telenovela', '▁refueling', '▁cardiovascular', '▁ernesto', '▁homecoming', '▁spitfire', 'maq', '▁commencement', '▁gibbons', '▁penthouse', '▁vicky', '▁adventurer', '▁adept', 'antino', '▁hawker', '▁quake', '617', '▁synonymous', '▁somme', '▁antonin', '▁naughty', '▁agrarian', '▁valiant', '▁cicero', '451', '▁jammed', '▁stalker', '▁espana', '▁palais', '▁clinch', '▁banging', 'zana', '341', '288', 'england', '▁cliche', '▁daryl', 'odia', '▁additive', '▁clandestine', '▁mcgregor', '▁tuscany', '▁accelerator', 'linnaeus', '▁qc', 'climat', '▁tombstone', '▁undress', '1866', '▁bibli', '600,000', 'measure', '▁frat', 'neau', '▁acknowledging', '▁paralyzed', '▁pontifical', '▁loyola', '▁indicted', '▁ejected', '▁aspiring', 'rimmed', '960', '▁slang', 'osoma', '▁cocoa', '▁sarcastic', '▁pickle', '356', '▁ineligible', '▁cummings', '▁bogota', '▁billings', '▁elicit', '80%', '▁poisonous', '▁goethe', '▁bonding', '1859', '▁intrigue', '▁pulpit', '▁hurl', '▁culver', '▁maximus', '▁hamburger', 'azzo', '▁inflorescence', '▁integrating', '▁infancy', '▁sukh', '▁prost', '▁inferno', 'ravan', 'adda', '▁insulin', '263', '▁fractured', '▁opium', 'zhu', '▁sutra', '▁stash', 'jha', '▁obstruct', '▁deciduous', '▁gretchen', '▁emptied', '▁nawab', '▁bursting', '▁suriname', '▁helium', '▁benign', '1872', '▁insisting', '▁tiptoe', '▁stoic', '▁radiant', '▁raceway', 'against', 'lx', '▁frail', 'embo', 'capacitor', '▁javelin', '▁simulator', '▁ordeal', '▁paramilitary', '▁enchanted', '▁maclean', '406', '▁resisting', '▁chinatown', 'conduct', 'hagi', '▁sewing', '▁clubhouse', 'might', '▁affluent', '▁jimenez', '▁supremacy', '▁trophies', '▁bournemouth', '▁cappella', '▁lyndon', '▁shepard', '▁thrusting', 'drug', 'whee', 'character', '4,500', '▁felicia', 'ptych', '▁ruc', '▁galaxies', '▁notoriety', '▁fictitious', '▁unravel', '▁guzman', '▁sensible', 'huh', '▁archival', '▁otago', '▁kilda', '▁reeve', '▁shimmering', '334', '▁suez', '▁ellison', 'physiolog', '▁bastion', 'shiki', '▁epoch', '▁misses', '▁pba', 'retta', '▁dmitry', '▁suspense', '▁propagate', '▁variance', '▁glamour', '▁navajo', 'genital', 'igua', '▁raked', '▁abandonment', '▁scarred', '▁haifa', '52%', 'simple', 'pach', '▁bhan', 'return', 'europe', '▁winery', 'temporary', 'camera', '▁crafted', '▁scissor', '▁recalling', '▁konrad', '▁handler', 'vella', '22%', 'brecht', '▁picturesque', '▁newmarket', '▁$14', '▁adventist', '870', 'aldehyde', 'numbered', 'question', 'hampson', '▁complementary', '▁rockies', 'african', '▁sonora', '778', 'chandra', '▁narrower', 'annual', '▁clergyman', '▁drip', '▁traveller', '▁macleod', '▁mercenary', '▁unacceptable', '▁dominating', '▁swindon', '▁fren', '▁befriended', '▁bazaar', '▁rupture', '▁aerodrome', '▁baw', 'chay', '▁savior', '▁devotees', '▁helmut', '▁elsa', '▁hooded', '▁maas', '▁goodwill', 'egh', '▁southernmost', '▁steppe', '▁merk', '▁pax', '▁recycled', '▁loosened', '▁predatory', '▁1100', 'educated', '▁zev', '▁harlan', '386', 'agni', '▁mullin', '▁wetland', 'matter', '▁kickoff', '▁slut', '▁wilkins', '▁tendon', '▁apprehend', '▁kyrgyzstan', '▁lithium', '▁boogie', '▁whipping', '▁hz', '▁cornice', '▁akira', 'uzu', 'lada', 'abilis', '▁faroe', '▁biel', '▁kato', '▁schleswig', '▁precedence', '▁goddard', '▁budge', '▁palatine', '▁pinning', 'waiting', 'bock', '▁molten', '▁resent', '1873', '▁fishes', '▁manpower', '▁zum', '▁warship', '▁informant', '▁benefactor', '▁agitation', '▁excelled', '▁messiah', 'education', '▁errand', 'sleeve', 'iglia', '▁parisian', '▁hoot', 'conditioned', '▁guiana', '▁interacting', 'ocarp', '▁commended', '▁fullback', '1869', '▁mixer', '▁ambushed', '▁mischievous', '▁aggregator', '▁macquarie', '▁stakeholders', '▁smackdown', '▁horseshoe', '▁splashed', '▁bake', '▁4000', '▁carbonate', '269', '▁denton', '▁erwin', '▁spence', 'fah', 'adhi', 'cdp', 'engined', '▁dortmund', '▁gunpowder', '▁jocelyn', '▁mussolini', '▁maccabi', '▁coincidental', '▁piazza', '▁nectar', '▁multiplex', '▁gopal', '▁veda', 'historical', '▁geis', '▁ritter', 'boli', '▁dickson', '▁discouraged', '▁weimar', '▁vigorous', '▁voyager', '▁sibling', 'reason', '▁tunisian', 'nori', '▁papi', '▁blackish', '▁skyla', 'urea', '▁pem', 'norwegian', '▁signify', '/100', '▁handkerchief', '▁panorama', '▁biographies', 'congratulations', '▁ignacio', '▁beyonce', '▁brum', '▁nanjing', '▁baking', '▁pixie', '▁larva', '▁meiji', 'ethyl', 'rrington', '▁nominate', '▁villar', '▁interrupting', '▁localized', 'student', '▁enjoyable', '▁juventus', '▁bafta', '▁markus', '▁delaney', '▁withdrawing', '707', '▁taf', 'ifica', '▁telegram', '▁hollis', '▁wrinkle', 'odu', '▁neue', 'grandson', '▁retorted', '▁shady', 'galact', '▁gladys', '▁dissipated', '▁kobe', '346', 'homogeneous', 'pyrenees', '▁sampson', '▁neoclassical', '▁matrices', '▁forefront', '▁devoid', 'hunting', 'approximately', 'despite', '▁stanza', '▁sommer', '▁trish', '▁chanting', '▁ascending', 'stained', '▁verne', '▁ardent', '▁weep', '▁falsely', 'shik', '▁bangor', '283', '▁growling', '▁repository', '▁schumacher', '1862', '▁sabrina', '▁contrasted', '▁aeronautic', '▁nikolay', 'chryso', '▁handgun', 'behind', '▁unitarian', '1854', '336', '▁biker', '▁tensor', '▁alerted', '▁strangled', '▁marissa', 'imir', '▁celest', '▁bosses', '▁overture', '▁wilk', 'ccc', '▁grimly', 'venture', 'optera', '▁plump', '▁caucasian', '▁collapsing', '▁revoked', '▁bristle', '▁dinamo', '▁realities', 'auld', '▁absorbing', '▁refresh', '▁guerre', '▁bloomberg', '▁fanatic', 'supported', 'fail', 'registered', '▁petri', '▁milky', '▁pluto', 'performed', 'crawl', '▁kev', 'kaku', 'duke', '▁starvation', '▁ignited', '▁nightingale', '▁collateral', '▁shoal', '▁commendation', 'axe', 'kavi', '▁pater', '▁informally', '351', '▁tipp', '▁moron', 'gung', '▁guantanamo', '▁repetitive', '▁circulating', '▁sealing', '▁slashed', '▁autograph', '▁akron', 'cier', 'egypt', '▁limitation', 'quiet', '293', 'mose', 'currently', '▁masovian', '▁pinnacle', '▁lausanne', '▁siemens', '▁margarita', '▁bladder', '▁catalina', '601', '▁hoard', '▁chaplin', '▁boise', '▁olson', '▁caressed', '▁ellington', '▁zeta', '▁dail', '875', 'holtz', '▁dime', 'regional', '299', '▁simulate', '▁#9', '▁boomer', '▁carlson', 'mexico', '▁mommy', '▁servi', '▁bhp', 'ochreous', 'tsev', 'secondary', '▁fargo', 'mouthed', '▁hinted', '▁escorting', 'kool', '▁ecumenical', '▁algiers', '▁brewster', '▁bathurst', 'blu', '▁worshipped', '▁magneto', '▁signalling', '▁petrov', 'nacht', '▁verity', '▁bitterness', '67%', 'cello', '▁exiting', '411', 'addy', 'walking', '▁inductee', '▁galloway', 'ethylene', '475', '▁brigham', '▁placid', '▁yelp', '▁contemplated', '▁zebra', 'bazar', 'kaj', '▁annette', 'ambu', '▁astonished', '▁edouard', '▁tabitha', '▁maddox', '▁mazz', 'teria', 'garten', '▁droop', '▁barefoot', 'democratic', '▁kalyan', '▁hotter', '▁flit', '▁rotting', '338', '▁brem', '▁herrera', 'uver', '▁playfully', '▁outnumbered', '▁peninsular', '▁legitimacy', '▁malfunction', '▁reclaimed', '▁postage', '▁vikram', '▁smear', '▁walden', 'univers', 'trophy', '▁petitioned', 'qf', 'celle', 'regular', '▁embroidered', '▁penetrating', '▁slippery', '▁nmi', '▁nehru', '▁safari', '▁verification', '▁thro', '394', '▁pronounce', '▁mantra', '▁sucker', '▁obeyed', '▁tornadoes', '23%', '▁bungalow', '▁archeological', '▁monologue', '▁isolate', '▁bullock', '880', '▁darrell', '▁airship', '▁constantin', '612', '▁1620', 'sustaining', '▁cramped', 'daddy', '▁brushes', '▁miko', '777', '▁suspend', '▁calhoun', '▁pedestal', '▁donaldson', '▁allotted', '▁tatiana', '▁canning', '▁aromatic', '▁filtered', 'trophic', '▁unleashed', '▁expressive', 'foy', 'jg', 'shape', '▁antiquities', '▁evaporate', '▁intuition', '▁dauphin', '▁cohort', 'saving', '▁odin', '▁bhar', '▁stripping', 'universita', '▁lynx', 'leuc', 'rival', '284', '53%', '455', '▁martel', 'preserved', '▁basha', '▁kaye', '▁classify', '▁antibodies', '▁obedience', '▁veracruz', '▁bosch', '▁stamford', 'wraith', '▁snicker', '▁stepfather', '▁benoit', '▁hottest', '▁spying', 'calais', '▁nestled', 'nicki', '▁brutally', 'aroo', '▁powerhouse', 'latt', 'search', '840', 'extended', '289', '▁gettysburg', '▁montenegrin', '▁horrific', '▁valuation', '▁pesticide', '▁caracas', 'heaven', '▁cantonese', '▁conjure', '▁pepsi', '▁rumour', 'kovac', 'lala', '▁groundwater', '▁engle', '▁swaying', 'ccia', '▁hath', 'schaft', 'confucian', '▁hampered', '▁nfc', '▁splatter', '▁casket', '▁inverness', '▁gilles', 'circular', '▁fulfilling', '▁hagg', '▁chatting', '337', '324', '▁cleo', 'aurel', '▁puma', '▁elisa', '▁centralized', '▁confesses', '▁sweetness', '▁wolff', 'hida', 'doro', '9780', '▁cleopatra', '▁clumsy', '▁barricade', '▁imperative', '▁harvesting', '▁koto', '▁reproduced', '▁gunnar', '▁andalusia', '▁barrie', '▁outgoing', 'baugh', 'accus', '▁snowboard', '▁parana', '▁elgin', '▁statistic', '▁catastrophic', '▁thessaloniki', 'effe', '▁dripped', '292', '▁frankenstein', '▁alchemist', '▁croak', 'gramma', '1864', '▁tailored', '▁youthful', '▁gambia', 'sharing', '▁prelate', '▁repel', 'novo', '▁bargaining', '▁fascia', 'hosted', '▁exponent', 'masa', '▁houghton', '▁continuum', '▁cumulative', '▁cactus', '▁brittle', '▁$35', '▁nibble', '▁wavy', '▁spurred', '▁judi', '▁marten', '▁harlow', '▁lipid', '▁recounted', '▁serene', '▁translating', '▁incurred', '▁sincerity', '▁futile', 'crum', '790', '▁brahman', '▁gotham', '▁arsen', '▁kahl', '▁evacuate', '▁halftime', '▁mustard', '▁dictate', '▁poised', '▁mariano', '▁freaked', '▁reappeared', '▁hallmark', 'chick', '▁parramatta', '▁outburst', '▁pelican', '▁beaufort', '▁regroup', '▁obstruction', 'atura', '▁hoof', 'sulfate', '▁typing', 'arbitr', 'elec', '▁nightstand', 'vata', '▁comedies', '▁filtering', 'owska', '▁berna', 'oye', '▁atrocities', '▁decipher', '▁refurbishment', '1863', '▁fisk', '▁trach', '▁toxicity', '▁$50,000', '▁congratulate', '▁afforded', '▁specialising', '▁freighter', '▁antonia', '▁kaka', 'conservative', '▁uruguayan', '422', 'harry', '▁concacaf', '▁financier', '▁suarez', '▁candace', '▁pulsing', '▁dietrich', 'holme', '▁jeb', '1,500', '▁revere', '▁bwf', '▁salford', '▁11,000', '▁breck', 'victor', '▁havilland', '▁emptiness', '▁furnishings', '▁reboot', 'laugh', 'generated', '▁injuring', '▁preoccupied', '▁privileged', '▁lesions', '▁snowfall', 'feli', '▁unarmed', '▁crib', '▁craze', '▁benchmark', 'stack', '917', '▁sonnet', 'archiv', '▁cristian', '413', '▁receptionist', '1858', '▁arno', '▁irrelevant', '▁kendrick', '▁cholera', '▁neurological', '▁cruising', '▁harvested', '▁deliveries', 'however', 'nedra', 'koma', 'activated', 'correct', 'ocracy', 'aquitaine', '▁tajikistan', '▁tempting', '▁creditors', '▁temperance', '▁systematically', '▁groundbreaking', '▁applicant', 'pso', '▁forsyth', '495', 'demand', '▁blending', '▁wj', '▁turbulent', 'kaw', 'tepe', 'ellidae', '▁bogdan', '▁bleach', '▁siam', '▁authoritative', '▁encroach', '▁alleging', '▁intellect', 'ifiable', '▁subconscious', '▁clashed', '▁terence', '▁theoretically', 'ikka', '▁tyrol', '▁figuring', '▁$22', '▁sinha', '▁1720', '▁gunboat', '▁massif', '▁welding', '▁lear', '▁malmo', 'norman', '▁banged', '▁estimation', '▁inquisition', '▁novgorod', '▁registrar', '▁grassroots', '▁surya', '▁cinderella', '▁lucifer', '▁watercolor', '▁kelvin', '▁thinner', '▁fairchild', '▁hilary', '▁outrageous', '▁habib', '▁lazarus', '421', '▁repent', '1800', '▁tep', 'viti', '▁hilltop', 'islam', '▁enact', '▁hunch', '▁darryl', '▁mcdonnell', '▁weaponry', '▁kaba', 'spoon', '▁bax', '▁freiburg', '▁relaxation', '▁cadre', 'content', 'platz', '▁reconstruct', '▁kilo', 'straight', '▁installing', '▁marques', '▁incarcerated', '▁multiplication', '▁slapping', '326', '▁betsy', 'hash', '▁rosh', '▁tinker', '▁roadside', '▁steered', '▁kew', 'hini', 'muse', 'everybody', 'photo', '▁mused', '▁gargoyle', '▁meritorious', '▁telangana', 'chris', '▁appellate', '▁felony', '▁gothenburg', '▁navarro', '▁gracious', 'elian', '▁$17', 'opti', '▁reprised', '▁turkic', '▁carleton', '▁volta', '▁robson', 'riba', 'gender', '▁lehigh', '▁nme', '▁woken', '▁holler', '▁armory', '▁chilled', '▁melancholy', '▁uncomfortably', '▁lobster', '▁regulating', 'gyeong', '24%', '▁rollins', 'gyu', 'animal', '▁accumulate', '▁pico', 'kuru', 'resident', '▁bayou', '▁timo', 'omba', 'wata', '▁operatic', '▁tangent', '▁assimilate', '▁biochemistry', '▁optics', '▁dispense', 'hachi', '▁kerman', 'udin', '▁lviv', '▁gallant', '▁subsp', 'musical', 'distinguishable', '▁delle', 'alien', '▁claimant', '▁vile', '381', '▁descriptive', 'compliant', '▁louvre', '▁mahmud', '▁progresses', '▁erased', '▁kingsley', '21%', '▁arya', '▁classmate', '▁rebirth', 'finance', '▁disclose', '▁glued', '▁trois', 'excerpt', '▁trag', 'drift', '▁transcend', '▁$13', '▁nagoya', '▁eroded', '▁nakamura', '780', '▁pele', 'pcc', '▁zoology', '▁hive', 'gada', '▁comin', 'electro', '▁kiln', '▁skylar', '▁reactive', 'chuan', '▁obscured', '▁koko', '1840', 'natha', '▁concurrency', '▁intriguing', '▁satisfactory', '▁wilcox', '▁gottingen', '▁foreword', '▁lesley', '▁myriad', '▁barnsley', '▁dormant', '▁neumann', '▁filmmaking', '667', '▁reinhard', 'tape', '▁$18', '42%', 'ometry', '▁instructional', '▁ascertain', '▁ferocious', '▁frustrating', '▁ulysses', '▁identifier', '▁volley', '▁hydrocarbon', 'tension', '▁corbin', '▁jagger', 'dressed', 'colloquially', '▁prudent', '▁manchu', 'lover', '▁exhibiting', '▁boasted', '▁whitehead', 'oderm', '▁ezio', '48%', '▁entropy', 'blom', '▁fundraiser', '▁clicking', '▁craving', '▁slaughtered', '▁garnet', 'agora', '▁insulted', '▁cadence', '▁query', '▁labourers', '▁shave', 'communication', '▁munchen', 'picture', 'split', '▁renal', '▁efficacy', '▁applaud', '▁perished', '▁fidelity', '▁urn', '▁magnolia', '▁scraping', '▁portage', '▁blot', '▁denies', '▁storing', '▁northernmost', '930', '▁hurled', '▁meticulous', '▁influenza', '▁lauderdale', '▁octagonal', '▁giacomo', '▁microscopic', '▁rumored', '▁kup', 'nabi', '▁chrono', '▁fend', 'swamy', '75,000', '▁stave', '27%', '▁underestimate', '▁astonishing', '▁infirmary', '▁rallied', '▁nomadic', '▁nizam', '▁dupont', '▁gurney', '▁dietary', '▁veli', '▁lithograph', '▁gilmore', '▁frescoes', '▁hawthorne', '1849', '▁ameri', '▁austen', '465', '▁lsu', '▁fertilizer', '▁guadalupe', '▁protruding', '▁ridicule', '▁casimir', '▁horizontally', '▁modelled', 'opathy', '▁gadget', '▁kaladin', '▁crossbow', '▁janus', '▁jiu', '▁clawed', '▁choreographed', 'excuse', '▁jalan', '▁gastro', 'index', '▁islamist', '▁sequencing', '▁vortex', '▁emitted', '▁aleppo', '▁demetri', '▁sturdy', '▁layne', '▁darting', '▁mummy', '▁twain', '▁consolidate', '▁tully', '767', '371', '504', '▁jingle', 'seong', '▁paisley', '▁tortoise', '▁commotion', 'plastic', '▁claremont', 'tsuka', 'cito', '▁norwood', '▁akademi', 'brow', '▁govt', 'budget', '▁braden', '▁synthesized', '▁trill', '▁indulge', '▁glamorgan', '▁britannia', '▁upbringing', '▁yerevan', '▁radiated', '▁archangel', '▁jolly', '▁seafood', '▁fishery', '▁azure', 'important', '414', '▁kasa', '▁tuna', '▁$26', '▁auditioned', 'siphon', '▁advising', '▁terminating', '▁chesterfield', '▁trimmed', '▁resurrected', '▁provoke', 'africa', '▁disconnected', '▁warily', '▁leash', '19%', '▁mammoth', '▁terrier', '▁passageway', '▁accessibility', '▁secretaries', '▁chamb', 'liffe', '▁ioan', '▁laborers', '▁cinder', '▁priestess', '▁discourage', 'ritch', 'jacques', '347', '▁orchestrated', '▁unnoticed', '▁adriatic', '▁whaling', '▁dalmatia', '▁fiesta', '▁cerv', '▁squid', '▁cradled', '▁nerd', '▁resigning', 'nbl', 'gothic', 'haul', '▁thunderbird', 'onyx', '384', '▁fallout', '▁taboo', '▁cavendish', '▁unconventional', '▁reorganisation', '▁radiating', '▁stubble', 'ovsk', '▁devout', '▁milford', '▁fortuna', '▁volcanoes', '▁motown', 'lieutenant', 'leutnant', '▁unbearable', '▁deduction', '441', '▁nouveau', '▁intestine', 'hofer', '▁hacking', '▁whorls', 'pru', '▁ethanol', '▁fathom', '▁cryptic', '▁godfather', '▁cress', '▁strategically', 'hiya', '▁durga', '▁conifer', '▁cheney', '▁sumner', '▁posse', '▁strang', 'novel', '▁eucalypt', '▁sentencing', '▁wehrmacht', '▁cuthbert', '▁plummet', '▁fleetwood', '▁wendell', '▁intercourse', 'influenced', 'akti', '▁corbett', '▁mcki', '▁superfamily', '▁spores', '▁cheung', '1855', '▁ewing', '403', '▁judah', 'imposed', '▁morg', 'malay', 'pion', '▁unjust', '▁siena', '▁worthless', '▁forcefully', 'scenes', '▁drape', '▁mammal', 'ophilus', 'crow', '▁executing', '▁monsieur', '▁nomenclature', '▁tbilisi', '▁tolkien', '▁trespass', '▁mcgrath', '▁mundane', '▁mobilization', '1848', '▁looming', '▁inertia', '▁vivo', '▁eaves', 'ophila', 'iglio', '▁cambodian', '▁prae', '▁stresses', '▁agatha', 'frin', '▁fabrication', '▁moaning', '▁gillian', 'voir', 'future', '▁albrecht', 'flame', '▁colbert', 'quick', 'ografi', '▁fabio', 'vous', '▁demonic', 'nepali', '▁pereira', '▁muck', '▁grimace', '364', 'leste', '▁bahr', '▁ulm', 'enthusiastically', 'kreuz', 'senior', '▁unauthorized', '▁pharmacist', '▁inference', '▁transmitting', '▁drago', 'cellular', 'ikki', 'duty', '▁syriac', 'johnny', 'derived', '▁clenching', '▁converter', '▁depleted', '▁emphasizing', '▁expansive', '▁futsal', '▁metcalf', '▁wau', '▁mocked', '297', 'commonly', '▁harcourt', '▁hoffmann', 'crystal', '▁nape', '47%', '▁loki', '▁czar', '▁expire', 'distinct', '▁catastrophe', '▁mcclellan', '▁translucent', '▁wreath', '▁unaffected', '▁hushed', '▁ammonia', '▁berwick', '▁skr', 'cita', '▁thong', '▁raiding', '▁instituto', '▁jura', '▁oleg', '▁folio', '▁analogy', '▁differentiated', '▁mcguire', '▁whistling', '▁repulsed', '▁marlborough', '▁renaming', '▁misconduct', '▁oliveira', '▁hurriedly', '▁knut', '▁discredit', '▁firearm', 'esthesia', 'threatening', '▁bodo', 'cratic', '▁mclaughlin', '▁vincenzo', '▁seminole', '3:30', '▁societal', '▁florian', '▁moines', '344', 'omir', '▁johnstone', '▁situ', '▁supervise', 'zhuang', 'mbc', 'monopol', '▁handwriting', '▁mccu', 'sohn', '▁barron', 'consecrat', '▁hauling', '▁discontent', '▁reek', '▁tangible', '▁premio', '▁condemnation', 'plica', '▁netball', '▁steff', '▁lunatic', '▁scala', '▁hogg', '▁warrington', '282', '▁dictated', '▁revered', '▁druid', '377', '376', '▁larkin', '▁inexpensive', '▁migratory', '▁ptolemy', '▁replenish', '▁bjork', '▁genomic', '▁sticker', '▁wrestle', '▁mazda', 'neither', '▁tirana', 'connect', '▁$27', '▁adequately', '▁chirp', '▁assent', 'learning', '▁seizing', '▁adorn', '▁sunken', '▁arboretum', '▁composure', '▁trajectory', '▁transient', '▁shapiro', '▁sesame', '▁brill', '▁danzig', 'elva', '99%', '▁redwood', '▁sipping', '757', '▁stitches', '▁burnham', 'salem', '▁astonishment', '▁feasibility', '▁flushing', '▁grasshopper', '▁chichester', '▁wisp', '▁fink', 'oxford', '▁fastened', '▁benito', '▁fief', '▁braking', '▁harrisburg', '90%', '▁lamina', '▁salim', '▁divin', 'izzi', '▁illnesses', '▁clave', '▁admiring', '▁constabulary', '▁raju', '▁taxon', '▁maestro', '▁memorize', '▁crutch', '▁baylor', 'alpine', '▁bowel', 'develop', '▁raaf', '▁nocturnal', '▁darkest', 'universitat', '▁corrosion', '▁curvature', '▁rescuing', '▁midfield', '▁compress', '▁schuster', '▁punta', '▁pmc', '▁cambridgeshire', '▁ruse', '▁hooper', '▁autopsy', '▁mckee', 'olini', 'cran', '▁emery', 'junior', '▁girard', '339', 'omys', '▁barbecue', '▁iroquois', '▁venerable', '▁charismatic', '56%', '▁burk', '294', 'vj', '▁trident', '▁yamaha', '▁warlock', '▁adoptive', '▁unfolded', 'starring', '▁overdose', '▁castellan', '▁gnu', '▁mendel', '▁kildare', '▁greenish', '▁bootleg', 'gado', '▁durban', '▁ricci', '▁mundo', '▁cheated', 'fran', 'biotic', '▁bask', '▁pinto', '▁wiener', '▁sympathize', '▁mahogany', '▁scientology', '▁stucco', '▁2021', '▁schubert', '▁ruh', '▁sprawling', 'quette', '349', '▁finalized', 'hatter', 'development', 'php', '▁200102', '▁eurasian', 'introduction', 'sculpt', '▁appendix', '▁saetan', '▁sociological', '▁mcgraw', 'pulse', '▁bouquet', '▁rectory', 'pedia', 'chul', '▁outraged', '▁carmichael', '▁kimberly', '▁casper', '▁platy', 'typically', '▁plight', 'qar', '▁susie', '▁cringed', 'opathic', '▁eyewitness', '▁kurdistan', '▁hapoel', '▁epilogue', 'sugar', '▁wildfire', '▁cheering', '▁nasser', '▁psychopath', '▁napoli', '▁prevail', 'cutting', '▁nonstop', 'chita', 'spheric', '▁distracting', '▁hypothetical', '▁periphery', '▁grimsby', 'dige', '▁snuck', 'twenty', '▁drumming', '▁recited', '▁suggestive', 'accio', 'seriously', 'bung', '▁winfield', '▁juris', '332', '▁janis', '▁francais', 'afrika', '▁juarez', '▁mccormick', '▁saratoga', 'ktor', '▁blatant', '▁marquette', '▁sarcastically', '▁knoll', '▁protege', '▁clapton', '▁aimee', '▁tesla', '▁scooted', 'delia', '▁mime', 'fahr', '▁hidalgo', '▁occidental', '▁puncture', '▁wilfred', '▁radcliffe', '▁fluttering', '▁hermitage', '▁mitochondrial', 'bila', '456', '▁footpath', '▁campground', '▁johor', '▁fatima', '▁greta', '▁grate', '▁cramp', '▁granville', '▁vasco', '▁gleam', '▁linkage', '298', '▁octavia', 'blaze', '▁exasperated', '▁expatriate', '▁wrocaw', '▁credible', '▁engraver', '▁wexford', '352', '▁antrim', '▁shamrock', '▁shaker', '▁heaving', 'ignac', '▁clavi', '▁nueva', '▁noticeably', '▁recaptured', 'shree', 'clough', '▁unpaid', '▁pollock', '▁cobble', '▁gundam', '▁engulfed', '▁chilly', 'armenian', 'study', '▁curate', '296', '▁rustle', '▁flawed', '▁howitzer', '▁munoz', '▁discard', '▁invoked', '▁devlin', 'ogne', 'krist', 'pheno', '▁quarterfinal', 'islamic', 'knuckle', '▁nominally', '▁condominium', '▁jurisprudence', '▁maternity', '▁pendleton', '▁dynasties', '▁mindanao', 'eighth', '▁agustin', '▁subdistrict', '▁sharia', '▁diplo', '▁blueprint', '▁implication', '▁matteo', '▁temeraire', '▁wharton', '▁interfering', '▁versatile', '▁allusion', '▁reece', '990', 'westerly', '▁incline', 'twist', 'hagan', '▁sloop', '348', '1853', '486', 'shahr', '▁helplessly', 'boyfriend', 'analysis', 'gallon', '▁concubine', '▁electrification', 'ellus', '▁pagoda', '▁jarrett', '▁shrill', '407', '▁mildred', 'biblio', '▁parapet', '▁luciano', '▁rhea', '▁woodrow', 'rugg', '▁anxiously', '▁successively', '▁gutter', '▁accomplice', '▁unreliable', '▁multiply', '▁pantheon', '▁montevideo', '▁condor', '▁kuch', '▁halves', '▁analytics', '▁tyrant', '▁$19', '▁molo', '▁acidic', '▁kalin', '▁crumb', '▁vasili', 'brunn', '▁saucer', '38%', '▁computed', '▁shortstop', '▁airliner', '▁leaking', '▁sporadic', '▁embracing', '▁thunderbolt', '▁lycan', '▁humanoid', 'whether', '54%', '▁chola', '▁partridge', 'hsi', '▁frick', '393', '▁valeria', '▁everest', '▁inaccurate', '▁horticultural', '▁privatization', 'conjugate', '▁fulbright', '▁adorable', 'palm', '▁gambler', '▁catfish', '▁correlated', 'bench', '▁doorstep', '▁marrow', 'apocalyptic', 'testosterone', '▁chattanooga', '▁delilah', '▁empowerment', '▁kimberley', '▁saigon', '▁distressed', '▁excerpts', '▁accessory', '▁graders', '505', '▁reinforcement', 'outstanding', '▁esq', '▁rotational', 'furst', '▁anecdote', '▁decimal', '▁taxonomic', '▁alistair', '▁epistle', '▁morbid', '▁vasily', '▁acacia', 'bapt', 'polli', 'frequency', 'translated', 'fluoro', '▁dipping', '▁chern', '▁harbin', '▁caricature', '▁karlsruhe', '▁disintegrate', '▁titanium', '445', '▁cowan', '485', '▁flak', '▁snare', 'absolutely', '▁calvert', '▁managerial', '▁tren', '▁roxy', 'ruba', '▁bewildered', '▁trondheim', '▁cheerleader', '▁augsburg', '▁modulation', '▁stagecoach', '▁cheered', '▁landfill', '▁tingling', '▁schol', '▁fundamentally', '▁tenderness', '▁wigg', 'portrait', '361', 'containing', '▁wcw', 'lehr', '▁prentice', '▁procedural', '▁separatist', '▁consecration', '▁josiah', '▁childish', '▁hobbs', '▁gustaf', '▁soaring', '▁messaging', 'creator', '▁rudi', '▁rebelled', '▁sixties', '71%', '▁yearbook', '▁tink', '533', '▁accomplishment', 'ophyllum', '▁dumont', '▁wilbur', '▁michal', '▁harpsichord', '▁olympus', '▁plausible', '▁provocative', '▁fidget', '▁silo', '444', '▁200001', '358', '▁etching', '▁insulting', '▁umm', '387', '▁magdalena', '▁confuse', 'aditya', 'basic', '▁hamad', 'receptor', 'commerce', '▁claudius', '▁convection', '▁dorothea', '▁pensacola', '▁reprimand', '▁mitigate', '▁musique', '▁dashboard', '▁marred', '▁cerro', '▁prest', '▁maratha', '▁dividend', '▁strung', '▁seraph', '▁encompassed', '▁grandmaster', '366', '▁distillery', '▁willoughby', '▁regatta', '▁lilith', '▁drilled', '▁strangle', 'ehler', '78%', 'chandran', '▁consequent', 'smoke', '▁tarzan', '▁fraudulent', '▁leukemia', '▁maldives', '▁kincaid', 'etsu', '▁anatomical', '▁bharatiya', '▁collide', '▁ndp', '▁flexed', '▁turnbull', '▁celine', '▁loomed', '▁dubois', 'croatian', 'lithuanian', 'hij', '▁delightful', '▁sensational', '▁firth', '▁highlanders', '▁fleck', '▁dumping', '▁barbed', '▁eastbound', '▁apprehension', '▁hannibal', '2,400', '▁somber', '▁buddies', '▁dismissive', '▁vanishing', '▁10:00', '▁sanction', '▁spitting', '▁fabricated', '▁bloomfield', 'medical', 'ancient', '▁offender', 'austria', 'empty', '▁telepathic', '▁respondents', '▁opined', '▁tnt', '▁remington', 'bomber', '▁sargent', 'isomer', '▁swiped', '▁madhav', '▁ushered', '▁sidekick', 'industrial', '▁svet', '▁simulated', '34%', 'muller', '▁sugi', '▁compile', '▁scrum', '▁bratislava', '▁iglesia', '▁tchaikovsky', '▁stanisaw', '▁penultimate', '▁affix', '▁bonfire', '▁haryana', '▁topical', '▁overlord', '1852', '▁hindustan', '431', 'cultura', '▁spindle', '▁courageous', '▁circumstance', 'washington', '▁breakout', '368', '▁shetland', '▁moldavia', '▁diverge', '▁catalytic', '▁philanthropic', '▁shuffling', '▁illicit', '▁deux', '▁piotr', '▁bicker', 'wik', '▁makar', '▁1689', '▁pollard', '▁pious', '▁poz', '329', '▁shul', 'magnetic', '▁groaning', '▁phosphor', '▁recur', '▁goldstein', '▁blockbuster', '▁derivation', '▁flopped', '▁unmistakable', '▁bibliography', '▁excitedly', '▁gustavo', '▁disapprove', '▁crises', '▁brutality', '▁lutz', 'ocular', '▁campsite', 'research', 'college', '408', '▁caption', '▁botanic', '▁yourselves', '▁consultancy', '▁lurking', '▁glue', '▁tahiti', '▁aquino', '▁6:00', '▁encompass', '▁culp', '▁invertebrates', '▁medallist', '▁toddler', '378', '920', '▁patrolling', '▁symptom', '1856', 'adio', '▁assassinate', '▁nunn', '▁cosmopolitan', '▁apologise', '▁promenade', '▁stryker', '▁subcontinent', '▁horsemen', 'khali', '▁suture', 'ziel', '57%', '▁haig', 'cilla', '▁recite', '▁auschwitz', '▁fledgling', 'ophthalm', '▁dummy', '▁alvaro', '▁paddington', '▁hellenic', 'delic', '▁canteen', '73%', 'spirited', '▁fortnight', '▁lexie', '▁meteorite', '1851', '▁waldo', 'adze', '▁armagh', '▁torches', 'hallow', 'ilius', '▁italianate', 'untitled', '▁consolation', '▁disrespect', 'anthi', '▁saddam', '▁westbound', '▁urgently', '▁elective', '▁cynical', '39%', '970', '▁huffed', '▁sweetie', 'acqua', '▁chopper', 'flash', '▁cupping', '▁chandelier', '▁mercantile', '▁saskatoon', '▁rumbling', '1744', '▁christensen', '▁rooney', '▁dutt', '458', '▁bellamy', 'village', '▁jewell', '▁twitching', '▁14,000', 'zewski', '▁showdown', '64%', '860', '1857', '▁greenberg', '▁marcelo', '▁gonzales', '▁alligator', '▁asthma', '▁insistent', '▁sloping', '▁concordia', 'colour', '▁cesare', '▁unleash', '▁fedor', '▁jordanian', 'soprano', '▁saad', '▁picard', '▁cumbria', '▁hesitantly', '▁speculate', '32%', 'provide', 'thromb', '▁burnley', '▁blaming', '▁permitting', '391', '▁adapting', '▁phyto', '▁angelina', '▁potts', '▁taku', '▁dario', '▁cognition', '▁precipitate', '▁unsuitable', '▁mennonite', '▁ebook', 'nosed', '▁caressing', '▁rajput', '▁argus', 'elberg', '▁scud', '438', '▁eyeball', '▁cristo', '▁padua', 'municipality', 'global', '▁evaluating', '▁ferreira', '▁intimidating', '▁mcintyre', '▁redistribution', '▁valkyrie', '▁glistening', '▁uppsala', '▁wellesley', '▁weasel', 'rigged', '▁magma', '▁husk', '▁vitro', 'fraction', '▁stipulated', '▁celeb', 'chicago', '▁shimo', 'vika', '940', '▁obesity', '▁infidel', '▁fascism', '▁montrose', 'eanu', '▁exchanging', '▁sedimentary', '▁gilded', 'symmetr', '▁marital', '▁nonlinear', '76%', 'souza', '▁courtier', '▁avoidance', '373', '▁williamsburg', '▁taxonomy', '▁precarious', '▁fairbanks', '▁devastation', '▁nrhp', '▁ceasefire', '▁crumbling', '▁equator', '▁compressor', 'plicate', '▁raghu', '▁graft', '▁stowe', 'jala', '▁grading', '▁fermi', '▁wince', '▁authoritarian', '▁magnesium', '▁centurion', '▁hanoi', 'freedom', '363', 'azam', '▁nantes', '▁lcd', '▁gogh', '▁scaling', 'princip', '▁disneyland', '▁facilitating', '▁saturated', '▁smallpox', '▁dependency', '▁slumber', '▁ghent', '▁hospitalized', '▁bracken', '▁vinnie', '▁pretoria', '▁aggressively', '▁darby', '▁nellie', '62%', '1725', 'verton', '▁cayman', 'quadra', '▁endorse', '▁littered', '▁familiarity', '▁conical', '▁scrambling', '▁segregated', '▁biplane', 'tzky', '▁melinda', '▁relinquish', '▁tucking', '1830', '▁cleanup', '▁hohen', '▁kuhn', '▁sift', '▁anthologies', '▁cheerleading', '▁noctuidae', '▁ostensibly', '▁vuelta', '▁pediment', '▁eviction', '▁confines', 'rakh', '▁galvan', '▁visitation', '▁proxim', '▁babylonian', '▁chiba', '▁contractual', '▁alber', 'instrumentalist', 'california', 'christmas', '▁sandals', '▁overwhelmingly', '▁catapult', '▁emergencies', '▁hezbollah', '▁retribution', '▁siegfried', '▁lifespan', '▁severn', '▁trou', 'fear', '▁pandit', '▁prostate', '▁marlon', '▁thaw', 'jiao', '▁durable', '▁liebe', '▁scratches', 'disqualification', '▁casablanca', '▁entourage', '▁insurrection', '▁spectroscopy', '▁uninhabited', '▁huffington', 'malley', 'hyster', '▁whimpered', '▁dealership', '▁restrictive', '▁clancy', '▁chronicler', '▁fetus', 'futu', '▁arundel', '▁jaun', '66%', '3:1', '▁interned', '▁mahmoud', '▁sigismund', 'knock', '▁indicative', '▁diversified', '▁linde', '▁beginner', '▁revisited', '▁vedic', '▁mouthful', 'puis', '▁batavia', '▁quarantine', '▁unconditional', '▁upgrading', '▁enumerat', '▁haydn', '▁pleasing', '1844', 'ezza', '▁moshe', '▁plaid', '▁factual', 'promise', '▁translit', '▁praetor', '▁humiliated', '▁salva', '▁scro', 'snake', '1841', 'feature', '▁gershwin', '▁introductory', '▁mcpherson', '▁spoof', '▁unequal', '▁takahashi', '▁clarissa', '▁chopped', 'ulatus', '▁craftsmen', '▁stepmother', '▁succumb', '▁jacobite', 'bamba', 'platte', '▁succumbed', 'push', 'llinger', 'ethnic', '▁aeronautical', '▁bubbling', '▁distaste', '▁distraught', '▁grievance', '▁quadruple', '▁emphatic', '▁schism', 'schrift', '▁trotsky', '▁standalone', '▁papacy', 'dancing', '1737', 'atomic', '▁keynote', 'syria', '▁kiwi', 'voll', '▁shuddering', '▁detour', '72%', '▁ripley', '457', '▁bolivian', '▁benevolent', '▁educating', '▁eyelashes', '▁schizophrenia', '▁unspecified', '▁unmanned', '▁bradshaw', '▁drool', '▁sagged', 'liya', 'scotland', '▁specialization', 'spread', 'pneuma', '▁199697', '▁tasha', '▁zimmer', 'ivist', '▁tunis', 'chetti', '▁indefinite', '▁faulkner', '▁influencing', '▁vertebrae', '▁tectonic', '▁immersed', '▁adherents', 'sourcing', '▁mundi', '▁wager', '▁subtract', '▁mueller', '▁feldman', '▁mischief', 'platform', 'mentioned', '77%', '367', 'chaud', '▁attribution', '▁limousine', '▁oblivion', '▁burroughs', '▁flawless', '▁prze', '▁patting', '▁sykes', 'jeff', '▁armchair', '▁demoted', '▁superhuman', '59%', '▁mannheim', '▁monet', 'adult', 'planned', '▁obedient', '▁resurgence', '▁counterfeit', '▁pontiac', '▁dobson', '▁callahan', '▁playlist', '2,200', '▁drastic', '▁brute', '▁coiled', '1845', '▁virginity', '▁crusader', 'football', '▁cornerback', '▁impoverished', '▁subgenus', '▁maitland', '▁heterosexual', '1842', '▁immensely', '▁mumble', '▁jimmie', '▁guildford', '800,000', 'econom', '▁gunter', 'korean', '▁rampart', '▁hyundai', '▁liszt', '▁springsteen', '▁bayonet', '▁nasr', 'hanna', '▁iihf', '▁unsafe', '▁meaningless', 'bhadra', '▁alcoholism', '▁whereupon', '▁13,000', '▁codename', '▁apologies', '▁katharine', '▁essendon', 'aceous', '▁annabelle', '▁ballast', '▁kiyo', '▁vidal', '▁westchester', '▁salsa', '1847', '▁republished', '▁minu', '▁keating', '▁remade', 'jhl', '▁decorate', '▁luminous', '▁searing', 'stylis', 'illian', '▁#10', 'acchi', '▁donegal', '▁persi', '▁phyl', 'guille', '▁tacit', '▁ashland', '▁koji', '▁lemur', 'vaux', '▁fencer', '▁refreshing', '▁chopin', '▁mingled', '▁obsessive', '▁disembark', '▁wainwright', 'fluoride', '▁evicted', 'brau', '▁embodied', '▁tapestry', '▁sudanese', '▁literate', '▁existential', '▁volga', '▁gregorian', '▁baseline', 'chondr', 'cevic', '▁trieste', '▁squealed', '▁clink', '▁approving', '▁moffat', '▁amelie', '▁eyre', '▁wobble', 'attu', 'adores', '▁kava', '▁ratification', '▁purana', '▁wilton', '▁blushing', '▁calderon', '▁alphabetical', '2,300', '▁antigua', '▁retake', '1846', '▁whitley', '▁globalization', 'metro', '▁kuz', '▁aggravated', '▁arrogance', '▁bureaucracy', '▁rectangle', '▁snuggled', '▁gestapo', '▁sibyl', '▁ortega', '▁senna', '▁unmarked', '▁proxy', '▁whack', '▁hiram', '▁archway', '▁gleamed', '▁19992000', 'bowl', '▁1642', '▁apparition', '▁sheppard', '▁incursion', '▁faisal', '▁colourful', '▁edel', '▁synchronized', '▁quadrant', '▁tubular', '▁headwaters', 'dominated', '▁concourse', '▁chav', 'shade', '▁starboard', '▁defected', '▁catalyze', '▁reverb', 'huang', '▁timid', '▁conscription', '▁observance', '▁vibrating', '▁acqui', '▁blah', '▁salazar', 'guru', '▁gaj', '▁waistband', '▁skipping', '▁coinage', '▁whim', 'kirche', 'gauge', 'consul', 'alexander', '▁tricho', 'conductor', '▁roque', '▁cuckoo', '▁corrugated', '▁easiest', '▁billiard', '▁bromwich', '1721', '▁hines', '▁annapolis', 'penny', '▁superliga', 'strict', '▁swipe', 'occhi', 'milk', '▁mussel', 'vigne', '▁superstition', '▁orthogonal', '▁juniper', '▁arterial', '▁aggregation', '▁geometridae', '▁servicing', '▁phosphorus', '43%', 'tinted', '▁breakaway', '434', '▁materialized', '▁199798', 'roofed', '▁frighten', 'hula', '▁exhale', '▁homemade', 'defunct', '▁jayne', '▁civilized', 'licensed', '▁sphinx', '▁rochelle', '▁elusive', '▁thayer', '▁quartermaster', '▁16,000', 'jager', '▁sparsely', '▁speechless', '▁fenn', '▁artefacts', '▁cymbal', '▁shreveport', '▁staggering', '▁estranged', '▁initiating', '▁appease', '▁bryson', '▁droplets', '▁quivering', '▁hunk', '359', 'kyung', '▁199899', '436', '▁abolitionist', '▁comprehension', '▁revolving', '▁maguire', '▁sulphur', '▁asturias', '▁quarries', '▁abbess', '▁henning', '▁vomiting', '▁paco', '▁treb', '▁****', '▁fasci', 'initial', 'cortic', '63%', '▁mojo', '▁godwin', '▁relinquished', '▁doorbell', '▁interspersed', '▁raccoon', '▁scaffold', '▁sanitary', '▁sweatshirt', '▁sincerely', '▁euroleague', '▁gauntlet', '▁dentistry', '▁immoral', '890', '▁twinned', '▁compost', 'beyond', '▁juliette', 'aime', '▁dedicate', '▁endanger', '▁fragmented', '▁reload', '▁guernsey', '▁hospice', '▁nicholls', '▁kenji', '▁nylon', 'average', 'marne', 'scented', '▁oskar', '▁palette', '1603', '▁chute', '▁kalli', '▁seekers', '▁groceries', '▁cobalt', '▁greasy', '▁unilateral', '▁refute', '▁fuchs', 'oberliga', '▁tierney', 'romanian', '▁leuco', '▁spiro', '▁alteration', '▁sybil', '▁blackberry', '▁equivalence', '▁regression', '▁syndication', '▁corinne', '▁eradicate', '▁erasmus', '▁carousel', '▁dissatisfied', '▁clutter', '▁elsie', '▁supersonic', '▁gulped', 'getting', 'jitsu', '▁tulip', 'gibbon', '▁wach', '98%', 'iflora', '▁enigma', '▁mcleod', '▁misfortune', '▁treacherous', 'lullaby', 'lauri', '▁trafford', '▁hotspur', 'crown', 'chapter', '▁kyiv', 'fledged', '▁emory', 'uggle', '▁1661', '▁epstein', 'phylla', '▁equate', 'comedy', '▁handheld', 'ollywood', '▁insulation', '▁fenton', '▁teaser', 'caria', '▁contemplating', '▁grotesque', '▁enriched', '▁goalscorer', '▁assailant', '▁delgado', '▁altarpiece', '▁townspeople', 'sectarian', '▁jeu', '▁sagar', '▁seaplane', '▁lucknow', '▁lashed', '▁newsweek', '▁millennia', '▁mellow', 'chemistry', '▁disperse', 'uthu', 'regulated', 'denominational', 'vietnam', '▁controversies', '▁erebidae', '▁suicidal', '▁kyushu', '▁eucharist', '▁restarted', 'period', '▁magpie', '▁spicy', '▁kruger', 'fasc', '▁pinpoint', '▁norbert', '▁delete', '▁leung', '▁greyish', '▁glaze', 'architect', 'columbian', 'residence', 'translation', '▁prowess', 'attentive', '▁cloister', 'populated', '▁rosalind', '▁supplementary', '▁barrington', '▁renumbered', '▁hoax', '▁scatter', '▁precede', '▁secretion', '▁witty', '▁etymology', '▁prohibiting', '▁thoroughfare', '▁zodiac', '▁xinjiang', '▁revolutionaries', '▁agile', '▁enforcer', 'slavery', '74%', '▁bassoon', '▁mahon', '▁grupo', '▁undone', 'wissenschaft', '▁scoffed', '▁empowered', '▁connacht', '▁spawning', '▁baronetcy', 'offensive', 'thorne', '459', '▁appleton', '▁tatum', '▁argyll', '▁disrepair', '▁mauritania', '▁amnesia', '▁complied', '▁nurture', '▁geographer', '▁evie', '▁bulging', '▁cadiz', '68%', '▁romain', '▁leib', 'darshan', 'window', 'shish', '▁disseminate', '▁edifice', '▁hodgson', '▁persuasion', '▁relaunched', '▁showcasing', '▁erskine', '▁prequel', '▁popcorn', '▁misuse', '▁climatic', '▁manchuria', 'revolutionary', 'collins', '▁khor', '▁conservator', '▁cookbook', '▁hunan', 'gnan', '▁zyg', '▁deterioration', '▁minesweeper', '▁hideout', '▁partizan', '▁netting', '▁burundi', '▁apparel', '▁sobbed', '▁hazy', '▁parnell', 'anhalt', '▁royalties', '▁rediscovered', '81%', '▁osborn', '▁faltered', 'soccer', '▁lucid', '1728', '▁bassett', '1734', '▁zappa', 'disproportionate', '▁peugeot', '▁assortment', '▁moira', 'alternative', '▁freshmen', '▁lupin', '▁canaan', '▁rampant', '▁fontana', 'czyk', '▁bingo', '▁$5,000', '▁comrade', '▁grieve', 'element', '▁oaxaca', '▁irritating', '▁lobbied', '▁shaggy', '▁mcdowell', '▁deformation', '▁cheetah', '▁gottfried', 'adapt', '▁estrada', '▁dunlop', '▁snuff', '▁macbeth', 'lugged', '▁furrow', '▁kennel', '1704', '▁cheerfully', '▁authorship', '▁commencing', '▁condensed', '▁extravagant', 'reserve', '▁oscillation', '▁bilbao', '▁featherweight', '▁greaves', '▁johansson', 'obliterat', '▁zoological', '▁brentford', '▁winthrop', '▁stripper', '▁cedric', '▁spontaneously', 'wolves', '▁cochin', 'magazine', '▁mediation', '▁scribble', '▁wwii', '▁idris', '▁tusk', '▁copeland', '▁spartak', '▁duane', '▁seamus', 'armee', '84%', '▁balthazar', '▁galveston', '▁priscilla', '▁argyle', '▁blanchard', '▁syringe', '▁yamamoto', '▁inexperienced', '▁mikael', '▁sterile', 'imber', '▁apical', '▁favorably', 'martial', '▁tipping', '▁tanned', '▁kimball', 'reiter', '▁thakur', 'blooded', '▁ghanaian', '▁mallet', '▁enoch', '▁compulsion', '▁internacional', '▁snooker', '▁vittorio', '▁sublime', '▁smuggler', '▁slicing', 'prabha', '▁clemens', '▁schulz', '▁saro', '▁marlene', '▁postmodern', 'tomorrow', '▁hajj', '▁leighton', 'biology', 'frog', '▁domestically', '▁agonist', 'broken', '▁smeared', '▁nutritional', '▁deceptive', '▁subsistence', '▁susquehanna', '▁turquoise', '▁niccolo', '▁figurative', '▁specifies', '▁skepticism', '▁mammalian', '▁midsummer', 'wielding', '▁henson', '▁franck', '▁199596', '▁lurch', '▁murderous', '▁thirsty', 'pizz', '▁britton', 'broke', '▁urb', '▁kellogg', '▁scranton', '▁culprit', '▁decatur', '▁paralysis', '▁asahi', '▁jogged', '1705', '▁hackett', '▁drugged', '▁unease', '▁ferenc', '▁chemo', '▁paxton', 'hobo', 'continent', 'received', 'described', '▁crump', '▁sabo', '▁reminisce', '▁dispersal', '▁pleistocene', '▁zaragoza', '▁deliberation', '▁miocene', '▁impetus', '▁grudge', '▁transatlantic', '▁asbestos', '▁adjustable', '88%', 'ewicz', '▁beatty', '1743', 'administrative', 'strength', 'blown', '▁$24', '1837', 'concept', 'constitu', '▁bequeathed', '▁pornographic', '▁postdoctoral', '▁terrific', '▁hoisted', '▁knitting', '▁nagasaki', '▁emmett', '▁blindfold', '▁nitrate', '▁tacoma', '▁ghosh', 'phel', '▁worsened', '▁pudding', '▁leasing', '▁demolish', '▁susanna', '▁scooter', '▁huntingdon', 'jimmy', '▁secluded', '▁rotherham', 'iyeh', '▁caspian', '▁bellowed', 'representing', 'technic', '▁corral', '▁taco', '▁gaulle', '▁predominate', '▁conserve', 'saturday', '▁negligence', '▁transcribed', '▁degraded', '▁indochina', '▁cartwright', 'barrel', 'capitul', '▁deutsch', '▁oscillator', '▁siegel', '▁consular', '▁contemplate', '▁resented', '▁silvia', '▁compatriot', '▁generosity', '▁reciprocal', '▁relocating', '▁nirvana', '▁frigid', '▁rochdale', '▁allotment', 'intelligence', '▁dorsey', '▁woj', '▁hummed', '▁heroism', '▁plumage', '▁almanac', '▁roaming', 'voj', '▁daydream', '▁gaunt', '▁mustache', '▁kimber', '▁downloadable', '▁briar', 'owsky', '▁liechtenstein', '▁manipulating', '▁potsdam', '▁fitzpatrick', '▁retaliate', 'wip', '▁collarbone', '▁leaflets', '▁tianjin', '1605', 'challenge', '▁monique', '▁minions', '▁murat', '▁ennis', '433', '▁magdalene', '1733', 'krishna', 'amphetamine', '▁articulation', '▁qualitative', '▁ethernet', '▁frazier', '▁vantage', '▁vigilante', '1683', '▁omnibus', 'wijk', '▁teja', 'ppp', '▁superstructure', '▁gerais', '▁palau', '▁corinth', '▁minerva', '▁persecuted', '▁pilasters', '▁sizable', '▁immersion', '▁throbbed', '▁shandong', '▁ultrasound', '▁videotape', '▁whitehall', 'determination', 'apparently', '▁stockings', '▁scully', '▁ashford', '▁auditory', 'obligatory', '▁esoteric', '▁marquez', '▁spaghetti', '▁reuters', '▁9:00', 'honneur', '▁innovator', 'brach', 'sceptic', '▁blackened', 'vidhan', '▁orchestration', 'criminal', '▁cultivate', '▁staats', '▁kayla', '▁hiroshi', 'owiec', '▁gonzaga', '▁marriott', '▁tequila', '▁concoct', '▁stylish', '▁gunslinger', '▁manoeuvre', '▁olav', 'bjrn', '▁serialized', '▁acknowledgement', '▁fetal', '▁peking', '▁commonplace', 'wrapped', 'kassel', '▁mathis', '5:30', '▁resolute', '▁turkmenistan', '▁reworked', '▁fivb', '▁sliver', '▁rewrite', '▁finlay', '▁xylo', '▁dissect', '▁oblong', '▁eil', 'keefe', '▁vimes', '▁maximal', 'construction', '▁denim', '▁sprite', '▁gatt', 'thousand', '▁saline', '▁racetrack', '▁charlemagne', '▁intimidation', '▁vaccination', '▁derelict', '▁writhing', '▁caitlin', '▁invariably', '▁conduit', '▁heaviest', '▁socioeconomic', '▁locating', '▁proctor', '▁congenital', '▁camilla', 'principal', '1731', '▁ngc', '▁moravian', '1:30', '▁fulfil', '▁loeb', '▁falter', '▁inherently', '▁governorship', '▁ozone', '▁administra', '▁khyber', '▁ignatius', '▁mechanized', '▁minogue', '▁jalal', '▁empathy', 'activating', '▁alyssa', '▁biomass', '▁calves', '▁brunette', '▁muriel', '▁tagged', '▁britten', 'carbo', '▁$25,000', '▁heraldic', 'address', 'zola', '▁prax', '▁recapture', '▁practise', '▁rohan', '▁flanagan', '▁haplogroup', '▁obscene', '▁anomaly', '▁whitaker', '▁strife', 'pakistan', '▁authentication', '▁undertaker', 'mandala', '▁minnie', '▁anticipate', '▁dempsey', '▁genealogy', '▁illustrious', '▁fluffy', '▁ravaged', '▁merciless', '▁imbalance', '▁bertram', '▁donnelly', 'reflect', '▁coulter', 'extreme', 'nigg', '▁weinberg', '▁faux', 'functional', '▁mastermind', '▁cleavage', '▁quadrangle', '▁upanishad', '▁intervening', '▁pristine', '▁seduction', '▁thyroid', '▁goblet', '▁gyr', '▁toulon', '▁crotch', '1839', '▁ashby', 'preis', '▁validation', '▁jillian', '▁blotch', '▁pervert', '▁amplified', '▁arthritis', '▁dazzling', '▁mukherjee', '▁nostalgia', '▁wrexham', '▁godzilla', '▁unicode', '▁bloomington', '▁malacca', '▁robyn', 'graha', '▁pentecostal', '▁gregorio', '▁midwife', 'reference', '▁payroll', '▁cheque', '▁$29', 'excellent', 'hispanic', '▁$28', '▁phyllo', '▁aust', '▁euler', '▁tidy', '▁monterrey', '▁somerville', '700,000', '▁mascara', 'vector', '▁caliphate', '▁forbade', 'ophyte', '▁subsided', 'hoshi', '▁homi', '▁airstrip', '▁nonfiction', '▁keane', 'molecular', '▁pancha', '▁trigon', 'indonesia', '▁winnie', '▁bedrock', '▁blindness', 'accept', '▁wrapper', 'administratively', '▁conservatoire', '▁substantive', '▁clermont', '▁michelangelo', '▁metadata', '▁polgara', '▁hilbert', '▁holiness', '1838', '▁patsy', 'ignon', '8000', '▁merritt', 'putra', 'dirty', '▁impulsive', '▁horatio', '▁transept', '▁utilization', '▁goofy', '▁piccolo', '1843', '▁malvern', '1655', '▁charred', '▁andersson', '▁daze', 'avignon', '▁brann', '▁jonny', 'experience', 'deutscher', 'uddy', '▁anticipating', '▁reykjavik', '▁cabbage', '▁longevity', '▁remodeled', '▁naacp', '▁kiosk', '▁nozzle', '▁salamander', '▁gallipoli', '▁childbirth', 'attenuat', '▁estrogen', '▁malibu', '▁correlate', '▁illuminate', '1676', '▁libertadores', '▁roanoke', '▁tortricidae', '▁benfica', '▁affirmative', '▁gifford', '▁abnormalities', '▁clapping', '▁irregularities', 'charlie', '▁sunflower', '▁chevy', '▁woolf', '!!!', '▁trau', '▁pantry', 'curring', 'hindi', '▁bouncer', 'synaptic', '▁illustrating', '▁ymca', '▁illuminating', '▁rousseau', '▁sylvie', 'cambridge', '▁wallpaper', '▁rustling', '▁overseer', 'document', '▁maury', '▁paving', '▁semp', '▁nasi', 'pitch', '▁gracefully', '▁bartolome', '▁proficient', '▁seychelles', '▁moderator', '▁allergic', '▁churning', '▁anarchy', '▁quoting', '▁hackney', 'scottish', '▁shakti', 'stefan', '▁puget', '▁cocoon', '▁joyah', '▁feeble', '▁bursa', '▁khaki', '▁bobbie', 'extraterrestrial', '▁perpetu', '▁hendrik', 'scientific', '▁bukit', '▁intensify', '▁ballpark', '▁cleansing', 'scrolling', '▁geraldine', '▁affectionately', '▁zub', '▁winslow', '▁habitation', '▁parochial', '▁prodigy', '▁reassurance', '▁hepatitis', '▁immature', '▁notwithstanding', 'shark', '▁ephemer', '▁rihanna', '▁piracy', '▁gawk', '▁mcconnell', '▁cisco', '▁coveted', '▁georgina', '▁continual', '▁srinivas', '▁brochure', '▁concepcion', '▁elegance', '▁hemingway', '▁archduke', '▁hurley', 'vote', '▁moritz', 'altitude', '▁bidder', '▁brightest', '▁teren', '▁fluctuations', '▁rehabilitate', '▁imaginative', '▁predicament', '▁instagram', '▁divergence', '▁chevron', '▁metaphysical', '▁nazareth', '▁preferential', 'bwv', '▁khalifa', '▁canucks', '▁indira', 'crip', '▁purcell', '▁massimo', 'imento', '▁breathtaking', '▁bribery', '▁quinlan', '▁probing', '▁dialog', '5:1', '▁pounce', '▁logistical', '▁$500,000', '▁$36', '▁millet', '▁greensboro', '▁jody', '▁ezekiel', '▁oppressive', '▁socrates', '▁disobey', '▁fission', '▁cessna', '▁inquiries', '▁carnage', '▁variability', '▁brescia', '▁ahmedabad', '▁filippo', '▁jaipur', '▁drury', '▁marxism', '▁saab', 'nihil', '▁brodie', '▁darkening', '▁leyte', 'popular', 'qualifying', '▁encampment', '▁pictorial', '▁puebla', '▁simplify', 'defamation', '▁ultimatum', '▁aegean', '▁jiangsu', 'detect', '▁silvio', '▁ascribed', 'impressionist', '▁exemplary', '▁sharpened', '▁refill', 'federal', 'arbeit', '▁dignitaries', '▁impedance', '▁parentheses', '▁booze', '▁daimon', '▁disused', '▁poplar', '▁multicultural', '▁3:00', '▁caledonian', '▁hatfield', '6,500', '▁dredge', '▁brilliance', '▁discriminate', '▁rescheduled', '▁shampoo', '▁zhejiang', '▁celaena', 'oooo', 'discovery', 'foreign', '▁ragnar', '▁ithaca', '▁dilute', '▁psychotic', '▁chechen', '▁palacio', 'andrew', '▁adolescence', '▁enrichment', '▁escarpment', '▁eunuch', '▁jeopardy', '▁mcmillan', '▁antelope', '▁behest', '▁sudbury', '▁vizier', 'degenerate', '▁steeple', '▁wastewater', '▁antibody', '▁dutton', '▁conformation', '▁exclaim', '▁yash', '▁principe', 'droit', '▁trab', '▁nonchalant', '▁kaitlyn', '▁cremated', '▁wrestlemania', '▁overcame', 'sunday', '▁wnba', 'annoy', '▁fantasia', '▁sanjay', '▁messina', 'lusive', '▁stockport', '▁dinah', '▁ambiguity', '▁zephyr', '▁islamabad', '▁nunez', '▁balfour', '▁slew', '▁kidnapper', 'wether', '▁schla', '▁lipp', '▁adhesive', '▁sorority', '▁clarendon', '▁unearthed', '▁shitty', '▁schizo', '▁hypnotic', '▁earrings', '▁toppled', '▁quezon', 'qiao', 'hyper', 'rousse', '▁kaspar', 'company', 'community', '▁spank', '▁kraj', '▁fusiliers', '▁aarhus', '▁knesset', '▁yarmouth', '▁aerobic', '▁sepals', '▁aeroplane', '▁wealthiest', '▁invoke', '▁excise', '▁thuringia', '▁boucher', '▁vail', '▁stiffen', '▁rigging', 'ordinary', '4:1', '▁idiom', 'breg', '▁pursuant', '▁yeomanry', '▁conclusive', '▁nuisance', '▁pedersen', '▁populist', '▁reagent', '▁handicapped', '▁cyborg', '▁reintroduced', '▁sickening', '▁watercolour', '▁chasse', 'dijk', '1691', '▁nisha', '▁nihon', '▁fiend', 'ambul', 'enfant', '▁chameleon', '▁covington', '▁deprivation', '▁epilepsy', '▁taekwondo', '▁frieze', '▁hammersmith', '▁ulcer', '▁woodwork', '▁xander', '▁kodak', '▁calabria', '▁cornet', 'philippi', '▁assimilation', '▁chihuahua', '▁proficiency', '▁retrieval', '▁percival', 'steeplechase', '▁pectoral', '▁shenzhen', '▁himalayan', '▁floppy', '▁anselm', '▁tiberius', '▁cuddle', '▁scoot', '▁bromley', '▁nagpur', '▁dowry', '▁redeveloped', 'bahnhof', '▁sneakers', '▁detrimental', '▁zoning', '▁diagnose', '▁displeasure', '▁eireann', '▁horribly', '▁impatience', '▁pragmatic', '▁subsidy', '▁onslaught', '▁breaststroke', '▁corolla', '▁$200', '▁quark', '▁shutdown', 'medium', '▁arvi', '▁deteriorating', '▁unreasonable', '▁plunging', '▁gecko', '▁makh', 'bezirk', '▁matron', '▁jerzy', 'increment', 'pocket', '▁bulldog', '▁bjp', 'xiu', '▁marvelous', '▁pachy', '▁liberator', '▁nudge', '▁adversary', '▁hellenistic', '▁landscaping', '▁seagull', '▁ebony', '▁kawasaki', '▁determinant', '▁storyteller', '▁grubb', '▁radiator', 'dicating', '▁merrick', '▁rinse', '▁takashi', 'attached', '▁keita', 'origin', '▁gyro', 'khin', '▁electronically', '▁advertise', '▁bmg', 'piro', 'azole', '▁overshadowed', '▁orkney', '▁coolidge', '▁magister', '▁grotto', '▁waltham', '▁anzac', '▁aachen', 'permanent', 'kanta', '▁nemo', 'latif', '▁eamon', 'havn', '▁chimed', '▁wretched', '▁chemotherapy', '▁connotation', '▁operetta', '▁lucinda', '▁felicity', '▁expectancy', '▁sevilla', '▁margrave', '▁sidelined', 'czech', '▁199495', '▁oclock', '▁entice', '2,800', 'academic', '▁surrogate', '▁filmfare', '▁soared', '▁jennie', '▁vuk', 'citizen', '▁chopra', 'goodbye', '▁rampage', '▁dissatisfaction', '▁multiplied', '▁plopped', '▁reclamation', '▁yucatan', '▁calculator', '▁masjid', '▁innsbruck', '▁assorted', '▁spielberg', '▁francophone', 'dionysi', '▁dramatist', '▁rizal', '▁clemson', '▁compassionate', '▁pickering', 'ophilic', 'undated', '▁bessie', '▁realising', 'cranial', '▁diaper', 'lopho', 'transitive', '▁assemblage', '▁fermentation', '▁kobayashi', '▁nietzsche', '▁obelisk', '▁spiegel', '▁dementia', '▁starbucks', '▁handcuffs', 'czynski', '▁demetrius', 'amento', '▁grafton', '▁dalai', '▁bongo', '▁warbler', '▁kanji', '▁postpone', 'odden', 'contained', '▁bellevue', '▁harlequin', '▁panoramic', '▁sloppy', '▁zenith', '▁persistence', '▁primaries', '▁ferrara', '▁yadav', '▁magyar', '▁bancroft', '▁signifies', '▁rearview', '▁martinique', '▁retort', '▁crackling', '1678', '▁paraguayan', 'columbia', '▁rosary', '▁kibbutz', '▁scurried', '▁transvaal', '▁paranoia', '▁henchmen', '▁tiebreaker', '▁tahir', '▁niels', 'minator', '▁rhetorical', '▁custer', '▁distal', '▁merle', '▁lokomotiv', '▁intertwined', '▁reunification', '▁orthography', '▁apertura', '▁sephardi', '▁azores', 'phobic', '▁cilia', '▁rahul', '▁wistful', '▁supernova', '▁taz', '▁monotypic', 'collar', '▁minami', 'represented', '▁lilli', 'rzyn', 'kimi', '▁exercising', '▁mcnamara', '▁promulgated', 'sylvania', '▁amadeus', '▁deafening', '▁vinegar', '▁epsom', '▁purification', 'brief', '▁glendale', 'definition', '▁andorra', 'colonize', '▁humiliating', '▁inquisitor', '▁turbulence', '▁anthropological', '▁refining', '▁antilles', '▁aquinas', '▁lucille', '▁defective', '▁zoologist', '▁resonate', '▁stylist', 'republican', '▁abduct', 'soldier', 'adhya', 'concert', 'flops', '▁diablo', '▁leila', 'fumi', '▁elliptical', '▁exemplified', '▁intestinal', '▁peshawar', '▁inaccessible', '▁braxton', '▁grenada', '▁nexus', '▁utmost', '▁cider', '▁rattling', '▁unspoken', '▁referral', '▁crawley', '▁bluish', 'discovered', '▁detach', '▁lilian', '▁forewing', 'acyl', '▁resolving', '▁identifiable', '▁brabant', '▁genealogical', '▁chalmers', '▁woolwich', '▁zipped', '▁pitiful', '▁cochran', '▁nikita', '▁patriotism', '▁fragmentation', '▁vhf', 'ploid', '▁omission', '▁adored', 'beek', '▁impede', '▁stammered', '▁permutation', '▁skimmed', '▁aguilera', '▁conservancy', '▁hooves', '▁reiterated', '▁predicate', '▁shrunk', '▁iqbal', '▁shadowhunter', '▁zamora', '▁helsing', '▁internment', '▁tulane', '▁cavall', '▁abide', 'married', 'scribing', '▁mccann', 'scheid', '▁almighty', '▁bautista', '▁impeachment', '▁mcallister', '▁papyrus', '▁pendulum', '▁vojvodina', '▁thierry', '▁uzbek', '▁fukuoka', '▁medicare', 'ashvili', '▁javanese', '▁riemann', '▁shogun', 'emitting', '▁shawnee', 'subject', '▁chauffeur', '▁chimpanzee', '▁marylebone', '▁subterranean', '▁laszlo', '▁migrating', '▁bedouin', '▁constrained', '▁departement', 'hakim', '▁loretta', '▁snag', '▁rammed', '▁colonia', '▁datu', '▁plotted', '▁pavlo', '▁spree', 'strasse', '2:1', 'destroy', '▁adventurous', '▁stabilization', '▁ultraviolet', '▁crockett', '▁tweak', '▁8:00', '▁biscay', '▁bedfordshire', '▁ludlow', 'knowledge', '▁knotted', '▁hangover', 'infested', '▁commend', '▁customized', '▁fanning', 'skog', '▁geese', '▁kowalski', '▁ubiquitous', '▁unharmed', '▁appalled', 'vash', '▁recurrent', '▁dorchester', '▁pineapple', 'alkyl', '▁spectra', '▁hillsborough', '▁optimism', '▁australasian', '▁ailment', '▁adultery', 'khel', '▁bobbed', '2,600', '▁weldon', '▁marcello', '▁affectionate', '▁constraint', '▁fugue', '▁dispersion', '▁huguenot', '▁infuriated', '▁memorabilia', '▁suffice', '▁willamette', '▁blackhawks', '▁agility', '▁vertigo', '▁impartial', 'pogon', '▁fervent', '▁giovan', '▁rutland', 'indeed', 'relief', '▁unfit', '▁kathmandu', '▁pegasus', '▁penitentiary', '▁piccadilly', '▁sulawesi', '▁depressing', '▁reversing', '▁swedes', '▁conceive', '▁ethnographic', '▁jogging', '▁trudeau', 'securit', '▁abstain', 'zeitung', '▁boardwalk', '▁unsigned', 'knife', 'monger', '▁metabolite', '▁weightlifting', '▁talisman', '▁plumbing', '▁wessex', '▁mcqueen', '▁submitting', '▁plurality', '▁pretext', '▁kanye', '▁vinny', '▁yamato', '▁maitre', 'referred', '▁furnish', 'segment', 'retired', 'pennine', 'pyg', '▁prickle', '▁incarceration', 'dreyfus', '▁higashi', '▁duluth', '▁equitable', '▁striding', '▁haggard', '▁donetsk', '▁suzy', '▁brachy', '▁haines', '▁visualization', 'inducing', '▁tartu', 'festival', 'discriminatory', '▁walsall', '▁emanating', '▁headphones', '▁rosenthal', '▁sporadically', '▁7:00', '▁reactivated', '▁fungal', '▁mulder', '▁mauro', '▁malice', '▁thurston', 'ostoma', '▁episcop', '▁loudspeaker', '▁sebastien', '▁uncanny', '▁configured', '▁krypton', '▁aggie', '▁rubbish', '▁menzies', '▁earnhardt', '▁britney', '▁oliva', 'flavored', 'phenol', '▁bloch', '5,500', '▁venomous', '▁walther', '▁appreciative', '▁epsilon', '▁groningen', '▁reimburse', 'provoking', '▁palisade', '▁allegro', '▁deletion', '▁nxt', '▁peacekeeping', '▁tomasz', 'sufficient', '▁impossibly', '▁ascetic', '▁festive', 'anthro', 'kunda', 'police', '▁disappoint', '1684', '▁bombardier', '▁exchequer', '▁impromptu', '▁selangor', '▁hickory', '▁phenotype', '▁avro', '▁rajendra', '▁fissure', 'species', 'schmidt', '▁harrier', 'bengali', 'georgian', '▁patrolled', 'dienst', '▁ecuadorian', '▁selby', '▁unsettling', '▁instantaneous', '▁andrzej', '▁daimler', '▁reindeer', '▁salamanca', '▁hathaway', '▁crevice', '▁wahl', '▁averted', '▁accentuat', '▁ditt', '▁lucie', '▁scalar', '▁throng', 'abdu', 'frost', 'issima', '▁argentinian', '▁gruesome', '▁quotient', '▁accelerating', '▁beverley', '▁holotype', '▁hysteria', '▁flask', '▁symphonies', 'discipline', '▁typewriter', 'environment', 'provincial', 'alternate', '▁diode', '▁bosco', 'olytic', '▁obsidian', '▁perplexed', '▁szczecin', '▁confection', '▁circumvent', '7:30', '▁philology', '▁mahler', '▁footbridge', '▁199394', 'independence', 'expression', 'brugge', '▁$1,000', '▁nettle', 'iasis', 'fetched', '▁bantamweight', '▁misunderstood', '▁montpellier', '▁reprisal', '▁erickson', 'champaign', '▁huskies', '▁flapping', '▁chadwick', '▁absolut', '▁pratap', '▁manipur', 'bbins', 'approved', '▁altair', '▁mcintosh', '▁miscarriage', '▁satisfies', '▁suffragan', '▁wadysaw', '▁arteries', '▁colleen', 'transferase', '▁ljub', '▁pillai', '▁shoemaker', 'calibre', 'shield', '▁baffled', '▁enquiry', '▁hedgehog', '▁undesirable', '▁obligated', '▁unsteady', '▁eastenders', '▁adherence', '▁dunkirk', '▁kirsten', '▁dismounted', '▁melodi', '▁plugged', '▁kiara', 'example', 'regiment', '▁obnoxious', 'deficient', 'pharmacology', '▁conclave', 'qvist', '▁microbiology', '▁smudge', '▁arsenic', '▁roderick', '▁fayette', '▁nugent', '▁grandstand', '▁gabby', '▁cramer', '▁bookseller', 'composer', '▁contentious', 'distributed', 'snippet', '▁accompanies', '▁dwarves', '▁pantomime', '▁cherished', '▁cabrera', '▁nudity', '▁opaque', '▁scrubbed', '▁cornelia', '▁papill', 'guilla', '▁mahesh', '▁chaste', '▁gonzalo', '▁navigable', '▁unicef', '▁sikkim', '▁hannover', '▁reverence', '▁shredded', '▁tigre', '▁counsellor', '▁tumour', '▁bmx', 'assistant', '▁lycee', '▁effortlessly', '▁summed', '▁rosalie', '▁zwi', '▁dizziness', '▁tabernacle', '▁triathlon', '▁uyghur', '▁whirlwind', '▁woodpecker', '▁binoculars', '▁oxidize', '▁cambrian', '▁bipolar', '▁shroud', '▁ainsley', '▁lingerie', '▁stemming', '▁huntsville', 'association', '▁millwall', 'assisted', '▁mahadev', 'taylor', 'rhomb', 'idze', '▁caffeine', '▁doorknob', '▁negotiator', '▁albatros', '▁salomon', 'serious', '▁rotunda', '▁chlorine', '▁antoinette', 'trouble', '▁ehren', '▁clique', 'dasht', '▁zander', '▁envelop', '▁tampere', 'hatta', '▁envision', 'gimme', 'establishment', '▁macpherson', '▁wurzburg', '▁dopamine', '▁sugarcane', '▁afrikaans', '▁marlowe', '▁henchman', '▁eyesight', '▁isfahan', 'quercus', 'lewis', '▁burbank', '▁flamenco', '▁abbasid', 'account', '▁sieg', '▁throb', '▁prosecute', '▁appendage', '▁diligent', '▁dissemination', '▁ephraim', '▁goggles', '▁plentiful', '▁upheaval', '▁laundering', '▁contradictory', '▁augustinian', '▁impractical', '▁compagn', '▁unbroken', '▁carrera', '▁rhett', 'thoracic', '▁rabid', 'confidence', '▁curfew', '▁hampden', '▁hypotheses', '▁vivienne', '▁antidote', '▁westinghouse', '▁repelled', '▁spacing', '▁sangeet', '▁rambling', '▁lexical', '▁vitoria', '▁latched', '▁insurgent', '▁pallet', '▁carrington', 'excret', '▁stereotypical', 'sweden', '▁chappell', '▁apostol', 'maastricht', '▁embroidery', '▁esperanto', '▁lyceum', '▁vanuatu', '▁cauldron', '▁battista', '▁raquel', '▁hanuman', '▁choctaw', '▁nieuw', 'kampf', '▁pelvic', '▁kampala', '▁harmonies', 'raiser', '▁boredom', '▁undeveloped', '▁vichy', 'khet', '▁alcove', '▁knack', 'zadeh', '▁jolie', 'victoria', '▁schwab', '▁amphitheater', '▁embargo', '▁jalisco', '▁straddling', '▁madurai', '▁culmination', '▁oncology', '▁roscoe', '▁swapped', '▁monoplane', '▁samaj', '▁exertion', '▁ferret', '▁solstice', 'callaghan', '▁deuce', '▁timberlake', '▁brightened', '▁havre', '▁duarte', '▁franca', '▁flinders', '▁preclude', '▁comanche', '▁inventive', '▁mendez', '▁cervical', '▁shrugging', 'success', '▁buick', '▁renato', '▁unloaded', '▁carriageway', '▁interstellar', '▁olfactory', '▁refinement', 'polynesian', 'referencing', '▁bhopal', '▁reparation', '▁juicy', '▁chisholm', '▁ecstatic', '▁sligo', '▁subtly', '▁pylon', 'department', '▁kristof', '▁wildcat', '▁krista', '▁abkhazia', '▁geothermal', '▁incompetent', 'jazeera', '▁sprague', '▁kepler', '▁altercation', '▁streamlined', '▁rizzo', '▁devise', '▁monika', '▁hype', '▁morgue', '▁pampa', 'philosoph', '▁khalil', '▁bydgoszcz', '▁unsettled', '▁minstrel', 'driscoll', '▁merciful', '▁trapper', '▁fulfillment', '▁polarization', '▁familial', '8,500', '▁rossini', '▁presume', '▁acknowledgment', '▁enforcing', '▁reincarnation', '▁stochastic', '▁corroborat', '▁erstwhile', '▁tycoon', '▁trapez', '▁fianna', 'winkle', '▁footnote', '▁subdue', '▁stamina', '▁treble', 'elimination', '▁surrealist', '▁medusa', '▁eurobasket', '▁skopje', '▁confidant', '▁fanfare', '▁cosmology', '▁consultative', '▁protrude', '▁enigmatic', '▁dundas', '▁ramakrishna', '▁deflection', '▁csx', 'unov', 'stitutionalized', '▁hypothesized', '▁universiade', '▁grizzly', '▁rudimentary', '▁strategist', '▁subsidize', '▁wrongdoing', '▁shogunate', '▁candlelight', '▁shanti', '▁gestation', '▁discord', '▁patrice', '▁tapered', '▁abode', 'murthy', '▁muppet', 'quechua', 'satellite', '▁megalo', 'resolution', '▁launceston', '▁suffused', '▁bethesda', '▁beckoned', '▁aquifer', '▁therapies', '▁shrank', '▁cradling', '▁crucifixion', '▁biosphere', '▁trotted', '▁devonshire', '▁vandalism', 'stretch', 'build', '▁taunton', '▁disconnect', '▁styria', '▁brickwork', 'belgium', '▁eindhoven', '▁horticulture', '▁triassic', '▁ballerina', '▁gainesville', '▁townshend', '▁blvd', '▁abdicate', '▁himachal', '▁schumann', 'imagine', '▁jumble', '▁serenade', 'statist', 'rukh', '▁pallid', '▁embarrass', '▁perpetuate', 'gastrointestinal', '▁argonauts', '▁rasmussen', '▁eminem', '▁farthest', '▁fayetteville', '▁federated', '▁zelda', 'technology', '▁marietta', '▁yeovil', '▁modulate', '▁ethic', '8:30', '▁honduran', '▁pedigree', '▁almeida', '▁bathtub', '▁encrypted', '▁magdeburg', '▁parishioners', '▁sanctum', '▁congolese', '▁afloat', '▁galilee', '▁alameda', '▁dependencies', '▁giddy', 'sequence', '▁maharaj', '▁supercup', '▁lengthened', '▁levee', '▁assembling', '▁deferred', '▁strickland', '▁samaritan', 'ammonium', '▁cessation', '▁plywood', '▁valdez', '▁embryonic', '▁shelved', '▁cusp', 'jordan', '▁decorating', '▁stemmed', 'assembly', '▁henrique', 'structural', 'akademie', 'wrenching', 'succin', 'glamorous', '▁cistercian', '▁cucumber', '▁reconstituted', '▁undivided', '▁ecoregion', '▁shortcomings', '▁heartbroken', '▁nilsson', '▁mittel', '▁tartar', '▁concede', 'decision', 'semitism', 'logarithm', '▁carcinoma', '▁dislodge', '▁concise', '▁fukushima', '▁wyndham', 'coccus', '▁tattered', '▁surmounted', '▁severance', '▁pelvis', '▁entrepreneurial', '▁druze', '▁rennes', 'spear', 'identified', '▁diarrhea', '▁jharkhand', '▁palladium', '▁flurry', '▁concave', '▁psychotherapy', '▁soyuz', '▁aguilar', '▁raspberry', '▁janitor', '▁sigmund', '▁ossetia', 'logger', '▁caramel', '▁saracen', '▁joyful', '▁secund', '▁blissful', 'composed', 'enlightened', '▁comptroller', '▁glastonbury', '▁kickstarter', '▁masquerade', '▁pedagogy', '▁shenandoah', '▁tambourine', '▁hyperbolic', '▁indignant', '▁mandible', '▁rojas', '▁questionnaire', '▁shush', 'reliant', '▁breweries', '▁ornamentation', '▁felici', '▁sahitya', '▁resurrect', 'rhynch', 'tournament', 'bureaucrat', '▁bucuresti', '▁haarlem', '▁interjected', '▁pedagogical', '▁practising', '▁trafalgar', '▁remedies', '▁esteban', '▁gentile', '▁earldom', '▁steinberg', '▁kinship', '▁limburg', '▁imogen', '▁eurasia', 'council', 'occupancy', '▁admonish', '▁custodian', '▁expiration', '▁qualifies', '▁dalinar', '▁purposefully', '▁sherri', '▁dishonest', 'above', 'deutsche', '▁calypso', '▁kessler', '▁unheard', '▁mahatma', '▁inferred', '▁chretien', '▁gresham', '▁glean', '▁conserva', '▁optimum', '▁bleachers', 'exclusive', '▁channing', '▁murky', 'frater', '▁nikol', '▁burlesque', '▁incapacitate', '▁mcgovern', '▁tuxedo', '▁lourdes', '▁madrigal', '▁sociedad', '▁daredevil', '▁wilfrid', '1016/', '▁rarity', '▁laredo', '▁schiller', '▁northerly', '▁adoration', '▁clipping', '▁velez', '▁cardigan', '▁lexicon', 'environmentalist', '▁polemic', '▁malabar', '▁dilapidated', '▁guelph', '▁mcdermott', '▁oratorio', '▁pretense', '▁aramaic', 'polski', '▁cannonball', 'defend', 'primary', '▁defection', '▁logistic', 'sphaer', '▁cursor', '▁adhesion', '▁citroen', '▁invaluable', '▁watanabe', '▁crammed', '▁ballarat', '▁physique', 'saturation', '▁sturgeon', '▁cristobal', '▁lorentz', '▁comcast', '▁bailiff', '▁melrose', '▁heathrow', '▁worthwhile', '▁cronus', 'qasim', '▁moravia', '▁regenerate', '▁brevet', 'glauco', '▁cohesive', '▁disarmament', '▁measurable', '▁colossal', '▁oppressed', '▁celsius', '▁futbol', '▁movable', '▁storefront', 'relax', '▁britannica', '▁epitaph', '▁parodies', '▁reclassified', '▁sapporo', '▁tijuana', '▁densities', '▁weinstein', '▁banshee', '▁fragrant', '▁bastille', '▁bacterio', '▁biochemical', '▁cortez', '▁morrissey', '▁racine', '▁misrepresent', 'violence', 'constant', '▁diminutive', '▁philanthropy', '▁smoldering', '▁huxley', '▁minuscule', '▁okrug', '▁giulio', '▁pacifist', '100,000', '▁hypertension', '▁looney', '▁voicing', '▁antisemitism', '▁meteorologist', '▁chengdu', '▁yamada', '▁ovation', '▁ravel', 'positiv', 'gruber', '▁apprehensive', '▁carmarthen', '▁excruciating', '▁prosthetic', '▁rhapsody', '▁trujillo', '▁unfavorable', '▁poseidon', '▁psychoanalysis', '▁desolate', '▁fiberglass', '▁beauchamp', '▁martyrdom', '▁troms', '▁striat', '▁spelt', '▁circumference', '▁hexagonal', '▁mckinney', '▁rodrigues', '▁sauntered', '▁veterinarian', '▁estrella', '▁holliday', '▁buxton', '▁tendrils', 'capacity', '▁ellsworth', '▁pundit', '▁evasion', '▁rostov', '▁digestive', '▁patriarchate', '▁reconnect', 'flagged', 'aquila', '▁coinciding', '▁condensation', '▁etruscan', '▁guadalcanal', '▁neutrino', '▁rippling', '▁unrestricted', 'cutaneous', '▁unprotected', '▁microbial', '▁serenity', '▁sentient', '▁echelon', '▁osbourne', '▁luthor', '▁xviii', '▁lockhart', '▁appraisal', '▁microscopy', '▁polluted', '▁tomlinson', '▁flustered', '▁goliath', '▁scolded', '▁sludge', '▁agonizing', '▁wycombe', '▁stewardship', '▁tutorial', '▁sejm', '▁bateman', '▁devyn', 'linguistic', '▁renown', 'severin', 'deliver', '▁vocation', '▁afflicted', '▁contemplation', '▁mccormack', '▁riviera', '▁uninterrupted', '▁vehemently', '▁boniface', '▁gottlieb', '▁lecturing', '▁baptised', '▁fyodor', '▁quorum', '▁dahlia', '▁cordelia', '▁decompose', '▁nepalese', '▁readership', '▁orientalis', 'professor', '3,200', '▁mathieu', 'documentary', '▁revisit', '▁lubeck', '▁punctuated', '▁rodolfo', '▁uncontrollably', 'syllabic', '▁aircrew', '▁fokker', '▁lothian', '▁mehmed', '▁snoring', '▁walpole', '▁washburn', 'amalgam', '▁coerce', '▁flax', '▁stroud', 'synthetic', 'algebra', '▁zwei', '▁contingency', '▁futuristic', '▁involuntarily', '▁peregrine', '▁pyotr', '▁vasquez', '▁cantilever', '▁acrylic', '▁dictionaries', '▁catarina', '▁geophysical', '▁torturing', '▁trolleybus', '▁inflated', '▁crocker', '▁schott', '▁gryph', '▁parrish', '▁overwhelm', '▁aborigines', '▁deforestation', '▁protracted', '▁displeased', '▁stratton', '▁allahabad', '▁discography', '▁nascent', '▁viewership', '▁bureaucratic', '▁burgos', 'theoretic', '▁honeycomb', 'several', 'sacrificing', '▁scuttled', '▁teutonic', '▁treachery', '▁esquire', '▁prudence', '▁albedo', '▁heineken', '▁prefectural', '▁extracellular', '▁divergent', '▁walmart', '▁neutralize', '▁atelier', '▁arista', '▁grig', '▁braunschweig', '▁shrapnel', '▁calligraphy', '▁encased', '▁benefice', '▁daimyo', '▁overtaken', '▁fetish', '▁fujiwara', '▁evalle', '▁circulate', '▁coleridge', '▁serpentine', '▁bhavan', '▁memoria', '▁apologizing', '▁chongqing', '▁eskimos', '▁tyranny', '▁sorcery', '▁scarecrow', '▁skunk', '▁lonesome', '▁reims', '▁kurds', '▁braith', 'formatted', '▁plagiar', '▁antiquarian', '▁disillusioned', '▁disposable', '▁indignation', '▁torquay', '▁unprepared', '▁aptitude', '▁weymouth', '▁persephone', '▁skidded', '▁ludovic', '▁empties', 'benzene', '▁wheelbase', '▁refreshment', '▁phonograph', 'hockey', '▁exasperation', '▁yamaguchi', '▁jabbed', '▁amiens', '▁interpersonal', '▁batista', '▁teodor', '▁mckell', '▁petrovic', '▁pooja', '▁cartilage', '▁eredivisie', '▁macgregor', '▁resilience', '▁alchemy', '▁aurelius', '▁venerated', '▁scrunched', '▁censure', '▁falmouth', '▁blunder', '▁elevate', '▁mutated', '▁comuni', '▁leblanc', '▁deviate', 'historic', '▁dissuade', '▁purplish', '▁cummins', '▁steadfast', '▁afonso', '▁magellan', '▁dodging', '▁vogt', '▁nativity', '▁paddock', '▁taurus', '▁gcse', '▁tawny', '▁lumb', '▁burrell', '▁$20,000', 'contact', 'dedicated', 'goldwyn', '▁caballero', '▁extortion', '▁garibaldi', '▁hacienda', '▁prometheus', '▁unanswered', '▁alluvial', '▁ghulam', '▁caregiver', '▁carniola', '▁voltaire', '▁mamluk', '▁salient', '▁footwear', '▁torneo', '▁terrell', 'neutral', 'ifolium', 'constitution', '▁incessant', '▁ashkenazi', '▁burgeoning', '▁grenoble', '▁punitive', '▁travancore', '▁etiquette', '▁orpheus', '▁tuvalu', '▁couture', '▁deceit', '▁transcendental', '▁snapshot', '▁jstor', '▁dooley', '▁cathode', '▁concentric', '▁outweigh', 'puzha', '▁magdalen', 'skoye', 'result', 'orbital', 'erythr', '▁shanxi', 'uncharacteristic', '▁conscientious', '▁djibouti', '▁extermination', '▁grieving', '▁ideologies', '▁mendelssohn', '▁unexplained', '▁fraternal', '▁spalding', '▁repressed', '▁dorsum', '▁wreak', '▁$250,000', '▁emanate', '▁jaffa', '▁ghz', '▁hawkeye', '▁incremental', 'wound', '2,100', '3,300', 'phosphorylation', 'sufficiency', '▁grosvenor', '▁whirling', 'auvergne', '▁alkaline', '▁virtuoso', '▁predation', '▁saviour', '▁archivist', '▁obverse', 'error', '▁tyrion', '▁addictive', '▁veneto', '▁colloquial', 'agog', '▁deficiencies', '▁eloquent']\n"
     ]
    }
   ],
   "source": [
    "from transformers import BertModel, BertTokenizer, AlbertTokenizer, LongformerTokenizer\n",
    "\n",
    "model_name = \"albert-base-v1\"\n",
    "tokenizer = AlbertTokenizer.from_pretrained(model_name)\n",
    "vocab_list = list(tokenizer.get_vocab().keys())\n",
    "print(f\"Jumlah kata dalam kosakata: {len(vocab_list)}\")\n",
    "print(f\"Beberapa kata dalam kosakata: {vocab_list[20000:30000]}\")"
   ]
  },
  {
   "cell_type": "code",
   "execution_count": 27,
   "metadata": {},
   "outputs": [
    {
     "name": "stdout",
     "output_type": "stream",
     "text": [
      "['running', 'in', 'the', 'park']\n"
     ]
    }
   ],
   "source": [
    "from transformers import AutoTokenizer\n",
    "tokenizer = AutoTokenizer.from_pretrained(\"indobenchmark/indobert-base-p1\")\n",
    "tokens = tokenizer.tokenize(\"running in the park\")\n",
    "print(tokens)\n"
   ]
  }
 ],
 "metadata": {
  "kernelspec": {
   "display_name": "env",
   "language": "python",
   "name": "python3"
  },
  "language_info": {
   "codemirror_mode": {
    "name": "ipython",
    "version": 3
   },
   "file_extension": ".py",
   "mimetype": "text/x-python",
   "name": "python",
   "nbconvert_exporter": "python",
   "pygments_lexer": "ipython3",
   "version": "3.10.5"
  }
 },
 "nbformat": 4,
 "nbformat_minor": 2
}
